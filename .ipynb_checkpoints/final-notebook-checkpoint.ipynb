{
 "cells": [
  {
   "cell_type": "markdown",
   "metadata": {},
   "source": [
    "# Final Notebook\n",
    "\n",
    "<b>Title:</b> Hotel Review Analysis Using NLP and Machine Learning\n",
    "\n",
    "<b>Author:</b> Ismael Araujo\n"
   ]
  },
  {
   "cell_type": "markdown",
   "metadata": {},
   "source": [
    "## Overview\n",
    "In this project, I will create a model that can predict if a hotel review is negative or positive so that hotels can use it to classify their reviews correctly. I will analyze a specific hotel in London and compare it to other hotels in London as well. We will walk through multiple Natural Language Processing to understand how we can use machines to read reviews and get insights out of it. Baseline models include Logistic Regression, Random Forest, Naive Bayes, and Support Vector Machine (SVM). Ensemble models include Voting, Bagging, GridSearch, AdaBoost, and Gradient Boosting. The final model was a GridSearch SVM with an accuracy of 0.8268 and F1-Score 0.8247.\n",
    "\n",
    "This project walks through <a href=\"https://github.com/Ismaeltrevi/hotel-reviews-analysis-using-nlp/blob/main/preprossessing/eda.ipynb\">exploratory data analysis</a>, <a href=\"https://github.com/Ismaeltrevi/hotel-reviews-analysis-using-nlp/blob/main/preprossessing/data-cleaning.ipynb\">data cleaning</a>, <a href=\"https://github.com/Ismaeltrevi/hotel-reviews-analysis-using-nlp/blob/main/preprossessing/sentiment-analysis.ipynb\">sentiment analysis</a>, <a href=\"https://github.com/Ismaeltrevi/hotel-reviews-analysis-using-nlp/tree/main/preprossessing\">data preprocessing</a>, <a href=\"https://github.com/Ismaeltrevi/hotel-reviews-analysis-using-nlp/blob/main/models/baseline-models.ipynb\">vanilla models</a>, and <a href=\"https://github.com/Ismaeltrevi/hotel-reviews-analysis-using-nlp/blob/main/models/ensemble-models.ipynb\">ensemble models</a>."
   ]
  },
  {
   "cell_type": "markdown",
   "metadata": {},
   "source": [
    "# Business Problem\n",
    "\n",
    "One of the biggest problems that many companies have been trying to overcome is how to take advantage of all the data collected from guests. The amount of data has challenged the travel industry. One type of data is reviews left by guests on websites such as Booking.com, TripAdvisor, and Yelp.\n",
    "\n",
    "Hotels have been trying to find ways to analyze the reviews and get insights out of them. However, some hotels can receive thousands of guests every week and hundreds of reviews. It becomes nearly impossible and expensive for hotels to keep track of the reviews. Thus, multiple hotels might ignore these valuable data due to the cost and energy that need to be allocated. The other problem is that hotels such as Booking.com don't allow users to choose their score. The score is determined by questions asked to the user, and then the review is calculated. This is problematic because guests could have had a bad experience, and the hotel would still get a 7 or 8 score, which gives a false illusion that the guest didn't have any problems.\n",
    "\n",
    "This project will build a model that can correctly predict if a hotel review is negative or positive so that hotels can input their reviews and get a non-biased score.\n",
    "\n",
    "## Setting the hypothetical scenario\n",
    "\n",
    "Our actual client is a hotel in London called Britannia International Hotel Canary Wharf. They have thousands of reviews and a 6.7 overall score on Booking.com. They think this is a low score compared to other London hotels, and they want to understand what is causing this low score. Due to COVID-19, they don't have the resources to read all the reviews and make sense of them. Thus, they want to find a way to get quick insights without having to read every review. They have a few business questions:\n",
    "\n",
    "- Can we create a model that can correctly identify the most important features when predicting if a review is positive or negative for all the reviews we have available? What are these features?\n",
    "- What are the most mentioned words in negative and positive reviews? What insights could they get from them? How would a word cloud for negative and positive reviews look like for their hotel and in comparison to other hotels?\n",
    "- How does the client score performs compared to other hotels in the city?\n",
    "\n",
    "### Why Britannia International Hotel Canary Wharf?\n",
    "\n",
    "While doing the Exploratory Data Analysis, I noticed that Britannia International Hotel Canary Wharf was the hotel with the highest number of reviews. The average score is 6.7, which means that there is probably room for improvement. It is more likely to find different word clouds for negative and positive reviews."
   ]
  },
  {
   "cell_type": "markdown",
   "metadata": {},
   "source": [
    "## Data and Methods"
   ]
  },
  {
   "cell_type": "markdown",
   "metadata": {},
   "source": [
    "The dataset for this project was originally used in the study Text Mining in Hotel Reviews: Impact of Words Restriction in Text Classification by Diego Campos, Rodrigo Rocha Silva, and Jorge Bernadino and a team at University of Coimbra. The raw dataset is from Kaggle. The original dataset had 515,738 observations and 17 columns."
   ]
  },
  {
   "cell_type": "markdown",
   "metadata": {},
   "source": [
    "<img src=\"images/feature-columns.png\">"
   ]
  },
  {
   "cell_type": "markdown",
   "metadata": {},
   "source": [
    "## Challenges"
   ]
  },
  {
   "cell_type": "markdown",
   "metadata": {},
   "source": [
    "The data set was quite organized. However, it had a few challenges. For example, the review was divided between positive and negative reviews. Although this is useful for specific cases, most reviews will not be separated by positive and negative reviews. Thus, creating a model that is able to idenfity positive and negative reviews could be useless if we add reviews that are not separated. Other uses for the model, such as using it in social media would not work. A solution was merging the together.\n",
    "\n",
    "Other big challenge with dataset is that the address is a long string, which means that is difficult to collect information such as city and country due to the different formats which is written. This problem was solved grabbing the city and country of the hotel using Geopy."
   ]
  },
  {
   "cell_type": "markdown",
   "metadata": {},
   "source": [
    "## Data Understanding"
   ]
  },
  {
   "cell_type": "markdown",
   "metadata": {},
   "source": [
    "Data understanding was a very interesting step in this project. I was able to understand the dataset. First thing I noticed was that the dataset was very large. This could be a problem when modeling. Thus, for the MVP, I decided to use only 20% of the dataset to avoid the curse of dimentionality.\n",
    "\n",
    "Since I had a classification problem, I first created a target feature with the score. In this step I noticed that the lowest score was 2.5 and the highest was 10. Since there were users who wrote that there was anything good about the hotel, I assume that 2.5 was actually given by Booking.com, not the user. Then I converted the score into a classification problem. Since 2.5 was the lowest and 10 the highest, I decided to dived the target in two: positive and negative, where anything below 6 was negative and 6 and above was positive. 6.25 would be the middle point, so I decided to go with 6."
   ]
  },
  {
   "cell_type": "markdown",
   "metadata": {},
   "source": [
    "### Data Cleaning"
   ]
  },
  {
   "cell_type": "markdown",
   "metadata": {},
   "source": [
    "As in any NLP project, the data cleaning is the most important step. We need to make sense of the information we have and create features for the models only with the information that matters. A few cleaning steps that I took were:\n",
    "\n",
    "- Remove any puntuations, stop words, and numbers\n",
    "- Fix the spelling using TextBlob\n",
    "- Lemmatization\n",
    "- Remove words from the word clouds that didn't help with insights, such as complimentatory adjectives (great, good, nice, excelent, etc.)\n",
    "\n",
    "Let's see how it was done."
   ]
  },
  {
   "cell_type": "code",
   "execution_count": 8,
   "metadata": {
    "ExecuteTime": {
     "end_time": "2020-12-24T19:06:35.679443Z",
     "start_time": "2020-12-24T19:06:35.665396Z"
    }
   },
   "outputs": [],
   "source": [
    "# Importing Packages\n",
    "import pandas as pd\n",
    "import numpy as np\n",
    "import matplotlib.pyplot as plt\n",
    "%matplotlib inline\n",
    "import seaborn as sns\n",
    "import os\n",
    "\n",
    "# NLP Packages\n",
    "import nltk \n",
    "from nltk.corpus import stopwords\n",
    "from textblob import TextBlob \n",
    "from textblob import Word\n",
    "import re\n",
    "import string\n",
    "from sklearn.feature_extraction.text import CountVectorizer\n",
    "from sklearn.model_selection import cross_val_score\n",
    "\n",
    "# WordCloud\n",
    "from wordcloud import WordCloud, STOPWORDS, ImageColorGenerator\n",
    "\n",
    "# Pandas Settings\n",
    "pd.set_option('display.max_columns', 10000)\n",
    "pd.set_option('display.max_rows', 100)\n",
    "\n",
    "# Solve warnings\n",
    "import warnings\n",
    "from sklearn.exceptions import ConvergenceWarning\n",
    "warnings.filterwarnings(\"ignore\", category=DeprecationWarning)\n",
    "warnings.filterwarnings(\"ignore\", category=FutureWarning)\n",
    "warnings.filterwarnings(\"ignore\", category=ConvergenceWarning)"
   ]
  },
  {
   "cell_type": "code",
   "execution_count": 9,
   "metadata": {
    "ExecuteTime": {
     "end_time": "2020-12-24T19:06:37.124659Z",
     "start_time": "2020-12-24T19:06:37.115860Z"
    }
   },
   "outputs": [],
   "source": [
    "# Importing all functions used in this notebook\n",
    "from functions import *"
   ]
  },
  {
   "cell_type": "code",
   "execution_count": 10,
   "metadata": {
    "ExecuteTime": {
     "end_time": "2020-12-24T19:06:41.211746Z",
     "start_time": "2020-12-24T19:06:38.129214Z"
    }
   },
   "outputs": [],
   "source": [
    "# Import csv file\n",
    "df = pd.read_csv('csv/Hotel_Reviews.csv')"
   ]
  },
  {
   "cell_type": "markdown",
   "metadata": {
    "ExecuteTime": {
     "end_time": "2020-12-17T20:11:26.325878Z",
     "start_time": "2020-12-17T20:11:26.321620Z"
    }
   },
   "source": [
    "The idea in this step is to take a look at the data. A key points that I want to investigate are:\n",
    "- Shape of the dataset\n",
    "- If there are null values\n",
    "- How many unique hotels and if it matches to the value said in the dataset\n",
    "- The types of data"
   ]
  },
  {
   "cell_type": "code",
   "execution_count": 11,
   "metadata": {
    "ExecuteTime": {
     "end_time": "2020-12-24T19:06:42.217080Z",
     "start_time": "2020-12-24T19:06:42.211847Z"
    }
   },
   "outputs": [
    {
     "data": {
      "text/plain": [
       "(515738, 17)"
      ]
     },
     "execution_count": 11,
     "metadata": {},
     "output_type": "execute_result"
    }
   ],
   "source": [
    "# DataFrame shape\n",
    "df.shape"
   ]
  },
  {
   "cell_type": "markdown",
   "metadata": {},
   "source": [
    "Here we can see that the dataset is large. Some models could take way too long to run a train set this size. Thus, in the first part of this project, I will use 20% of the original dataset. Further in the project, I'm planning on testing best model on the entire dataset. Luckily, since the dataset is so large, we can fix any class imbalance here."
   ]
  },
  {
   "cell_type": "code",
   "execution_count": 12,
   "metadata": {
    "ExecuteTime": {
     "end_time": "2020-12-24T19:06:42.989870Z",
     "start_time": "2020-12-24T19:06:42.931772Z"
    }
   },
   "outputs": [],
   "source": [
    "# Selecting only the columns that I will use\n",
    "features = ['Hotel_Name', 'Negative_Review','Positive_Review', 'Reviewer_Score']\n",
    "df = df[features]"
   ]
  },
  {
   "cell_type": "markdown",
   "metadata": {},
   "source": [
    "For NLP, I want to see how the model performs having the positive reviews together, since that's the way that most people write reviews."
   ]
  },
  {
   "cell_type": "code",
   "execution_count": 13,
   "metadata": {
    "ExecuteTime": {
     "end_time": "2020-12-24T19:06:43.906036Z",
     "start_time": "2020-12-24T19:06:43.718856Z"
    }
   },
   "outputs": [],
   "source": [
    "# Putting reviews together\n",
    "df['Reviews'] = df['Negative_Review'] + df['Positive_Review']"
   ]
  },
  {
   "cell_type": "code",
   "execution_count": 14,
   "metadata": {
    "ExecuteTime": {
     "end_time": "2020-12-24T19:06:44.297073Z",
     "start_time": "2020-12-24T19:06:44.080570Z"
    }
   },
   "outputs": [],
   "source": [
    "# Keep only 20% of the dataframe\n",
    "df = df.sample(frac=0.20, random_state=1)"
   ]
  },
  {
   "cell_type": "code",
   "execution_count": 15,
   "metadata": {
    "ExecuteTime": {
     "end_time": "2020-12-24T19:06:44.540035Z",
     "start_time": "2020-12-24T19:06:44.512317Z"
    }
   },
   "outputs": [
    {
     "data": {
      "text/plain": [
       "Hotel_Name\n",
       "Britannia International Hotel Canary Wharf           965\n",
       "Strand Palace Hotel                                  900\n",
       "Park Plaza Westminster Bridge London                 846\n",
       "Copthorne Tara Hotel London Kensington               748\n",
       "DoubleTree by Hilton Hotel London Tower of London    641\n",
       "dtype: int64"
      ]
     },
     "execution_count": 15,
     "metadata": {},
     "output_type": "execute_result"
    }
   ],
   "source": [
    "# Checking the hotel with the highest number of reviews\n",
    "df.pivot_table(index=['Hotel_Name'], aggfunc='size').nlargest()"
   ]
  },
  {
   "cell_type": "markdown",
   "metadata": {},
   "source": [
    "We now have only 20% of the dataset. We can see that Britannia International Hotel Canary Wharf is still the hotel with the most reviews, which shows us that pandas sample function really works as expected. I mentioned this in the <a href=\"https://github.com/Ismaeltrevi/hotel-reviews-analysis-using-nlp/blob/main/preprossessing/eda.ipynb\">EDA</a> notebook."
   ]
  },
  {
   "cell_type": "markdown",
   "metadata": {
    "ExecuteTime": {
     "end_time": "2020-12-17T20:14:06.193468Z",
     "start_time": "2020-12-17T20:14:06.188468Z"
    }
   },
   "source": [
    "Now it's time to clean data. The function below lowercase all the words, removes punctuations, and digits.\n",
    "\n",
    "In the <a href=\"https://github.com/Ismaeltrevi/hotel-reviews-analysis-using-nlp/blob/main/preprossessing/eda.ipynb\">EDA</a> notebook I explain that the lowest score is 2.5, which I believe the users don't have the option to choose the score and it must be automatic. For this reason, there are only scores between 2.5 and 10. For this reason, I choose the half point between these two numbers to create my variable."
   ]
  },
  {
   "cell_type": "code",
   "execution_count": 16,
   "metadata": {
    "ExecuteTime": {
     "end_time": "2020-12-24T19:06:50.120560Z",
     "start_time": "2020-12-24T19:06:45.767187Z"
    }
   },
   "outputs": [],
   "source": [
    "# Applying clean_text_round1 function\n",
    "df['Reviews_Clean'] = pd.DataFrame(df.Reviews.apply(round1))"
   ]
  },
  {
   "cell_type": "markdown",
   "metadata": {},
   "source": [
    "Create a binary classification where anything below 6 is negative review and 6 and above is positive."
   ]
  },
  {
   "cell_type": "code",
   "execution_count": 17,
   "metadata": {
    "ExecuteTime": {
     "end_time": "2020-12-24T19:06:50.168946Z",
     "start_time": "2020-12-24T19:06:50.123244Z"
    }
   },
   "outputs": [],
   "source": [
    "# Create function that turns the Reviewer Score into a classification target with 3 values\n",
    "df['Score'] = df['Reviewer_Score'].apply(lambda x: 0 if x < 6 else 1)"
   ]
  },
  {
   "cell_type": "markdown",
   "metadata": {},
   "source": [
    "### Class Distribution"
   ]
  },
  {
   "cell_type": "code",
   "execution_count": 18,
   "metadata": {
    "ExecuteTime": {
     "end_time": "2020-12-24T19:06:51.450230Z",
     "start_time": "2020-12-24T19:06:51.268400Z"
    }
   },
   "outputs": [
    {
     "data": {
      "image/png": "[encoded data removed]",
      "text/plain": [
       "<Figure size 576x396 with 1 Axes>"
      ]
     },
     "metadata": {},
     "output_type": "display_data"
    }
   ],
   "source": [
    "# Checking if the target variable is balanced\n",
    "plt.style.use('seaborn')\n",
    "sns.countplot(df['Score'])\n",
    "plt.title('Class Distribution', fontsize=16)\n",
    "plt.xlabel('Target Variable', fontsize=14)\n",
    "plt.ylabel('Number of Reviews', fontsize=14)\n",
    "plt.xticks(fontsize=12)\n",
    "plt.yticks(fontsize=12)\n",
    "plt.show()"
   ]
  },
  {
   "cell_type": "markdown",
   "metadata": {},
   "source": [
    "We can see that there is a big class imbalance. Since our dataset is large, we can fix this using the pandas sample function. Thus, I will only use 12% of the positive reviews for this stage, which will get closer to the number of negative reviews, so it will get closer to the number of negative reviews.\n",
    "\n",
    "The reason why I removed the preprocessing manually is to make the spell checker faster, since it takes more than 24 hours to check 100k. As a next step, I will keep the class imbalance for the modeling stage."
   ]
  },
  {
   "cell_type": "code",
   "execution_count": 19,
   "metadata": {
    "ExecuteTime": {
     "end_time": "2020-12-24T19:06:53.218072Z",
     "start_time": "2020-12-24T19:06:53.147642Z"
    }
   },
   "outputs": [],
   "source": [
    "# Creating separate dataframes depending on the classification\n",
    "df_Score_0 = df[df.Score == 0]\n",
    "df_Score_1 = df[df.Score == 1].sample(frac=0.12)"
   ]
  },
  {
   "cell_type": "code",
   "execution_count": 20,
   "metadata": {
    "ExecuteTime": {
     "end_time": "2020-12-24T19:06:53.615412Z",
     "start_time": "2020-12-24T19:06:53.557407Z"
    }
   },
   "outputs": [
    {
     "data": {
      "text/plain": [
       "(21620, 7)"
      ]
     },
     "execution_count": 20,
     "metadata": {},
     "output_type": "execute_result"
    }
   ],
   "source": [
    "# Concatenating th \n",
    "df = pd.concat([df_Score_1, df_Score_0])\n",
    "df.shape"
   ]
  },
  {
   "cell_type": "code",
   "execution_count": 21,
   "metadata": {
    "ExecuteTime": {
     "end_time": "2020-12-24T19:06:54.245354Z",
     "start_time": "2020-12-24T19:06:54.074686Z"
    }
   },
   "outputs": [
    {
     "data": {
      "image/png": "[encoded data removed]",
      "text/plain": [
       "<Figure size 576x396 with 1 Axes>"
      ]
     },
     "metadata": {},
     "output_type": "display_data"
    }
   ],
   "source": [
    "# Checking if the target variable is balanced\n",
    "sns.countplot(df['Score'])\n",
    "plt.title('Class Distribution', fontsize=16)\n",
    "plt.xlabel('Target Variable', fontsize=14)\n",
    "plt.ylabel('Number of Reviews', fontsize=14)\n",
    "plt.xticks(fontsize=12)\n",
    "plt.yticks(fontsize=12)\n",
    "plt.show()"
   ]
  },
  {
   "cell_type": "markdown",
   "metadata": {},
   "source": [
    "We can see above that the class distribution problem was solved."
   ]
  },
  {
   "cell_type": "markdown",
   "metadata": {},
   "source": [
    "### Spell Checker"
   ]
  },
  {
   "cell_type": "markdown",
   "metadata": {},
   "source": [
    "Let's fix any spelling mistakes in the review using TextBlob. But first, let's take a look at how many unique words we have."
   ]
  },
  {
   "cell_type": "code",
   "execution_count": 22,
   "metadata": {
    "ExecuteTime": {
     "end_time": "2020-12-24T19:06:55.846326Z",
     "start_time": "2020-12-24T19:06:55.836236Z"
    }
   },
   "outputs": [],
   "source": [
    "# Setting stop words\n",
    "stop_words = stopwords.words('english')"
   ]
  },
  {
   "cell_type": "code",
   "execution_count": 23,
   "metadata": {
    "ExecuteTime": {
     "end_time": "2020-12-24T19:06:57.104851Z",
     "start_time": "2020-12-24T19:06:56.380069Z"
    }
   },
   "outputs": [
    {
     "data": {
      "text/plain": [
       "(21620, 17641)"
      ]
     },
     "execution_count": 23,
     "metadata": {},
     "output_type": "execute_result"
    }
   ],
   "source": [
    "# Instantiate CountVectorizer\n",
    "cv = CountVectorizer(stop_words=stop_words)\n",
    "\n",
    "# Fit and transform dataframe without data cleaning\n",
    "df_cv = cv.fit_transform(df['Reviews_Clean'])\n",
    "df_cv.shape"
   ]
  },
  {
   "cell_type": "markdown",
   "metadata": {},
   "source": [
    "We can see that we have 17,855 words. Let's see if we can reduce this number after using the spell checker with TextBlob."
   ]
  },
  {
   "cell_type": "markdown",
   "metadata": {},
   "source": [
    "<b>IMPORTANT NOTE:</b>\n",
    "\n",
    "The cell below exports the dataset with the spelling checked. If you export it without running the Spell Checker, all the models won't have the target correctly set up. Thus, I don't recommend exporting that cell.\n",
    "\n",
    "⏳ The cell below takes around 1h 20m to run. Uncomment it to run."
   ]
  },
  {
   "cell_type": "code",
   "execution_count": 24,
   "metadata": {
    "ExecuteTime": {
     "end_time": "2020-12-24T19:06:58.044497Z",
     "start_time": "2020-12-24T19:06:58.041943Z"
    }
   },
   "outputs": [],
   "source": [
    "# # Checking if function works\n",
    "# df['Spell_Checked'] = df['Reviews_Clean'].apply(lambda x: ''.join(TextBlob(x).correct()))\n",
    "\n",
    "# 1h 21m to run"
   ]
  },
  {
   "cell_type": "code",
   "execution_count": 25,
   "metadata": {
    "ExecuteTime": {
     "end_time": "2020-12-24T19:06:58.794637Z",
     "start_time": "2020-12-24T19:06:58.582115Z"
    }
   },
   "outputs": [],
   "source": [
    "# Importing the dataset with the spelling checked\n",
    "df = pd.read_csv('csv/Hotel_Review_Spell_Checked.csv', index_col=0)"
   ]
  },
  {
   "cell_type": "markdown",
   "metadata": {},
   "source": [
    "Let's now use count vectorizer to count how unique many words we have left."
   ]
  },
  {
   "cell_type": "code",
   "execution_count": 26,
   "metadata": {
    "ExecuteTime": {
     "end_time": "2020-12-24T19:07:02.268840Z",
     "start_time": "2020-12-24T19:07:01.551542Z"
    }
   },
   "outputs": [
    {
     "data": {
      "text/plain": [
       "(21619, 11930)"
      ]
     },
     "execution_count": 26,
     "metadata": {},
     "output_type": "execute_result"
    }
   ],
   "source": [
    "# Fit and transform dataframe without data cleaning to check how many unique words we have\n",
    "df_cv = cv.fit_transform(df['Spell_Checked'])\n",
    "df_cv.index = df.index\n",
    "df_cv.shape"
   ]
  },
  {
   "cell_type": "markdown",
   "metadata": {},
   "source": [
    "Done! We reduced our dataset from 17,836 words to 11,930 words. This will speed up the model iterations and avoid the curse of dimemntionality."
   ]
  },
  {
   "cell_type": "markdown",
   "metadata": {},
   "source": [
    "## Exploratory Data Analysis"
   ]
  },
  {
   "cell_type": "markdown",
   "metadata": {},
   "source": [
    "<b>IMPORTANT NOTE:</b> EDA and visualizations use multiple lines of code. To keep this notebook clean, I will only add the images here. All of the following images are in the EDA notebook. \n",
    "<b>If you are interested in checking the process, please check the <a href=\"https://github.com/Ismaeltrevi/hotel-reviews-analysis-using-nlp/blob/main/preprossessing/eda.ipynb\">EDA notebook clicking here</a></b>.\n",
    "\n",
    "Now, let's go back to the EDA."
   ]
  },
  {
   "cell_type": "markdown",
   "metadata": {},
   "source": [
    "I wanted a few answer from the dataset and check if I could find any patterns. Thus, I had questions, which I will answer right next:\n",
    "\n",
    "#### What nationalities give the highest number of reviews?"
   ]
  },
  {
   "cell_type": "markdown",
   "metadata": {},
   "source": [
    "<img src=\"images/nationality.png\">"
   ]
  },
  {
   "cell_type": "markdown",
   "metadata": {},
   "source": [
    "Reviewers from the United Kingdom have the highest number of reviews left. To understand the main reason behind this, I checked where the hotels with the highest reviews are located. In the next image we can understand two things:\n",
    "\n",
    "- The hotels are located in only 6 countries only, not the whole Europe, as I previously thought.\n",
    "- The reviewers are mostly from the UK (over 50%), which explain the higher number of people from the UK giving reviews."
   ]
  },
  {
   "cell_type": "markdown",
   "metadata": {},
   "source": [
    "<img src=\"images/countries-hotels.png\">"
   ]
  },
  {
   "cell_type": "markdown",
   "metadata": {},
   "source": [
    "#### How does the hotel which I will focus on perform compared to other hotels in London?"
   ]
  },
  {
   "cell_type": "markdown",
   "metadata": {},
   "source": [
    "<img src=\"images/score-density-hotel-vs-london.png\">"
   ]
  },
  {
   "cell_type": "markdown",
   "metadata": {},
   "source": [
    "As we can see above, the Britannia International Hotel Canary Wharf underperform compared to other hotels in London. While the hotels in London have the score density skewed to the right where the positive scores are, Britannia International Hotel Canary Wharf is closer to a evenly distribution, where the amount of negative reviews are as high as the negative reviews. This tells as the the hotel has a lot to improve.\n",
    "\n",
    "For the results section, I had two question in mind:\n",
    "\n",
    "- What words appear the most in positive and negative reviews?\n",
    "- Can we get any insights from it?\n",
    "\n",
    "To get these answers, I had to clean the data through different steps. You can see more details of each step in the Data Cleaning notebook. Now let's check the word clouds and see if we can get insights from it.\n",
    "\n",
    "Below we can see the positive reviews word cloud. Note that you can relate every word to things that you could image coming from a hotel review. For example, we can see the words location, clean, comfortable, staff, service, price, and room. We can certainly assure that these are high points to the hotel and they can use these words to promote the hotel."
   ]
  },
  {
   "cell_type": "markdown",
   "metadata": {},
   "source": [
    "<img src=\"images/positive_wordcloud.png\">"
   ]
  },
  {
   "cell_type": "markdown",
   "metadata": {},
   "source": [
    "On the other hand, looking at the negative reviews word cloud, we can see many words that could be points for improvement to the hotel. Staff seems it’s mentioned multiple times as well as the word rude and reception. Maybe the staff was rude to these guests? We can also see the words old, dated, dirty, and uncomfortable, which could be points of attention to the management."
   ]
  },
  {
   "cell_type": "markdown",
   "metadata": {
    "ExecuteTime": {
     "end_time": "2020-12-17T20:50:09.014844Z",
     "start_time": "2020-12-17T20:50:09.010579Z"
    }
   },
   "source": [
    "<img src=\"images/negative_wordcloud.png\">"
   ]
  },
  {
   "cell_type": "markdown",
   "metadata": {},
   "source": [
    "If you are interested in more EDA, please take a look at the <a href=\"https://github.com/Ismaeltrevi/hotel-reviews-analysis-using-nlp/blob/main/preprossessing/eda.ipynb\">EDA</a> notebook."
   ]
  },
  {
   "cell_type": "markdown",
   "metadata": {},
   "source": [
    "### Sentiment Analysis"
   ]
  },
  {
   "cell_type": "markdown",
   "metadata": {},
   "source": [
    "In this step we will create a sentiment analysis and compare the performance the actual score that users give. I want to visualize if the sentiment analysis can do a better job analysing when a review is negative or positive. "
   ]
  },
  {
   "cell_type": "markdown",
   "metadata": {},
   "source": [
    "In this step we will create a sentiment analysis and compare the performance the actual score that users give. I want to visualize if the sentiment analysis can do a better job analysing when a review is negative or positive. "
   ]
  },
  {
   "cell_type": "code",
   "execution_count": 27,
   "metadata": {
    "ExecuteTime": {
     "end_time": "2020-12-24T19:07:12.489782Z",
     "start_time": "2020-12-24T19:07:09.550225Z"
    }
   },
   "outputs": [],
   "source": [
    "# Import csv file\n",
    "df = pd.read_csv('csv/Hotel_Reviews.csv')"
   ]
  },
  {
   "cell_type": "code",
   "execution_count": 28,
   "metadata": {
    "ExecuteTime": {
     "end_time": "2020-12-24T19:07:12.550628Z",
     "start_time": "2020-12-24T19:07:12.492307Z"
    }
   },
   "outputs": [],
   "source": [
    "# Selecting only the columns that I will use\n",
    "features = ['Negative_Review','Positive_Review', 'Reviewer_Score']\n",
    "df = df[features]"
   ]
  },
  {
   "cell_type": "markdown",
   "metadata": {},
   "source": [
    "<b>NOTE:</b>\n",
    "\n",
    "The following cell takes around 10 minutes to run. For this reason, I will  upload the dataframe with the sentiment analysis already in it. If you want to run it, please uncomment the cell."
   ]
  },
  {
   "cell_type": "code",
   "execution_count": 29,
   "metadata": {
    "ExecuteTime": {
     "end_time": "2020-12-24T19:07:12.558056Z",
     "start_time": "2020-12-24T19:07:12.554242Z"
    }
   },
   "outputs": [],
   "source": [
    "# # Create new columns to compare polarity and subjetivity on Negative Reviews\n",
    "# df['Polarity_Net'] = df['Negative_Review'].apply(getPolarity)\n",
    "# df['Polarity_Pos'] = df['Positive_Review'].apply(getPolarity)"
   ]
  },
  {
   "cell_type": "code",
   "execution_count": 30,
   "metadata": {
    "ExecuteTime": {
     "end_time": "2020-12-24T19:07:17.085327Z",
     "start_time": "2020-12-24T19:07:13.252916Z"
    }
   },
   "outputs": [],
   "source": [
    "# Importing DataFrame with new Polarity column\n",
    "df = pd.read_csv(\"csv/df_sentiment_analysis.csv\", index_col=0)"
   ]
  },
  {
   "cell_type": "code",
   "execution_count": 31,
   "metadata": {
    "ExecuteTime": {
     "end_time": "2020-12-24T19:07:17.481466Z",
     "start_time": "2020-12-24T19:07:17.087688Z"
    }
   },
   "outputs": [],
   "source": [
    "# Creating function to classify the Sentiment Analysis\n",
    "df['Sent_Analysis_Neg'] = df['Polarity_Net'].apply(lambda x: 0 if x < 0 else 1 if x > -0.1 and x < 0.1 else 2)\n",
    "df['Sent_Analysis_Pos'] = df['Polarity_Pos'].apply(lambda x: 0 if x < 0 else 1 if x > -0.1 and x < 0.1 else 2)"
   ]
  },
  {
   "cell_type": "code",
   "execution_count": 32,
   "metadata": {
    "ExecuteTime": {
     "end_time": "2020-12-24T19:07:17.665364Z",
     "start_time": "2020-12-24T19:07:17.484560Z"
    }
   },
   "outputs": [],
   "source": [
    "# Create a score column\n",
    "df['Score'] = df['Reviewer_Score'].apply(lambda x: 0 if x < 6 else 1)## Evaluation Results"
   ]
  },
  {
   "cell_type": "markdown",
   "metadata": {},
   "source": [
    "## Evaluation Results"
   ]
  },
  {
   "cell_type": "code",
   "execution_count": 33,
   "metadata": {
    "ExecuteTime": {
     "end_time": "2020-12-24T19:07:20.413664Z",
     "start_time": "2020-12-24T19:07:17.668125Z"
    }
   },
   "outputs": [
    {
     "data": {
      "image/png": "[encoded data removed]",
      "text/plain": [
       "<Figure size 864x576 with 1 Axes>"
      ]
     },
     "metadata": {},
     "output_type": "display_data"
    }
   ],
   "source": [
    "# Creating density plot for the labels polaritu scores\n",
    "plt.figure(figsize=(12, 8))\n",
    "ax = sns.distplot(df['Polarity_Net'][df['Score'] == 0], label='Negative Reviews', color='blue')\n",
    "ax = sns.distplot(df['Polarity_Pos'][df['Score'] == 1], label='Positite Reviews', color='green')\n",
    "\n",
    "# Setting label, title and legend\n",
    "ax.set_title('Review Polarity', fontsize=22)\n",
    "ax.set_ylabel('Density', fontsize=20)\n",
    "ax.set_xlabel('Polarity Score', fontsize=20)\n",
    "plt.xticks(fontsize=16)\n",
    "plt.yticks(fontsize=16)\n",
    "ax.legend(prop=dict(size=16))\n",
    "# plt.savefig('images/sentiment_analysis.png', bbox_inches = \"tight\", pad_inches=.5, dpi=300)\n",
    "plt.show()"
   ]
  },
  {
   "cell_type": "markdown",
   "metadata": {},
   "source": [
    "The graph above shows that the sentiment analysis does a good job identifying positive reviews with a positive polarity. However, it does not perform as well with the negative reviews. We can see that there is a big number of neutral reviews where sentiment analysis couldn't understand if the review was positive or negative."
   ]
  },
  {
   "cell_type": "markdown",
   "metadata": {},
   "source": [
    "### Findings and Takeaways:"
   ]
  },
  {
   "cell_type": "markdown",
   "metadata": {},
   "source": [
    "- It was created Subjectivity and Polarity features using sentiment analysis for Negative and Positive Reviews. \n",
    "- Polarity ranges between -1 and 1. Where -1 means that the review was very negative and 1 means that the review was very positive\n",
    "- Seems like sentiment analysis does a good job identifying positive reviews, but the negative reviews could be improved\n",
    "\n",
    "Using the density plot to analyze the sentiment analysis, we can see that most are concentrated in the neutral reviews. We know from the EDA that most reviews are mostly positive. Also we can see that it identifies correctly the positive reviews with higher precision, but it doesn't perform as well for the negative reviews."
   ]
  },
  {
   "cell_type": "markdown",
   "metadata": {},
   "source": [
    "# Modeling"
   ]
  },
  {
   "cell_type": "markdown",
   "metadata": {
    "ExecuteTime": {
     "end_time": "2020-12-24T16:52:43.635312Z",
     "start_time": "2020-12-24T16:52:43.630238Z"
    }
   },
   "source": [
    "For the modeling, I started with the vanilla models. I had four models in mind that I believe would potentially perform the best results for NLP. Then, I test ensemble models to improve the performance of the best vanilla models. Let's see the results.\n",
    "\n",
    "You can see all the process in the <a href=\"https://github.com/Ismaeltrevi/hotel-reviews-analysis-using-nlp/blob/main/models/baseline-models.ipynb\">vanilla models</a> notebook and in the <a href=\"https://github.com/Ismaeltrevi/hotel-reviews-analysis-using-nlp/blob/main/models/ensemble-models.ipynb\">ensemble models</a> notebook.\n",
    "    \n",
    "    \n",
    "    "
   ]
  },
  {
   "cell_type": "code",
   "execution_count": 34,
   "metadata": {
    "ExecuteTime": {
     "end_time": "2020-12-24T19:07:24.356284Z",
     "start_time": "2020-12-24T19:07:24.210913Z"
    }
   },
   "outputs": [],
   "source": [
    "# Sklearn Packages\n",
    "from sklearn import metrics\n",
    "from sklearn.feature_extraction.text import CountVectorizer\n",
    "from sklearn.feature_extraction import text \n",
    "from sklearn.ensemble import RandomForestClassifier\n",
    "from sklearn.metrics import accuracy_score, precision_score, recall_score, f1_score, confusion_matrix, plot_confusion_matrix, roc_curve, auc, classification_report\n",
    "from sklearn.model_selection import train_test_split\n",
    "from sklearn.linear_model import LogisticRegression\n",
    "from sklearn.feature_extraction.text import TfidfVectorizer\n",
    "from sklearn.naive_bayes import GaussianNB\n",
    "from sklearn.model_selection import GridSearchCV\n",
    "from sklearn.exceptions import ConvergenceWarning\n",
    "from sklearn.utils import resample\n",
    "from sklearn.ensemble import BaggingClassifier\n",
    "from imblearn.over_sampling import SMOTE\n",
    "from sklearn.naive_bayes import MultinomialNB\n",
    "from sklearn.svm import SVC\n",
    "from IPython.core.display import display, HTML\n",
    "\n",
    "# Import pickle\n",
    "import pickle"
   ]
  },
  {
   "cell_type": "markdown",
   "metadata": {},
   "source": [
    "## Preprocessing"
   ]
  },
  {
   "cell_type": "code",
   "execution_count": 35,
   "metadata": {
    "ExecuteTime": {
     "end_time": "2020-12-24T19:07:26.480417Z",
     "start_time": "2020-12-24T19:07:26.222898Z"
    }
   },
   "outputs": [],
   "source": [
    "df = pd.read_csv(\"csv/Hotel_Review_Spell_Checked.csv\", index_col=0)"
   ]
  },
  {
   "cell_type": "code",
   "execution_count": 36,
   "metadata": {
    "ExecuteTime": {
     "end_time": "2020-12-24T19:07:26.882852Z",
     "start_time": "2020-12-24T19:07:26.879585Z"
    }
   },
   "outputs": [],
   "source": [
    "# Creating an X variable and y for my target\n",
    "X = df.Spell_Checked\n",
    "y = df.Score"
   ]
  },
  {
   "cell_type": "markdown",
   "metadata": {},
   "source": [
    "### Train Test Split"
   ]
  },
  {
   "cell_type": "markdown",
   "metadata": {},
   "source": [
    "As mentioned in the introduction, I will use the column `Spell_Checked` to create the features and `Score` as my target. Since the model iterations had different results with different vectorizers, I will also pickle the train and test sets as they were in the original notebook."
   ]
  },
  {
   "cell_type": "code",
   "execution_count": 37,
   "metadata": {
    "ExecuteTime": {
     "end_time": "2020-12-24T19:07:28.148699Z",
     "start_time": "2020-12-24T19:07:28.136866Z"
    }
   },
   "outputs": [],
   "source": [
    "# Splitting the dataset in train set and test set\n",
    "X_train, X_test, y_train, y_test = train_test_split(X, y, test_size=0.25, random_state=1)"
   ]
  },
  {
   "cell_type": "code",
   "execution_count": 38,
   "metadata": {
    "ExecuteTime": {
     "end_time": "2020-12-24T19:07:29.444670Z",
     "start_time": "2020-12-24T19:07:28.724733Z"
    }
   },
   "outputs": [],
   "source": [
    "# Instantiate TF-IDF Vectorizer\n",
    "tfidf = TfidfVectorizer(stop_words=stop_words)\n",
    "\n",
    "# Fitting into the train and test set\n",
    "X_train = tfidf.fit_transform(X_train)\n",
    "X_test = tfidf.transform(X_test)"
   ]
  },
  {
   "cell_type": "markdown",
   "metadata": {},
   "source": [
    "### Evaluation Metric"
   ]
  },
  {
   "cell_type": "markdown",
   "metadata": {},
   "source": [
    "The evaluation metric below will simplify the model evaluation. My main focus is the accuracy metric. Have an accurate is important to be accurate. However, although fixing False Negatives is not crucial, I will also take a look at Recall and F1-Score to understand how my model is working. Since it is not my main focus, I will not mentioned in the individual analysis on my models."
   ]
  },
  {
   "cell_type": "markdown",
   "metadata": {},
   "source": [
    "## Vanilla Models\n",
    "\n",
    "For the modeling process, I chose multiple models, testing them with different vectorizers in different stages of data cleaning. For the baseline models, I ran Logistic Regression, Random Forest, Naive Bayes, and Support Vector Machine.\n",
    "\n",
    "I ran the models with the CountVectorizer and TF-IDF vectorizers to compared which one would have the best performance. I also tried these models with and without lemmatization. I did not include other features such as the name of the hotel or location because the main objective is to train a model using the reviews only.\n",
    "\n",
    "The Vanilla Models performed fairly well since the beggining with an accuracy of 0.7981. The time I spent cleaning the data paid off. The best performing model was a SVM model with the accuracy score of 0.8233 and F1 Score of 0.8205 using the RBF kernel. However, SVM models using RBF kernel don't allow feature importance retrieve. I tried running a SVM model using linear kernel, but the performance was poor compared to the RBF. \n",
    "\n",
    "\n",
    "Thus, Random Forest with lemmatized words was the winner between the vanilla models. You can see all the models I ran in the <a href=\"https://github.com/Ismaeltrevi/hotel-reviews-analysis-using-nlp/blob/main/models/baseline-models.ipynb\">vanilla models</a> notebook."
   ]
  },
  {
   "cell_type": "markdown",
   "metadata": {},
   "source": [
    "### Best Vanilla Model using CountVectorizer \n",
    "\n",
    "As I mentioned, I tried different vectorizer to check which one would have the best performance. The best model was Logistic Regression, which was also the first model I tried. Let's see the results."
   ]
  },
  {
   "cell_type": "code",
   "execution_count": 39,
   "metadata": {
    "ExecuteTime": {
     "end_time": "2020-12-24T19:07:34.913024Z",
     "start_time": "2020-12-24T19:07:32.670663Z"
    }
   },
   "outputs": [
    {
     "name": "stdout",
     "output_type": "stream",
     "text": [
      "Evaluation Metrics:\n",
      "Accuracy: 0.798149861239593\n",
      "Precision: 0.8104575163398693\n",
      "Recall: 0.7968582649053909\n",
      "F1 Score: 0.8036003600360035\n",
      "\n",
      "Cross-Validation Accuracy Scores: [0.80758557 0.80049337 0.80080173 0.80727721 0.81431215]\n",
      "\n",
      "Min:  0.800493\n",
      "Max:  0.814312\n",
      "Mean:  0.806094\n",
      "Range:  0.013819\n"
     ]
    }
   ],
   "source": [
    "# Importing train and test set using CountVectorizer\n",
    "X_train_cv = pickle.load(open('pickle/X_train_cv.pkl', 'rb'))\n",
    "X_test_cv = pickle.load(open('pickle/X_test_cv.pkl', 'rb'))\n",
    "y_train_cv = pd.read_pickle('pickle/y_train.pkl')\n",
    "y_test_cv = pd.read_pickle('pickle/y_test.pkl')\n",
    "\n",
    "# Importing best model\n",
    "lr_cv = pickle.load(open('pickle/lg_cv.pickle','rb'))\n",
    "y_pred_lr_cv = lr_cv.predict(X_test_cv)\n",
    "\n",
    "# Logistic Regression baseline evaluation\n",
    "evaluation(y_test, y_pred_lr_cv)\n",
    "print()\n",
    "cross_validation(lr_cv, X_train_cv, y_train_cv, 5)"
   ]
  },
  {
   "cell_type": "code",
   "execution_count": 40,
   "metadata": {
    "ExecuteTime": {
     "end_time": "2020-12-24T19:07:35.166100Z",
     "start_time": "2020-12-24T19:07:34.920465Z"
    }
   },
   "outputs": [
    {
     "data": {
      "image/png": "[encoded data removed]",
      "text/plain": [
       "<Figure size 432x504 with 1 Axes>"
      ]
     },
     "metadata": {},
     "output_type": "display_data"
    }
   ],
   "source": [
    "# Plotting a confusion matrix\n",
    "plt.figure(figsize=(6, 7))\n",
    "mat = confusion_matrix(y_test, y_pred_lr_cv)\n",
    "\n",
    "sns.heatmap(mat.T, square=True, annot=True, fmt='d', cbar=False,\n",
    "            xticklabels=['Positive', 'Negative'], yticklabels=['Positive', 'Negative'], cmap=\"Blues\")\n",
    "sns.set(font_scale=2.0)\n",
    "plt.xlabel('True Label', fontsize= 20)\n",
    "plt.ylabel('Predicted Label', fontsize= 20)\n",
    "plt.title('Baseline Logistic Regression Confusion Matrix', fontsize=20)\n",
    "plt.xticks(fontsize=18)\n",
    "plt.yticks(fontsize=18)\n",
    "plt.show()"
   ]
  },
  {
   "cell_type": "markdown",
   "metadata": {},
   "source": [
    "The result are quite good for the first model. I checked cross validation to confirm that there is not underfitting or overfitting in the train set and the results were quite similar to the test set. Looking at the confusion matrix, we can see that the model classifies correctly 75% of both Negative and Positive reviews. A Random Forest model had a better accuracy than Logistic Regression. However, it had a lower F1 Score, which is the metric that I will be focusing further in the project. For this reason, I chose Logistic Regression as my best model. You can see below the performance of every model."
   ]
  },
  {
   "cell_type": "code",
   "execution_count": 41,
   "metadata": {
    "ExecuteTime": {
     "end_time": "2020-12-24T19:07:37.553092Z",
     "start_time": "2020-12-24T19:07:37.530861Z"
    },
    "scrolled": true
   },
   "outputs": [
    {
     "data": {
      "text/html": [
       "<div>\n",
       "<style scoped>\n",
       "    .dataframe tbody tr th:only-of-type {\n",
       "        vertical-align: middle;\n",
       "    }\n",
       "\n",
       "    .dataframe tbody tr th {\n",
       "        vertical-align: top;\n",
       "    }\n",
       "\n",
       "    .dataframe thead th {\n",
       "        text-align: right;\n",
       "    }\n",
       "</style>\n",
       "<table border=\"1\" class=\"dataframe\">\n",
       "  <thead>\n",
       "    <tr style=\"text-align: right;\">\n",
       "      <th></th>\n",
       "      <th>Accuracy</th>\n",
       "      <th>Precision</th>\n",
       "      <th>Recall</th>\n",
       "      <th>F1 Score</th>\n",
       "    </tr>\n",
       "  </thead>\n",
       "  <tbody>\n",
       "    <tr>\n",
       "      <th>Vanilla Random Forest CV</th>\n",
       "      <td>0.800370</td>\n",
       "      <td>0.837118</td>\n",
       "      <td>0.763299</td>\n",
       "      <td>0.798506</td>\n",
       "    </tr>\n",
       "    <tr>\n",
       "      <th>Vanilla Logisitic Regression CV</th>\n",
       "      <td>0.798150</td>\n",
       "      <td>0.810458</td>\n",
       "      <td>0.796858</td>\n",
       "      <td>0.803600</td>\n",
       "    </tr>\n",
       "    <tr>\n",
       "      <th>Vanilla SVC CV</th>\n",
       "      <td>0.783904</td>\n",
       "      <td>0.794234</td>\n",
       "      <td>0.786862</td>\n",
       "      <td>0.790531</td>\n",
       "    </tr>\n",
       "    <tr>\n",
       "      <th>Vanilla Naive Bayes CV</th>\n",
       "      <td>0.781129</td>\n",
       "      <td>0.793541</td>\n",
       "      <td>0.780793</td>\n",
       "      <td>0.787115</td>\n",
       "    </tr>\n",
       "  </tbody>\n",
       "</table>\n",
       "</div>"
      ],
      "text/plain": [
       "                                 Accuracy  Precision    Recall  F1 Score\n",
       "Vanilla Random Forest CV         0.800370   0.837118  0.763299  0.798506\n",
       "Vanilla Logisitic Regression CV  0.798150   0.810458  0.796858  0.803600\n",
       "Vanilla SVC CV                   0.783904   0.794234  0.786862  0.790531\n",
       "Vanilla Naive Bayes CV           0.781129   0.793541  0.780793  0.787115"
      ]
     },
     "execution_count": 41,
     "metadata": {},
     "output_type": "execute_result"
    }
   ],
   "source": [
    "vanilla_models = pd.read_csv('csv/baseline-models_cv.csv', index_col=0)\n",
    "vanilla_models.sort_values(by='Accuracy', ascending=False)"
   ]
  },
  {
   "cell_type": "markdown",
   "metadata": {},
   "source": [
    "### Best Vanilla Model using TF-IDF Vectorizer\n",
    "\n",
    "As I mentioned, I tried different TF-IDF Vectorizer as well. Let's see the results"
   ]
  },
  {
   "cell_type": "code",
   "execution_count": 42,
   "metadata": {
    "ExecuteTime": {
     "end_time": "2020-12-24T19:08:01.017872Z",
     "start_time": "2020-12-24T19:07:55.014948Z"
    }
   },
   "outputs": [],
   "source": [
    "# Importing train and test set using CountVectorizer\n",
    "X_train_tfidf = pickle.load(open('pickle/X_train_tfidf.pkl', 'rb'))\n",
    "X_test_tfidf = pickle.load(open('pickle/X_test_tfidf.pkl', 'rb'))\n",
    "y_train_tfidf = pd.read_pickle('pickle/y_train.pkl')\n",
    "y_test_tfidf = pd.read_pickle('pickle/y_test.pkl')\n",
    "\n",
    "# Instantiating baseline Logistic Regression Model\n",
    "lg_tfidf = LogisticRegression()\n",
    "\n",
    "# Fitting the model to the X and y variables of the train set\n",
    "lg_tfidf.fit(X_train_tfidf, y_train) \n",
    "\n",
    "# Predicting the model in the X variable of the test set\n",
    "y_lg_base_tfidf = lg_tfidf.predict(X_test_tfidf)"
   ]
  },
  {
   "cell_type": "code",
   "execution_count": 43,
   "metadata": {
    "ExecuteTime": {
     "end_time": "2020-12-24T19:08:49.659719Z",
     "start_time": "2020-12-24T19:08:01.020546Z"
    },
    "scrolled": true
   },
   "outputs": [
    {
     "name": "stdout",
     "output_type": "stream",
     "text": [
      "Evaluation Metrics:\n",
      "Accuracy: 0.8170212765957446\n",
      "Precision: 0.8481936971560338\n",
      "Recall: 0.7879328811138879\n",
      "F1 Score: 0.8169535443272257\n",
      "Cross-Validation Accuracy Scores: [0.81776133 0.82269504 0.81591119 0.82146161 0.82973473]\n",
      "\n",
      "Min:  0.815911\n",
      "Max:  0.829735\n",
      "Mean:  0.821513\n",
      "Range:  0.013824\n"
     ]
    }
   ],
   "source": [
    "# Logistic Regression TF-IDF baseline evaluation\n",
    "evaluation(y_test, y_lg_base_tfidf)\n",
    "cross_validation(lg_tfidf, X_train_tfidf, y_train, 5)"
   ]
  },
  {
   "cell_type": "markdown",
   "metadata": {},
   "source": [
    "As we can see, TF-IDF vecotorizer was able to improve our model compared to CountVectorizer. The  was accuracy 0.8170. Let's compare all the models."
   ]
  },
  {
   "cell_type": "code",
   "execution_count": 44,
   "metadata": {
    "ExecuteTime": {
     "end_time": "2020-12-24T19:08:49.680811Z",
     "start_time": "2020-12-24T19:08:49.662974Z"
    },
    "scrolled": true
   },
   "outputs": [
    {
     "data": {
      "text/html": [
       "<div>\n",
       "<style scoped>\n",
       "    .dataframe tbody tr th:only-of-type {\n",
       "        vertical-align: middle;\n",
       "    }\n",
       "\n",
       "    .dataframe tbody tr th {\n",
       "        vertical-align: top;\n",
       "    }\n",
       "\n",
       "    .dataframe thead th {\n",
       "        text-align: right;\n",
       "    }\n",
       "</style>\n",
       "<table border=\"1\" class=\"dataframe\">\n",
       "  <thead>\n",
       "    <tr style=\"text-align: right;\">\n",
       "      <th></th>\n",
       "      <th>Accuracy</th>\n",
       "      <th>Precision</th>\n",
       "      <th>Recall</th>\n",
       "      <th>F1 Score</th>\n",
       "    </tr>\n",
       "  </thead>\n",
       "  <tbody>\n",
       "    <tr>\n",
       "      <th>Vanilla SVC TF-IDF</th>\n",
       "      <td>0.822202</td>\n",
       "      <td>0.862205</td>\n",
       "      <td>0.781864</td>\n",
       "      <td>0.820071</td>\n",
       "    </tr>\n",
       "    <tr>\n",
       "      <th>Vanilla Log Reg Lem</th>\n",
       "      <td>0.817761</td>\n",
       "      <td>0.831499</td>\n",
       "      <td>0.801977</td>\n",
       "      <td>0.816471</td>\n",
       "    </tr>\n",
       "    <tr>\n",
       "      <th>Vanila Log Reg TF-IDF</th>\n",
       "      <td>0.817021</td>\n",
       "      <td>0.848194</td>\n",
       "      <td>0.787933</td>\n",
       "      <td>0.816954</td>\n",
       "    </tr>\n",
       "    <tr>\n",
       "      <th>Vanilla Random Forest TF-IDF</th>\n",
       "      <td>0.803515</td>\n",
       "      <td>0.837932</td>\n",
       "      <td>0.769725</td>\n",
       "      <td>0.802382</td>\n",
       "    </tr>\n",
       "    <tr>\n",
       "      <th>Vanilla Random Forest CV</th>\n",
       "      <td>0.800370</td>\n",
       "      <td>0.837118</td>\n",
       "      <td>0.763299</td>\n",
       "      <td>0.798506</td>\n",
       "    </tr>\n",
       "    <tr>\n",
       "      <th>Vanilla Random Forest Lem</th>\n",
       "      <td>0.798890</td>\n",
       "      <td>0.819666</td>\n",
       "      <td>0.771962</td>\n",
       "      <td>0.795099</td>\n",
       "    </tr>\n",
       "    <tr>\n",
       "      <th>Vanilla Logisitic Regression CV</th>\n",
       "      <td>0.798150</td>\n",
       "      <td>0.810458</td>\n",
       "      <td>0.796858</td>\n",
       "      <td>0.803600</td>\n",
       "    </tr>\n",
       "    <tr>\n",
       "      <th>Vanilla SVC CV</th>\n",
       "      <td>0.783904</td>\n",
       "      <td>0.794234</td>\n",
       "      <td>0.786862</td>\n",
       "      <td>0.790531</td>\n",
       "    </tr>\n",
       "    <tr>\n",
       "      <th>Vanilla Naive Bayes CV</th>\n",
       "      <td>0.781129</td>\n",
       "      <td>0.793541</td>\n",
       "      <td>0.780793</td>\n",
       "      <td>0.787115</td>\n",
       "    </tr>\n",
       "  </tbody>\n",
       "</table>\n",
       "</div>"
      ],
      "text/plain": [
       "                                 Accuracy  Precision    Recall  F1 Score\n",
       "Vanilla SVC TF-IDF               0.822202   0.862205  0.781864  0.820071\n",
       "Vanilla Log Reg Lem              0.817761   0.831499  0.801977  0.816471\n",
       "Vanila Log Reg TF-IDF            0.817021   0.848194  0.787933  0.816954\n",
       "Vanilla Random Forest TF-IDF     0.803515   0.837932  0.769725  0.802382\n",
       "Vanilla Random Forest CV         0.800370   0.837118  0.763299  0.798506\n",
       "Vanilla Random Forest Lem        0.798890   0.819666  0.771962  0.795099\n",
       "Vanilla Logisitic Regression CV  0.798150   0.810458  0.796858  0.803600\n",
       "Vanilla SVC CV                   0.783904   0.794234  0.786862  0.790531\n",
       "Vanilla Naive Bayes CV           0.781129   0.793541  0.780793  0.787115"
      ]
     },
     "execution_count": 44,
     "metadata": {},
     "output_type": "execute_result"
    }
   ],
   "source": [
    "tfidf_models = pd.read_csv('csv/baseline-models_tfidf.csv', index_col=0)\n",
    "tfidf_models.sort_values(by='Accuracy', ascending=False)"
   ]
  },
  {
   "cell_type": "markdown",
   "metadata": {},
   "source": [
    "All the models that I used a vectorized data set using TF-IDF performed better than CountVectorizer. Although the Logistic Regression model had the best accuracy, I chose Random Forest as my best model."
   ]
  },
  {
   "cell_type": "markdown",
   "metadata": {
    "ExecuteTime": {
     "end_time": "2020-12-24T17:27:10.645838Z",
     "start_time": "2020-12-24T17:27:10.641382Z"
    }
   },
   "source": [
    "## Final Model\n",
    "\n",
    "For the final model, I chose the Random Forest model using TF-IDF vectorizer in the train and test set. The reason why I decided to move forward with Random Forest was the capacity of the model in "
   ]
  },
  {
   "cell_type": "code",
   "execution_count": 45,
   "metadata": {
    "ExecuteTime": {
     "end_time": "2020-12-24T19:09:54.284518Z",
     "start_time": "2020-12-24T19:09:51.772324Z"
    }
   },
   "outputs": [],
   "source": [
    "# Importing train and test set using CountVectorizer\n",
    "X_train_tfidf = pickle.load(open('pickle/X_train_tfidf.pkl', 'rb'))\n",
    "X_test_tfidf = pickle.load(open('pickle/X_test_tfidf.pkl', 'rb'))\n",
    "y_train_tfidf = pickle.load(open('pickle/y_train.pkl', 'rb'))\n",
    "y_test_tfidf = pickle.load(open('pickle/y_test.pkl', 'rb'))"
   ]
  },
  {
   "cell_type": "code",
   "execution_count": 48,
   "metadata": {
    "ExecuteTime": {
     "end_time": "2020-12-24T19:11:03.806620Z",
     "start_time": "2020-12-24T19:10:37.448105Z"
    }
   },
   "outputs": [],
   "source": [
    "# Instantiating baseline Logistic Regression Model\n",
    "rf_baseline = RandomForestClassifier(random_state=1)\n",
    "\n",
    "# Fitting the model to the X and y variables of the train set\n",
    "rf_baseline.fit(X_train_tfidf, y_train)\n",
    "\n",
    "# Predicting the model in the X variable of the test set\n",
    "y_rf_base_tfidf = rf_baseline.predict(X_test_tfidf)"
   ]
  },
  {
   "cell_type": "code",
   "execution_count": 146,
   "metadata": {
    "ExecuteTime": {
     "end_time": "2020-12-24T19:04:56.568563Z",
     "start_time": "2020-12-24T19:04:56.549739Z"
    },
    "scrolled": false
   },
   "outputs": [
    {
     "ename": "NameError",
     "evalue": "name 'y_lr_base_tfidf' is not defined",
     "output_type": "error",
     "traceback": [
      "\u001b[0;31m---------------------------------------------------------------------------\u001b[0m",
      "\u001b[0;31mNameError\u001b[0m                                 Traceback (most recent call last)",
      "\u001b[0;32m<ipython-input-146-b644e4db3ddb>\u001b[0m in \u001b[0;36m<module>\u001b[0;34m()\u001b[0m\n\u001b[1;32m      1\u001b[0m \u001b[0;31m# Logistic Regression TF-IDF baseline evaluation\u001b[0m\u001b[0;34m\u001b[0m\u001b[0;34m\u001b[0m\u001b[0;34m\u001b[0m\u001b[0m\n\u001b[0;32m----> 2\u001b[0;31m \u001b[0mevaluation\u001b[0m\u001b[0;34m(\u001b[0m\u001b[0my_train\u001b[0m\u001b[0;34m,\u001b[0m \u001b[0my_lr_base_tfidf\u001b[0m\u001b[0;34m)\u001b[0m\u001b[0;34m\u001b[0m\u001b[0;34m\u001b[0m\u001b[0m\n\u001b[0m\u001b[1;32m      3\u001b[0m \u001b[0mcross_validation\u001b[0m\u001b[0;34m(\u001b[0m\u001b[0mrf_baseline\u001b[0m\u001b[0;34m,\u001b[0m \u001b[0mX_train\u001b[0m\u001b[0;34m,\u001b[0m \u001b[0my_train\u001b[0m\u001b[0;34m,\u001b[0m \u001b[0;36m5\u001b[0m\u001b[0;34m)\u001b[0m\u001b[0;34m\u001b[0m\u001b[0;34m\u001b[0m\u001b[0m\n",
      "\u001b[0;31mNameError\u001b[0m: name 'y_lr_base_tfidf' is not defined"
     ]
    }
   ],
   "source": [
    "# Logistic Regression TF-IDF baseline evaluation\n",
    "evaluation(y_train_tfidf, y_rf_base_tfidf)\n",
    "cross_validation(rf_baseline, X_train, y_train, 5)"
   ]
  },
  {
   "cell_type": "code",
   "execution_count": null,
   "metadata": {
    "ExecuteTime": {
     "end_time": "2020-12-24T19:04:56.571821Z",
     "start_time": "2020-12-24T19:04:32.052Z"
    }
   },
   "outputs": [],
   "source": [
    "features_dict = dict(zip(X_train_vec.columns, rf_baseline.feature_importances_))\n",
    "features_rf = pd.DataFrame.from_dict(features_dict, orient='index')\n",
    "features_rf.nlargest(20, 0)"
   ]
  },
  {
   "cell_type": "code",
   "execution_count": null,
   "metadata": {},
   "outputs": [],
   "source": []
  },
  {
   "cell_type": "code",
   "execution_count": null,
   "metadata": {},
   "outputs": [],
   "source": []
  },
  {
   "cell_type": "code",
   "execution_count": null,
   "metadata": {},
   "outputs": [],
   "source": []
  },
  {
   "cell_type": "code",
   "execution_count": null,
   "metadata": {},
   "outputs": [],
   "source": []
  },
  {
   "cell_type": "code",
   "execution_count": null,
   "metadata": {},
   "outputs": [],
   "source": []
  },
  {
   "cell_type": "code",
   "execution_count": null,
   "metadata": {},
   "outputs": [],
   "source": []
  },
  {
   "cell_type": "code",
   "execution_count": null,
   "metadata": {},
   "outputs": [],
   "source": []
  },
  {
   "cell_type": "markdown",
   "metadata": {},
   "source": [
    "### Evaluation Metric"
   ]
  },
  {
   "cell_type": "markdown",
   "metadata": {},
   "source": [
    "The evaluation metric below will simplify the model evaluation. My main focus is the accuracy metric. Have an accurate is important to be accurate. However, although fixing False Negatives is not crucial, I will also take a look at Recall and F1-Score to understand how my model is working. Since it is not my main focus, I will not mentioned in the individual analysis on my models."
   ]
  },
  {
   "cell_type": "code",
   "execution_count": 39,
   "metadata": {
    "ExecuteTime": {
     "end_time": "2020-12-24T16:49:12.743502Z",
     "start_time": "2020-12-24T16:49:12.740664Z"
    }
   },
   "outputs": [],
   "source": [
    "from functions import evaluation"
   ]
  },
  {
   "cell_type": "code",
   "execution_count": 61,
   "metadata": {
    "ExecuteTime": {
     "end_time": "2020-12-24T17:58:58.286209Z",
     "start_time": "2020-12-24T17:58:57.958952Z"
    }
   },
   "outputs": [],
   "source": [
    "# Importing best model\n",
    "voting_clf = pickle.load(open('pickle/final_model.pickle','rb'))"
   ]
  },
  {
   "cell_type": "code",
   "execution_count": 62,
   "metadata": {
    "ExecuteTime": {
     "end_time": "2020-12-24T17:59:11.158051Z",
     "start_time": "2020-12-24T17:58:58.513847Z"
    }
   },
   "outputs": [],
   "source": [
    "final_model = voting_clf.predict(X_test)"
   ]
  },
  {
   "cell_type": "code",
   "execution_count": 63,
   "metadata": {
    "ExecuteTime": {
     "end_time": "2020-12-24T17:59:11.187715Z",
     "start_time": "2020-12-24T17:59:11.160646Z"
    },
    "scrolled": false
   },
   "outputs": [
    {
     "name": "stdout",
     "output_type": "stream",
     "text": [
      "Evaluation Metrics:\n",
      "Accuracy: 0.8238667900092507\n",
      "Precision: 0.8607101053452985\n",
      "Recall: 0.7875758657622278\n",
      "F1 Score: 0.8225205070842654\n"
     ]
    }
   ],
   "source": [
    "# Evaluating model\n",
    "evaluation(y_test, final_model)"
   ]
  },
  {
   "cell_type": "code",
   "execution_count": 64,
   "metadata": {
    "ExecuteTime": {
     "end_time": "2020-12-24T18:00:17.908024Z",
     "start_time": "2020-12-24T18:00:17.905261Z"
    }
   },
   "outputs": [],
   "source": [
    "for alg in voting_clf.named_estimators:\n",
    "    clf = voting_clf.named_estimators[alg]"
   ]
  },
  {
   "cell_type": "code",
   "execution_count": 66,
   "metadata": {
    "ExecuteTime": {
     "end_time": "2020-12-24T18:00:51.707765Z",
     "start_time": "2020-12-24T18:00:51.701476Z"
    }
   },
   "outputs": [
    {
     "data": {
      "text/plain": [
       "{'lr': LogisticRegression(), 'rf': RandomForestClassifier(), 'svm': SVC()}"
      ]
     },
     "execution_count": 66,
     "metadata": {},
     "output_type": "execute_result"
    }
   ],
   "source": [
    "voting_clf.named_estimators"
   ]
  },
  {
   "cell_type": "code",
   "execution_count": null,
   "metadata": {},
   "outputs": [],
   "source": []
  },
  {
   "cell_type": "code",
   "execution_count": null,
   "metadata": {},
   "outputs": [],
   "source": []
  },
  {
   "cell_type": "code",
   "execution_count": 42,
   "metadata": {
    "ExecuteTime": {
     "end_time": "2020-12-23T18:04:22.557487Z",
     "start_time": "2020-12-23T18:04:22.541784Z"
    }
   },
   "outputs": [
    {
     "ename": "NotFittedError",
     "evalue": "Vocabulary not fitted or provided",
     "output_type": "error",
     "traceback": [
      "\u001b[0;31m---------------------------------------------------------------------------\u001b[0m",
      "\u001b[0;31mNotFittedError\u001b[0m                            Traceback (most recent call last)",
      "\u001b[0;32m<ipython-input-42-363f2d1a4ccb>\u001b[0m in \u001b[0;36m<module>\u001b[0;34m()\u001b[0m\n\u001b[1;32m      4\u001b[0m \u001b[0;34m\u001b[0m\u001b[0m\n\u001b[1;32m      5\u001b[0m X_train_vec = pd.DataFrame.sparse.from_spmatrix(\n\u001b[0;32m----> 6\u001b[0;31m     X_train, columns=vectorizer.get_feature_names())\n\u001b[0m\u001b[1;32m      7\u001b[0m X_test_vec = pd.DataFrame.sparse.from_spmatrix(\n\u001b[1;32m      8\u001b[0m     X_test, columns=vectorizer.get_feature_names())\n",
      "\u001b[0;32m/opt/anaconda3/envs/learn-env/lib/python3.6/site-packages/sklearn/feature_extraction/text.py\u001b[0m in \u001b[0;36mget_feature_names\u001b[0;34m(self)\u001b[0m\n\u001b[1;32m   1293\u001b[0m         \"\"\"\n\u001b[1;32m   1294\u001b[0m \u001b[0;34m\u001b[0m\u001b[0m\n\u001b[0;32m-> 1295\u001b[0;31m         \u001b[0mself\u001b[0m\u001b[0;34m.\u001b[0m\u001b[0m_check_vocabulary\u001b[0m\u001b[0;34m(\u001b[0m\u001b[0;34m)\u001b[0m\u001b[0;34m\u001b[0m\u001b[0;34m\u001b[0m\u001b[0m\n\u001b[0m\u001b[1;32m   1296\u001b[0m \u001b[0;34m\u001b[0m\u001b[0m\n\u001b[1;32m   1297\u001b[0m         return [t for t, i in sorted(self.vocabulary_.items(),\n",
      "\u001b[0;32m/opt/anaconda3/envs/learn-env/lib/python3.6/site-packages/sklearn/feature_extraction/text.py\u001b[0m in \u001b[0;36m_check_vocabulary\u001b[0;34m(self)\u001b[0m\n\u001b[1;32m    465\u001b[0m             \u001b[0mself\u001b[0m\u001b[0;34m.\u001b[0m\u001b[0m_validate_vocabulary\u001b[0m\u001b[0;34m(\u001b[0m\u001b[0;34m)\u001b[0m\u001b[0;34m\u001b[0m\u001b[0;34m\u001b[0m\u001b[0m\n\u001b[1;32m    466\u001b[0m             \u001b[0;32mif\u001b[0m \u001b[0;32mnot\u001b[0m \u001b[0mself\u001b[0m\u001b[0;34m.\u001b[0m\u001b[0mfixed_vocabulary_\u001b[0m\u001b[0;34m:\u001b[0m\u001b[0;34m\u001b[0m\u001b[0;34m\u001b[0m\u001b[0m\n\u001b[0;32m--> 467\u001b[0;31m                 \u001b[0;32mraise\u001b[0m \u001b[0mNotFittedError\u001b[0m\u001b[0;34m(\u001b[0m\u001b[0;34m\"Vocabulary not fitted or provided\"\u001b[0m\u001b[0;34m)\u001b[0m\u001b[0;34m\u001b[0m\u001b[0;34m\u001b[0m\u001b[0m\n\u001b[0m\u001b[1;32m    468\u001b[0m \u001b[0;34m\u001b[0m\u001b[0m\n\u001b[1;32m    469\u001b[0m         \u001b[0;32mif\u001b[0m \u001b[0mlen\u001b[0m\u001b[0;34m(\u001b[0m\u001b[0mself\u001b[0m\u001b[0;34m.\u001b[0m\u001b[0mvocabulary_\u001b[0m\u001b[0;34m)\u001b[0m \u001b[0;34m==\u001b[0m \u001b[0;36m0\u001b[0m\u001b[0;34m:\u001b[0m\u001b[0;34m\u001b[0m\u001b[0;34m\u001b[0m\u001b[0m\n",
      "\u001b[0;31mNotFittedError\u001b[0m: Vocabulary not fitted or provided"
     ]
    }
   ],
   "source": [
    "# convert tf-idf vectors into dataframe so I can better view \n",
    "# feature importances\n",
    "vectorizer = TfidfVectorizer(stop_words=stop_words)\n",
    "\n",
    "X_train_vec = pd.DataFrame.sparse.from_spmatrix(\n",
    "    X_train, columns=vectorizer.get_feature_names())\n",
    "X_test_vec = pd.DataFrame.sparse.from_spmatrix(\n",
    "    X_test, columns=vectorizer.get_feature_names())"
   ]
  },
  {
   "cell_type": "code",
   "execution_count": null,
   "metadata": {
    "ExecuteTime": {
     "end_time": "2020-12-23T17:07:33.490518Z",
     "start_time": "2020-12-23T17:07:27.096Z"
    }
   },
   "outputs": [],
   "source": [
    "# Plotting a confusion matrix\n",
    "plt.figure(figsize=(6, 7))\n",
    "mat = confusion_matrix(y_test, final_model)\n",
    "\n",
    "sns.heatmap(mat.T, square=True, annot=True, fmt='d', cbar=False,\n",
    "            xticklabels=['Positive', 'Negative'], yticklabels=['Positive', 'Negative'], cmap=\"Blues\")\n",
    "plt.xlabel('True Label', fontsize= 18)\n",
    "plt.ylabel('Predicted Label', fontsize= 18)\n",
    "plt.title('GridSearch SVC Confusion Matrix', fontsize=20)\n",
    "plt.xticks(fontsize=16)\n",
    "plt.yticks(fontsize=16)\n",
    "b, t = plt.ylim()  \n",
    "plt.ylim(b, t)\n",
    "plt.show()"
   ]
  },
  {
   "cell_type": "markdown",
   "metadata": {},
   "source": [
    "GridSearch SVC was able to predict correctly 85.13% of the positive reviews and 72.79%. My stretch how is going to be improve this model and test it in reviews from other websites and social media.\n",
    "\n",
    "Since this model was tested with positive and negative reviews, it should be able to grab reviews from other websites and predict as well."
   ]
  },
  {
   "cell_type": "markdown",
   "metadata": {},
   "source": [
    "# Final Recommendations\n",
    "- Use machine learning models to quickly identify negative and positive reviews without having to read all of them.\n",
    "- Use word clouds to get quick insights from negative and positive reviews. The negative reviews can be used to improve the business and positive reviews can be used for advertisement, for example.\n",
    "\n",
    "## Conclusion\n",
    "\n",
    "- Machine learning can be used to correctly identify positive and negative reviews. However, identify with 100% confidence would be extremely difficult.\n",
    "- Word clouds can be used to understand what words appear the most in negative and positive reviews. The management can quickly take a look and get insights out of it.\n",
    "- The Britannia International Hotel Canary Wharf performes poorly in the reviews compared to other hotels in London. There is a lot of room for improvement.\n",
    "\n",
    "## Next Steps:\n",
    "\n",
    "- Test the model in the whole data set\n",
    "- Use the features of the model with the highest coeficcient to understand which words can predict better if a review is good or not and test\n",
    "- Use the features with the highest coeficcient to predict if posts in social media are positive or negative\n",
    "- Create a recommendation system to the user based on reviews\n",
    "- Create a dashboard for guests and hotels easily get information about hotels.\n",
    "\n",
    "## Repository Content\n",
    "\n",
    "## For More Information or Suggestions\n",
    "If you have any questions or suggestions, please reach me out.\n",
    "\n",
    "Email: alves.trevi@gmail.com"
   ]
  }
 ],
 "metadata": {
  "kernelspec": {
   "display_name": "learn-env",
   "language": "python",
   "name": "learn-env"
  },
  "language_info": {
   "codemirror_mode": {
    "name": "ipython",
    "version": 3
   },
   "file_extension": ".py",
   "mimetype": "text/x-python",
   "name": "python",
   "nbconvert_exporter": "python",
   "pygments_lexer": "ipython3",
   "version": "3.6.9"
  },
  "toc": {
   "base_numbering": 1,
   "nav_menu": {},
   "number_sections": true,
   "sideBar": true,
   "skip_h1_title": false,
   "title_cell": "Table of Contents",
   "title_sidebar": "Contents",
   "toc_cell": false,
   "toc_position": {
    "height": "calc(100% - 180px)",
    "left": "10px",
    "top": "150px",
    "width": "222px"
   },
   "toc_section_display": true,
   "toc_window_display": true
  }
 },
 "nbformat": 4,
 "nbformat_minor": 4
}
