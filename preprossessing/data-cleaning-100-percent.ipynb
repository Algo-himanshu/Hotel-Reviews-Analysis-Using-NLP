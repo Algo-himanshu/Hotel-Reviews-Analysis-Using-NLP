{
 "cells": [
  {
   "cell_type": "markdown",
   "metadata": {},
   "source": [
    "# Data Cleaning"
   ]
  },
  {
   "cell_type": "markdown",
   "metadata": {},
   "source": [
    "In this notebook, we will clean the data and prepare it for the NLP models."
   ]
  },
  {
   "cell_type": "markdown",
   "metadata": {},
   "source": [
    "# Import Libraries"
   ]
  },
  {
   "cell_type": "code",
   "execution_count": 1,
   "metadata": {
    "ExecuteTime": {
     "end_time": "2020-12-23T03:33:00.732017Z",
     "start_time": "2020-12-23T03:32:59.053489Z"
    }
   },
   "outputs": [],
   "source": [
    "# Importing Packages\n",
    "import pandas as pd\n",
    "import numpy as np\n",
    "import matplotlib.pyplot as plt\n",
    "%matplotlib inline\n",
    "import seaborn as sns\n",
    "import os\n",
    "\n",
    "# NLP Packages\n",
    "import nltk \n",
    "from nltk.corpus import stopwords\n",
    "from textblob import TextBlob \n",
    "from textblob import Word\n",
    "import re\n",
    "import string\n",
    "\n",
    "# Sklearn Packages\n",
    "from sklearn.feature_extraction.text import CountVectorizer\n",
    "from sklearn.feature_extraction import text \n",
    "from nltk.stem import WordNetLemmatizer \n",
    "from nltk.corpus import stopwords\n",
    "\n",
    "# Pandas Settings\n",
    "pd.set_option('display.max_columns', 10000)\n",
    "pd.set_option('display.max_rows', 100)\n",
    "\n",
    "import pickle\n",
    "\n",
    "# Solve warnings\n",
    "import warnings\n",
    "warnings.filterwarnings(\"ignore\", category=FutureWarning)"
   ]
  },
  {
   "cell_type": "markdown",
   "metadata": {},
   "source": [
    "# Import Dataset"
   ]
  },
  {
   "cell_type": "code",
   "execution_count": 2,
   "metadata": {
    "ExecuteTime": {
     "end_time": "2020-12-23T03:33:03.657638Z",
     "start_time": "2020-12-23T03:33:00.734277Z"
    }
   },
   "outputs": [],
   "source": [
    "# Import csv file\n",
    "df = pd.read_csv('../csv/Hotel_Reviews.csv')"
   ]
  },
  {
   "cell_type": "code",
   "execution_count": 3,
   "metadata": {
    "ExecuteTime": {
     "end_time": "2020-12-23T03:33:03.671896Z",
     "start_time": "2020-12-23T03:33:03.660393Z"
    }
   },
   "outputs": [
    {
     "data": {
      "text/plain": [
       "(515738, 17)"
      ]
     },
     "execution_count": 3,
     "metadata": {},
     "output_type": "execute_result"
    }
   ],
   "source": [
    "# Checking the shape of the dataframe\n",
    "df.shape"
   ]
  },
  {
   "cell_type": "markdown",
   "metadata": {},
   "source": [
    "# Data Preparation"
   ]
  },
  {
   "cell_type": "markdown",
   "metadata": {},
   "source": [
    "Here we can see that the dataset is large. Some models could take way too long to run a train set this size. Thus, in the first part of this project, I will use 20% of the original dataset. Further in the project, I'm planning on testing best model on the entire dataset. Luckily, since the dataset is so large, we can fix any class imbalance here."
   ]
  },
  {
   "cell_type": "markdown",
   "metadata": {},
   "source": [
    "## Keep only columns I will use to train my models"
   ]
  },
  {
   "cell_type": "code",
   "execution_count": 4,
   "metadata": {
    "ExecuteTime": {
     "end_time": "2020-12-23T03:33:03.679442Z",
     "start_time": "2020-12-23T03:33:03.674664Z"
    }
   },
   "outputs": [
    {
     "data": {
      "text/plain": [
       "Index(['Hotel_Address', 'Additional_Number_of_Scoring', 'Review_Date',\n",
       "       'Average_Score', 'Hotel_Name', 'Reviewer_Nationality',\n",
       "       'Negative_Review', 'Review_Total_Negative_Word_Counts',\n",
       "       'Total_Number_of_Reviews', 'Positive_Review',\n",
       "       'Review_Total_Positive_Word_Counts',\n",
       "       'Total_Number_of_Reviews_Reviewer_Has_Given', 'Reviewer_Score', 'Tags',\n",
       "       'days_since_review', 'lat', 'lng'],\n",
       "      dtype='object')"
      ]
     },
     "execution_count": 4,
     "metadata": {},
     "output_type": "execute_result"
    }
   ],
   "source": [
    "# Checking the name of columns\n",
    "df.columns"
   ]
  },
  {
   "cell_type": "code",
   "execution_count": 5,
   "metadata": {
    "ExecuteTime": {
     "end_time": "2020-12-23T03:33:03.741444Z",
     "start_time": "2020-12-23T03:33:03.681782Z"
    }
   },
   "outputs": [],
   "source": [
    "# Selecting only the columns that I will use\n",
    "features = ['Hotel_Name', 'Negative_Review','Positive_Review', 'Reviewer_Score']\n",
    "df = df[features]"
   ]
  },
  {
   "cell_type": "markdown",
   "metadata": {},
   "source": [
    "For NLP, I want to see how the model performs having the positive reviews together, since that's the way that most people write reviews."
   ]
  },
  {
   "cell_type": "code",
   "execution_count": 6,
   "metadata": {
    "ExecuteTime": {
     "end_time": "2020-12-23T03:33:03.931927Z",
     "start_time": "2020-12-23T03:33:03.744309Z"
    }
   },
   "outputs": [],
   "source": [
    "# Putting reviews together\n",
    "df['Reviews'] = df['Negative_Review'] + df['Positive_Review']"
   ]
  },
  {
   "cell_type": "code",
   "execution_count": 7,
   "metadata": {
    "ExecuteTime": {
     "end_time": "2020-12-23T03:33:03.936884Z",
     "start_time": "2020-12-23T03:33:03.934178Z"
    }
   },
   "outputs": [],
   "source": [
    "# # Keep only 20% of the dataframe\n",
    "# df = df.sample(frac=0.20, random_state=1)"
   ]
  },
  {
   "cell_type": "code",
   "execution_count": 8,
   "metadata": {
    "ExecuteTime": {
     "end_time": "2020-12-23T03:33:03.945884Z",
     "start_time": "2020-12-23T03:33:03.942976Z"
    }
   },
   "outputs": [],
   "source": [
    "# # Checking if it worked\n",
    "# df.shape"
   ]
  },
  {
   "cell_type": "code",
   "execution_count": 9,
   "metadata": {
    "ExecuteTime": {
     "end_time": "2020-12-23T03:33:04.154505Z",
     "start_time": "2020-12-23T03:33:03.948697Z"
    }
   },
   "outputs": [
    {
     "data": {
      "text/plain": [
       "Hotel_Name         0\n",
       "Negative_Review    0\n",
       "Positive_Review    0\n",
       "Reviewer_Score     0\n",
       "Reviews            0\n",
       "dtype: int64"
      ]
     },
     "execution_count": 9,
     "metadata": {},
     "output_type": "execute_result"
    }
   ],
   "source": [
    "# Checking null values\n",
    "df.isna().sum()"
   ]
  },
  {
   "cell_type": "code",
   "execution_count": 10,
   "metadata": {
    "ExecuteTime": {
     "end_time": "2020-12-23T03:33:04.196418Z",
     "start_time": "2020-12-23T03:33:04.156851Z"
    }
   },
   "outputs": [
    {
     "data": {
      "text/plain": [
       "1492"
      ]
     },
     "execution_count": 10,
     "metadata": {},
     "output_type": "execute_result"
    }
   ],
   "source": [
    "# Checking how many hotels in this dataset\n",
    "len(df.Hotel_Name.unique())"
   ]
  },
  {
   "cell_type": "code",
   "execution_count": 11,
   "metadata": {
    "ExecuteTime": {
     "end_time": "2020-12-23T03:33:04.253502Z",
     "start_time": "2020-12-23T03:33:04.199974Z"
    },
    "scrolled": true
   },
   "outputs": [
    {
     "data": {
      "text/plain": [
       "Hotel_Name\n",
       "Britannia International Hotel Canary Wharf           4789\n",
       "Strand Palace Hotel                                  4256\n",
       "Park Plaza Westminster Bridge London                 4169\n",
       "Copthorne Tara Hotel London Kensington               3578\n",
       "DoubleTree by Hilton Hotel London Tower of London    3212\n",
       "dtype: int64"
      ]
     },
     "execution_count": 11,
     "metadata": {},
     "output_type": "execute_result"
    }
   ],
   "source": [
    "# Checking the hotel with the highest number of reviews\n",
    "df.pivot_table(index=['Hotel_Name'], aggfunc='size').nlargest()"
   ]
  },
  {
   "cell_type": "markdown",
   "metadata": {},
   "source": [
    "We now have only 20% of the dataset. We can see that Britannia International Hotel Canary Wharf is still the hotel with the most reviews, which shows us that pandas sample function really works as expected. I mentioned this in the <a href=\"https://github.com/Ismaeltrevi/hotel-reviews-analysis-using-nlp/blob/main/preprossessing/eda.ipynb\">EDA</a> notebook."
   ]
  },
  {
   "cell_type": "markdown",
   "metadata": {},
   "source": [
    "# Data Cleaning"
   ]
  },
  {
   "cell_type": "markdown",
   "metadata": {},
   "source": [
    "Now it's time to clean data. The function below lowercase all the words, removes punctuations, and digits.\n",
    "\n",
    "In the <a href=\"https://github.com/Ismaeltrevi/hotel-reviews-analysis-using-nlp/blob/main/preprossessing/eda.ipynb\">EDA</a> notebook I explain that the lowest score is 2.5, which I believe the users don't have the option to choose the score and it must be automatic. For this reason, there are only scores between 2.5 and 10. For this reason, I choose the half point between these two numbers to create my variable."
   ]
  },
  {
   "cell_type": "code",
   "execution_count": 12,
   "metadata": {
    "ExecuteTime": {
     "end_time": "2020-12-23T03:33:05.671410Z",
     "start_time": "2020-12-23T03:33:05.666249Z"
    }
   },
   "outputs": [],
   "source": [
    "# This function lowercase all the review words, removes punctuation and numbers\n",
    "def clean_text_round1(text):\n",
    "    '''Make text lowercase, remove text in square brackets, remove punctuation and remove words containing numbers.'''\n",
    "    text = text.lower()\n",
    "    text = re.sub('[%s]' % re.escape(string.punctuation), '', text)\n",
    "    text = re.sub('\\w*\\d\\w*', '', text)\n",
    "\n",
    "    return text\n",
    "\n",
    "round1 = lambda x: clean_text_round1(x)"
   ]
  },
  {
   "cell_type": "code",
   "execution_count": 13,
   "metadata": {
    "ExecuteTime": {
     "end_time": "2020-12-23T03:33:26.866610Z",
     "start_time": "2020-12-23T03:33:06.093722Z"
    }
   },
   "outputs": [],
   "source": [
    "# Applying clean_text_round1 function\n",
    "df['Reviews_Clean'] = pd.DataFrame(df.Reviews.apply(round1))"
   ]
  },
  {
   "cell_type": "code",
   "execution_count": 14,
   "metadata": {
    "ExecuteTime": {
     "end_time": "2020-12-23T03:33:27.028032Z",
     "start_time": "2020-12-23T03:33:26.869041Z"
    }
   },
   "outputs": [],
   "source": [
    "df_6 = df[(df['Reviewer_Score'] >= 6) & (df['Reviewer_Score'] <= 7)]"
   ]
  },
  {
   "cell_type": "code",
   "execution_count": 15,
   "metadata": {
    "ExecuteTime": {
     "end_time": "2020-12-23T03:33:27.880310Z",
     "start_time": "2020-12-23T03:33:27.030894Z"
    }
   },
   "outputs": [],
   "source": [
    "df_6.to_csv('checking_score_6.csv')"
   ]
  },
  {
   "cell_type": "markdown",
   "metadata": {},
   "source": [
    "Create a binary classification where anything below 6 is negative review and 6 and above is positive."
   ]
  },
  {
   "cell_type": "code",
   "execution_count": 16,
   "metadata": {
    "ExecuteTime": {
     "end_time": "2020-12-23T03:33:28.058975Z",
     "start_time": "2020-12-23T03:33:27.883611Z"
    }
   },
   "outputs": [],
   "source": [
    "# Create function that turns the Reviewer Score into a classification target with 3 values\n",
    "df['Score'] = df['Reviewer_Score'].apply(lambda x: 0 if x < 6 else 1)"
   ]
  },
  {
   "cell_type": "code",
   "execution_count": 17,
   "metadata": {
    "ExecuteTime": {
     "end_time": "2020-12-23T03:33:28.079088Z",
     "start_time": "2020-12-23T03:33:28.061030Z"
    }
   },
   "outputs": [
    {
     "data": {
      "text/html": [
       "<div>\n",
       "<style scoped>\n",
       "    .dataframe tbody tr th:only-of-type {\n",
       "        vertical-align: middle;\n",
       "    }\n",
       "\n",
       "    .dataframe tbody tr th {\n",
       "        vertical-align: top;\n",
       "    }\n",
       "\n",
       "    .dataframe thead th {\n",
       "        text-align: right;\n",
       "    }\n",
       "</style>\n",
       "<table border=\"1\" class=\"dataframe\">\n",
       "  <thead>\n",
       "    <tr style=\"text-align: right;\">\n",
       "      <th></th>\n",
       "      <th>Reviewer_Score</th>\n",
       "      <th>Score</th>\n",
       "    </tr>\n",
       "  </thead>\n",
       "  <tbody>\n",
       "    <tr>\n",
       "      <th>0</th>\n",
       "      <td>2.9</td>\n",
       "      <td>0</td>\n",
       "    </tr>\n",
       "    <tr>\n",
       "      <th>1</th>\n",
       "      <td>7.5</td>\n",
       "      <td>1</td>\n",
       "    </tr>\n",
       "    <tr>\n",
       "      <th>2</th>\n",
       "      <td>7.1</td>\n",
       "      <td>1</td>\n",
       "    </tr>\n",
       "    <tr>\n",
       "      <th>3</th>\n",
       "      <td>3.8</td>\n",
       "      <td>0</td>\n",
       "    </tr>\n",
       "    <tr>\n",
       "      <th>4</th>\n",
       "      <td>6.7</td>\n",
       "      <td>1</td>\n",
       "    </tr>\n",
       "  </tbody>\n",
       "</table>\n",
       "</div>"
      ],
      "text/plain": [
       "   Reviewer_Score  Score\n",
       "0             2.9      0\n",
       "1             7.5      1\n",
       "2             7.1      1\n",
       "3             3.8      0\n",
       "4             6.7      1"
      ]
     },
     "execution_count": 17,
     "metadata": {},
     "output_type": "execute_result"
    }
   ],
   "source": [
    "# Checking if it worked\n",
    "df[['Reviewer_Score', 'Score']].head(5)"
   ]
  },
  {
   "cell_type": "code",
   "execution_count": 18,
   "metadata": {
    "ExecuteTime": {
     "end_time": "2020-12-23T03:33:28.360197Z",
     "start_time": "2020-12-23T03:33:28.081489Z"
    },
    "scrolled": false
   },
   "outputs": [
    {
     "data": {
      "image/png": "[encoded data removed]",
      "text/plain": [
       "<Figure size 576x396 with 1 Axes>"
      ]
     },
     "metadata": {},
     "output_type": "display_data"
    }
   ],
   "source": [
    "# Checking if the target variable is balanced\n",
    "plt.style.use('seaborn')\n",
    "sns.countplot(df['Score'])\n",
    "plt.title('Class Distribution Before', fontsize=18)\n",
    "plt.xlabel('Negative and Positive Review', fontsize=14)\n",
    "plt.ylabel('Number of Reviews', fontsize=14)\n",
    "plt.xticks(fontsize=12)\n",
    "plt.yticks(fontsize=12)\n",
    "\n",
    "# plt.savefig('../images/class_distribution-before.png', bbox_inches = \"tight\", pad_inches=.5, dpi=300)\n",
    "plt.show()"
   ]
  },
  {
   "cell_type": "code",
   "execution_count": 19,
   "metadata": {
    "ExecuteTime": {
     "end_time": "2020-12-23T03:33:28.373107Z",
     "start_time": "2020-12-23T03:33:28.362670Z"
    }
   },
   "outputs": [
    {
     "data": {
      "text/plain": [
       "1    463231\n",
       "0     52507\n",
       "Name: Score, dtype: int64"
      ]
     },
     "execution_count": 19,
     "metadata": {},
     "output_type": "execute_result"
    }
   ],
   "source": [
    "# Checking if there will be class imbalance\n",
    "df.Score.value_counts()"
   ]
  },
  {
   "cell_type": "markdown",
   "metadata": {},
   "source": [
    "We can see that there is a big class imbalance. Since our dataset is large, we can fix this using the pandas sample function. Thus, I will only use 12% of the positive reviews, so it will get closer to the number of negative reviews."
   ]
  },
  {
   "cell_type": "code",
   "execution_count": 20,
   "metadata": {
    "ExecuteTime": {
     "end_time": "2020-12-23T03:33:28.380851Z",
     "start_time": "2020-12-23T03:33:28.378054Z"
    }
   },
   "outputs": [],
   "source": [
    "# # Creating separate dataframes depending on the classification\n",
    "# df_Score_0 = df[df.Score == 0]\n",
    "# df_Score_1 = df[df.Score == 1].sample(frac=0.12)"
   ]
  },
  {
   "cell_type": "code",
   "execution_count": 21,
   "metadata": {
    "ExecuteTime": {
     "end_time": "2020-12-23T03:33:28.681884Z",
     "start_time": "2020-12-23T03:33:28.383929Z"
    },
    "scrolled": true
   },
   "outputs": [
    {
     "ename": "NameError",
     "evalue": "name 'df_Score_1' is not defined",
     "output_type": "error",
     "traceback": [
      "\u001b[0;31m---------------------------------------------------------------------------\u001b[0m",
      "\u001b[0;31mNameError\u001b[0m                                 Traceback (most recent call last)",
      "\u001b[0;32m<ipython-input-21-978d62372cc0>\u001b[0m in \u001b[0;36m<module>\u001b[0;34m()\u001b[0m\n\u001b[1;32m      1\u001b[0m \u001b[0;31m# Concatenating th\u001b[0m\u001b[0;34m\u001b[0m\u001b[0;34m\u001b[0m\u001b[0;34m\u001b[0m\u001b[0m\n\u001b[0;32m----> 2\u001b[0;31m \u001b[0mdf\u001b[0m \u001b[0;34m=\u001b[0m \u001b[0mpd\u001b[0m\u001b[0;34m.\u001b[0m\u001b[0mconcat\u001b[0m\u001b[0;34m(\u001b[0m\u001b[0;34m[\u001b[0m\u001b[0mdf_Score_1\u001b[0m\u001b[0;34m,\u001b[0m \u001b[0mdf_Score_0\u001b[0m\u001b[0;34m]\u001b[0m\u001b[0;34m)\u001b[0m\u001b[0;34m\u001b[0m\u001b[0;34m\u001b[0m\u001b[0m\n\u001b[0m\u001b[1;32m      3\u001b[0m \u001b[0mdf\u001b[0m\u001b[0;34m.\u001b[0m\u001b[0mshape\u001b[0m\u001b[0;34m\u001b[0m\u001b[0;34m\u001b[0m\u001b[0m\n",
      "\u001b[0;31mNameError\u001b[0m: name 'df_Score_1' is not defined"
     ]
    }
   ],
   "source": [
    "# # Concatenating th \n",
    "# df = pd.concat([df_Score_1, df_Score_0])\n",
    "# df.shape"
   ]
  },
  {
   "cell_type": "code",
   "execution_count": null,
   "metadata": {
    "ExecuteTime": {
     "end_time": "2020-12-23T03:33:28.684545Z",
     "start_time": "2020-12-23T03:33:16.047Z"
    }
   },
   "outputs": [],
   "source": [
    "# Checking if the target variable is balanced\n",
    "sns.countplot(df['Score'])\n",
    "plt.title('Class Distribution After', fontsize=18)\n",
    "plt.xlabel('Negative and Positive Review', fontsize=14)\n",
    "plt.ylabel('Number of Reviews', fontsize=14)\n",
    "plt.xticks(fontsize=12)\n",
    "plt.yticks(fontsize=12)\n",
    "\n",
    "# plt.savefig('../images/class_distribution-after.png', bbox_inches = \"tight\", pad_inches=.5, dpi=300)\n",
    "plt.show()"
   ]
  },
  {
   "cell_type": "code",
   "execution_count": null,
   "metadata": {
    "ExecuteTime": {
     "end_time": "2020-12-23T03:33:28.686457Z",
     "start_time": "2020-12-23T03:33:18.286Z"
    },
    "scrolled": false
   },
   "outputs": [],
   "source": [
    "df.Score.value_counts()"
   ]
  },
  {
   "cell_type": "markdown",
   "metadata": {},
   "source": [
    "Checking if the class imbalance worked."
   ]
  },
  {
   "cell_type": "code",
   "execution_count": null,
   "metadata": {
    "ExecuteTime": {
     "end_time": "2020-12-23T03:33:28.687972Z",
     "start_time": "2020-12-23T03:33:19.613Z"
    }
   },
   "outputs": [],
   "source": [
    "# # Saving csv with sentiment analysis\n",
    "# features = ['Hotel_Name', 'Negative_Review', 'Positive_Review', 'Reviewer_Score', 'Reviews_Clean', 'Score']\n",
    "# df = df[features]\n",
    "# df.to_csv(\"../csv/no_class_imbalance.csv\")"
   ]
  },
  {
   "cell_type": "markdown",
   "metadata": {},
   "source": [
    "# Spell Checker"
   ]
  },
  {
   "cell_type": "markdown",
   "metadata": {},
   "source": [
    "Let's fix any spelling mistakes in the review using TextBlob."
   ]
  },
  {
   "cell_type": "markdown",
   "metadata": {},
   "source": [
    "## Tokenizer - Round 1"
   ]
  },
  {
   "cell_type": "code",
   "execution_count": 22,
   "metadata": {
    "ExecuteTime": {
     "end_time": "2020-12-23T03:33:44.950344Z",
     "start_time": "2020-12-23T03:33:44.943848Z"
    }
   },
   "outputs": [],
   "source": [
    "# Setting stop words\n",
    "stop_words = stopwords.words('english')"
   ]
  },
  {
   "cell_type": "code",
   "execution_count": 23,
   "metadata": {
    "ExecuteTime": {
     "end_time": "2020-12-23T03:34:26.675323Z",
     "start_time": "2020-12-23T03:33:45.447656Z"
    },
    "scrolled": true
   },
   "outputs": [
    {
     "data": {
      "text/plain": [
       "(515738, 79254)"
      ]
     },
     "execution_count": 23,
     "metadata": {},
     "output_type": "execute_result"
    }
   ],
   "source": [
    "# Instantiate CountVectorizer\n",
    "cv = CountVectorizer(stop_words=stop_words)\n",
    "\n",
    "# Fit and transform dataframe without data cleaning\n",
    "df_cv = cv.fit_transform(df['Reviews_Clean'])\n",
    "df_cv = pd.DataFrame(df_cv.toarray(), columns = cv.get_feature_names())\n",
    "df_cv.index = df.index\n",
    "df_cv.shape"
   ]
  },
  {
   "cell_type": "markdown",
   "metadata": {},
   "source": [
    "<b>IMPORTANT NOTE:</b>\n",
    "\n",
    "The cell below exports the dataset with the spelling checked. If you export it without running the Spell Checker, all the models won't have the target correctly set up. Thus, I don't recommend exporting that cell."
   ]
  },
  {
   "cell_type": "markdown",
   "metadata": {},
   "source": [
    "⏳ The cell below takes around 1h 20m to run. Uncomment it to run."
   ]
  },
  {
   "cell_type": "code",
   "execution_count": null,
   "metadata": {
    "ExecuteTime": {
     "start_time": "2020-12-23T03:33:53.421Z"
    },
    "scrolled": true
   },
   "outputs": [],
   "source": [
    "# Checking if function works\n",
    "df['Spell_Checked'] = df['Reviews_Clean'].apply(lambda x: ''.join(TextBlob(x).correct()))\n",
    "\n",
    "# 1h 21m to run"
   ]
  },
  {
   "cell_type": "code",
   "execution_count": null,
   "metadata": {
    "ExecuteTime": {
     "start_time": "2020-12-23T03:33:54.602Z"
    },
    "scrolled": true
   },
   "outputs": [],
   "source": [
    "# Fit and transform dataframe without data cleaning\n",
    "df_cv = cv.fit_transform(df['Spell_Checked'])\n",
    "df_cv = pd.DataFrame(df_cv.toarray(), columns = cv.get_feature_names())\n",
    "df_cv.index = df.index\n",
    "df_cv.shape"
   ]
  },
  {
   "cell_type": "markdown",
   "metadata": {},
   "source": [
    "Done! We reduced our dataset from 17,836 words to 11,930 words. WOW!"
   ]
  },
  {
   "cell_type": "code",
   "execution_count": null,
   "metadata": {
    "ExecuteTime": {
     "start_time": "2020-12-23T20:20:45.766Z"
    }
   },
   "outputs": [],
   "source": [
    "df.to_csv('../csv/Hotel_Review_Spell_Checked_100_percent.csv')"
   ]
  },
  {
   "cell_type": "markdown",
   "metadata": {},
   "source": [
    "## Tokenizing and Processing Data"
   ]
  },
  {
   "cell_type": "markdown",
   "metadata": {},
   "source": [
    "Let's now preprocess the cleaned dataset before modeling. I will also lemmatize the words. I want to try models with both lemmatized and non-lemmatized words."
   ]
  },
  {
   "cell_type": "code",
   "execution_count": 76,
   "metadata": {
    "ExecuteTime": {
     "end_time": "2020-12-17T16:30:07.980829Z",
     "start_time": "2020-12-17T16:30:07.771438Z"
    }
   },
   "outputs": [],
   "source": [
    "# Importing the dataset with the spelling checked\n",
    "df = pd.read_csv('../csv/Hotel_Review_Spell_Checked.csv', index_col=0)"
   ]
  },
  {
   "cell_type": "code",
   "execution_count": 77,
   "metadata": {
    "ExecuteTime": {
     "end_time": "2020-12-17T16:30:20.606393Z",
     "start_time": "2020-12-17T16:30:20.586131Z"
    }
   },
   "outputs": [],
   "source": [
    "# Dropping null values, if any\n",
    "df.dropna(inplace=True)"
   ]
  },
  {
   "cell_type": "markdown",
   "metadata": {},
   "source": [
    "Let's now create a new dataset with only the information that I will use for modeling: the spell checked variable as my features and the score as my target."
   ]
  },
  {
   "cell_type": "code",
   "execution_count": 78,
   "metadata": {
    "ExecuteTime": {
     "end_time": "2020-12-17T16:30:33.559185Z",
     "start_time": "2020-12-17T16:30:33.553053Z"
    }
   },
   "outputs": [],
   "source": [
    "# Create a new dataset with only the information that I will use for modeling\n",
    "cleaned_review = df[['Spell_Checked', 'Score']]"
   ]
  },
  {
   "cell_type": "code",
   "execution_count": 44,
   "metadata": {
    "ExecuteTime": {
     "end_time": "2020-12-14T04:44:17.757970Z",
     "start_time": "2020-12-14T04:44:17.752311Z"
    }
   },
   "outputs": [],
   "source": [
    "# Setting the training and target variables\n",
    "data = cleaned_review['Spell_Checked']\n",
    "target = cleaned_review['Score']"
   ]
  },
  {
   "cell_type": "code",
   "execution_count": 45,
   "metadata": {
    "ExecuteTime": {
     "end_time": "2020-12-14T04:57:35.382269Z",
     "start_time": "2020-12-14T04:57:35.378278Z"
    }
   },
   "outputs": [],
   "source": [
    "# Tokenizing model and run one more round of stop words cleaning\n",
    "def process_review(text):\n",
    "    tokens = nltk.word_tokenize(text)\n",
    "    stopwords_removed = [token.lower() for token in tokens if token.lower() not in stop_words]\n",
    "    return stopwords_removed"
   ]
  },
  {
   "cell_type": "code",
   "execution_count": 46,
   "metadata": {
    "ExecuteTime": {
     "end_time": "2020-12-14T04:57:42.496160Z",
     "start_time": "2020-12-14T04:57:35.982368Z"
    }
   },
   "outputs": [],
   "source": [
    "# Applying process_review to the data\n",
    "processed_data = list(map(process_review, data))"
   ]
  },
  {
   "cell_type": "code",
   "execution_count": 47,
   "metadata": {
    "ExecuteTime": {
     "end_time": "2020-12-14T04:57:42.565281Z",
     "start_time": "2020-12-14T04:57:42.498967Z"
    }
   },
   "outputs": [
    {
     "data": {
      "text/plain": [
       "11947"
      ]
     },
     "execution_count": 47,
     "metadata": {},
     "output_type": "execute_result"
    }
   ],
   "source": [
    "# Counting how many words there are\n",
    "total_vocab = set()\n",
    "for review in processed_data:\n",
    "    total_vocab.update(review)\n",
    "len(total_vocab)"
   ]
  },
  {
   "cell_type": "markdown",
   "metadata": {},
   "source": [
    "Cool, now the dataset is ready for some modeling, but before I move on, I will also lemmatize the words, so I can try the lemmatized and non-lemmatized datasets and see which on works the best."
   ]
  },
  {
   "cell_type": "markdown",
   "metadata": {},
   "source": [
    "## Lemmatization"
   ]
  },
  {
   "cell_type": "code",
   "execution_count": 51,
   "metadata": {
    "ExecuteTime": {
     "end_time": "2020-12-14T06:09:16.398588Z",
     "start_time": "2020-12-14T06:09:14.244964Z"
    }
   },
   "outputs": [],
   "source": [
    "# creating a list with all lemmatized outputs\n",
    "lemmatizer = WordNetLemmatizer() \n",
    "lemmatized_output = []\n",
    "\n",
    "for listy in processed_data:\n",
    "    lemmed = ' '.join([lemmatizer.lemmatize(w) for w in listy])\n",
    "    lemmatized_output.append(lemmed)"
   ]
  },
  {
   "cell_type": "code",
   "execution_count": 52,
   "metadata": {
    "ExecuteTime": {
     "end_time": "2020-12-14T06:09:16.466643Z",
     "start_time": "2020-12-14T06:09:16.401160Z"
    }
   },
   "outputs": [],
   "source": [
    "X_lem = lemmatized_output\n",
    "y_lem = target"
   ]
  },
  {
   "cell_type": "markdown",
   "metadata": {},
   "source": [
    "X and y variables are ready for use. Let's pickle them."
   ]
  },
  {
   "cell_type": "markdown",
   "metadata": {},
   "source": [
    "## Pickle"
   ]
  },
  {
   "cell_type": "code",
   "execution_count": 54,
   "metadata": {
    "ExecuteTime": {
     "end_time": "2020-12-14T06:09:22.572962Z",
     "start_time": "2020-12-14T06:09:22.553731Z"
    }
   },
   "outputs": [],
   "source": [
    "# pickle these for modeling\n",
    "pickle_out = open('../pickle/X_lem.pkl','wb')\n",
    "pickle.dump(X_lem, pickle_out)\n",
    "pickle_out.close()"
   ]
  },
  {
   "cell_type": "code",
   "execution_count": 55,
   "metadata": {
    "ExecuteTime": {
     "end_time": "2020-12-14T06:10:26.836119Z",
     "start_time": "2020-12-14T06:10:26.811686Z"
    }
   },
   "outputs": [],
   "source": [
    "y_lem.to_pickle('../pickle/y_lem.pkl')"
   ]
  },
  {
   "cell_type": "markdown",
   "metadata": {},
   "source": [
    "## Next"
   ]
  },
  {
   "cell_type": "markdown",
   "metadata": {},
   "source": [
    "You can see vanilla modeling in the <a href=\"https://github.com/Ismaeltrevi/hotel-reviews-analysis-using-nlp/blob/main/models/baseline-models.ipynb\">Vanilla Models</a> notebook."
   ]
  }
 ],
 "metadata": {
  "kernelspec": {
   "display_name": "Python 3",
   "language": "python",
   "name": "python3"
  },
  "language_info": {
   "codemirror_mode": {
    "name": "ipython",
    "version": 3
   },
   "file_extension": ".py",
   "mimetype": "text/x-python",
   "name": "python",
   "nbconvert_exporter": "python",
   "pygments_lexer": "ipython3",
   "version": "3.6.9"
  },
  "toc": {
   "base_numbering": 1,
   "nav_menu": {},
   "number_sections": true,
   "sideBar": true,
   "skip_h1_title": false,
   "title_cell": "Table of Contents",
   "title_sidebar": "Contents",
   "toc_cell": false,
   "toc_position": {},
   "toc_section_display": true,
   "toc_window_display": false
  }
 },
 "nbformat": 4,
 "nbformat_minor": 4
}
