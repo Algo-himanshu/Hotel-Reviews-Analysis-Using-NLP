{
 "cells": [
  {
   "cell_type": "markdown",
   "metadata": {
    "ExecuteTime": {
     "end_time": "2020-12-13T03:26:26.987807Z",
     "start_time": "2020-12-13T03:26:26.985378Z"
    }
   },
   "source": [
    "# Import Packages"
   ]
  },
  {
   "cell_type": "code",
   "execution_count": 19,
   "metadata": {
    "ExecuteTime": {
     "end_time": "2020-12-14T03:29:07.594265Z",
     "start_time": "2020-12-14T03:29:07.585831Z"
    }
   },
   "outputs": [],
   "source": [
    "import pandas as pd \n",
    "import numpy as np\n",
    "import matplotlib.pyplot as plt\n",
    "import seaborn as sns\n",
    "%matplotlib inline\n",
    "\n",
    "# NLP Packages\n",
    "import nltk \n",
    "from nltk.corpus import stopwords\n",
    "from nltk.stem import WordNetLemmatizer \n",
    "from nltk.corpus import stopwords\n",
    "from textblob import Word\n",
    "from textblob import TextBlob \n",
    "\n",
    "# Sklearn Packages\n",
    "from sklearn.feature_extraction.text import CountVectorizer\n",
    "from sklearn.feature_extraction.text import TfidfVectorizer\n",
    "from sklearn.model_selection import train_test_split\n",
    "from imblearn.over_sampling import SMOTE\n",
    "\n",
    "import pickle"
   ]
  },
  {
   "cell_type": "markdown",
   "metadata": {},
   "source": [
    "# Import DataFrame"
   ]
  },
  {
   "cell_type": "code",
   "execution_count": 20,
   "metadata": {
    "ExecuteTime": {
     "end_time": "2020-12-14T03:29:08.294380Z",
     "start_time": "2020-12-14T03:29:08.069005Z"
    }
   },
   "outputs": [],
   "source": [
    "# Import csv file\n",
    "df = pd.read_csv(\"../csv/Hotel_Review_Spell_Checked_Preprocessed.csv\", index_col=0)"
   ]
  },
  {
   "cell_type": "code",
   "execution_count": 21,
   "metadata": {
    "ExecuteTime": {
     "end_time": "2020-12-14T03:29:08.423502Z",
     "start_time": "2020-12-14T03:29:08.408451Z"
    },
    "scrolled": false
   },
   "outputs": [
    {
     "name": "stdout",
     "output_type": "stream",
     "text": [
      "DataFrame Dimmentions: \n",
      "(12687, 9)\n"
     ]
    },
    {
     "data": {
      "text/html": [
       "<div>\n",
       "<style scoped>\n",
       "    .dataframe tbody tr th:only-of-type {\n",
       "        vertical-align: middle;\n",
       "    }\n",
       "\n",
       "    .dataframe tbody tr th {\n",
       "        vertical-align: top;\n",
       "    }\n",
       "\n",
       "    .dataframe thead th {\n",
       "        text-align: right;\n",
       "    }\n",
       "</style>\n",
       "<table border=\"1\" class=\"dataframe\">\n",
       "  <thead>\n",
       "    <tr style=\"text-align: right;\">\n",
       "      <th></th>\n",
       "      <th>Hotel_Name</th>\n",
       "      <th>Negative_Review</th>\n",
       "      <th>Positive_Review</th>\n",
       "      <th>Reviewer_Score</th>\n",
       "      <th>Reviews_Clean</th>\n",
       "      <th>Score</th>\n",
       "      <th>Spell_Checke</th>\n",
       "      <th>Spell_Checker</th>\n",
       "      <th>Spell_Checked</th>\n",
       "    </tr>\n",
       "  </thead>\n",
       "  <tbody>\n",
       "    <tr>\n",
       "      <th>19981</th>\n",
       "      <td>Grange St Paul s Hotel</td>\n",
       "      <td>Very slow service at bar not friendly Very im...</td>\n",
       "      <td>Modern clean environment</td>\n",
       "      <td>7.1</td>\n",
       "      <td>very slow service at bar not friendly very im...</td>\n",
       "      <td>2</td>\n",
       "      <td>&lt;bound method Word.spellcheck of 19981      ve...</td>\n",
       "      <td>&lt;bound method Word.spellcheck of 19981      ve...</td>\n",
       "      <td>very slow service at bar not friendly very im...</td>\n",
       "    </tr>\n",
       "    <tr>\n",
       "      <th>224867</th>\n",
       "      <td>Club Quarters Hotel Lincoln s Inn Fields</td>\n",
       "      <td>No Negative</td>\n",
       "      <td>Great location hotel calm and clean recommended</td>\n",
       "      <td>9.6</td>\n",
       "      <td>no negative great location hotel calm and clea...</td>\n",
       "      <td>2</td>\n",
       "      <td>&lt;bound method Word.spellcheck of 19981      ve...</td>\n",
       "      <td>&lt;bound method Word.spellcheck of 19981      ve...</td>\n",
       "      <td>no negative great location hotel calm and clea...</td>\n",
       "    </tr>\n",
       "    <tr>\n",
       "      <th>456576</th>\n",
       "      <td>W Amsterdam</td>\n",
       "      <td>Check in was a disaster and took too long</td>\n",
       "      <td>Great rooms super modern exceptional location</td>\n",
       "      <td>9.6</td>\n",
       "      <td>check in was a disaster and took too long gre...</td>\n",
       "      <td>2</td>\n",
       "      <td>&lt;bound method Word.spellcheck of 19981      ve...</td>\n",
       "      <td>&lt;bound method Word.spellcheck of 19981      ve...</td>\n",
       "      <td>check in was a disaster and took too long gre...</td>\n",
       "    </tr>\n",
       "    <tr>\n",
       "      <th>244542</th>\n",
       "      <td>Shaftesbury Metropolis London Hyde Park</td>\n",
       "      <td>Kettle needed switch holding for it to work</td>\n",
       "      <td>Really comfy room</td>\n",
       "      <td>9.6</td>\n",
       "      <td>kettle needed switch holding for it to work r...</td>\n",
       "      <td>2</td>\n",
       "      <td>&lt;bound method Word.spellcheck of 19981      ve...</td>\n",
       "      <td>&lt;bound method Word.spellcheck of 19981      ve...</td>\n",
       "      <td>kettle needed switch holding for it to work r...</td>\n",
       "    </tr>\n",
       "    <tr>\n",
       "      <th>398587</th>\n",
       "      <td>AC Hotel Barcelona Forum a Marriott Lifestyle ...</td>\n",
       "      <td>Paid wifi for the room not a lot of English f...</td>\n",
       "      <td>Clean hotel great food and pool area</td>\n",
       "      <td>9.2</td>\n",
       "      <td>paid wifi for the room not a lot of english f...</td>\n",
       "      <td>2</td>\n",
       "      <td>&lt;bound method Word.spellcheck of 19981      ve...</td>\n",
       "      <td>&lt;bound method Word.spellcheck of 19981      ve...</td>\n",
       "      <td>paid wife for the room not a lot of english c...</td>\n",
       "    </tr>\n",
       "  </tbody>\n",
       "</table>\n",
       "</div>"
      ],
      "text/plain": [
       "                                               Hotel_Name  \\\n",
       "19981                              Grange St Paul s Hotel   \n",
       "224867           Club Quarters Hotel Lincoln s Inn Fields   \n",
       "456576                                        W Amsterdam   \n",
       "244542            Shaftesbury Metropolis London Hyde Park   \n",
       "398587  AC Hotel Barcelona Forum a Marriott Lifestyle ...   \n",
       "\n",
       "                                          Negative_Review  \\\n",
       "19981    Very slow service at bar not friendly Very im...   \n",
       "224867                                        No Negative   \n",
       "456576          Check in was a disaster and took too long   \n",
       "244542        Kettle needed switch holding for it to work   \n",
       "398587   Paid wifi for the room not a lot of English f...   \n",
       "\n",
       "                                          Positive_Review  Reviewer_Score  \\\n",
       "19981                            Modern clean environment             7.1   \n",
       "224867   Great location hotel calm and clean recommended              9.6   \n",
       "456576      Great rooms super modern exceptional location             9.6   \n",
       "244542                                  Really comfy room             9.6   \n",
       "398587              Clean hotel great food and pool area              9.2   \n",
       "\n",
       "                                            Reviews_Clean  Score  \\\n",
       "19981    very slow service at bar not friendly very im...      2   \n",
       "224867  no negative great location hotel calm and clea...      2   \n",
       "456576   check in was a disaster and took too long gre...      2   \n",
       "244542   kettle needed switch holding for it to work r...      2   \n",
       "398587   paid wifi for the room not a lot of english f...      2   \n",
       "\n",
       "                                             Spell_Checke  \\\n",
       "19981   <bound method Word.spellcheck of 19981      ve...   \n",
       "224867  <bound method Word.spellcheck of 19981      ve...   \n",
       "456576  <bound method Word.spellcheck of 19981      ve...   \n",
       "244542  <bound method Word.spellcheck of 19981      ve...   \n",
       "398587  <bound method Word.spellcheck of 19981      ve...   \n",
       "\n",
       "                                            Spell_Checker  \\\n",
       "19981   <bound method Word.spellcheck of 19981      ve...   \n",
       "224867  <bound method Word.spellcheck of 19981      ve...   \n",
       "456576  <bound method Word.spellcheck of 19981      ve...   \n",
       "244542  <bound method Word.spellcheck of 19981      ve...   \n",
       "398587  <bound method Word.spellcheck of 19981      ve...   \n",
       "\n",
       "                                            Spell_Checked  \n",
       "19981    very slow service at bar not friendly very im...  \n",
       "224867  no negative great location hotel calm and clea...  \n",
       "456576   check in was a disaster and took too long gre...  \n",
       "244542   kettle needed switch holding for it to work r...  \n",
       "398587   paid wife for the room not a lot of english c...  "
      ]
     },
     "execution_count": 21,
     "metadata": {},
     "output_type": "execute_result"
    }
   ],
   "source": [
    "print('DataFrame Dimmentions: ')\n",
    "print(df.shape)\n",
    "df.head()"
   ]
  },
  {
   "cell_type": "code",
   "execution_count": 22,
   "metadata": {
    "ExecuteTime": {
     "end_time": "2020-12-14T03:29:08.819960Z",
     "start_time": "2020-12-14T03:29:08.804036Z"
    }
   },
   "outputs": [
    {
     "data": {
      "text/plain": [
       "(12686, 9)"
      ]
     },
     "execution_count": 22,
     "metadata": {},
     "output_type": "execute_result"
    }
   ],
   "source": [
    "df.dropna(inplace=True)\n",
    "df.shape"
   ]
  },
  {
   "cell_type": "code",
   "execution_count": 16,
   "metadata": {
    "ExecuteTime": {
     "end_time": "2020-12-14T03:26:40.440021Z",
     "start_time": "2020-12-14T03:26:40.433376Z"
    },
    "scrolled": false
   },
   "outputs": [
    {
     "data": {
      "text/plain": [
       "0    4497\n",
       "2    4281\n",
       "1    3908\n",
       "Name: Score, dtype: int64"
      ]
     },
     "execution_count": 16,
     "metadata": {},
     "output_type": "execute_result"
    }
   ],
   "source": [
    "df.Score.value_counts()"
   ]
  },
  {
   "cell_type": "markdown",
   "metadata": {},
   "source": [
    "## Removing Stop Words"
   ]
  },
  {
   "cell_type": "code",
   "execution_count": 23,
   "metadata": {
    "ExecuteTime": {
     "end_time": "2020-12-14T03:29:18.862732Z",
     "start_time": "2020-12-14T03:29:18.858552Z"
    }
   },
   "outputs": [],
   "source": [
    "cleaned_review = df[['Reviews_Clean', 'Score']]"
   ]
  },
  {
   "cell_type": "code",
   "execution_count": 24,
   "metadata": {
    "ExecuteTime": {
     "end_time": "2020-12-14T03:29:19.400190Z",
     "start_time": "2020-12-14T03:29:19.397363Z"
    }
   },
   "outputs": [],
   "source": [
    "data = cleaned_review['Reviews_Clean']\n",
    "target = cleaned_review['Score']"
   ]
  },
  {
   "cell_type": "code",
   "execution_count": 25,
   "metadata": {
    "ExecuteTime": {
     "end_time": "2020-12-14T03:29:19.832282Z",
     "start_time": "2020-12-14T03:29:19.827732Z"
    }
   },
   "outputs": [],
   "source": [
    "stop_words = stopwords.words('english')\n",
    "stop_words = set(stopwords.words('english'))"
   ]
  },
  {
   "cell_type": "code",
   "execution_count": 26,
   "metadata": {
    "ExecuteTime": {
     "end_time": "2020-12-14T03:29:20.953734Z",
     "start_time": "2020-12-14T03:29:20.950558Z"
    }
   },
   "outputs": [],
   "source": [
    "def process_review(text):\n",
    "    tokens = nltk.word_tokenize(text)\n",
    "    stopwords_removed = [token.lower() for token in tokens if token.lower() not in stop_words]\n",
    "    return stopwords_removed"
   ]
  },
  {
   "cell_type": "code",
   "execution_count": 27,
   "metadata": {
    "ExecuteTime": {
     "end_time": "2020-12-14T03:29:24.649426Z",
     "start_time": "2020-12-14T03:29:21.402573Z"
    }
   },
   "outputs": [],
   "source": [
    "# Applying process_review to the data\n",
    "processed_data = list(map(process_review, data))"
   ]
  },
  {
   "cell_type": "code",
   "execution_count": 28,
   "metadata": {
    "ExecuteTime": {
     "end_time": "2020-12-14T03:29:24.691063Z",
     "start_time": "2020-12-14T03:29:24.653100Z"
    }
   },
   "outputs": [
    {
     "data": {
      "text/plain": [
       "14298"
      ]
     },
     "execution_count": 28,
     "metadata": {},
     "output_type": "execute_result"
    }
   ],
   "source": [
    "# Counting how many words there are\n",
    "total_vocab = set()\n",
    "for review in processed_data:\n",
    "    total_vocab.update(review)\n",
    "len(total_vocab)"
   ]
  },
  {
   "cell_type": "markdown",
   "metadata": {},
   "source": [
    "## Lemmatization"
   ]
  },
  {
   "cell_type": "code",
   "execution_count": 29,
   "metadata": {
    "ExecuteTime": {
     "end_time": "2020-12-14T03:29:27.656251Z",
     "start_time": "2020-12-14T03:29:24.694579Z"
    }
   },
   "outputs": [],
   "source": [
    "# creating a list with all lemmatized outputs\n",
    "lemmatizer = WordNetLemmatizer() \n",
    "lemmatized_output = []\n",
    "\n",
    "for listy in processed_data:\n",
    "    lemmed = ' '.join([lemmatizer.lemmatize(w) for w in listy])\n",
    "    lemmatized_output.append(lemmed)"
   ]
  },
  {
   "cell_type": "code",
   "execution_count": 30,
   "metadata": {
    "ExecuteTime": {
     "end_time": "2020-12-14T03:29:27.662593Z",
     "start_time": "2020-12-14T03:29:27.659483Z"
    }
   },
   "outputs": [],
   "source": [
    "X_lem = lemmatized_output\n",
    "y_lem = target"
   ]
  },
  {
   "cell_type": "code",
   "execution_count": 31,
   "metadata": {
    "ExecuteTime": {
     "end_time": "2020-12-14T03:29:27.677160Z",
     "start_time": "2020-12-14T03:29:27.664790Z"
    }
   },
   "outputs": [],
   "source": [
    "# pickle these for modeling\n",
    "pickle_out = open('../pickled-files/X_lem.pkl','wb')\n",
    "pickle.dump(X_lem, pickle_out)\n",
    "pickle_out.close()"
   ]
  },
  {
   "cell_type": "code",
   "execution_count": 32,
   "metadata": {
    "ExecuteTime": {
     "end_time": "2020-12-14T03:29:27.686062Z",
     "start_time": "2020-12-14T03:29:27.680402Z"
    }
   },
   "outputs": [],
   "source": [
    "y_lem.to_pickle('../pickled-files/y_lem.pkl')"
   ]
  }
 ],
 "metadata": {
  "kernelspec": {
   "display_name": "Python 3",
   "language": "python",
   "name": "python3"
  },
  "language_info": {
   "codemirror_mode": {
    "name": "ipython",
    "version": 3
   },
   "file_extension": ".py",
   "mimetype": "text/x-python",
   "name": "python",
   "nbconvert_exporter": "python",
   "pygments_lexer": "ipython3",
   "version": "3.6.9"
  },
  "toc": {
   "base_numbering": 1,
   "nav_menu": {},
   "number_sections": true,
   "sideBar": true,
   "skip_h1_title": false,
   "title_cell": "Table of Contents",
   "title_sidebar": "Contents",
   "toc_cell": false,
   "toc_position": {},
   "toc_section_display": true,
   "toc_window_display": false
  }
 },
 "nbformat": 4,
 "nbformat_minor": 4
}
