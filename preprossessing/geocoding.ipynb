{
 "cells": [
  {
   "cell_type": "markdown",
   "metadata": {},
   "source": [
    "# Geocoding - Adding city and country to the dataset"
   ]
  },
  {
   "cell_type": "markdown",
   "metadata": {},
   "source": [
    "One important step of my EDA and understand what type of reviewers we have in the dataset, I need to add city and country column. The dataset does have the addresses. It would not be efficient to try to extract the cities from the a string, since there isn't a pattern. \n",
    "\n",
    "Luckily, we have the latitude and longitude, which we can use to extract the city and country."
   ]
  },
  {
   "cell_type": "markdown",
   "metadata": {},
   "source": [
    "***"
   ]
  },
  {
   "cell_type": "markdown",
   "metadata": {},
   "source": [
    "# Import Packages and DataFrame"
   ]
  },
  {
   "cell_type": "code",
   "execution_count": 1,
   "metadata": {
    "ExecuteTime": {
     "end_time": "2020-12-16T03:17:04.629703Z",
     "start_time": "2020-12-16T03:17:02.669564Z"
    }
   },
   "outputs": [
    {
     "name": "stderr",
     "output_type": "stream",
     "text": [
      "/opt/anaconda3/envs/learn-env/lib/python3.6/site-packages/ipykernel_launcher.py:9: TqdmDeprecationWarning:\n",
      "\n",
      "This function will be removed in tqdm==5.0.0\n",
      "Please use `tqdm.notebook.*` instead of `tqdm._tqdm_notebook.*`\n",
      "\n"
     ]
    }
   ],
   "source": [
    "# Install packages I will use.\n",
    "import pandas as pd\n",
    "import geopandas as gpd\n",
    "import geopy\n",
    "from geopy.geocoders import Nominatim\n",
    "from geopy.extra.rate_limiter import RateLimiter\n",
    "import matplotlib.pyplot as plt\n",
    "import plotly_express as px\n",
    "import tqdm\n",
    "from tqdm._tqdm_notebook import tqdm_notebook"
   ]
  },
  {
   "cell_type": "code",
   "execution_count": 2,
   "metadata": {
    "ExecuteTime": {
     "end_time": "2020-12-16T03:17:08.226591Z",
     "start_time": "2020-12-16T03:17:04.633007Z"
    }
   },
   "outputs": [],
   "source": [
    "# Read DataFrame\n",
    "df = pd.read_csv('../csv/Hotel_Reviews.csv')"
   ]
  },
  {
   "cell_type": "code",
   "execution_count": 3,
   "metadata": {
    "ExecuteTime": {
     "end_time": "2020-12-16T03:17:08.560210Z",
     "start_time": "2020-12-16T03:17:08.300339Z"
    }
   },
   "outputs": [
    {
     "data": {
      "text/plain": [
       "Hotel_Address                                    0\n",
       "Additional_Number_of_Scoring                     0\n",
       "Review_Date                                      0\n",
       "Average_Score                                    0\n",
       "Hotel_Name                                       0\n",
       "Reviewer_Nationality                             0\n",
       "Negative_Review                                  0\n",
       "Review_Total_Negative_Word_Counts                0\n",
       "Total_Number_of_Reviews                          0\n",
       "Positive_Review                                  0\n",
       "Review_Total_Positive_Word_Counts                0\n",
       "Total_Number_of_Reviews_Reviewer_Has_Given       0\n",
       "Reviewer_Score                                   0\n",
       "Tags                                             0\n",
       "days_since_review                                0\n",
       "lat                                           3268\n",
       "lng                                           3268\n",
       "dtype: int64"
      ]
     },
     "execution_count": 3,
     "metadata": {},
     "output_type": "execute_result"
    }
   ],
   "source": [
    "# Checking for null values in the latitude and longetude column\n",
    "df.isna().sum()"
   ]
  },
  {
   "cell_type": "code",
   "execution_count": 4,
   "metadata": {
    "ExecuteTime": {
     "end_time": "2020-12-16T03:17:08.967062Z",
     "start_time": "2020-12-16T03:17:08.564728Z"
    }
   },
   "outputs": [],
   "source": [
    "# Dropping new values\n",
    "df.dropna(inplace=True)"
   ]
  },
  {
   "cell_type": "code",
   "execution_count": 5,
   "metadata": {
    "ExecuteTime": {
     "end_time": "2020-12-16T03:17:08.978081Z",
     "start_time": "2020-12-16T03:17:08.969575Z"
    },
    "scrolled": true
   },
   "outputs": [
    {
     "data": {
      "text/plain": [
       "(512470, 17)"
      ]
     },
     "execution_count": 5,
     "metadata": {},
     "output_type": "execute_result"
    }
   ],
   "source": [
    "# DataFrame shape\n",
    "df.shape"
   ]
  },
  {
   "cell_type": "markdown",
   "metadata": {},
   "source": [
    "***"
   ]
  },
  {
   "cell_type": "markdown",
   "metadata": {},
   "source": [
    "# Geopy"
   ]
  },
  {
   "cell_type": "markdown",
   "metadata": {},
   "source": [
    "In the following cells, I will run the following steps.\n",
    "- Join the latitude and longitude in one string\n",
    "- Create a dataframe with the unique latitude and longitude, so I don't need to iterate over every observation\n",
    "- Create functions that will turn the lat and long into city and country\n",
    "- Apply to the cell\n",
    "- Turn the geom column in the dataframe with unique values and the original datafram into index\n",
    "- Merge them using the index as the important value"
   ]
  },
  {
   "cell_type": "code",
   "execution_count": 6,
   "metadata": {
    "ExecuteTime": {
     "end_time": "2020-12-16T03:17:10.072138Z",
     "start_time": "2020-12-16T03:17:08.983598Z"
    }
   },
   "outputs": [],
   "source": [
    "# Creating a new column with the lat and lng column as a string\n",
    "df['geom'] = df['lat'].map(str) + ',' + df['lng'].map(str)"
   ]
  },
  {
   "cell_type": "code",
   "execution_count": 7,
   "metadata": {
    "ExecuteTime": {
     "end_time": "2020-12-16T03:17:10.119519Z",
     "start_time": "2020-12-16T03:17:10.076677Z"
    }
   },
   "outputs": [],
   "source": [
    "# Saving the unique coordinates into a new variable\n",
    "unique_geom = df['geom'].unique()"
   ]
  },
  {
   "cell_type": "code",
   "execution_count": 8,
   "metadata": {
    "ExecuteTime": {
     "end_time": "2020-12-16T03:17:10.130397Z",
     "start_time": "2020-12-16T03:17:10.123504Z"
    }
   },
   "outputs": [
    {
     "data": {
      "text/plain": [
       "0           52.36057589999999,4.915968299999999\n",
       "1        51.49188779999999,-0.19497060000000002\n",
       "2               51.5137335,-0.10875119999999999\n",
       "3       51.514218400000004,-0.18090320000000001\n",
       "4                  48.874348100000006,2.2897334\n",
       "                         ...                   \n",
       "1467                      48.1935235,16.3669145\n",
       "1468              48.2104468,16.371578099999997\n",
       "1469            51.5020912,-0.15777950000000002\n",
       "1470             51.499981,-0.19287910000000003\n",
       "1471                      48.2037451,16.3356767\n",
       "Name: 0, Length: 1472, dtype: object"
      ]
     },
     "execution_count": 8,
     "metadata": {},
     "output_type": "execute_result"
    }
   ],
   "source": [
    "# Turning the array into a DataFrame\n",
    "unique_geom_df = pd.DataFrame(unique_geom)\n",
    "unique_geom_df[0]"
   ]
  },
  {
   "cell_type": "code",
   "execution_count": 20,
   "metadata": {
    "ExecuteTime": {
     "end_time": "2020-12-17T17:19:53.801269Z",
     "start_time": "2020-12-17T17:19:53.609672Z"
    }
   },
   "outputs": [],
   "source": [
    "# %load ../functions/geopy.py\n",
    "# Creating a function to get the city from the coordinates\n",
    "geolocator = Nominatim(user_agent=\"geoapiExercises\")\n",
    "def city(coord):\n",
    "    location = geolocator.reverse(coord, exactly_one=True)\n",
    "    address = location.raw['address']\n",
    "    city = address.get('city', '')\n",
    "    return city\n",
    "\n",
    "# Creating a function to get the country from the coordinates\n",
    "def country(coord):\n",
    "    location = geolocator.reverse(coord, exactly_one=True)\n",
    "    address = location.raw['address']\n",
    "    state = address.get('country', '')\n",
    "    return state"
   ]
  },
  {
   "cell_type": "code",
   "execution_count": 10,
   "metadata": {
    "ExecuteTime": {
     "end_time": "2020-12-16T03:29:26.301321Z",
     "start_time": "2020-12-16T03:17:10.152974Z"
    },
    "scrolled": false
   },
   "outputs": [],
   "source": [
    "# Applying the funtion to the unique coordinates DataFrame and create a city column\n",
    "unique_geom_df['city'] = unique_geom_df[0].apply(city)"
   ]
  },
  {
   "cell_type": "code",
   "execution_count": 11,
   "metadata": {
    "ExecuteTime": {
     "end_time": "2020-12-16T03:41:42.559897Z",
     "start_time": "2020-12-16T03:29:26.305305Z"
    }
   },
   "outputs": [],
   "source": [
    "# Applying the funtion to the unique coordinates DataFrame and get the country column\n",
    "unique_geom_df['country'] = unique_geom_df[0].apply(country)"
   ]
  },
  {
   "cell_type": "code",
   "execution_count": 12,
   "metadata": {
    "ExecuteTime": {
     "end_time": "2020-12-16T03:41:42.568245Z",
     "start_time": "2020-12-16T03:41:42.562645Z"
    }
   },
   "outputs": [],
   "source": [
    "# Setting index to the coordinates DataFrame\n",
    "unique_geom_df.set_index(0, inplace=True)"
   ]
  },
  {
   "cell_type": "code",
   "execution_count": 13,
   "metadata": {
    "ExecuteTime": {
     "end_time": "2020-12-16T03:41:42.594807Z",
     "start_time": "2020-12-16T03:41:42.570753Z"
    }
   },
   "outputs": [],
   "source": [
    "# Setting coordinates to become the index\n",
    "df.set_index('geom', inplace=True)"
   ]
  },
  {
   "cell_type": "code",
   "execution_count": 17,
   "metadata": {
    "ExecuteTime": {
     "end_time": "2020-12-16T03:44:00.512442Z",
     "start_time": "2020-12-16T03:43:59.857485Z"
    },
    "scrolled": false
   },
   "outputs": [
    {
     "data": {
      "text/html": [
       "<div>\n",
       "<style scoped>\n",
       "    .dataframe tbody tr th:only-of-type {\n",
       "        vertical-align: middle;\n",
       "    }\n",
       "\n",
       "    .dataframe tbody tr th {\n",
       "        vertical-align: top;\n",
       "    }\n",
       "\n",
       "    .dataframe thead th {\n",
       "        text-align: right;\n",
       "    }\n",
       "</style>\n",
       "<table border=\"1\" class=\"dataframe\">\n",
       "  <thead>\n",
       "    <tr style=\"text-align: right;\">\n",
       "      <th></th>\n",
       "      <th>Hotel_Address</th>\n",
       "      <th>Additional_Number_of_Scoring</th>\n",
       "      <th>Review_Date</th>\n",
       "      <th>Average_Score</th>\n",
       "      <th>Hotel_Name</th>\n",
       "      <th>Reviewer_Nationality</th>\n",
       "      <th>Negative_Review</th>\n",
       "      <th>Review_Total_Negative_Word_Counts</th>\n",
       "      <th>Total_Number_of_Reviews</th>\n",
       "      <th>Positive_Review</th>\n",
       "      <th>Review_Total_Positive_Word_Counts</th>\n",
       "      <th>Total_Number_of_Reviews_Reviewer_Has_Given</th>\n",
       "      <th>Reviewer_Score</th>\n",
       "      <th>Tags</th>\n",
       "      <th>days_since_review</th>\n",
       "      <th>lat</th>\n",
       "      <th>lng</th>\n",
       "      <th>city</th>\n",
       "      <th>country</th>\n",
       "    </tr>\n",
       "  </thead>\n",
       "  <tbody>\n",
       "    <tr>\n",
       "      <th>41.328375799999996,2.1129637999999997</th>\n",
       "      <td>Calle K s n Entrada principal Mercabarna Sants...</td>\n",
       "      <td>258</td>\n",
       "      <td>8/2/2017</td>\n",
       "      <td>7.8</td>\n",
       "      <td>Hotel Best Western PLUS Alfa Aeropuerto</td>\n",
       "      <td>United States of America</td>\n",
       "      <td>The hotel wasn t close to the metro so we had...</td>\n",
       "      <td>32</td>\n",
       "      <td>2521</td>\n",
       "      <td>Great price for what I got Rooms were extreme...</td>\n",
       "      <td>12</td>\n",
       "      <td>1</td>\n",
       "      <td>9.2</td>\n",
       "      <td>[' Leisure trip ', ' Group ', ' Twin Room with...</td>\n",
       "      <td>1 days</td>\n",
       "      <td>41.328376</td>\n",
       "      <td>2.112964</td>\n",
       "      <td>Barcelona</td>\n",
       "      <td>España</td>\n",
       "    </tr>\n",
       "    <tr>\n",
       "      <th>41.328375799999996,2.1129637999999997</th>\n",
       "      <td>Calle K s n Entrada principal Mercabarna Sants...</td>\n",
       "      <td>258</td>\n",
       "      <td>8/2/2017</td>\n",
       "      <td>7.8</td>\n",
       "      <td>Hotel Best Western PLUS Alfa Aeropuerto</td>\n",
       "      <td>Bangladesh</td>\n",
       "      <td>Far from the city</td>\n",
       "      <td>6</td>\n",
       "      <td>2521</td>\n",
       "      <td>Restaurant was cozy Staffs were very friendly...</td>\n",
       "      <td>45</td>\n",
       "      <td>1</td>\n",
       "      <td>7.1</td>\n",
       "      <td>[' Leisure trip ', ' Family with young childre...</td>\n",
       "      <td>1 days</td>\n",
       "      <td>41.328376</td>\n",
       "      <td>2.112964</td>\n",
       "      <td>Barcelona</td>\n",
       "      <td>España</td>\n",
       "    </tr>\n",
       "    <tr>\n",
       "      <th>41.328375799999996,2.1129637999999997</th>\n",
       "      <td>Calle K s n Entrada principal Mercabarna Sants...</td>\n",
       "      <td>258</td>\n",
       "      <td>7/24/2017</td>\n",
       "      <td>7.8</td>\n",
       "      <td>Hotel Best Western PLUS Alfa Aeropuerto</td>\n",
       "      <td>Thailand</td>\n",
       "      <td>The guest are very noisy the room have no sou...</td>\n",
       "      <td>27</td>\n",
       "      <td>2521</td>\n",
       "      <td>Comfy bed near airport free shuttle bus</td>\n",
       "      <td>9</td>\n",
       "      <td>27</td>\n",
       "      <td>5.4</td>\n",
       "      <td>[' Leisure trip ', ' Group ', ' Twin Room with...</td>\n",
       "      <td>10 days</td>\n",
       "      <td>41.328376</td>\n",
       "      <td>2.112964</td>\n",
       "      <td>Barcelona</td>\n",
       "      <td>España</td>\n",
       "    </tr>\n",
       "    <tr>\n",
       "      <th>41.328375799999996,2.1129637999999997</th>\n",
       "      <td>Calle K s n Entrada principal Mercabarna Sants...</td>\n",
       "      <td>258</td>\n",
       "      <td>7/23/2017</td>\n",
       "      <td>7.8</td>\n",
       "      <td>Hotel Best Western PLUS Alfa Aeropuerto</td>\n",
       "      <td>Australia</td>\n",
       "      <td>Restaurant was extremely ordinary so have tap...</td>\n",
       "      <td>28</td>\n",
       "      <td>2521</td>\n",
       "      <td>Perfect location if you need to fly out early...</td>\n",
       "      <td>32</td>\n",
       "      <td>11</td>\n",
       "      <td>9.2</td>\n",
       "      <td>[' Leisure trip ', ' Couple ', ' Double Room w...</td>\n",
       "      <td>11 days</td>\n",
       "      <td>41.328376</td>\n",
       "      <td>2.112964</td>\n",
       "      <td>Barcelona</td>\n",
       "      <td>España</td>\n",
       "    </tr>\n",
       "    <tr>\n",
       "      <th>41.328375799999996,2.1129637999999997</th>\n",
       "      <td>Calle K s n Entrada principal Mercabarna Sants...</td>\n",
       "      <td>258</td>\n",
       "      <td>7/22/2017</td>\n",
       "      <td>7.8</td>\n",
       "      <td>Hotel Best Western PLUS Alfa Aeropuerto</td>\n",
       "      <td>Spain</td>\n",
       "      <td>It was definitely design by a man Lightning w...</td>\n",
       "      <td>26</td>\n",
       "      <td>2521</td>\n",
       "      <td>It had free airport shuttle</td>\n",
       "      <td>7</td>\n",
       "      <td>1</td>\n",
       "      <td>9.2</td>\n",
       "      <td>[' Leisure trip ', ' Solo traveler ', ' Twin R...</td>\n",
       "      <td>12 days</td>\n",
       "      <td>41.328376</td>\n",
       "      <td>2.112964</td>\n",
       "      <td>Barcelona</td>\n",
       "      <td>España</td>\n",
       "    </tr>\n",
       "  </tbody>\n",
       "</table>\n",
       "</div>"
      ],
      "text/plain": [
       "                                                                           Hotel_Address  \\\n",
       "41.328375799999996,2.1129637999999997  Calle K s n Entrada principal Mercabarna Sants...   \n",
       "41.328375799999996,2.1129637999999997  Calle K s n Entrada principal Mercabarna Sants...   \n",
       "41.328375799999996,2.1129637999999997  Calle K s n Entrada principal Mercabarna Sants...   \n",
       "41.328375799999996,2.1129637999999997  Calle K s n Entrada principal Mercabarna Sants...   \n",
       "41.328375799999996,2.1129637999999997  Calle K s n Entrada principal Mercabarna Sants...   \n",
       "\n",
       "                                       Additional_Number_of_Scoring  \\\n",
       "41.328375799999996,2.1129637999999997                           258   \n",
       "41.328375799999996,2.1129637999999997                           258   \n",
       "41.328375799999996,2.1129637999999997                           258   \n",
       "41.328375799999996,2.1129637999999997                           258   \n",
       "41.328375799999996,2.1129637999999997                           258   \n",
       "\n",
       "                                      Review_Date  Average_Score  \\\n",
       "41.328375799999996,2.1129637999999997    8/2/2017            7.8   \n",
       "41.328375799999996,2.1129637999999997    8/2/2017            7.8   \n",
       "41.328375799999996,2.1129637999999997   7/24/2017            7.8   \n",
       "41.328375799999996,2.1129637999999997   7/23/2017            7.8   \n",
       "41.328375799999996,2.1129637999999997   7/22/2017            7.8   \n",
       "\n",
       "                                                                    Hotel_Name  \\\n",
       "41.328375799999996,2.1129637999999997  Hotel Best Western PLUS Alfa Aeropuerto   \n",
       "41.328375799999996,2.1129637999999997  Hotel Best Western PLUS Alfa Aeropuerto   \n",
       "41.328375799999996,2.1129637999999997  Hotel Best Western PLUS Alfa Aeropuerto   \n",
       "41.328375799999996,2.1129637999999997  Hotel Best Western PLUS Alfa Aeropuerto   \n",
       "41.328375799999996,2.1129637999999997  Hotel Best Western PLUS Alfa Aeropuerto   \n",
       "\n",
       "                                             Reviewer_Nationality  \\\n",
       "41.328375799999996,2.1129637999999997   United States of America    \n",
       "41.328375799999996,2.1129637999999997                 Bangladesh    \n",
       "41.328375799999996,2.1129637999999997                   Thailand    \n",
       "41.328375799999996,2.1129637999999997                  Australia    \n",
       "41.328375799999996,2.1129637999999997                      Spain    \n",
       "\n",
       "                                                                         Negative_Review  \\\n",
       "41.328375799999996,2.1129637999999997   The hotel wasn t close to the metro so we had...   \n",
       "41.328375799999996,2.1129637999999997                                 Far from the city    \n",
       "41.328375799999996,2.1129637999999997   The guest are very noisy the room have no sou...   \n",
       "41.328375799999996,2.1129637999999997   Restaurant was extremely ordinary so have tap...   \n",
       "41.328375799999996,2.1129637999999997   It was definitely design by a man Lightning w...   \n",
       "\n",
       "                                       Review_Total_Negative_Word_Counts  \\\n",
       "41.328375799999996,2.1129637999999997                                 32   \n",
       "41.328375799999996,2.1129637999999997                                  6   \n",
       "41.328375799999996,2.1129637999999997                                 27   \n",
       "41.328375799999996,2.1129637999999997                                 28   \n",
       "41.328375799999996,2.1129637999999997                                 26   \n",
       "\n",
       "                                       Total_Number_of_Reviews  \\\n",
       "41.328375799999996,2.1129637999999997                     2521   \n",
       "41.328375799999996,2.1129637999999997                     2521   \n",
       "41.328375799999996,2.1129637999999997                     2521   \n",
       "41.328375799999996,2.1129637999999997                     2521   \n",
       "41.328375799999996,2.1129637999999997                     2521   \n",
       "\n",
       "                                                                         Positive_Review  \\\n",
       "41.328375799999996,2.1129637999999997   Great price for what I got Rooms were extreme...   \n",
       "41.328375799999996,2.1129637999999997   Restaurant was cozy Staffs were very friendly...   \n",
       "41.328375799999996,2.1129637999999997           Comfy bed near airport free shuttle bus    \n",
       "41.328375799999996,2.1129637999999997   Perfect location if you need to fly out early...   \n",
       "41.328375799999996,2.1129637999999997                       It had free airport shuttle    \n",
       "\n",
       "                                       Review_Total_Positive_Word_Counts  \\\n",
       "41.328375799999996,2.1129637999999997                                 12   \n",
       "41.328375799999996,2.1129637999999997                                 45   \n",
       "41.328375799999996,2.1129637999999997                                  9   \n",
       "41.328375799999996,2.1129637999999997                                 32   \n",
       "41.328375799999996,2.1129637999999997                                  7   \n",
       "\n",
       "                                       Total_Number_of_Reviews_Reviewer_Has_Given  \\\n",
       "41.328375799999996,2.1129637999999997                                           1   \n",
       "41.328375799999996,2.1129637999999997                                           1   \n",
       "41.328375799999996,2.1129637999999997                                          27   \n",
       "41.328375799999996,2.1129637999999997                                          11   \n",
       "41.328375799999996,2.1129637999999997                                           1   \n",
       "\n",
       "                                       Reviewer_Score  \\\n",
       "41.328375799999996,2.1129637999999997             9.2   \n",
       "41.328375799999996,2.1129637999999997             7.1   \n",
       "41.328375799999996,2.1129637999999997             5.4   \n",
       "41.328375799999996,2.1129637999999997             9.2   \n",
       "41.328375799999996,2.1129637999999997             9.2   \n",
       "\n",
       "                                                                                    Tags  \\\n",
       "41.328375799999996,2.1129637999999997  [' Leisure trip ', ' Group ', ' Twin Room with...   \n",
       "41.328375799999996,2.1129637999999997  [' Leisure trip ', ' Family with young childre...   \n",
       "41.328375799999996,2.1129637999999997  [' Leisure trip ', ' Group ', ' Twin Room with...   \n",
       "41.328375799999996,2.1129637999999997  [' Leisure trip ', ' Couple ', ' Double Room w...   \n",
       "41.328375799999996,2.1129637999999997  [' Leisure trip ', ' Solo traveler ', ' Twin R...   \n",
       "\n",
       "                                      days_since_review        lat       lng  \\\n",
       "41.328375799999996,2.1129637999999997            1 days  41.328376  2.112964   \n",
       "41.328375799999996,2.1129637999999997            1 days  41.328376  2.112964   \n",
       "41.328375799999996,2.1129637999999997           10 days  41.328376  2.112964   \n",
       "41.328375799999996,2.1129637999999997           11 days  41.328376  2.112964   \n",
       "41.328375799999996,2.1129637999999997           12 days  41.328376  2.112964   \n",
       "\n",
       "                                            city country  \n",
       "41.328375799999996,2.1129637999999997  Barcelona  España  \n",
       "41.328375799999996,2.1129637999999997  Barcelona  España  \n",
       "41.328375799999996,2.1129637999999997  Barcelona  España  \n",
       "41.328375799999996,2.1129637999999997  Barcelona  España  \n",
       "41.328375799999996,2.1129637999999997  Barcelona  España  "
      ]
     },
     "execution_count": 17,
     "metadata": {},
     "output_type": "execute_result"
    }
   ],
   "source": [
    "# Merge the unique coordinates to df using the index \n",
    "df = pd.merge(df, unique_geom_df, left_index=True, right_index=True, how='outer')\n",
    "df.head()"
   ]
  },
  {
   "cell_type": "markdown",
   "metadata": {},
   "source": [
    "It worked. Now we have the city and country in the dataset. We can use this new dataset for the EDA."
   ]
  },
  {
   "cell_type": "markdown",
   "metadata": {},
   "source": [
    "# Pickle Dataset"
   ]
  },
  {
   "cell_type": "code",
   "execution_count": 18,
   "metadata": {
    "ExecuteTime": {
     "end_time": "2020-12-16T03:44:21.483451Z",
     "start_time": "2020-12-16T03:44:08.763584Z"
    }
   },
   "outputs": [],
   "source": [
    "# # Exporting DataFrame \n",
    "# df.to_csv('../csv/hotel_review_city_state.csv')"
   ]
  }
 ],
 "metadata": {
  "kernelspec": {
   "display_name": "Python 3",
   "language": "python",
   "name": "python3"
  },
  "language_info": {
   "codemirror_mode": {
    "name": "ipython",
    "version": 3
   },
   "file_extension": ".py",
   "mimetype": "text/x-python",
   "name": "python",
   "nbconvert_exporter": "python",
   "pygments_lexer": "ipython3",
   "version": "3.6.9"
  },
  "toc": {
   "base_numbering": 1,
   "nav_menu": {},
   "number_sections": true,
   "sideBar": true,
   "skip_h1_title": false,
   "title_cell": "Table of Contents",
   "title_sidebar": "Contents",
   "toc_cell": false,
   "toc_position": {},
   "toc_section_display": true,
   "toc_window_display": false
  }
 },
 "nbformat": 4,
 "nbformat_minor": 4
}
