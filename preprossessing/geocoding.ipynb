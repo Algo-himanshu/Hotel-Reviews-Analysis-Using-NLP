{
 "cells": [
  {
   "cell_type": "markdown",
   "metadata": {},
   "source": [
    "# Import Packages and DataFrame"
   ]
  },
  {
   "cell_type": "code",
   "execution_count": 261,
   "metadata": {
    "ExecuteTime": {
     "end_time": "2020-12-16T02:04:34.318185Z",
     "start_time": "2020-12-16T02:04:34.294159Z"
    }
   },
   "outputs": [],
   "source": [
    "import pandas as pd\n",
    "import geopandas as gpd\n",
    "import geopy\n",
    "from geopy.geocoders import Nominatim\n",
    "from geopy.extra.rate_limiter import RateLimiter\n",
    "import matplotlib.pyplot as plt\n",
    "import plotly_express as px\n",
    "import tqdm\n",
    "from tqdm._tqdm_notebook import tqdm_notebook"
   ]
  },
  {
   "cell_type": "code",
   "execution_count": 262,
   "metadata": {
    "ExecuteTime": {
     "end_time": "2020-12-16T02:04:37.777726Z",
     "start_time": "2020-12-16T02:04:34.533291Z"
    }
   },
   "outputs": [],
   "source": [
    "# Read DataFrame\n",
    "df = pd.read_csv('../csv/Hotel_Reviews.csv')"
   ]
  },
  {
   "cell_type": "code",
   "execution_count": 263,
   "metadata": {
    "ExecuteTime": {
     "end_time": "2020-12-16T02:04:37.990444Z",
     "start_time": "2020-12-16T02:04:37.779963Z"
    }
   },
   "outputs": [
    {
     "data": {
      "text/plain": [
       "Hotel_Address                                    0\n",
       "Additional_Number_of_Scoring                     0\n",
       "Review_Date                                      0\n",
       "Average_Score                                    0\n",
       "Hotel_Name                                       0\n",
       "Reviewer_Nationality                             0\n",
       "Negative_Review                                  0\n",
       "Review_Total_Negative_Word_Counts                0\n",
       "Total_Number_of_Reviews                          0\n",
       "Positive_Review                                  0\n",
       "Review_Total_Positive_Word_Counts                0\n",
       "Total_Number_of_Reviews_Reviewer_Has_Given       0\n",
       "Reviewer_Score                                   0\n",
       "Tags                                             0\n",
       "days_since_review                                0\n",
       "lat                                           3268\n",
       "lng                                           3268\n",
       "dtype: int64"
      ]
     },
     "execution_count": 263,
     "metadata": {},
     "output_type": "execute_result"
    }
   ],
   "source": [
    "# Checking for null values in the latitude and longetude column\n",
    "df.isna().sum()"
   ]
  },
  {
   "cell_type": "code",
   "execution_count": 264,
   "metadata": {
    "ExecuteTime": {
     "end_time": "2020-12-16T02:04:38.314415Z",
     "start_time": "2020-12-16T02:04:37.993779Z"
    }
   },
   "outputs": [],
   "source": [
    "# Dropping new values\n",
    "df.dropna(inplace=True)"
   ]
  },
  {
   "cell_type": "code",
   "execution_count": 265,
   "metadata": {
    "ExecuteTime": {
     "end_time": "2020-12-16T02:04:38.321923Z",
     "start_time": "2020-12-16T02:04:38.317557Z"
    }
   },
   "outputs": [
    {
     "data": {
      "text/plain": [
       "(512470, 17)"
      ]
     },
     "execution_count": 265,
     "metadata": {},
     "output_type": "execute_result"
    }
   ],
   "source": [
    "# DataFrame shape\n",
    "df.shape"
   ]
  },
  {
   "cell_type": "markdown",
   "metadata": {},
   "source": [
    "# Geopy"
   ]
  },
  {
   "cell_type": "markdown",
   "metadata": {},
   "source": [
    "## Create new column with latitude and longitude"
   ]
  },
  {
   "cell_type": "code",
   "execution_count": 266,
   "metadata": {
    "ExecuteTime": {
     "end_time": "2020-12-16T02:04:39.224610Z",
     "start_time": "2020-12-16T02:04:38.324423Z"
    }
   },
   "outputs": [],
   "source": [
    "# Creating a new column with the lat and lng column as a string\n",
    "df['geom'] = df['lat'].map(str) + ',' + df['lng'].map(str)"
   ]
  },
  {
   "cell_type": "code",
   "execution_count": 267,
   "metadata": {
    "ExecuteTime": {
     "end_time": "2020-12-16T02:04:39.279256Z",
     "start_time": "2020-12-16T02:04:39.227905Z"
    }
   },
   "outputs": [],
   "source": [
    "# Saving the unique coordinates into a new variable\n",
    "unique_geom = df['geom'].unique()"
   ]
  },
  {
   "cell_type": "code",
   "execution_count": 268,
   "metadata": {
    "ExecuteTime": {
     "end_time": "2020-12-16T02:04:39.291887Z",
     "start_time": "2020-12-16T02:04:39.282157Z"
    }
   },
   "outputs": [
    {
     "data": {
      "text/plain": [
       "0           52.36057589999999,4.915968299999999\n",
       "1        51.49188779999999,-0.19497060000000002\n",
       "2               51.5137335,-0.10875119999999999\n",
       "3       51.514218400000004,-0.18090320000000001\n",
       "4                  48.874348100000006,2.2897334\n",
       "                         ...                   \n",
       "1467                      48.1935235,16.3669145\n",
       "1468              48.2104468,16.371578099999997\n",
       "1469            51.5020912,-0.15777950000000002\n",
       "1470             51.499981,-0.19287910000000003\n",
       "1471                      48.2037451,16.3356767\n",
       "Name: 0, Length: 1472, dtype: object"
      ]
     },
     "execution_count": 268,
     "metadata": {},
     "output_type": "execute_result"
    }
   ],
   "source": [
    "# Turning the array into a DataFrame\n",
    "unique_geom_df = pd.DataFrame(unique_geom)\n",
    "unique_geom_df[0]"
   ]
  },
  {
   "cell_type": "code",
   "execution_count": 269,
   "metadata": {
    "ExecuteTime": {
     "end_time": "2020-12-16T02:04:39.323310Z",
     "start_time": "2020-12-16T02:04:39.297054Z"
    }
   },
   "outputs": [],
   "source": [
    "# Creating a function to get the city from the coordinates\n",
    "geolocator = Nominatim(user_agent=\"geoapiExercises\")\n",
    "def city(coord):\n",
    "    location = geolocator.reverse(coord, exactly_one=True)\n",
    "    address = location.raw['address']\n",
    "    city = address.get('city', '')\n",
    "    return city\n",
    "\n",
    "# Creating a function to get the country from the coordinates\n",
    "def country(coord):\n",
    "    location = geolocator.reverse(coord, exactly_one=True)\n",
    "    address = location.raw['address']\n",
    "    state = address.get('country', '')\n",
    "    return state"
   ]
  },
  {
   "cell_type": "code",
   "execution_count": 270,
   "metadata": {
    "ExecuteTime": {
     "end_time": "2020-12-16T02:16:55.463492Z",
     "start_time": "2020-12-16T02:04:39.326585Z"
    },
    "scrolled": false
   },
   "outputs": [],
   "source": [
    "# Applying the funtion to the unique coordinates DataFrame and create a city column\n",
    "unique_geom_df['city'] = unique_geom_df[0].apply(city)"
   ]
  },
  {
   "cell_type": "code",
   "execution_count": 271,
   "metadata": {
    "ExecuteTime": {
     "end_time": "2020-12-16T02:29:11.433992Z",
     "start_time": "2020-12-16T02:16:55.465320Z"
    }
   },
   "outputs": [],
   "source": [
    "# Applying the funtion to the unique coordinates DataFrame and get the country column\n",
    "unique_geom_df['country'] = unique_geom_df[0].apply(country)"
   ]
  },
  {
   "cell_type": "code",
   "execution_count": 273,
   "metadata": {
    "ExecuteTime": {
     "end_time": "2020-12-16T02:32:31.510528Z",
     "start_time": "2020-12-16T02:32:31.504144Z"
    }
   },
   "outputs": [],
   "source": [
    "# Setting index to the coordinates DataFrame\n",
    "unique_geom_df.set_index(0, inplace=True)"
   ]
  },
  {
   "cell_type": "code",
   "execution_count": 275,
   "metadata": {
    "ExecuteTime": {
     "end_time": "2020-12-16T02:32:45.798101Z",
     "start_time": "2020-12-16T02:32:45.777501Z"
    }
   },
   "outputs": [],
   "source": [
    "# Setting coordinates to become the index\n",
    "df.set_index('geom', inplace=True)"
   ]
  },
  {
   "cell_type": "code",
   "execution_count": 276,
   "metadata": {
    "ExecuteTime": {
     "end_time": "2020-12-16T02:32:48.412085Z",
     "start_time": "2020-12-16T02:32:47.620240Z"
    }
   },
   "outputs": [
    {
     "data": {
      "text/html": [
       "<div>\n",
       "<style scoped>\n",
       "    .dataframe tbody tr th:only-of-type {\n",
       "        vertical-align: middle;\n",
       "    }\n",
       "\n",
       "    .dataframe tbody tr th {\n",
       "        vertical-align: top;\n",
       "    }\n",
       "\n",
       "    .dataframe thead th {\n",
       "        text-align: right;\n",
       "    }\n",
       "</style>\n",
       "<table border=\"1\" class=\"dataframe\">\n",
       "  <thead>\n",
       "    <tr style=\"text-align: right;\">\n",
       "      <th></th>\n",
       "      <th>Hotel_Address</th>\n",
       "      <th>Additional_Number_of_Scoring</th>\n",
       "      <th>Review_Date</th>\n",
       "      <th>Average_Score</th>\n",
       "      <th>Hotel_Name</th>\n",
       "      <th>Reviewer_Nationality</th>\n",
       "      <th>Negative_Review</th>\n",
       "      <th>Review_Total_Negative_Word_Counts</th>\n",
       "      <th>Total_Number_of_Reviews</th>\n",
       "      <th>Positive_Review</th>\n",
       "      <th>Review_Total_Positive_Word_Counts</th>\n",
       "      <th>Total_Number_of_Reviews_Reviewer_Has_Given</th>\n",
       "      <th>Reviewer_Score</th>\n",
       "      <th>Tags</th>\n",
       "      <th>days_since_review</th>\n",
       "      <th>lat</th>\n",
       "      <th>lng</th>\n",
       "      <th>city</th>\n",
       "      <th>country</th>\n",
       "    </tr>\n",
       "  </thead>\n",
       "  <tbody>\n",
       "    <tr>\n",
       "      <th>41.328375799999996,2.1129637999999997</th>\n",
       "      <td>Calle K s n Entrada principal Mercabarna Sants...</td>\n",
       "      <td>258</td>\n",
       "      <td>8/2/2017</td>\n",
       "      <td>7.8</td>\n",
       "      <td>Hotel Best Western PLUS Alfa Aeropuerto</td>\n",
       "      <td>United States of America</td>\n",
       "      <td>The hotel wasn t close to the metro so we had...</td>\n",
       "      <td>32</td>\n",
       "      <td>2521</td>\n",
       "      <td>Great price for what I got Rooms were extreme...</td>\n",
       "      <td>12</td>\n",
       "      <td>1</td>\n",
       "      <td>9.2</td>\n",
       "      <td>[' Leisure trip ', ' Group ', ' Twin Room with...</td>\n",
       "      <td>1 days</td>\n",
       "      <td>41.328376</td>\n",
       "      <td>2.112964</td>\n",
       "      <td>Barcelona</td>\n",
       "      <td>España</td>\n",
       "    </tr>\n",
       "    <tr>\n",
       "      <th>41.328375799999996,2.1129637999999997</th>\n",
       "      <td>Calle K s n Entrada principal Mercabarna Sants...</td>\n",
       "      <td>258</td>\n",
       "      <td>8/2/2017</td>\n",
       "      <td>7.8</td>\n",
       "      <td>Hotel Best Western PLUS Alfa Aeropuerto</td>\n",
       "      <td>Bangladesh</td>\n",
       "      <td>Far from the city</td>\n",
       "      <td>6</td>\n",
       "      <td>2521</td>\n",
       "      <td>Restaurant was cozy Staffs were very friendly...</td>\n",
       "      <td>45</td>\n",
       "      <td>1</td>\n",
       "      <td>7.1</td>\n",
       "      <td>[' Leisure trip ', ' Family with young childre...</td>\n",
       "      <td>1 days</td>\n",
       "      <td>41.328376</td>\n",
       "      <td>2.112964</td>\n",
       "      <td>Barcelona</td>\n",
       "      <td>España</td>\n",
       "    </tr>\n",
       "    <tr>\n",
       "      <th>41.328375799999996,2.1129637999999997</th>\n",
       "      <td>Calle K s n Entrada principal Mercabarna Sants...</td>\n",
       "      <td>258</td>\n",
       "      <td>7/24/2017</td>\n",
       "      <td>7.8</td>\n",
       "      <td>Hotel Best Western PLUS Alfa Aeropuerto</td>\n",
       "      <td>Thailand</td>\n",
       "      <td>The guest are very noisy the room have no sou...</td>\n",
       "      <td>27</td>\n",
       "      <td>2521</td>\n",
       "      <td>Comfy bed near airport free shuttle bus</td>\n",
       "      <td>9</td>\n",
       "      <td>27</td>\n",
       "      <td>5.4</td>\n",
       "      <td>[' Leisure trip ', ' Group ', ' Twin Room with...</td>\n",
       "      <td>10 days</td>\n",
       "      <td>41.328376</td>\n",
       "      <td>2.112964</td>\n",
       "      <td>Barcelona</td>\n",
       "      <td>España</td>\n",
       "    </tr>\n",
       "    <tr>\n",
       "      <th>41.328375799999996,2.1129637999999997</th>\n",
       "      <td>Calle K s n Entrada principal Mercabarna Sants...</td>\n",
       "      <td>258</td>\n",
       "      <td>7/23/2017</td>\n",
       "      <td>7.8</td>\n",
       "      <td>Hotel Best Western PLUS Alfa Aeropuerto</td>\n",
       "      <td>Australia</td>\n",
       "      <td>Restaurant was extremely ordinary so have tap...</td>\n",
       "      <td>28</td>\n",
       "      <td>2521</td>\n",
       "      <td>Perfect location if you need to fly out early...</td>\n",
       "      <td>32</td>\n",
       "      <td>11</td>\n",
       "      <td>9.2</td>\n",
       "      <td>[' Leisure trip ', ' Couple ', ' Double Room w...</td>\n",
       "      <td>11 days</td>\n",
       "      <td>41.328376</td>\n",
       "      <td>2.112964</td>\n",
       "      <td>Barcelona</td>\n",
       "      <td>España</td>\n",
       "    </tr>\n",
       "    <tr>\n",
       "      <th>41.328375799999996,2.1129637999999997</th>\n",
       "      <td>Calle K s n Entrada principal Mercabarna Sants...</td>\n",
       "      <td>258</td>\n",
       "      <td>7/22/2017</td>\n",
       "      <td>7.8</td>\n",
       "      <td>Hotel Best Western PLUS Alfa Aeropuerto</td>\n",
       "      <td>Spain</td>\n",
       "      <td>It was definitely design by a man Lightning w...</td>\n",
       "      <td>26</td>\n",
       "      <td>2521</td>\n",
       "      <td>It had free airport shuttle</td>\n",
       "      <td>7</td>\n",
       "      <td>1</td>\n",
       "      <td>9.2</td>\n",
       "      <td>[' Leisure trip ', ' Solo traveler ', ' Twin R...</td>\n",
       "      <td>12 days</td>\n",
       "      <td>41.328376</td>\n",
       "      <td>2.112964</td>\n",
       "      <td>Barcelona</td>\n",
       "      <td>España</td>\n",
       "    </tr>\n",
       "    <tr>\n",
       "      <th>...</th>\n",
       "      <td>...</td>\n",
       "      <td>...</td>\n",
       "      <td>...</td>\n",
       "      <td>...</td>\n",
       "      <td>...</td>\n",
       "      <td>...</td>\n",
       "      <td>...</td>\n",
       "      <td>...</td>\n",
       "      <td>...</td>\n",
       "      <td>...</td>\n",
       "      <td>...</td>\n",
       "      <td>...</td>\n",
       "      <td>...</td>\n",
       "      <td>...</td>\n",
       "      <td>...</td>\n",
       "      <td>...</td>\n",
       "      <td>...</td>\n",
       "      <td>...</td>\n",
       "      <td>...</td>\n",
       "    </tr>\n",
       "    <tr>\n",
       "      <th>52.4001813,4.893665299999999</th>\n",
       "      <td>Ndsm Plein 28 Amsterdam Noord 1033 WB Amsterda...</td>\n",
       "      <td>170</td>\n",
       "      <td>9/1/2015</td>\n",
       "      <td>8.2</td>\n",
       "      <td>DoubleTree by Hilton Hotel Amsterdam NDSM Wharf</td>\n",
       "      <td>United States of America</td>\n",
       "      <td>Huge 3 day concert right behind the hotel Mus...</td>\n",
       "      <td>15</td>\n",
       "      <td>1593</td>\n",
       "      <td>Close to ferry Nice personnel</td>\n",
       "      <td>6</td>\n",
       "      <td>1</td>\n",
       "      <td>3.8</td>\n",
       "      <td>[' Leisure trip ', ' Couple ', ' Queen Guest R...</td>\n",
       "      <td>702 day</td>\n",
       "      <td>52.400181</td>\n",
       "      <td>4.893665</td>\n",
       "      <td>Amsterdam</td>\n",
       "      <td>Nederland</td>\n",
       "    </tr>\n",
       "    <tr>\n",
       "      <th>52.4001813,4.893665299999999</th>\n",
       "      <td>Ndsm Plein 28 Amsterdam Noord 1033 WB Amsterda...</td>\n",
       "      <td>170</td>\n",
       "      <td>9/1/2015</td>\n",
       "      <td>8.2</td>\n",
       "      <td>DoubleTree by Hilton Hotel Amsterdam NDSM Wharf</td>\n",
       "      <td>United Kingdom</td>\n",
       "      <td>The noise from the festival we were not told ...</td>\n",
       "      <td>16</td>\n",
       "      <td>1593</td>\n",
       "      <td>No Positive</td>\n",
       "      <td>0</td>\n",
       "      <td>7</td>\n",
       "      <td>6.3</td>\n",
       "      <td>[' Leisure trip ', ' Group ', ' Twin Guest Roo...</td>\n",
       "      <td>702 day</td>\n",
       "      <td>52.400181</td>\n",
       "      <td>4.893665</td>\n",
       "      <td>Amsterdam</td>\n",
       "      <td>Nederland</td>\n",
       "    </tr>\n",
       "    <tr>\n",
       "      <th>52.4001813,4.893665299999999</th>\n",
       "      <td>Ndsm Plein 28 Amsterdam Noord 1033 WB Amsterda...</td>\n",
       "      <td>170</td>\n",
       "      <td>8/31/2015</td>\n",
       "      <td>8.2</td>\n",
       "      <td>DoubleTree by Hilton Hotel Amsterdam NDSM Wharf</td>\n",
       "      <td>Germany</td>\n",
       "      <td>No Negative</td>\n",
       "      <td>0</td>\n",
       "      <td>1593</td>\n",
       "      <td>personal very friendly</td>\n",
       "      <td>4</td>\n",
       "      <td>17</td>\n",
       "      <td>8.8</td>\n",
       "      <td>[' Group ', ' Queen Guest Room with River View...</td>\n",
       "      <td>703 day</td>\n",
       "      <td>52.400181</td>\n",
       "      <td>4.893665</td>\n",
       "      <td>Amsterdam</td>\n",
       "      <td>Nederland</td>\n",
       "    </tr>\n",
       "    <tr>\n",
       "      <th>52.4001813,4.893665299999999</th>\n",
       "      <td>Ndsm Plein 28 Amsterdam Noord 1033 WB Amsterda...</td>\n",
       "      <td>170</td>\n",
       "      <td>8/25/2015</td>\n",
       "      <td>8.2</td>\n",
       "      <td>DoubleTree by Hilton Hotel Amsterdam NDSM Wharf</td>\n",
       "      <td>United Kingdom</td>\n",
       "      <td>No Negative</td>\n",
       "      <td>0</td>\n",
       "      <td>1593</td>\n",
       "      <td>Great location by tghe Amstell river and free...</td>\n",
       "      <td>17</td>\n",
       "      <td>4</td>\n",
       "      <td>10.0</td>\n",
       "      <td>[' Leisure trip ', ' Couple ', ' Queen Guest R...</td>\n",
       "      <td>709 day</td>\n",
       "      <td>52.400181</td>\n",
       "      <td>4.893665</td>\n",
       "      <td>Amsterdam</td>\n",
       "      <td>Nederland</td>\n",
       "    </tr>\n",
       "    <tr>\n",
       "      <th>52.4001813,4.893665299999999</th>\n",
       "      <td>Ndsm Plein 28 Amsterdam Noord 1033 WB Amsterda...</td>\n",
       "      <td>170</td>\n",
       "      <td>8/6/2015</td>\n",
       "      <td>8.2</td>\n",
       "      <td>DoubleTree by Hilton Hotel Amsterdam NDSM Wharf</td>\n",
       "      <td>Denmark</td>\n",
       "      <td>Glas for to bathroom was very hard to open an...</td>\n",
       "      <td>16</td>\n",
       "      <td>1593</td>\n",
       "      <td>No Positive</td>\n",
       "      <td>0</td>\n",
       "      <td>3</td>\n",
       "      <td>10.0</td>\n",
       "      <td>[' Leisure trip ', ' Couple ', ' Queen Guest R...</td>\n",
       "      <td>728 day</td>\n",
       "      <td>52.400181</td>\n",
       "      <td>4.893665</td>\n",
       "      <td>Amsterdam</td>\n",
       "      <td>Nederland</td>\n",
       "    </tr>\n",
       "  </tbody>\n",
       "</table>\n",
       "<p>512470 rows × 19 columns</p>\n",
       "</div>"
      ],
      "text/plain": [
       "                                                                           Hotel_Address  \\\n",
       "41.328375799999996,2.1129637999999997  Calle K s n Entrada principal Mercabarna Sants...   \n",
       "41.328375799999996,2.1129637999999997  Calle K s n Entrada principal Mercabarna Sants...   \n",
       "41.328375799999996,2.1129637999999997  Calle K s n Entrada principal Mercabarna Sants...   \n",
       "41.328375799999996,2.1129637999999997  Calle K s n Entrada principal Mercabarna Sants...   \n",
       "41.328375799999996,2.1129637999999997  Calle K s n Entrada principal Mercabarna Sants...   \n",
       "...                                                                                  ...   \n",
       "52.4001813,4.893665299999999           Ndsm Plein 28 Amsterdam Noord 1033 WB Amsterda...   \n",
       "52.4001813,4.893665299999999           Ndsm Plein 28 Amsterdam Noord 1033 WB Amsterda...   \n",
       "52.4001813,4.893665299999999           Ndsm Plein 28 Amsterdam Noord 1033 WB Amsterda...   \n",
       "52.4001813,4.893665299999999           Ndsm Plein 28 Amsterdam Noord 1033 WB Amsterda...   \n",
       "52.4001813,4.893665299999999           Ndsm Plein 28 Amsterdam Noord 1033 WB Amsterda...   \n",
       "\n",
       "                                       Additional_Number_of_Scoring  \\\n",
       "41.328375799999996,2.1129637999999997                           258   \n",
       "41.328375799999996,2.1129637999999997                           258   \n",
       "41.328375799999996,2.1129637999999997                           258   \n",
       "41.328375799999996,2.1129637999999997                           258   \n",
       "41.328375799999996,2.1129637999999997                           258   \n",
       "...                                                             ...   \n",
       "52.4001813,4.893665299999999                                    170   \n",
       "52.4001813,4.893665299999999                                    170   \n",
       "52.4001813,4.893665299999999                                    170   \n",
       "52.4001813,4.893665299999999                                    170   \n",
       "52.4001813,4.893665299999999                                    170   \n",
       "\n",
       "                                      Review_Date  Average_Score  \\\n",
       "41.328375799999996,2.1129637999999997    8/2/2017            7.8   \n",
       "41.328375799999996,2.1129637999999997    8/2/2017            7.8   \n",
       "41.328375799999996,2.1129637999999997   7/24/2017            7.8   \n",
       "41.328375799999996,2.1129637999999997   7/23/2017            7.8   \n",
       "41.328375799999996,2.1129637999999997   7/22/2017            7.8   \n",
       "...                                           ...            ...   \n",
       "52.4001813,4.893665299999999             9/1/2015            8.2   \n",
       "52.4001813,4.893665299999999             9/1/2015            8.2   \n",
       "52.4001813,4.893665299999999            8/31/2015            8.2   \n",
       "52.4001813,4.893665299999999            8/25/2015            8.2   \n",
       "52.4001813,4.893665299999999             8/6/2015            8.2   \n",
       "\n",
       "                                                                            Hotel_Name  \\\n",
       "41.328375799999996,2.1129637999999997          Hotel Best Western PLUS Alfa Aeropuerto   \n",
       "41.328375799999996,2.1129637999999997          Hotel Best Western PLUS Alfa Aeropuerto   \n",
       "41.328375799999996,2.1129637999999997          Hotel Best Western PLUS Alfa Aeropuerto   \n",
       "41.328375799999996,2.1129637999999997          Hotel Best Western PLUS Alfa Aeropuerto   \n",
       "41.328375799999996,2.1129637999999997          Hotel Best Western PLUS Alfa Aeropuerto   \n",
       "...                                                                                ...   \n",
       "52.4001813,4.893665299999999           DoubleTree by Hilton Hotel Amsterdam NDSM Wharf   \n",
       "52.4001813,4.893665299999999           DoubleTree by Hilton Hotel Amsterdam NDSM Wharf   \n",
       "52.4001813,4.893665299999999           DoubleTree by Hilton Hotel Amsterdam NDSM Wharf   \n",
       "52.4001813,4.893665299999999           DoubleTree by Hilton Hotel Amsterdam NDSM Wharf   \n",
       "52.4001813,4.893665299999999           DoubleTree by Hilton Hotel Amsterdam NDSM Wharf   \n",
       "\n",
       "                                             Reviewer_Nationality  \\\n",
       "41.328375799999996,2.1129637999999997   United States of America    \n",
       "41.328375799999996,2.1129637999999997                 Bangladesh    \n",
       "41.328375799999996,2.1129637999999997                   Thailand    \n",
       "41.328375799999996,2.1129637999999997                  Australia    \n",
       "41.328375799999996,2.1129637999999997                      Spain    \n",
       "...                                                           ...   \n",
       "52.4001813,4.893665299999999            United States of America    \n",
       "52.4001813,4.893665299999999                      United Kingdom    \n",
       "52.4001813,4.893665299999999                             Germany    \n",
       "52.4001813,4.893665299999999                      United Kingdom    \n",
       "52.4001813,4.893665299999999                             Denmark    \n",
       "\n",
       "                                                                         Negative_Review  \\\n",
       "41.328375799999996,2.1129637999999997   The hotel wasn t close to the metro so we had...   \n",
       "41.328375799999996,2.1129637999999997                                 Far from the city    \n",
       "41.328375799999996,2.1129637999999997   The guest are very noisy the room have no sou...   \n",
       "41.328375799999996,2.1129637999999997   Restaurant was extremely ordinary so have tap...   \n",
       "41.328375799999996,2.1129637999999997   It was definitely design by a man Lightning w...   \n",
       "...                                                                                  ...   \n",
       "52.4001813,4.893665299999999            Huge 3 day concert right behind the hotel Mus...   \n",
       "52.4001813,4.893665299999999            The noise from the festival we were not told ...   \n",
       "52.4001813,4.893665299999999                                                 No Negative   \n",
       "52.4001813,4.893665299999999                                                 No Negative   \n",
       "52.4001813,4.893665299999999            Glas for to bathroom was very hard to open an...   \n",
       "\n",
       "                                       Review_Total_Negative_Word_Counts  \\\n",
       "41.328375799999996,2.1129637999999997                                 32   \n",
       "41.328375799999996,2.1129637999999997                                  6   \n",
       "41.328375799999996,2.1129637999999997                                 27   \n",
       "41.328375799999996,2.1129637999999997                                 28   \n",
       "41.328375799999996,2.1129637999999997                                 26   \n",
       "...                                                                  ...   \n",
       "52.4001813,4.893665299999999                                          15   \n",
       "52.4001813,4.893665299999999                                          16   \n",
       "52.4001813,4.893665299999999                                           0   \n",
       "52.4001813,4.893665299999999                                           0   \n",
       "52.4001813,4.893665299999999                                          16   \n",
       "\n",
       "                                       Total_Number_of_Reviews  \\\n",
       "41.328375799999996,2.1129637999999997                     2521   \n",
       "41.328375799999996,2.1129637999999997                     2521   \n",
       "41.328375799999996,2.1129637999999997                     2521   \n",
       "41.328375799999996,2.1129637999999997                     2521   \n",
       "41.328375799999996,2.1129637999999997                     2521   \n",
       "...                                                        ...   \n",
       "52.4001813,4.893665299999999                              1593   \n",
       "52.4001813,4.893665299999999                              1593   \n",
       "52.4001813,4.893665299999999                              1593   \n",
       "52.4001813,4.893665299999999                              1593   \n",
       "52.4001813,4.893665299999999                              1593   \n",
       "\n",
       "                                                                         Positive_Review  \\\n",
       "41.328375799999996,2.1129637999999997   Great price for what I got Rooms were extreme...   \n",
       "41.328375799999996,2.1129637999999997   Restaurant was cozy Staffs were very friendly...   \n",
       "41.328375799999996,2.1129637999999997           Comfy bed near airport free shuttle bus    \n",
       "41.328375799999996,2.1129637999999997   Perfect location if you need to fly out early...   \n",
       "41.328375799999996,2.1129637999999997                       It had free airport shuttle    \n",
       "...                                                                                  ...   \n",
       "52.4001813,4.893665299999999                               Close to ferry Nice personnel   \n",
       "52.4001813,4.893665299999999                                                 No Positive   \n",
       "52.4001813,4.893665299999999                                      personal very friendly   \n",
       "52.4001813,4.893665299999999            Great location by tghe Amstell river and free...   \n",
       "52.4001813,4.893665299999999                                                 No Positive   \n",
       "\n",
       "                                       Review_Total_Positive_Word_Counts  \\\n",
       "41.328375799999996,2.1129637999999997                                 12   \n",
       "41.328375799999996,2.1129637999999997                                 45   \n",
       "41.328375799999996,2.1129637999999997                                  9   \n",
       "41.328375799999996,2.1129637999999997                                 32   \n",
       "41.328375799999996,2.1129637999999997                                  7   \n",
       "...                                                                  ...   \n",
       "52.4001813,4.893665299999999                                           6   \n",
       "52.4001813,4.893665299999999                                           0   \n",
       "52.4001813,4.893665299999999                                           4   \n",
       "52.4001813,4.893665299999999                                          17   \n",
       "52.4001813,4.893665299999999                                           0   \n",
       "\n",
       "                                       Total_Number_of_Reviews_Reviewer_Has_Given  \\\n",
       "41.328375799999996,2.1129637999999997                                           1   \n",
       "41.328375799999996,2.1129637999999997                                           1   \n",
       "41.328375799999996,2.1129637999999997                                          27   \n",
       "41.328375799999996,2.1129637999999997                                          11   \n",
       "41.328375799999996,2.1129637999999997                                           1   \n",
       "...                                                                           ...   \n",
       "52.4001813,4.893665299999999                                                    1   \n",
       "52.4001813,4.893665299999999                                                    7   \n",
       "52.4001813,4.893665299999999                                                   17   \n",
       "52.4001813,4.893665299999999                                                    4   \n",
       "52.4001813,4.893665299999999                                                    3   \n",
       "\n",
       "                                       Reviewer_Score  \\\n",
       "41.328375799999996,2.1129637999999997             9.2   \n",
       "41.328375799999996,2.1129637999999997             7.1   \n",
       "41.328375799999996,2.1129637999999997             5.4   \n",
       "41.328375799999996,2.1129637999999997             9.2   \n",
       "41.328375799999996,2.1129637999999997             9.2   \n",
       "...                                               ...   \n",
       "52.4001813,4.893665299999999                      3.8   \n",
       "52.4001813,4.893665299999999                      6.3   \n",
       "52.4001813,4.893665299999999                      8.8   \n",
       "52.4001813,4.893665299999999                     10.0   \n",
       "52.4001813,4.893665299999999                     10.0   \n",
       "\n",
       "                                                                                    Tags  \\\n",
       "41.328375799999996,2.1129637999999997  [' Leisure trip ', ' Group ', ' Twin Room with...   \n",
       "41.328375799999996,2.1129637999999997  [' Leisure trip ', ' Family with young childre...   \n",
       "41.328375799999996,2.1129637999999997  [' Leisure trip ', ' Group ', ' Twin Room with...   \n",
       "41.328375799999996,2.1129637999999997  [' Leisure trip ', ' Couple ', ' Double Room w...   \n",
       "41.328375799999996,2.1129637999999997  [' Leisure trip ', ' Solo traveler ', ' Twin R...   \n",
       "...                                                                                  ...   \n",
       "52.4001813,4.893665299999999           [' Leisure trip ', ' Couple ', ' Queen Guest R...   \n",
       "52.4001813,4.893665299999999           [' Leisure trip ', ' Group ', ' Twin Guest Roo...   \n",
       "52.4001813,4.893665299999999           [' Group ', ' Queen Guest Room with River View...   \n",
       "52.4001813,4.893665299999999           [' Leisure trip ', ' Couple ', ' Queen Guest R...   \n",
       "52.4001813,4.893665299999999           [' Leisure trip ', ' Couple ', ' Queen Guest R...   \n",
       "\n",
       "                                      days_since_review        lat       lng  \\\n",
       "41.328375799999996,2.1129637999999997            1 days  41.328376  2.112964   \n",
       "41.328375799999996,2.1129637999999997            1 days  41.328376  2.112964   \n",
       "41.328375799999996,2.1129637999999997           10 days  41.328376  2.112964   \n",
       "41.328375799999996,2.1129637999999997           11 days  41.328376  2.112964   \n",
       "41.328375799999996,2.1129637999999997           12 days  41.328376  2.112964   \n",
       "...                                                 ...        ...       ...   \n",
       "52.4001813,4.893665299999999                    702 day  52.400181  4.893665   \n",
       "52.4001813,4.893665299999999                    702 day  52.400181  4.893665   \n",
       "52.4001813,4.893665299999999                    703 day  52.400181  4.893665   \n",
       "52.4001813,4.893665299999999                    709 day  52.400181  4.893665   \n",
       "52.4001813,4.893665299999999                    728 day  52.400181  4.893665   \n",
       "\n",
       "                                            city    country  \n",
       "41.328375799999996,2.1129637999999997  Barcelona     España  \n",
       "41.328375799999996,2.1129637999999997  Barcelona     España  \n",
       "41.328375799999996,2.1129637999999997  Barcelona     España  \n",
       "41.328375799999996,2.1129637999999997  Barcelona     España  \n",
       "41.328375799999996,2.1129637999999997  Barcelona     España  \n",
       "...                                          ...        ...  \n",
       "52.4001813,4.893665299999999           Amsterdam  Nederland  \n",
       "52.4001813,4.893665299999999           Amsterdam  Nederland  \n",
       "52.4001813,4.893665299999999           Amsterdam  Nederland  \n",
       "52.4001813,4.893665299999999           Amsterdam  Nederland  \n",
       "52.4001813,4.893665299999999           Amsterdam  Nederland  \n",
       "\n",
       "[512470 rows x 19 columns]"
      ]
     },
     "execution_count": 276,
     "metadata": {},
     "output_type": "execute_result"
    }
   ],
   "source": [
    "# Merge the unique coordinates to df using the index \n",
    "pd.merge(df, unique_geom_df, left_index=True, right_index=True, how='outer')\n",
    "df.head()"
   ]
  },
  {
   "cell_type": "code",
   "execution_count": 278,
   "metadata": {
    "ExecuteTime": {
     "end_time": "2020-12-16T02:33:23.037716Z",
     "start_time": "2020-12-16T02:33:10.580139Z"
    }
   },
   "outputs": [],
   "source": [
    "# Exporting\n",
    "df.to_csv('../csv/hotel_review_city_state.csv')"
   ]
  }
 ],
 "metadata": {
  "kernelspec": {
   "display_name": "Python 3",
   "language": "python",
   "name": "python3"
  },
  "language_info": {
   "codemirror_mode": {
    "name": "ipython",
    "version": 3
   },
   "file_extension": ".py",
   "mimetype": "text/x-python",
   "name": "python",
   "nbconvert_exporter": "python",
   "pygments_lexer": "ipython3",
   "version": "3.6.9"
  },
  "toc": {
   "base_numbering": 1,
   "nav_menu": {},
   "number_sections": true,
   "sideBar": true,
   "skip_h1_title": false,
   "title_cell": "Table of Contents",
   "title_sidebar": "Contents",
   "toc_cell": false,
   "toc_position": {},
   "toc_section_display": true,
   "toc_window_display": false
  }
 },
 "nbformat": 4,
 "nbformat_minor": 4
}
