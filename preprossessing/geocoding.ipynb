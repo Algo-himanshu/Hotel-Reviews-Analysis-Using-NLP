{
 "cells": [
  {
   "cell_type": "code",
   "execution_count": 170,
   "metadata": {
    "ExecuteTime": {
     "end_time": "2020-12-15T20:46:17.723650Z",
     "start_time": "2020-12-15T20:46:17.719420Z"
    }
   },
   "outputs": [],
   "source": [
    "import pandas as pd\n",
    "import geopandas as gpd\n",
    "import geopy\n",
    "from geopy.geocoders import Nominatim\n",
    "from geopy.extra.rate_limiter import RateLimiter\n",
    "import matplotlib.pyplot as plt\n",
    "import plotly_express as px\n",
    "import tqdm\n",
    "from tqdm._tqdm_notebook import tqdm_notebook"
   ]
  },
  {
   "cell_type": "code",
   "execution_count": 171,
   "metadata": {
    "ExecuteTime": {
     "end_time": "2020-12-15T20:46:21.100406Z",
     "start_time": "2020-12-15T20:46:18.143577Z"
    }
   },
   "outputs": [],
   "source": [
    "df = pd.read_csv('../csv/Hotel_Reviews.csv')"
   ]
  },
  {
   "cell_type": "code",
   "execution_count": 172,
   "metadata": {
    "ExecuteTime": {
     "end_time": "2020-12-15T20:46:21.332208Z",
     "start_time": "2020-12-15T20:46:21.103029Z"
    }
   },
   "outputs": [
    {
     "data": {
      "text/plain": [
       "Hotel_Address                                    0\n",
       "Additional_Number_of_Scoring                     0\n",
       "Review_Date                                      0\n",
       "Average_Score                                    0\n",
       "Hotel_Name                                       0\n",
       "Reviewer_Nationality                             0\n",
       "Negative_Review                                  0\n",
       "Review_Total_Negative_Word_Counts                0\n",
       "Total_Number_of_Reviews                          0\n",
       "Positive_Review                                  0\n",
       "Review_Total_Positive_Word_Counts                0\n",
       "Total_Number_of_Reviews_Reviewer_Has_Given       0\n",
       "Reviewer_Score                                   0\n",
       "Tags                                             0\n",
       "days_since_review                                0\n",
       "lat                                           3268\n",
       "lng                                           3268\n",
       "dtype: int64"
      ]
     },
     "execution_count": 172,
     "metadata": {},
     "output_type": "execute_result"
    }
   ],
   "source": [
    "df.isna().sum()"
   ]
  },
  {
   "cell_type": "code",
   "execution_count": 173,
   "metadata": {
    "ExecuteTime": {
     "end_time": "2020-12-15T20:46:30.228512Z",
     "start_time": "2020-12-15T20:46:29.899929Z"
    }
   },
   "outputs": [],
   "source": [
    "df.dropna(inplace=True)"
   ]
  },
  {
   "cell_type": "code",
   "execution_count": 174,
   "metadata": {
    "ExecuteTime": {
     "end_time": "2020-12-15T20:46:31.542954Z",
     "start_time": "2020-12-15T20:46:31.451916Z"
    }
   },
   "outputs": [],
   "source": [
    "# Reducing the size of the dataframe to 20%\n",
    "df = df.sample(frac=0.01, random_state=1)"
   ]
  },
  {
   "cell_type": "code",
   "execution_count": 175,
   "metadata": {
    "ExecuteTime": {
     "end_time": "2020-12-15T20:46:35.832854Z",
     "start_time": "2020-12-15T20:46:35.828373Z"
    }
   },
   "outputs": [
    {
     "data": {
      "text/plain": [
       "(5125, 17)"
      ]
     },
     "execution_count": 175,
     "metadata": {},
     "output_type": "execute_result"
    }
   ],
   "source": [
    "df.shape"
   ]
  },
  {
   "cell_type": "code",
   "execution_count": 176,
   "metadata": {
    "ExecuteTime": {
     "end_time": "2020-12-15T20:46:36.940283Z",
     "start_time": "2020-12-15T20:46:36.921314Z"
    }
   },
   "outputs": [],
   "source": [
    "df['geom'] = df['lat'].map(str) + ',' + df['lng'].map(str)"
   ]
  },
  {
   "cell_type": "code",
   "execution_count": 178,
   "metadata": {
    "ExecuteTime": {
     "end_time": "2020-12-15T20:46:48.658514Z",
     "start_time": "2020-12-15T20:46:48.646453Z"
    }
   },
   "outputs": [],
   "source": [
    "from geopy.geocoders import Nominatim\n",
    "geolocator = Nominatim(user_agent=\"geoapiExercises\")\n",
    "def city(coord):\n",
    "    location = geolocator.reverse(coord, exactly_one=True)\n",
    "    address = location.raw['address']\n",
    "    city = address.get('city', '')\n",
    "    return city\n",
    "\n",
    "def state(coord):\n",
    "    location = geolocator.reverse(coord, exactly_one=True)\n",
    "    address = location.raw['address']\n",
    "    state = address.get('state', '')\n",
    "    return "
   ]
  },
  {
   "cell_type": "code",
   "execution_count": 179,
   "metadata": {
    "ExecuteTime": {
     "end_time": "2020-12-15T21:29:34.225517Z",
     "start_time": "2020-12-15T20:46:51.219761Z"
    },
    "scrolled": false
   },
   "outputs": [],
   "source": [
    "df['city'] = df['geom'].apply(city)"
   ]
  },
  {
   "cell_type": "code",
   "execution_count": 180,
   "metadata": {
    "ExecuteTime": {
     "end_time": "2020-12-15T21:29:34.830169Z",
     "start_time": "2020-12-15T21:29:34.293504Z"
    },
    "scrolled": false
   },
   "outputs": [
    {
     "data": {
      "text/html": [
       "<div>\n",
       "<style scoped>\n",
       "    .dataframe tbody tr th:only-of-type {\n",
       "        vertical-align: middle;\n",
       "    }\n",
       "\n",
       "    .dataframe tbody tr th {\n",
       "        vertical-align: top;\n",
       "    }\n",
       "\n",
       "    .dataframe thead th {\n",
       "        text-align: right;\n",
       "    }\n",
       "</style>\n",
       "<table border=\"1\" class=\"dataframe\">\n",
       "  <thead>\n",
       "    <tr style=\"text-align: right;\">\n",
       "      <th></th>\n",
       "      <th>Hotel_Address</th>\n",
       "      <th>Additional_Number_of_Scoring</th>\n",
       "      <th>Review_Date</th>\n",
       "      <th>Average_Score</th>\n",
       "      <th>Hotel_Name</th>\n",
       "      <th>Reviewer_Nationality</th>\n",
       "      <th>Negative_Review</th>\n",
       "      <th>Review_Total_Negative_Word_Counts</th>\n",
       "      <th>Total_Number_of_Reviews</th>\n",
       "      <th>Positive_Review</th>\n",
       "      <th>Review_Total_Positive_Word_Counts</th>\n",
       "      <th>Total_Number_of_Reviews_Reviewer_Has_Given</th>\n",
       "      <th>Reviewer_Score</th>\n",
       "      <th>Tags</th>\n",
       "      <th>days_since_review</th>\n",
       "      <th>lat</th>\n",
       "      <th>lng</th>\n",
       "      <th>geom</th>\n",
       "      <th>city</th>\n",
       "    </tr>\n",
       "  </thead>\n",
       "  <tbody>\n",
       "    <tr>\n",
       "      <th>261673</th>\n",
       "      <td>92 Southampton Row Camden London WC1B 4BH Unit...</td>\n",
       "      <td>429</td>\n",
       "      <td>9/18/2016</td>\n",
       "      <td>8.3</td>\n",
       "      <td>DoubleTree by Hilton London West End</td>\n",
       "      <td>United Kingdom</td>\n",
       "      <td>N a</td>\n",
       "      <td>3</td>\n",
       "      <td>1774</td>\n",
       "      <td>Excellent staff</td>\n",
       "      <td>3</td>\n",
       "      <td>1</td>\n",
       "      <td>9.2</td>\n",
       "      <td>[' Business trip ', ' Group ', ' Twin Room ', ...</td>\n",
       "      <td>319 day</td>\n",
       "      <td>51.520106</td>\n",
       "      <td>-0.122139</td>\n",
       "      <td>51.5201065,-0.1221393</td>\n",
       "      <td>London</td>\n",
       "    </tr>\n",
       "    <tr>\n",
       "      <th>158643</th>\n",
       "      <td>35 Charles Street Mayfair Westminster Borough ...</td>\n",
       "      <td>252</td>\n",
       "      <td>9/20/2015</td>\n",
       "      <td>9.1</td>\n",
       "      <td>The Chesterfield Mayfair</td>\n",
       "      <td>United Kingdom</td>\n",
       "      <td>Some aspects of the room were looking a littl...</td>\n",
       "      <td>54</td>\n",
       "      <td>1166</td>\n",
       "      <td>The staff were friendly and helpful at all times</td>\n",
       "      <td>10</td>\n",
       "      <td>4</td>\n",
       "      <td>7.5</td>\n",
       "      <td>[' Leisure trip ', ' Couple ', ' Classic Doubl...</td>\n",
       "      <td>683 day</td>\n",
       "      <td>51.507690</td>\n",
       "      <td>-0.147136</td>\n",
       "      <td>51.507689899999995,-0.14713579999999998</td>\n",
       "      <td>City of Westminster</td>\n",
       "    </tr>\n",
       "    <tr>\n",
       "      <th>491784</th>\n",
       "      <td>Via Tarchetti 2 Milan City Center 20121 Milan ...</td>\n",
       "      <td>436</td>\n",
       "      <td>4/21/2017</td>\n",
       "      <td>8.4</td>\n",
       "      <td>NH Milano Touring</td>\n",
       "      <td>United Kingdom</td>\n",
       "      <td>The room was with twin bed</td>\n",
       "      <td>7</td>\n",
       "      <td>4568</td>\n",
       "      <td>I requested 3 room with one double bed each r...</td>\n",
       "      <td>33</td>\n",
       "      <td>1</td>\n",
       "      <td>5.8</td>\n",
       "      <td>[' Business trip ', ' Couple ', ' Standard Dou...</td>\n",
       "      <td>104 day</td>\n",
       "      <td>45.476917</td>\n",
       "      <td>9.196665</td>\n",
       "      <td>45.476916700000004,9.196665</td>\n",
       "      <td>Milano</td>\n",
       "    </tr>\n",
       "    <tr>\n",
       "      <th>88566</th>\n",
       "      <td>2 Caxton Street Westminster Borough London SW1...</td>\n",
       "      <td>231</td>\n",
       "      <td>3/29/2016</td>\n",
       "      <td>8.9</td>\n",
       "      <td>St Ermin s Hotel Autograph Collection</td>\n",
       "      <td>United Kingdom</td>\n",
       "      <td>nothing</td>\n",
       "      <td>2</td>\n",
       "      <td>857</td>\n",
       "      <td>staff very friendly bed very comfortable hote...</td>\n",
       "      <td>13</td>\n",
       "      <td>2</td>\n",
       "      <td>10.0</td>\n",
       "      <td>[' Leisure trip ', ' Couple ', ' Queen Room ',...</td>\n",
       "      <td>492 day</td>\n",
       "      <td>51.498905</td>\n",
       "      <td>-0.133909</td>\n",
       "      <td>51.498905,-0.13390929999999998</td>\n",
       "      <td>City of Westminster</td>\n",
       "    </tr>\n",
       "    <tr>\n",
       "      <th>456663</th>\n",
       "      <td>Spuistraat 288 292 Amsterdam City Center 1012 ...</td>\n",
       "      <td>407</td>\n",
       "      <td>7/10/2017</td>\n",
       "      <td>8.2</td>\n",
       "      <td>NH City Centre Amsterdam</td>\n",
       "      <td>Australia</td>\n",
       "      <td>The bathroom is quite spacious but it s not e...</td>\n",
       "      <td>25</td>\n",
       "      <td>3417</td>\n",
       "      <td>We had a spacious triple room our adult daugh...</td>\n",
       "      <td>77</td>\n",
       "      <td>8</td>\n",
       "      <td>9.2</td>\n",
       "      <td>[' Leisure trip ', ' Couple ', ' Standard Trip...</td>\n",
       "      <td>24 days</td>\n",
       "      <td>52.369755</td>\n",
       "      <td>4.888782</td>\n",
       "      <td>52.3697554,4.8887815</td>\n",
       "      <td>Amsterdam</td>\n",
       "    </tr>\n",
       "  </tbody>\n",
       "</table>\n",
       "</div>"
      ],
      "text/plain": [
       "                                            Hotel_Address  \\\n",
       "261673  92 Southampton Row Camden London WC1B 4BH Unit...   \n",
       "158643  35 Charles Street Mayfair Westminster Borough ...   \n",
       "491784  Via Tarchetti 2 Milan City Center 20121 Milan ...   \n",
       "88566   2 Caxton Street Westminster Borough London SW1...   \n",
       "456663  Spuistraat 288 292 Amsterdam City Center 1012 ...   \n",
       "\n",
       "        Additional_Number_of_Scoring Review_Date  Average_Score  \\\n",
       "261673                           429   9/18/2016            8.3   \n",
       "158643                           252   9/20/2015            9.1   \n",
       "491784                           436   4/21/2017            8.4   \n",
       "88566                            231   3/29/2016            8.9   \n",
       "456663                           407   7/10/2017            8.2   \n",
       "\n",
       "                                   Hotel_Name Reviewer_Nationality  \\\n",
       "261673   DoubleTree by Hilton London West End      United Kingdom    \n",
       "158643               The Chesterfield Mayfair      United Kingdom    \n",
       "491784                      NH Milano Touring      United Kingdom    \n",
       "88566   St Ermin s Hotel Autograph Collection      United Kingdom    \n",
       "456663               NH City Centre Amsterdam           Australia    \n",
       "\n",
       "                                          Negative_Review  \\\n",
       "261673                                                N a   \n",
       "158643   Some aspects of the room were looking a littl...   \n",
       "491784                         The room was with twin bed   \n",
       "88566                                             nothing   \n",
       "456663   The bathroom is quite spacious but it s not e...   \n",
       "\n",
       "        Review_Total_Negative_Word_Counts  Total_Number_of_Reviews  \\\n",
       "261673                                  3                     1774   \n",
       "158643                                 54                     1166   \n",
       "491784                                  7                     4568   \n",
       "88566                                   2                      857   \n",
       "456663                                 25                     3417   \n",
       "\n",
       "                                          Positive_Review  \\\n",
       "261673                                    Excellent staff   \n",
       "158643   The staff were friendly and helpful at all times   \n",
       "491784   I requested 3 room with one double bed each r...   \n",
       "88566    staff very friendly bed very comfortable hote...   \n",
       "456663   We had a spacious triple room our adult daugh...   \n",
       "\n",
       "        Review_Total_Positive_Word_Counts  \\\n",
       "261673                                  3   \n",
       "158643                                 10   \n",
       "491784                                 33   \n",
       "88566                                  13   \n",
       "456663                                 77   \n",
       "\n",
       "        Total_Number_of_Reviews_Reviewer_Has_Given  Reviewer_Score  \\\n",
       "261673                                           1             9.2   \n",
       "158643                                           4             7.5   \n",
       "491784                                           1             5.8   \n",
       "88566                                            2            10.0   \n",
       "456663                                           8             9.2   \n",
       "\n",
       "                                                     Tags days_since_review  \\\n",
       "261673  [' Business trip ', ' Group ', ' Twin Room ', ...           319 day   \n",
       "158643  [' Leisure trip ', ' Couple ', ' Classic Doubl...           683 day   \n",
       "491784  [' Business trip ', ' Couple ', ' Standard Dou...           104 day   \n",
       "88566   [' Leisure trip ', ' Couple ', ' Queen Room ',...           492 day   \n",
       "456663  [' Leisure trip ', ' Couple ', ' Standard Trip...           24 days   \n",
       "\n",
       "              lat       lng                                     geom  \\\n",
       "261673  51.520106 -0.122139                    51.5201065,-0.1221393   \n",
       "158643  51.507690 -0.147136  51.507689899999995,-0.14713579999999998   \n",
       "491784  45.476917  9.196665              45.476916700000004,9.196665   \n",
       "88566   51.498905 -0.133909           51.498905,-0.13390929999999998   \n",
       "456663  52.369755  4.888782                     52.3697554,4.8887815   \n",
       "\n",
       "                       city  \n",
       "261673               London  \n",
       "158643  City of Westminster  \n",
       "491784               Milano  \n",
       "88566   City of Westminster  \n",
       "456663            Amsterdam  "
      ]
     },
     "execution_count": 180,
     "metadata": {},
     "output_type": "execute_result"
    }
   ],
   "source": [
    "df.head()"
   ]
  },
  {
   "cell_type": "code",
   "execution_count": null,
   "metadata": {},
   "outputs": [],
   "source": []
  },
  {
   "cell_type": "code",
   "execution_count": null,
   "metadata": {},
   "outputs": [],
   "source": []
  },
  {
   "cell_type": "code",
   "execution_count": null,
   "metadata": {},
   "outputs": [],
   "source": []
  },
  {
   "cell_type": "code",
   "execution_count": null,
   "metadata": {},
   "outputs": [],
   "source": []
  },
  {
   "cell_type": "code",
   "execution_count": null,
   "metadata": {},
   "outputs": [],
   "source": []
  },
  {
   "cell_type": "code",
   "execution_count": null,
   "metadata": {},
   "outputs": [],
   "source": []
  }
 ],
 "metadata": {
  "kernelspec": {
   "display_name": "Python 3",
   "language": "python",
   "name": "python3"
  },
  "language_info": {
   "codemirror_mode": {
    "name": "ipython",
    "version": 3
   },
   "file_extension": ".py",
   "mimetype": "text/x-python",
   "name": "python",
   "nbconvert_exporter": "python",
   "pygments_lexer": "ipython3",
   "version": "3.6.9"
  },
  "toc": {
   "base_numbering": 1,
   "nav_menu": {},
   "number_sections": true,
   "sideBar": true,
   "skip_h1_title": false,
   "title_cell": "Table of Contents",
   "title_sidebar": "Contents",
   "toc_cell": false,
   "toc_position": {},
   "toc_section_display": true,
   "toc_window_display": false
  }
 },
 "nbformat": 4,
 "nbformat_minor": 4
}
