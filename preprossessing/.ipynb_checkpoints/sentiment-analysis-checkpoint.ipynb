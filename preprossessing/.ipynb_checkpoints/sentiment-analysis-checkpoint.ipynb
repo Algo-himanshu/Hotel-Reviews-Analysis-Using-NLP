{
 "cells": [
  {
   "cell_type": "markdown",
   "metadata": {},
   "source": [
    "# Import Packages"
   ]
  },
  {
   "cell_type": "code",
   "execution_count": 1,
   "metadata": {
    "ExecuteTime": {
     "end_time": "2020-12-15T16:39:14.207698Z",
     "start_time": "2020-12-15T16:39:12.235124Z"
    }
   },
   "outputs": [],
   "source": [
    "# Importing Packages\n",
    "import pandas as pd\n",
    "\n",
    "# Import NLP Packages\n",
    "from textblob import TextBlob "
   ]
  },
  {
   "cell_type": "markdown",
   "metadata": {},
   "source": [
    "# Sentiment Analysis"
   ]
  },
  {
   "cell_type": "markdown",
   "metadata": {},
   "source": [
    "## Import DataFrame"
   ]
  },
  {
   "cell_type": "code",
   "execution_count": 2,
   "metadata": {
    "ExecuteTime": {
     "end_time": "2020-12-15T16:39:17.136399Z",
     "start_time": "2020-12-15T16:39:14.210234Z"
    }
   },
   "outputs": [],
   "source": [
    "# Import csv file\n",
    "df = pd.read_csv('../csv/Hotel_Reviews.csv')"
   ]
  },
  {
   "cell_type": "code",
   "execution_count": 3,
   "metadata": {
    "ExecuteTime": {
     "end_time": "2020-12-15T16:39:17.204332Z",
     "start_time": "2020-12-15T16:39:17.140353Z"
    }
   },
   "outputs": [],
   "source": [
    "# Selecting only the columns that I will use\n",
    "features = ['Negative_Review','Positive_Review', 'Reviewer_Score']\n",
    "df = df[features]"
   ]
  },
  {
   "cell_type": "markdown",
   "metadata": {},
   "source": [
    "## Create a function for Sentiment Analysis"
   ]
  },
  {
   "cell_type": "markdown",
   "metadata": {},
   "source": [
    "In this step, I will generate a sentiment analysis. Normally, this would be a step that I'd run after data cleaning for NLP. However, previous tests showed me that data cleaning does not affect the sentiment analysis using TextBlob.\n",
    "\n",
    "Running sentiment analysis takes a lot of time because I have more than 515K observations. For this reason, once the sentiment analysis is created, I will pickle the DataFrame and upload it again, so it won't run again."
   ]
  },
  {
   "cell_type": "code",
   "execution_count": 4,
   "metadata": {
    "ExecuteTime": {
     "end_time": "2020-12-15T16:39:17.213260Z",
     "start_time": "2020-12-15T16:39:17.207536Z"
    }
   },
   "outputs": [],
   "source": [
    "# Create a function to get subjectivity\n",
    "def getSubjectivity(text):\n",
    "    return TextBlob(text).sentiment.subjectivity\n",
    "\n",
    "# Create a function to get polarity with tweets\n",
    "def getPolarity(text):\n",
    "    return TextBlob(text).sentiment.polarity"
   ]
  },
  {
   "cell_type": "markdown",
   "metadata": {},
   "source": [
    "<b>NOTE:</b>\n",
    "\n",
    "The following cell takes around 10 minutes to run. For this reason, I will save the DataFrame into a csv file and upload it again."
   ]
  },
  {
   "cell_type": "code",
   "execution_count": 5,
   "metadata": {
    "ExecuteTime": {
     "end_time": "2020-12-15T16:39:17.219968Z",
     "start_time": "2020-12-15T16:39:17.216669Z"
    }
   },
   "outputs": [],
   "source": [
    "# # Create new columns to compare polarity and subjetivity on Negative Reviews\n",
    "# df['Polarity_Net'] = df['Negative_Review'].apply(getPolarity)\n",
    "# df['Polarity_Pos'] = df['Positive_Review'].apply(getPolarity)"
   ]
  },
  {
   "cell_type": "code",
   "execution_count": 6,
   "metadata": {
    "ExecuteTime": {
     "end_time": "2020-12-15T16:39:17.227026Z",
     "start_time": "2020-12-15T16:39:17.223643Z"
    }
   },
   "outputs": [],
   "source": [
    "# # Saving csv with sentiment analysis\n",
    "# df.to_csv(\"../csv/sentiment_analysis.csv\")"
   ]
  },
  {
   "cell_type": "code",
   "execution_count": 7,
   "metadata": {
    "ExecuteTime": {
     "end_time": "2020-12-15T16:39:19.151317Z",
     "start_time": "2020-12-15T16:39:17.229416Z"
    }
   },
   "outputs": [],
   "source": [
    "# Importing DataFrame with new Polarity column\n",
    "df = pd.read_csv(\"../csv/sentiment_analysis.csv\", index_col=0)"
   ]
  },
  {
   "cell_type": "code",
   "execution_count": 8,
   "metadata": {
    "ExecuteTime": {
     "end_time": "2020-12-15T16:39:19.547866Z",
     "start_time": "2020-12-15T16:39:19.155138Z"
    }
   },
   "outputs": [],
   "source": [
    "# Creating function to classify the Sentiment Analysis\n",
    "df['Sent_Analysis_Neg'] = df['Polarity_Net'].apply(lambda x: 0 if x < 0 else 1 if x > -0.1 and x < 0.1 else 2)\n",
    "df['Sent_Analysis_Pos'] = df['Polarity_Pos'].apply(lambda x: 0 if x < 0 else 1 if x > -0.1 and x < 0.1 else 2)"
   ]
  },
  {
   "cell_type": "code",
   "execution_count": 9,
   "metadata": {
    "ExecuteTime": {
     "end_time": "2020-12-15T16:39:19.586026Z",
     "start_time": "2020-12-15T16:39:19.550637Z"
    }
   },
   "outputs": [
    {
     "data": {
      "text/html": [
       "<div>\n",
       "<style scoped>\n",
       "    .dataframe tbody tr th:only-of-type {\n",
       "        vertical-align: middle;\n",
       "    }\n",
       "\n",
       "    .dataframe tbody tr th {\n",
       "        vertical-align: top;\n",
       "    }\n",
       "\n",
       "    .dataframe thead th {\n",
       "        text-align: right;\n",
       "    }\n",
       "</style>\n",
       "<table border=\"1\" class=\"dataframe\">\n",
       "  <thead>\n",
       "    <tr style=\"text-align: right;\">\n",
       "      <th></th>\n",
       "      <th>Negative_Review</th>\n",
       "      <th>Positive_Review</th>\n",
       "      <th>Reviewer_Score</th>\n",
       "      <th>Polarity_Net</th>\n",
       "      <th>Polarity_Pos</th>\n",
       "      <th>Sent_Analysis_Neg</th>\n",
       "      <th>Sent_Analysis_Pos</th>\n",
       "    </tr>\n",
       "  </thead>\n",
       "  <tbody>\n",
       "    <tr>\n",
       "      <th>0</th>\n",
       "      <td>I am so angry that i made this post available...</td>\n",
       "      <td>Only the park outside of the hotel was beauti...</td>\n",
       "      <td>2.9</td>\n",
       "      <td>0.028671</td>\n",
       "      <td>0.283333</td>\n",
       "      <td>1</td>\n",
       "      <td>2</td>\n",
       "    </tr>\n",
       "    <tr>\n",
       "      <th>1</th>\n",
       "      <td>No Negative</td>\n",
       "      <td>No real complaints the hotel was great great ...</td>\n",
       "      <td>7.5</td>\n",
       "      <td>0.150000</td>\n",
       "      <td>0.241960</td>\n",
       "      <td>2</td>\n",
       "      <td>2</td>\n",
       "    </tr>\n",
       "    <tr>\n",
       "      <th>2</th>\n",
       "      <td>Rooms are nice but for elderly a bit difficul...</td>\n",
       "      <td>Location was good and staff were ok It is cut...</td>\n",
       "      <td>7.1</td>\n",
       "      <td>0.032653</td>\n",
       "      <td>0.460000</td>\n",
       "      <td>1</td>\n",
       "      <td>2</td>\n",
       "    </tr>\n",
       "    <tr>\n",
       "      <th>3</th>\n",
       "      <td>My room was dirty and I was afraid to walk ba...</td>\n",
       "      <td>Great location in nice surroundings the bar a...</td>\n",
       "      <td>3.8</td>\n",
       "      <td>-0.070370</td>\n",
       "      <td>0.625000</td>\n",
       "      <td>0</td>\n",
       "      <td>2</td>\n",
       "    </tr>\n",
       "    <tr>\n",
       "      <th>4</th>\n",
       "      <td>You When I booked with your company on line y...</td>\n",
       "      <td>Amazing location and building Romantic setting</td>\n",
       "      <td>6.7</td>\n",
       "      <td>-0.009091</td>\n",
       "      <td>0.300000</td>\n",
       "      <td>0</td>\n",
       "      <td>2</td>\n",
       "    </tr>\n",
       "  </tbody>\n",
       "</table>\n",
       "</div>"
      ],
      "text/plain": [
       "                                     Negative_Review  \\\n",
       "0   I am so angry that i made this post available...   \n",
       "1                                        No Negative   \n",
       "2   Rooms are nice but for elderly a bit difficul...   \n",
       "3   My room was dirty and I was afraid to walk ba...   \n",
       "4   You When I booked with your company on line y...   \n",
       "\n",
       "                                     Positive_Review  Reviewer_Score  \\\n",
       "0   Only the park outside of the hotel was beauti...             2.9   \n",
       "1   No real complaints the hotel was great great ...             7.5   \n",
       "2   Location was good and staff were ok It is cut...             7.1   \n",
       "3   Great location in nice surroundings the bar a...             3.8   \n",
       "4    Amazing location and building Romantic setting              6.7   \n",
       "\n",
       "   Polarity_Net  Polarity_Pos  Sent_Analysis_Neg  Sent_Analysis_Pos  \n",
       "0      0.028671      0.283333                  1                  2  \n",
       "1      0.150000      0.241960                  2                  2  \n",
       "2      0.032653      0.460000                  1                  2  \n",
       "3     -0.070370      0.625000                  0                  2  \n",
       "4     -0.009091      0.300000                  0                  2  "
      ]
     },
     "execution_count": 9,
     "metadata": {},
     "output_type": "execute_result"
    }
   ],
   "source": [
    "df.head()"
   ]
  },
  {
   "cell_type": "markdown",
   "metadata": {},
   "source": [
    "### Findings and Takeaways:"
   ]
  },
  {
   "cell_type": "markdown",
   "metadata": {},
   "source": [
    "- It was created Subjectivity and Polarity features using sentiment analysis for Negative and Positive Reviews. \n",
    "- Polarity ranges between -1 and 1. Where -1 means that the review was very negative and 1 means that the review was very positive.\n",
    "- Seems like sentiment analysis does a good job identifying positive reviews, but the negative reviews could be improved."
   ]
  },
  {
   "cell_type": "markdown",
   "metadata": {},
   "source": [
    "## Evaluation Results"
   ]
  },
  {
   "cell_type": "markdown",
   "metadata": {},
   "source": [
    "## Target Variable"
   ]
  },
  {
   "cell_type": "markdown",
   "metadata": {},
   "source": [
    "In this section, I will create a target variable and use it to train my models. I will turn the Reviewer Score classes feature into:\n",
    "\n",
    "- <b>0 - Bad:</b> Scores below 5\n",
    "- <b>1 - Regular:</b> Scores between 5 and 7\n",
    "- <b>2 - Good:</b> Scores above 7"
   ]
  },
  {
   "cell_type": "code",
   "execution_count": 15,
   "metadata": {
    "ExecuteTime": {
     "end_time": "2020-12-14T16:35:54.135909Z",
     "start_time": "2020-12-14T16:35:54.124552Z"
    }
   },
   "outputs": [
    {
     "data": {
      "text/html": [
       "<div>\n",
       "<style scoped>\n",
       "    .dataframe tbody tr th:only-of-type {\n",
       "        vertical-align: middle;\n",
       "    }\n",
       "\n",
       "    .dataframe tbody tr th {\n",
       "        vertical-align: top;\n",
       "    }\n",
       "\n",
       "    .dataframe thead th {\n",
       "        text-align: right;\n",
       "    }\n",
       "</style>\n",
       "<table border=\"1\" class=\"dataframe\">\n",
       "  <thead>\n",
       "    <tr style=\"text-align: right;\">\n",
       "      <th></th>\n",
       "      <th>Negative_Review</th>\n",
       "      <th>Positive_Review</th>\n",
       "      <th>Reviewer_Score</th>\n",
       "      <th>Polarity_Net</th>\n",
       "      <th>Polarity_Pos</th>\n",
       "      <th>Sent_Analysis_Neg</th>\n",
       "      <th>Sent_Analysis_Pos</th>\n",
       "    </tr>\n",
       "  </thead>\n",
       "  <tbody>\n",
       "    <tr>\n",
       "      <th>0</th>\n",
       "      <td>I am so angry that i made this post available...</td>\n",
       "      <td>Only the park outside of the hotel was beauti...</td>\n",
       "      <td>2.9</td>\n",
       "      <td>0.028671</td>\n",
       "      <td>0.283333</td>\n",
       "      <td>1</td>\n",
       "      <td>2</td>\n",
       "    </tr>\n",
       "    <tr>\n",
       "      <th>1</th>\n",
       "      <td>No Negative</td>\n",
       "      <td>No real complaints the hotel was great great ...</td>\n",
       "      <td>7.5</td>\n",
       "      <td>0.150000</td>\n",
       "      <td>0.241960</td>\n",
       "      <td>2</td>\n",
       "      <td>2</td>\n",
       "    </tr>\n",
       "    <tr>\n",
       "      <th>2</th>\n",
       "      <td>Rooms are nice but for elderly a bit difficul...</td>\n",
       "      <td>Location was good and staff were ok It is cut...</td>\n",
       "      <td>7.1</td>\n",
       "      <td>0.032653</td>\n",
       "      <td>0.460000</td>\n",
       "      <td>1</td>\n",
       "      <td>2</td>\n",
       "    </tr>\n",
       "    <tr>\n",
       "      <th>3</th>\n",
       "      <td>My room was dirty and I was afraid to walk ba...</td>\n",
       "      <td>Great location in nice surroundings the bar a...</td>\n",
       "      <td>3.8</td>\n",
       "      <td>-0.070370</td>\n",
       "      <td>0.625000</td>\n",
       "      <td>0</td>\n",
       "      <td>2</td>\n",
       "    </tr>\n",
       "    <tr>\n",
       "      <th>4</th>\n",
       "      <td>You When I booked with your company on line y...</td>\n",
       "      <td>Amazing location and building Romantic setting</td>\n",
       "      <td>6.7</td>\n",
       "      <td>-0.009091</td>\n",
       "      <td>0.300000</td>\n",
       "      <td>0</td>\n",
       "      <td>2</td>\n",
       "    </tr>\n",
       "  </tbody>\n",
       "</table>\n",
       "</div>"
      ],
      "text/plain": [
       "                                     Negative_Review  \\\n",
       "0   I am so angry that i made this post available...   \n",
       "1                                        No Negative   \n",
       "2   Rooms are nice but for elderly a bit difficul...   \n",
       "3   My room was dirty and I was afraid to walk ba...   \n",
       "4   You When I booked with your company on line y...   \n",
       "\n",
       "                                     Positive_Review  Reviewer_Score  \\\n",
       "0   Only the park outside of the hotel was beauti...             2.9   \n",
       "1   No real complaints the hotel was great great ...             7.5   \n",
       "2   Location was good and staff were ok It is cut...             7.1   \n",
       "3   Great location in nice surroundings the bar a...             3.8   \n",
       "4    Amazing location and building Romantic setting              6.7   \n",
       "\n",
       "   Polarity_Net  Polarity_Pos  Sent_Analysis_Neg  Sent_Analysis_Pos  \n",
       "0      0.028671      0.283333                  1                  2  \n",
       "1      0.150000      0.241960                  2                  2  \n",
       "2      0.032653      0.460000                  1                  2  \n",
       "3     -0.070370      0.625000                  0                  2  \n",
       "4     -0.009091      0.300000                  0                  2  "
      ]
     },
     "execution_count": 15,
     "metadata": {},
     "output_type": "execute_result"
    }
   ],
   "source": [
    "df.head()"
   ]
  },
  {
   "cell_type": "code",
   "execution_count": 16,
   "metadata": {
    "ExecuteTime": {
     "end_time": "2020-12-14T16:35:54.770370Z",
     "start_time": "2020-12-14T16:35:54.552144Z"
    }
   },
   "outputs": [],
   "source": [
    "# Create function that turns the Reviewer Score into a classification target with 3 values\n",
    "df['Score'] = df['Reviewer_Score'].apply(lambda x: 0 if x < 5 else 1 if x >= 5 and x < 7 else 2)"
   ]
  },
  {
   "cell_type": "code",
   "execution_count": 17,
   "metadata": {
    "ExecuteTime": {
     "end_time": "2020-12-14T16:35:54.789923Z",
     "start_time": "2020-12-14T16:35:54.775246Z"
    }
   },
   "outputs": [],
   "source": [
    "df['SA_Score'] = df.Sent_Analysis_Neg + df.Sent_Analysis_Pos\n",
    "# df.drop(columns=(['Polarity_Net','Polarity_Pos','Sent_Analysis_Neg','Sent_Analysis_Pos']), inplace=True)"
   ]
  },
  {
   "cell_type": "code",
   "execution_count": 18,
   "metadata": {
    "ExecuteTime": {
     "end_time": "2020-12-14T16:35:55.288246Z",
     "start_time": "2020-12-14T16:35:55.090978Z"
    }
   },
   "outputs": [
    {
     "data": {
      "text/html": [
       "<div>\n",
       "<style scoped>\n",
       "    .dataframe tbody tr th:only-of-type {\n",
       "        vertical-align: middle;\n",
       "    }\n",
       "\n",
       "    .dataframe tbody tr th {\n",
       "        vertical-align: top;\n",
       "    }\n",
       "\n",
       "    .dataframe thead th {\n",
       "        text-align: right;\n",
       "    }\n",
       "</style>\n",
       "<table border=\"1\" class=\"dataframe\">\n",
       "  <thead>\n",
       "    <tr style=\"text-align: right;\">\n",
       "      <th></th>\n",
       "      <th>Negative_Review</th>\n",
       "      <th>Positive_Review</th>\n",
       "      <th>Reviewer_Score</th>\n",
       "      <th>Polarity_Net</th>\n",
       "      <th>Polarity_Pos</th>\n",
       "      <th>Sent_Analysis_Neg</th>\n",
       "      <th>Sent_Analysis_Pos</th>\n",
       "      <th>Score</th>\n",
       "      <th>SA_Score</th>\n",
       "      <th>Sentiment_Analysis</th>\n",
       "    </tr>\n",
       "  </thead>\n",
       "  <tbody>\n",
       "    <tr>\n",
       "      <th>0</th>\n",
       "      <td>I am so angry that i made this post available...</td>\n",
       "      <td>Only the park outside of the hotel was beauti...</td>\n",
       "      <td>2.9</td>\n",
       "      <td>0.028671</td>\n",
       "      <td>0.283333</td>\n",
       "      <td>1</td>\n",
       "      <td>2</td>\n",
       "      <td>0</td>\n",
       "      <td>3</td>\n",
       "      <td>2</td>\n",
       "    </tr>\n",
       "    <tr>\n",
       "      <th>1</th>\n",
       "      <td>No Negative</td>\n",
       "      <td>No real complaints the hotel was great great ...</td>\n",
       "      <td>7.5</td>\n",
       "      <td>0.150000</td>\n",
       "      <td>0.241960</td>\n",
       "      <td>2</td>\n",
       "      <td>2</td>\n",
       "      <td>2</td>\n",
       "      <td>4</td>\n",
       "      <td>2</td>\n",
       "    </tr>\n",
       "    <tr>\n",
       "      <th>2</th>\n",
       "      <td>Rooms are nice but for elderly a bit difficul...</td>\n",
       "      <td>Location was good and staff were ok It is cut...</td>\n",
       "      <td>7.1</td>\n",
       "      <td>0.032653</td>\n",
       "      <td>0.460000</td>\n",
       "      <td>1</td>\n",
       "      <td>2</td>\n",
       "      <td>2</td>\n",
       "      <td>3</td>\n",
       "      <td>2</td>\n",
       "    </tr>\n",
       "    <tr>\n",
       "      <th>3</th>\n",
       "      <td>My room was dirty and I was afraid to walk ba...</td>\n",
       "      <td>Great location in nice surroundings the bar a...</td>\n",
       "      <td>3.8</td>\n",
       "      <td>-0.070370</td>\n",
       "      <td>0.625000</td>\n",
       "      <td>0</td>\n",
       "      <td>2</td>\n",
       "      <td>0</td>\n",
       "      <td>2</td>\n",
       "      <td>1</td>\n",
       "    </tr>\n",
       "    <tr>\n",
       "      <th>4</th>\n",
       "      <td>You When I booked with your company on line y...</td>\n",
       "      <td>Amazing location and building Romantic setting</td>\n",
       "      <td>6.7</td>\n",
       "      <td>-0.009091</td>\n",
       "      <td>0.300000</td>\n",
       "      <td>0</td>\n",
       "      <td>2</td>\n",
       "      <td>1</td>\n",
       "      <td>2</td>\n",
       "      <td>1</td>\n",
       "    </tr>\n",
       "  </tbody>\n",
       "</table>\n",
       "</div>"
      ],
      "text/plain": [
       "                                     Negative_Review  \\\n",
       "0   I am so angry that i made this post available...   \n",
       "1                                        No Negative   \n",
       "2   Rooms are nice but for elderly a bit difficul...   \n",
       "3   My room was dirty and I was afraid to walk ba...   \n",
       "4   You When I booked with your company on line y...   \n",
       "\n",
       "                                     Positive_Review  Reviewer_Score  \\\n",
       "0   Only the park outside of the hotel was beauti...             2.9   \n",
       "1   No real complaints the hotel was great great ...             7.5   \n",
       "2   Location was good and staff were ok It is cut...             7.1   \n",
       "3   Great location in nice surroundings the bar a...             3.8   \n",
       "4    Amazing location and building Romantic setting              6.7   \n",
       "\n",
       "   Polarity_Net  Polarity_Pos  Sent_Analysis_Neg  Sent_Analysis_Pos  Score  \\\n",
       "0      0.028671      0.283333                  1                  2      0   \n",
       "1      0.150000      0.241960                  2                  2      2   \n",
       "2      0.032653      0.460000                  1                  2      2   \n",
       "3     -0.070370      0.625000                  0                  2      0   \n",
       "4     -0.009091      0.300000                  0                  2      1   \n",
       "\n",
       "   SA_Score  Sentiment_Analysis  \n",
       "0         3                   2  \n",
       "1         4                   2  \n",
       "2         3                   2  \n",
       "3         2                   1  \n",
       "4         2                   1  "
      ]
     },
     "execution_count": 18,
     "metadata": {},
     "output_type": "execute_result"
    }
   ],
   "source": [
    "df['Sentiment_Analysis'] = df['SA_Score'].apply(lambda x: 0 if x == 1 else 1 if x == 2 else 2)\n",
    "df.head()"
   ]
  },
  {
   "cell_type": "code",
   "execution_count": null,
   "metadata": {},
   "outputs": [],
   "source": []
  },
  {
   "cell_type": "code",
   "execution_count": null,
   "metadata": {},
   "outputs": [],
   "source": []
  },
  {
   "cell_type": "code",
   "execution_count": null,
   "metadata": {},
   "outputs": [],
   "source": []
  },
  {
   "cell_type": "code",
   "execution_count": null,
   "metadata": {},
   "outputs": [],
   "source": []
  },
  {
   "cell_type": "code",
   "execution_count": null,
   "metadata": {},
   "outputs": [],
   "source": []
  }
 ],
 "metadata": {
  "kernelspec": {
   "display_name": "Python 3",
   "language": "python",
   "name": "python3"
  },
  "language_info": {
   "codemirror_mode": {
    "name": "ipython",
    "version": 3
   },
   "file_extension": ".py",
   "mimetype": "text/x-python",
   "name": "python",
   "nbconvert_exporter": "python",
   "pygments_lexer": "ipython3",
   "version": "3.6.9"
  },
  "toc": {
   "base_numbering": 1,
   "nav_menu": {},
   "number_sections": true,
   "sideBar": true,
   "skip_h1_title": false,
   "title_cell": "Table of Contents",
   "title_sidebar": "Contents",
   "toc_cell": false,
   "toc_position": {},
   "toc_section_display": true,
   "toc_window_display": false
  }
 },
 "nbformat": 4,
 "nbformat_minor": 4
}
