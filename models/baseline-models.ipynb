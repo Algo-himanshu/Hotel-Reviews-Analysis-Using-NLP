{
 "cells": [
  {
   "cell_type": "markdown",
   "metadata": {},
   "source": [
    "# Importing"
   ]
  },
  {
   "cell_type": "code",
   "execution_count": 6,
   "metadata": {
    "ExecuteTime": {
     "end_time": "2020-12-15T16:41:06.758126Z",
     "start_time": "2020-12-15T16:41:06.737994Z"
    }
   },
   "outputs": [],
   "source": [
    "# Basic Packages\n",
    "import pandas as pd\n",
    "import numpy as np\n",
    "import os\n",
    "\n",
    "# NLP Packages\n",
    "import nltk \n",
    "from nltk.corpus import stopwords\n",
    "\n",
    "# WordCloud\n",
    "from wordcloud import WordCloud, STOPWORDS, ImageColorGenerator\n",
    "\n",
    "# Sklearn Packages\n",
    "from sklearn import metrics\n",
    "from sklearn.feature_extraction.text import CountVectorizer\n",
    "from sklearn.feature_extraction import text \n",
    "from sklearn.ensemble import RandomForestClassifier\n",
    "from sklearn.metrics import accuracy_score, precision_score, recall_score, f1_score, confusion_matrix, plot_confusion_matrix, roc_curve, auc, classification_report\n",
    "from sklearn.model_selection import train_test_split\n",
    "from sklearn.linear_model import LogisticRegression\n",
    "from sklearn.feature_extraction.text import TfidfVectorizer\n",
    "from sklearn.naive_bayes import GaussianNB\n",
    "from sklearn.model_selection import GridSearchCV\n",
    "from sklearn.exceptions import ConvergenceWarning\n",
    "from sklearn.utils import resample\n",
    "from sklearn.ensemble import BaggingClassifier\n",
    "from imblearn.over_sampling import SMOTE\n",
    "from sklearn.naive_bayes import MultinomialNB\n",
    "from sklearn.svm import SVC\n",
    "\n",
    "# Pandas Settings\n",
    "pd.set_option('display.max_columns', 100)\n",
    "pd.set_option('display.max_rows', 100)\n",
    "\n",
    "# Solve warnings\n",
    "import warnings\n",
    "warnings.filterwarnings(\"ignore\", category=DeprecationWarning)\n",
    "warnings.filterwarnings(\"ignore\", category=FutureWarning)\n",
    "warnings.filterwarnings(\"ignore\", category=ConvergenceWarning)\n",
    "\n",
    "# Import pickle\n",
    "import pickle"
   ]
  },
  {
   "cell_type": "markdown",
   "metadata": {},
   "source": [
    "## Importing DataFrame"
   ]
  },
  {
   "cell_type": "code",
   "execution_count": 7,
   "metadata": {
    "ExecuteTime": {
     "end_time": "2020-12-15T16:41:07.310926Z",
     "start_time": "2020-12-15T16:41:07.095549Z"
    },
    "scrolled": false
   },
   "outputs": [],
   "source": [
    "df = pd.read_csv('../csv/Hotel_Review_Spell_Checked.csv', index_col=0)"
   ]
  },
  {
   "cell_type": "code",
   "execution_count": 46,
   "metadata": {
    "ExecuteTime": {
     "end_time": "2020-12-15T19:04:36.908510Z",
     "start_time": "2020-12-15T19:04:36.563149Z"
    }
   },
   "outputs": [
    {
     "data": {
      "text/html": [
       "<div>\n",
       "<style scoped>\n",
       "    .dataframe tbody tr th:only-of-type {\n",
       "        vertical-align: middle;\n",
       "    }\n",
       "\n",
       "    .dataframe tbody tr th {\n",
       "        vertical-align: top;\n",
       "    }\n",
       "\n",
       "    .dataframe thead th {\n",
       "        text-align: right;\n",
       "    }\n",
       "</style>\n",
       "<table border=\"1\" class=\"dataframe\">\n",
       "  <thead>\n",
       "    <tr style=\"text-align: right;\">\n",
       "      <th></th>\n",
       "      <th>Unnamed: 0.1</th>\n",
       "      <th>Hotel_Name</th>\n",
       "      <th>Negative_Review</th>\n",
       "      <th>Positive_Review</th>\n",
       "      <th>Reviewer_Score</th>\n",
       "      <th>Reviews_Clean</th>\n",
       "      <th>Score</th>\n",
       "      <th>Spell_Checked</th>\n",
       "    </tr>\n",
       "  </thead>\n",
       "  <tbody>\n",
       "    <tr>\n",
       "      <th>0</th>\n",
       "      <td>185010</td>\n",
       "      <td>St James Court A Taj Hotel London</td>\n",
       "      <td>No Negative</td>\n",
       "      <td>the location was perfect</td>\n",
       "      <td>9.6</td>\n",
       "      <td>no negative the location was perfect</td>\n",
       "      <td>1</td>\n",
       "      <td>no negative the location was perfect</td>\n",
       "    </tr>\n",
       "    <tr>\n",
       "      <th>1</th>\n",
       "      <td>424531</td>\n",
       "      <td>H10 Metropolitan 4 Sup</td>\n",
       "      <td>Nothing</td>\n",
       "      <td>Everything was top notch staff were impeccable</td>\n",
       "      <td>10.0</td>\n",
       "      <td>nothing  everything was top notch staff were ...</td>\n",
       "      <td>1</td>\n",
       "      <td>nothing  everything was top notch staff were ...</td>\n",
       "    </tr>\n",
       "  </tbody>\n",
       "</table>\n",
       "</div>"
      ],
      "text/plain": [
       "   Unnamed: 0.1                         Hotel_Name Negative_Review  \\\n",
       "0        185010  St James Court A Taj Hotel London     No Negative   \n",
       "1        424531             H10 Metropolitan 4 Sup        Nothing    \n",
       "\n",
       "                                    Positive_Review  Reviewer_Score  \\\n",
       "0                         the location was perfect              9.6   \n",
       "1   Everything was top notch staff were impeccable             10.0   \n",
       "\n",
       "                                       Reviews_Clean  Score  \\\n",
       "0              no negative the location was perfect       1   \n",
       "1   nothing  everything was top notch staff were ...      1   \n",
       "\n",
       "                                       Spell_Checked  \n",
       "0              no negative the location was perfect   \n",
       "1   nothing  everything was top notch staff were ...  "
      ]
     },
     "execution_count": 46,
     "metadata": {},
     "output_type": "execute_result"
    }
   ],
   "source": [
    "df.head(2)"
   ]
  },
  {
   "cell_type": "markdown",
   "metadata": {},
   "source": [
    "## Importing Lemmatized X and Y Variables"
   ]
  },
  {
   "cell_type": "code",
   "execution_count": 8,
   "metadata": {
    "ExecuteTime": {
     "end_time": "2020-12-15T16:41:07.472223Z",
     "start_time": "2020-12-15T16:41:07.444630Z"
    }
   },
   "outputs": [],
   "source": [
    "X_lem = pickle.load(open('../pickle/X_lem.pkl', 'rb'))\n",
    "y_lem = pd.read_pickle('../pickle/y_lem.pkl')"
   ]
  },
  {
   "cell_type": "markdown",
   "metadata": {},
   "source": [
    "# Preprocessing"
   ]
  },
  {
   "cell_type": "code",
   "execution_count": 9,
   "metadata": {
    "ExecuteTime": {
     "end_time": "2020-12-15T16:41:07.778183Z",
     "start_time": "2020-12-15T16:41:07.768546Z"
    }
   },
   "outputs": [],
   "source": [
    "stop_words = stopwords.words('english')"
   ]
  },
  {
   "cell_type": "code",
   "execution_count": 10,
   "metadata": {
    "ExecuteTime": {
     "end_time": "2020-12-15T16:41:07.990080Z",
     "start_time": "2020-12-15T16:41:07.971218Z"
    }
   },
   "outputs": [],
   "source": [
    "df.dropna(inplace=True)"
   ]
  },
  {
   "cell_type": "markdown",
   "metadata": {},
   "source": [
    "## Train Test Split"
   ]
  },
  {
   "cell_type": "code",
   "execution_count": 11,
   "metadata": {
    "ExecuteTime": {
     "end_time": "2020-12-15T16:41:08.349064Z",
     "start_time": "2020-12-15T16:41:08.345638Z"
    }
   },
   "outputs": [],
   "source": [
    "X = df.Spell_Checked\n",
    "y = df.Score"
   ]
  },
  {
   "cell_type": "code",
   "execution_count": 12,
   "metadata": {
    "ExecuteTime": {
     "end_time": "2020-12-15T16:41:08.572016Z",
     "start_time": "2020-12-15T16:41:08.565027Z"
    }
   },
   "outputs": [],
   "source": [
    "X_train, X_test, y_train, y_test = train_test_split(X, y, test_size=0.25, random_state=1)"
   ]
  },
  {
   "cell_type": "markdown",
   "metadata": {},
   "source": [
    "### Train Test Split with Lemmatization"
   ]
  },
  {
   "cell_type": "code",
   "execution_count": 13,
   "metadata": {
    "ExecuteTime": {
     "end_time": "2020-12-15T16:41:08.932121Z",
     "start_time": "2020-12-15T16:41:08.920698Z"
    }
   },
   "outputs": [],
   "source": [
    "X_train_lem, X_test_lem, y_train_lem, y_test_lem = train_test_split(X_lem, y_lem, test_size=0.25, random_state=15)"
   ]
  },
  {
   "cell_type": "markdown",
   "metadata": {},
   "source": [
    "## Count Vectorizer"
   ]
  },
  {
   "cell_type": "code",
   "execution_count": 14,
   "metadata": {
    "ExecuteTime": {
     "end_time": "2020-12-15T16:41:10.124029Z",
     "start_time": "2020-12-15T16:41:09.336204Z"
    }
   },
   "outputs": [],
   "source": [
    "# Instantiate CountVectorizer\n",
    "cv = CountVectorizer(stop_words=stop_words)\n",
    "\n",
    "X_train_cv = cv.fit_transform(X_train)\n",
    "X_test_cv = cv.transform(X_test)"
   ]
  },
  {
   "cell_type": "markdown",
   "metadata": {},
   "source": [
    "## TF-IDF"
   ]
  },
  {
   "cell_type": "code",
   "execution_count": 15,
   "metadata": {
    "ExecuteTime": {
     "end_time": "2020-12-15T16:41:10.981814Z",
     "start_time": "2020-12-15T16:41:10.126990Z"
    }
   },
   "outputs": [],
   "source": [
    "tfidf = TfidfVectorizer(stop_words)\n",
    "\n",
    "X_train_tfidf = tfidf.fit_transform(X_train)\n",
    "X_test_tfidf = tfidf.transform(X_test)"
   ]
  },
  {
   "cell_type": "markdown",
   "metadata": {},
   "source": [
    "### TF-DF With Lemmatization"
   ]
  },
  {
   "cell_type": "code",
   "execution_count": 16,
   "metadata": {
    "ExecuteTime": {
     "end_time": "2020-12-15T16:41:11.500699Z",
     "start_time": "2020-12-15T16:41:10.984234Z"
    }
   },
   "outputs": [],
   "source": [
    "# Save Train and Test data\n",
    "X_train_lem = tfidf.fit_transform(X_train_lem)\n",
    "X_test_lem = tfidf.transform(X_test_lem)"
   ]
  },
  {
   "cell_type": "markdown",
   "metadata": {},
   "source": [
    "## Evaluation Metric"
   ]
  },
  {
   "cell_type": "code",
   "execution_count": 17,
   "metadata": {
    "ExecuteTime": {
     "end_time": "2020-12-15T16:41:11.510956Z",
     "start_time": "2020-12-15T16:41:11.504072Z"
    }
   },
   "outputs": [],
   "source": [
    "# Evaluation function\n",
    "\n",
    "def evaluation(y_true, y_pred):\n",
    "    \n",
    "# Print Accuracy, Recall, F1 Score, and Precision metrics.\n",
    "    e_val_dict = {}\n",
    "    e_val_dict['precision'] = metrics.precision_score(y_true, y_pred)\n",
    "    print('Evaluation Metrics:')\n",
    "#     print('Precision: ' + str(e_val_dict))\n",
    "    print('Accuracy: ' + str(metrics.accuracy_score(y_true, y_pred)))\n",
    "    print('F1 Score Macro: ' + str(metrics.f1_score(y_true, y_pred, average=\"macro\")))\n",
    "    print('F1 Score Micro: ' + str(metrics.f1_score(y_true, y_pred, average=\"micro\")))\n",
    "    print('Recall: ' + str(metrics.recall_score(y_true, y_pred)))\n",
    "#     return e_val_dict"
   ]
  },
  {
   "cell_type": "markdown",
   "metadata": {},
   "source": [
    "## Modeling With Count Vectorizer"
   ]
  },
  {
   "cell_type": "markdown",
   "metadata": {},
   "source": [
    "### Logistic Regression"
   ]
  },
  {
   "cell_type": "code",
   "execution_count": 18,
   "metadata": {
    "ExecuteTime": {
     "end_time": "2020-12-15T16:41:12.486159Z",
     "start_time": "2020-12-15T16:41:11.653679Z"
    }
   },
   "outputs": [],
   "source": [
    "# Baseline Regression Model\n",
    "lg_base = LogisticRegression()\n",
    "lg_base.fit(X_train_cv, y_train) \n",
    "y_lg_base_cv = lg_base.predict(X_test_cv)"
   ]
  },
  {
   "cell_type": "code",
   "execution_count": 19,
   "metadata": {
    "ExecuteTime": {
     "end_time": "2020-12-15T16:41:12.515534Z",
     "start_time": "2020-12-15T16:41:12.488824Z"
    },
    "scrolled": false
   },
   "outputs": [
    {
     "name": "stdout",
     "output_type": "stream",
     "text": [
      "Evaluation Metrics:\n",
      "Accuracy: 0.798149861239593\n",
      "F1 Score Macro: 0.7979942808743291\n",
      "F1 Score Micro: 0.7981498612395929\n",
      "Recall: 0.7968582649053909\n"
     ]
    }
   ],
   "source": [
    "# Logistic Regression baseline evaluation\n",
    "evaluation(y_test, y_lg_base_cv)"
   ]
  },
  {
   "cell_type": "code",
   "execution_count": 20,
   "metadata": {
    "ExecuteTime": {
     "end_time": "2020-12-15T16:41:12.522435Z",
     "start_time": "2020-12-15T16:41:12.518730Z"
    }
   },
   "outputs": [],
   "source": [
    "# # creating dictionary with all metrics\n",
    "# logreg_precision = precision_score(y_test, y_lg_base_cv)\n",
    "# logreg_recall = recall_score(y_test, y_lg_base_cv)\n",
    "# logreg_f1_micro = f1_score(y_test, y_lg_base_cv, average='Micro')\n",
    "# logreg_f1_micro = f1_score(y_test, y_lg_base_cv, average='Macro')\n",
    "\n",
    "# metric_dict = {}\n",
    "# metric_dict['Baseline Logisitic Regression'] = {'precision': logreg_precision, 'recall': logreg_recall, 'f1_score': logreg_f1_score, 'weighted_f1': logreg_f1_weighted}"
   ]
  },
  {
   "cell_type": "markdown",
   "metadata": {},
   "source": [
    "### Random Forest"
   ]
  },
  {
   "cell_type": "code",
   "execution_count": 21,
   "metadata": {
    "ExecuteTime": {
     "end_time": "2020-12-15T16:41:21.739262Z",
     "start_time": "2020-12-15T16:41:16.435755Z"
    }
   },
   "outputs": [],
   "source": [
    "rf_cv = RandomForestClassifier(n_jobs=-1)\n",
    "rf_cv.fit(X_train_cv, y_train)\n",
    "y_rf_cv = rf_cv.predict(X_test_cv)"
   ]
  },
  {
   "cell_type": "code",
   "execution_count": 22,
   "metadata": {
    "ExecuteTime": {
     "end_time": "2020-12-15T16:41:21.764845Z",
     "start_time": "2020-12-15T16:41:21.741787Z"
    },
    "scrolled": true
   },
   "outputs": [
    {
     "name": "stdout",
     "output_type": "stream",
     "text": [
      "Evaluation Metrics:\n",
      "Accuracy: 0.8033302497687327\n",
      "F1 Score Macro: 0.8033183737472427\n",
      "F1 Score Micro: 0.8033302497687327\n",
      "Recall: 0.767583006069261\n"
     ]
    }
   ],
   "source": [
    "# Random Forest baseline evaluation\n",
    "evaluation(y_test, y_rf_cv)"
   ]
  },
  {
   "cell_type": "markdown",
   "metadata": {},
   "source": [
    "### Naive Bayes"
   ]
  },
  {
   "cell_type": "code",
   "execution_count": 34,
   "metadata": {
    "ExecuteTime": {
     "end_time": "2020-12-15T16:45:19.336779Z",
     "start_time": "2020-12-15T16:45:19.324938Z"
    },
    "scrolled": false
   },
   "outputs": [],
   "source": [
    "nb_base_cv = MultinomialNB(alpha = .01)\n",
    "nb_base_cv.fit(X_train_cv, y_train)\n",
    "\n",
    "y_nb_base_cv = nb_base_cv.predict(X_test_cv)"
   ]
  },
  {
   "cell_type": "code",
   "execution_count": 35,
   "metadata": {
    "ExecuteTime": {
     "end_time": "2020-12-15T16:45:19.364499Z",
     "start_time": "2020-12-15T16:45:19.339903Z"
    }
   },
   "outputs": [
    {
     "name": "stdout",
     "output_type": "stream",
     "text": [
      "Evaluation Metrics:\n",
      "Accuracy: 0.7811285846438483\n",
      "F1 Score Macro: 0.7809553525221078\n",
      "F1 Score Micro: 0.7811285846438483\n",
      "Recall: 0.7807925740806855\n"
     ]
    }
   ],
   "source": [
    "# Naive Bayes baseline evaluation\n",
    "evaluation(y_test, y_nb_base_cv)"
   ]
  },
  {
   "cell_type": "markdown",
   "metadata": {},
   "source": [
    "### SVC"
   ]
  },
  {
   "cell_type": "code",
   "execution_count": 28,
   "metadata": {
    "ExecuteTime": {
     "end_time": "2020-12-15T16:43:18.037747Z",
     "start_time": "2020-12-15T16:41:51.007169Z"
    }
   },
   "outputs": [],
   "source": [
    "svc = SVC(kernel='linear')\n",
    "svc.fit(X_train_cv, y_train)\n",
    "y_pred_svc = svc.predict(X_test_cv)"
   ]
  },
  {
   "cell_type": "code",
   "execution_count": 29,
   "metadata": {
    "ExecuteTime": {
     "end_time": "2020-12-15T16:43:18.058348Z",
     "start_time": "2020-12-15T16:43:18.039804Z"
    }
   },
   "outputs": [
    {
     "name": "stdout",
     "output_type": "stream",
     "text": [
      "Evaluation Metrics:\n",
      "Accuracy: 0.7839037927844589\n",
      "F1 Score Macro: 0.7836872803307368\n",
      "F1 Score Micro: 0.7839037927844589\n",
      "Recall: 0.7868618350589075\n"
     ]
    }
   ],
   "source": [
    "evaluation(y_test, y_pred_svc)"
   ]
  },
  {
   "cell_type": "markdown",
   "metadata": {},
   "source": [
    "## Modeling with TF-IDF"
   ]
  },
  {
   "cell_type": "markdown",
   "metadata": {},
   "source": [
    "### Logistic Regression"
   ]
  },
  {
   "cell_type": "code",
   "execution_count": 91,
   "metadata": {
    "ExecuteTime": {
     "end_time": "2020-12-15T01:07:08.132775Z",
     "start_time": "2020-12-15T01:07:07.376175Z"
    }
   },
   "outputs": [],
   "source": [
    "# Baseline Regression Model\n",
    "lg_base_tfidf = LogisticRegression()\n",
    "lg_base_tfidf.fit(X_train_tfidf, y_train) \n",
    "y_lg_base_tfidf = lg_base_tfidf.predict(X_test_tfidf)\n",
    "# 28 seconds"
   ]
  },
  {
   "cell_type": "code",
   "execution_count": 92,
   "metadata": {
    "ExecuteTime": {
     "end_time": "2020-12-15T01:07:08.163831Z",
     "start_time": "2020-12-15T01:07:08.137496Z"
    },
    "scrolled": true
   },
   "outputs": [
    {
     "name": "stdout",
     "output_type": "stream",
     "text": [
      "Evaluation Metrics:\n",
      "Accuracy: 0.8225716928769657\n",
      "F1 Score Macro: 0.8225714742344841\n",
      "F1 Score Micro: 0.8225716928769659\n",
      "Recall: 0.7925740806854695\n"
     ]
    }
   ],
   "source": [
    "# Logistic Regression TF-IDF baseline evaluation\n",
    "evaluation(y_test, y_lg_base_tfidf)"
   ]
  },
  {
   "cell_type": "markdown",
   "metadata": {},
   "source": [
    "### Random Forest "
   ]
  },
  {
   "cell_type": "code",
   "execution_count": 93,
   "metadata": {
    "ExecuteTime": {
     "end_time": "2020-12-15T01:07:36.069637Z",
     "start_time": "2020-12-15T01:07:08.169240Z"
    }
   },
   "outputs": [],
   "source": [
    "rf_base_tfidf = RandomForestClassifier()\n",
    "rf_base_tfidf.fit(X_train_tfidf, y_train)\n",
    "y_rf_base_tfidf = rf_base_tfidf.predict(X_test_tfidf)"
   ]
  },
  {
   "cell_type": "code",
   "execution_count": 94,
   "metadata": {
    "ExecuteTime": {
     "end_time": "2020-12-15T01:07:36.089040Z",
     "start_time": "2020-12-15T01:07:36.071721Z"
    }
   },
   "outputs": [
    {
     "name": "stdout",
     "output_type": "stream",
     "text": [
      "Evaluation Metrics:\n",
      "Accuracy: 0.7994449583718779\n",
      "F1 Score Macro: 0.7993905657529674\n",
      "F1 Score Micro: 0.7994449583718779\n",
      "Recall: 0.7554444841128168\n"
     ]
    }
   ],
   "source": [
    "# Logistic Regression TF-IDF baseline evaluation\n",
    "evaluation(y_test, y_rf_base_tfidf)"
   ]
  },
  {
   "cell_type": "markdown",
   "metadata": {
    "ExecuteTime": {
     "end_time": "2020-12-15T16:43:18.063837Z",
     "start_time": "2020-12-15T16:43:18.061209Z"
    }
   },
   "source": [
    "### SVC"
   ]
  },
  {
   "cell_type": "code",
   "execution_count": 32,
   "metadata": {
    "ExecuteTime": {
     "end_time": "2020-12-15T16:45:19.296357Z",
     "start_time": "2020-12-15T16:44:19.222424Z"
    }
   },
   "outputs": [],
   "source": [
    "svc = SVC(kernel='linear')\n",
    "svc.fit(X_train_tfidf, y_train)\n",
    "y_pred_svc_tfidf = svc.predict(X_test_tfidf)"
   ]
  },
  {
   "cell_type": "code",
   "execution_count": 33,
   "metadata": {
    "ExecuteTime": {
     "end_time": "2020-12-15T16:45:19.321890Z",
     "start_time": "2020-12-15T16:45:19.298266Z"
    }
   },
   "outputs": [
    {
     "name": "stdout",
     "output_type": "stream",
     "text": [
      "Evaluation Metrics:\n",
      "Accuracy: 0.8159111933395005\n",
      "F1 Score Macro: 0.8159091516682533\n",
      "F1 Score Micro: 0.8159111933395005\n",
      "Recall: 0.7840057122456265\n"
     ]
    }
   ],
   "source": [
    "evaluation(y_test, y_pred_svc_tfidf)"
   ]
  },
  {
   "cell_type": "code",
   "execution_count": 44,
   "metadata": {
    "ExecuteTime": {
     "end_time": "2020-12-15T17:39:29.630247Z",
     "start_time": "2020-12-15T17:36:54.983591Z"
    }
   },
   "outputs": [],
   "source": [
    "svc = SVC(kernel='rbf')\n",
    "svc.fit(X_train_tfidf, y_train)\n",
    "y_pred_svc_tfidf = svc.predict(X_test_tfidf)"
   ]
  },
  {
   "cell_type": "code",
   "execution_count": 45,
   "metadata": {
    "ExecuteTime": {
     "end_time": "2020-12-15T17:39:29.654669Z",
     "start_time": "2020-12-15T17:39:29.632905Z"
    }
   },
   "outputs": [
    {
     "name": "stdout",
     "output_type": "stream",
     "text": [
      "Evaluation Metrics:\n",
      "Accuracy: 0.8268270120259019\n",
      "F1 Score Macro: 0.8268019637245034\n",
      "F1 Score Micro: 0.8268270120259019\n",
      "Recall: 0.7861478043555873\n"
     ]
    }
   ],
   "source": [
    "evaluation(y_test, y_pred_svc_tfidf)"
   ]
  },
  {
   "cell_type": "markdown",
   "metadata": {},
   "source": [
    "## TF-IDF With Lemmatization"
   ]
  },
  {
   "cell_type": "markdown",
   "metadata": {},
   "source": [
    "### Logistic Regression"
   ]
  },
  {
   "cell_type": "code",
   "execution_count": 95,
   "metadata": {
    "ExecuteTime": {
     "end_time": "2020-12-15T01:07:36.472245Z",
     "start_time": "2020-12-15T01:07:36.091478Z"
    }
   },
   "outputs": [],
   "source": [
    "# Baseline Regression Model\n",
    "lg_base_tfidf = LogisticRegression(random_state=1)\n",
    "lg_base_tfidf.fit(X_train_lem, y_train_lem) \n",
    "y_lg_base_tfidf_lem = lg_base_tfidf.predict(X_test_lem)\n",
    "# 28 seconds"
   ]
  },
  {
   "cell_type": "code",
   "execution_count": 96,
   "metadata": {
    "ExecuteTime": {
     "end_time": "2020-12-15T01:07:36.519414Z",
     "start_time": "2020-12-15T01:07:36.475545Z"
    },
    "scrolled": false
   },
   "outputs": [
    {
     "name": "stdout",
     "output_type": "stream",
     "text": [
      "Evaluation Metrics:\n",
      "Accuracy: 0.8177613320999075\n",
      "F1 Score Macro: 0.8177523239045533\n",
      "F1 Score Micro: 0.8177613320999075\n",
      "Recall: 0.8019765739385066\n"
     ]
    }
   ],
   "source": [
    "# Logistic Regression TF-IDF baseline evaluation\n",
    "evaluation(y_test_lem, y_lg_base_tfidf_lem)"
   ]
  },
  {
   "cell_type": "markdown",
   "metadata": {},
   "source": [
    "### Random Forest"
   ]
  },
  {
   "cell_type": "code",
   "execution_count": 97,
   "metadata": {
    "ExecuteTime": {
     "end_time": "2020-12-15T01:07:58.414749Z",
     "start_time": "2020-12-15T01:07:36.522737Z"
    }
   },
   "outputs": [],
   "source": [
    "rf_base_tfidf = RandomForestClassifier(random_state=1)\n",
    "rf_base_tfidf.fit(X_train_lem, y_train_lem) \n",
    "y_rf_base_tfidf = rf_base_tfidf.predict(X_test_lem)"
   ]
  },
  {
   "cell_type": "code",
   "execution_count": 98,
   "metadata": {
    "ExecuteTime": {
     "end_time": "2020-12-15T01:07:58.472298Z",
     "start_time": "2020-12-15T01:07:58.416926Z"
    },
    "scrolled": true
   },
   "outputs": [
    {
     "name": "stdout",
     "output_type": "stream",
     "text": [
      "Evaluation Metrics:\n",
      "Accuracy: 0.801295097132285\n",
      "F1 Score Macro: 0.8012336928608115\n",
      "F1 Score Micro: 0.801295097132285\n",
      "Recall: 0.7752562225475842\n"
     ]
    }
   ],
   "source": [
    "# Logistic Regression TF-IDF baseline evaluation\n",
    "evaluation(y_test_lem, y_rf_base_tfidf)"
   ]
  },
  {
   "cell_type": "markdown",
   "metadata": {},
   "source": [
    "### SVC"
   ]
  },
  {
   "cell_type": "code",
   "execution_count": 41,
   "metadata": {
    "ExecuteTime": {
     "end_time": "2020-12-15T16:50:03.913449Z",
     "start_time": "2020-12-15T16:49:27.343141Z"
    }
   },
   "outputs": [],
   "source": [
    "svc = SVC(kernel='linear')\n",
    "svc.fit(X_train_lem, y_train_lem)\n",
    "y_pred_svc_lem = svc.predict(X_test_lem)"
   ]
  },
  {
   "cell_type": "code",
   "execution_count": 43,
   "metadata": {
    "ExecuteTime": {
     "end_time": "2020-12-15T16:50:03.957476Z",
     "start_time": "2020-12-15T16:50:03.937160Z"
    }
   },
   "outputs": [
    {
     "name": "stdout",
     "output_type": "stream",
     "text": [
      "Evaluation Metrics:\n",
      "Accuracy: 0.8144310823311748\n",
      "F1 Score Macro: 0.8144111601670185\n",
      "F1 Score Micro: 0.8144310823311748\n",
      "Recall: 0.7953879941434846\n"
     ]
    }
   ],
   "source": [
    "evaluation(y_test_lem, y_pred_svc_lem)"
   ]
  },
  {
   "cell_type": "markdown",
   "metadata": {},
   "source": [
    "## SMOTE"
   ]
  },
  {
   "cell_type": "markdown",
   "metadata": {},
   "source": [
    "### Train Test Split"
   ]
  },
  {
   "cell_type": "code",
   "execution_count": 99,
   "metadata": {
    "ExecuteTime": {
     "end_time": "2020-12-15T01:08:05.378591Z",
     "start_time": "2020-12-15T01:07:58.475474Z"
    }
   },
   "outputs": [],
   "source": [
    "smote = SMOTE()\n",
    "X_train_smote_cv, y_train_smote_cv = smote.fit_sample(X_train_cv, y_train) \n",
    "\n",
    "smote = SMOTE()\n",
    "X_train_smote_tfidf, y_train_smote_tfidf = smote.fit_sample(X_train_tfidf, y_train) "
   ]
  },
  {
   "cell_type": "markdown",
   "metadata": {},
   "source": [
    "### Logistic Regression - Count Vectorizer"
   ]
  },
  {
   "cell_type": "code",
   "execution_count": 100,
   "metadata": {
    "ExecuteTime": {
     "end_time": "2020-12-15T01:08:05.962305Z",
     "start_time": "2020-12-15T01:08:05.384826Z"
    }
   },
   "outputs": [],
   "source": [
    "lg_base_smote_cv = LogisticRegression(random_state=1)\n",
    "lg_base_smote_cv.fit(X_train_smote_cv, y_train_smote_cv)\n",
    "\n",
    "y_rf_base_smote_cv_smote = lg_base_smote_cv.predict(X_test_cv)"
   ]
  },
  {
   "cell_type": "code",
   "execution_count": 101,
   "metadata": {
    "ExecuteTime": {
     "end_time": "2020-12-15T01:08:05.988220Z",
     "start_time": "2020-12-15T01:08:05.965198Z"
    }
   },
   "outputs": [
    {
     "name": "stdout",
     "output_type": "stream",
     "text": [
      "Evaluation Metrics:\n",
      "Accuracy: 0.7994449583718779\n",
      "F1 Score Macro: 0.7994284740896296\n",
      "F1 Score Micro: 0.7994449583718779\n",
      "Recall: 0.7800785433773653\n"
     ]
    }
   ],
   "source": [
    "evaluation(y_test, y_rf_base_smote_cv_smote)"
   ]
  },
  {
   "cell_type": "markdown",
   "metadata": {},
   "source": [
    "### Random Forest - Count Vectorizer"
   ]
  },
  {
   "cell_type": "code",
   "execution_count": 102,
   "metadata": {
    "ExecuteTime": {
     "end_time": "2020-12-15T01:08:31.411139Z",
     "start_time": "2020-12-15T01:08:05.990938Z"
    }
   },
   "outputs": [],
   "source": [
    "rf_base_tfidf = RandomForestClassifier(random_state=1)\n",
    "rf_base_tfidf.fit(X_train_smote_cv, y_train_smote_cv)\n",
    "y_rf_base_tfidf_smote = rf_base_tfidf.predict(X_test_cv)"
   ]
  },
  {
   "cell_type": "code",
   "execution_count": 103,
   "metadata": {
    "ExecuteTime": {
     "end_time": "2020-12-15T01:08:31.430627Z",
     "start_time": "2020-12-15T01:08:31.413267Z"
    }
   },
   "outputs": [
    {
     "name": "stdout",
     "output_type": "stream",
     "text": [
      "Evaluation Metrics:\n",
      "Accuracy: 0.8005550416281221\n",
      "F1 Score Macro: 0.8003552124970327\n",
      "F1 Score Micro: 0.8005550416281221\n",
      "Recall: 0.7418779007497323\n"
     ]
    }
   ],
   "source": [
    "evaluation(y_test, y_rf_base_tfidf_smote)"
   ]
  },
  {
   "cell_type": "markdown",
   "metadata": {},
   "source": [
    "### Logistic Regression - TF-IDF"
   ]
  },
  {
   "cell_type": "code",
   "execution_count": 104,
   "metadata": {
    "ExecuteTime": {
     "end_time": "2020-12-15T01:08:31.817028Z",
     "start_time": "2020-12-15T01:08:31.433092Z"
    }
   },
   "outputs": [],
   "source": [
    "# Baseline Regression Model\n",
    "lg_base_tfidf_smote = LogisticRegression()\n",
    "lg_base_tfidf_smote.fit(X_train_smote_tfidf, y_train_smote_tfidf) \n",
    "y_lg_base_tfidf_smote = lg_base_tfidf_smote.predict(X_test_tfidf)"
   ]
  },
  {
   "cell_type": "code",
   "execution_count": 105,
   "metadata": {
    "ExecuteTime": {
     "end_time": "2020-12-15T01:08:31.842328Z",
     "start_time": "2020-12-15T01:08:31.819586Z"
    },
    "scrolled": false
   },
   "outputs": [
    {
     "name": "stdout",
     "output_type": "stream",
     "text": [
      "Evaluation Metrics:\n",
      "Accuracy: 0.8227567067530065\n",
      "F1 Score Macro: 0.822742138540466\n",
      "F1 Score Micro: 0.8227567067530064\n",
      "Recall: 0.785076758300607\n"
     ]
    }
   ],
   "source": [
    "evaluation(y_test, y_lg_base_tfidf_smote)"
   ]
  },
  {
   "cell_type": "markdown",
   "metadata": {},
   "source": [
    "### Random Forest - TF-IDF"
   ]
  },
  {
   "cell_type": "code",
   "execution_count": 106,
   "metadata": {
    "ExecuteTime": {
     "end_time": "2020-12-15T01:08:57.927893Z",
     "start_time": "2020-12-15T01:08:31.845133Z"
    }
   },
   "outputs": [],
   "source": [
    "rf_base_tfidf = RandomForestClassifier(random_state=1)\n",
    "rf_base_tfidf.fit(X_train_smote_tfidf, y_train_smote_tfidf)\n",
    "y_rf_base_tfidf_smote = rf_base_tfidf.predict(X_test_tfidf)"
   ]
  },
  {
   "cell_type": "code",
   "execution_count": 107,
   "metadata": {
    "ExecuteTime": {
     "end_time": "2020-12-15T01:08:57.949246Z",
     "start_time": "2020-12-15T01:08:57.929838Z"
    },
    "scrolled": true
   },
   "outputs": [
    {
     "name": "stdout",
     "output_type": "stream",
     "text": [
      "Evaluation Metrics:\n",
      "Accuracy: 0.801295097132285\n",
      "F1 Score Macro: 0.801167354038615\n",
      "F1 Score Micro: 0.801295097132285\n",
      "Recall: 0.7486611924312745\n"
     ]
    }
   ],
   "source": [
    "evaluation(y_test, y_rf_base_tfidf_smote)"
   ]
  },
  {
   "cell_type": "markdown",
   "metadata": {},
   "source": [
    "# Pickle Train Test Set"
   ]
  },
  {
   "cell_type": "code",
   "execution_count": 118,
   "metadata": {
    "ExecuteTime": {
     "end_time": "2020-12-15T01:19:11.384847Z",
     "start_time": "2020-12-15T01:19:11.364517Z"
    }
   },
   "outputs": [],
   "source": [
    "# Pickling Train Set - Features\n",
    "pickle_out = open(\"../pickle/X_train_tfidf.pkl\",'wb')\n",
    "pickle.dump(X_train_tfidf, pickle_out)\n",
    "pickle_out.close()"
   ]
  },
  {
   "cell_type": "code",
   "execution_count": 119,
   "metadata": {
    "ExecuteTime": {
     "end_time": "2020-12-15T01:19:11.850662Z",
     "start_time": "2020-12-15T01:19:11.839841Z"
    }
   },
   "outputs": [],
   "source": [
    "# Pickling Test Set - Features\n",
    "pickle_out = open(\"../pickle/X_test_tfidf.pkl\",'wb')\n",
    "pickle.dump(X_test_tfidf, pickle_out)\n",
    "pickle_out.close()"
   ]
  },
  {
   "cell_type": "code",
   "execution_count": 122,
   "metadata": {
    "ExecuteTime": {
     "end_time": "2020-12-15T01:20:13.002518Z",
     "start_time": "2020-12-15T01:20:12.992490Z"
    }
   },
   "outputs": [],
   "source": [
    "# Pickling Train and Test Set = Target\n",
    "y_train.to_pickle(\"../pickle/y_train.pkl\")\n",
    "y_test.to_pickle(\"../pickle/y_test.pkl\")"
   ]
  },
  {
   "cell_type": "code",
   "execution_count": null,
   "metadata": {},
   "outputs": [],
   "source": []
  },
  {
   "cell_type": "code",
   "execution_count": null,
   "metadata": {},
   "outputs": [],
   "source": [
    "bag_clf = BaggingClassifier(lg_base_tfidf, n_estimators=500,\n",
    "                             bootstrap=True, n_jobs=-1, verbose=1)\n",
    "bag_clf.fit(X_train_tfidf, y_train)"
   ]
  },
  {
   "cell_type": "code",
   "execution_count": null,
   "metadata": {},
   "outputs": [],
   "source": [
    "y_bag_clf = bag_clf.predict(X_test_tfidf)"
   ]
  }
 ],
 "metadata": {
  "kernelspec": {
   "display_name": "Python 3",
   "language": "python",
   "name": "python3"
  },
  "language_info": {
   "codemirror_mode": {
    "name": "ipython",
    "version": 3
   },
   "file_extension": ".py",
   "mimetype": "text/x-python",
   "name": "python",
   "nbconvert_exporter": "python",
   "pygments_lexer": "ipython3",
   "version": "3.6.9"
  },
  "toc": {
   "base_numbering": 1,
   "nav_menu": {},
   "number_sections": true,
   "sideBar": true,
   "skip_h1_title": false,
   "title_cell": "Table of Contents",
   "title_sidebar": "Contents",
   "toc_cell": false,
   "toc_position": {},
   "toc_section_display": true,
   "toc_window_display": false
  }
 },
 "nbformat": 4,
 "nbformat_minor": 4
}
