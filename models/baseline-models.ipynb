{
 "cells": [
  {
   "cell_type": "code",
   "execution_count": 102,
   "metadata": {
    "ExecuteTime": {
     "end_time": "2020-12-14T05:56:31.252956Z",
     "start_time": "2020-12-14T05:56:31.235044Z"
    }
   },
   "outputs": [],
   "source": [
    "# Importing Packages\n",
    "import pandas as pd\n",
    "import numpy as np\n",
    "import os\n",
    "\n",
    "# NLP Packages\n",
    "import nltk \n",
    "from nltk.corpus import stopwords\n",
    "from textblob import TextBlob \n",
    "from textblob import Word\n",
    "import re\n",
    "import string\n",
    "\n",
    "# WordCloud\n",
    "from wordcloud import WordCloud, STOPWORDS, ImageColorGenerator\n",
    "\n",
    "# Sklearn Packages\n",
    "from sklearn import metrics\n",
    "from sklearn.feature_extraction.text import CountVectorizer\n",
    "from sklearn.feature_extraction import text \n",
    "from sklearn.neighbors import KNeighborsClassifier\n",
    "from sklearn.ensemble import RandomForestClassifier\n",
    "from sklearn.metrics import accuracy_score, precision_score, recall_score, f1_score, confusion_matrix, plot_confusion_matrix, roc_curve, auc, classification_report\n",
    "from sklearn.model_selection import train_test_split\n",
    "from sklearn.linear_model import LogisticRegression\n",
    "from sklearn.feature_extraction.text import TfidfVectorizer\n",
    "from sklearn.naive_bayes import GaussianNB\n",
    "from sklearn.model_selection import GridSearchCV\n",
    "from sklearn.exceptions import ConvergenceWarning\n",
    "\n",
    "# ImbLearn Packages\n",
    "from imblearn.over_sampling import SMOTE\n",
    "\n",
    "# Pandas Settings\n",
    "pd.set_option('display.max_columns', 100)\n",
    "pd.set_option('display.max_rows', 100)\n",
    "\n",
    "# Solve warnings\n",
    "import warnings\n",
    "warnings.filterwarnings(\"ignore\", category=DeprecationWarning)\n",
    "warnings.filterwarnings(\"ignore\", category=FutureWarning)\n",
    "warnings.filterwarnings(\"ignore\", category=ConvergenceWarning)\n",
    "\n",
    "# Import pickle\n"
   ]
  },
  {
   "cell_type": "code",
   "execution_count": 103,
   "metadata": {
    "ExecuteTime": {
     "end_time": "2020-12-14T05:56:40.610068Z",
     "start_time": "2020-12-14T05:56:40.392659Z"
    },
    "scrolled": false
   },
   "outputs": [],
   "source": [
    "df = pd.read_csv('../csv/Hotel_Review_Spell_Checked.csv', index_col=0)"
   ]
  },
  {
   "cell_type": "markdown",
   "metadata": {},
   "source": [
    "# Preprocessing"
   ]
  },
  {
   "cell_type": "code",
   "execution_count": 104,
   "metadata": {
    "ExecuteTime": {
     "end_time": "2020-12-14T05:56:41.501921Z",
     "start_time": "2020-12-14T05:56:41.493232Z"
    }
   },
   "outputs": [],
   "source": [
    "stop_words = stopwords.words('english')"
   ]
  },
  {
   "cell_type": "code",
   "execution_count": 105,
   "metadata": {
    "ExecuteTime": {
     "end_time": "2020-12-14T05:56:41.968672Z",
     "start_time": "2020-12-14T05:56:41.955562Z"
    },
    "scrolled": true
   },
   "outputs": [
    {
     "data": {
      "text/plain": [
       "Unnamed: 0.1       0\n",
       "Hotel_Name         0\n",
       "Negative_Review    0\n",
       "Positive_Review    0\n",
       "Reviewer_Score     0\n",
       "Reviews_Clean      0\n",
       "Score              0\n",
       "Spell_Checked      0\n",
       "dtype: int64"
      ]
     },
     "execution_count": 105,
     "metadata": {},
     "output_type": "execute_result"
    }
   ],
   "source": [
    "df.isna().sum()"
   ]
  },
  {
   "cell_type": "code",
   "execution_count": 106,
   "metadata": {
    "ExecuteTime": {
     "end_time": "2020-12-14T05:56:42.455596Z",
     "start_time": "2020-12-14T05:56:42.438596Z"
    }
   },
   "outputs": [],
   "source": [
    "df.dropna(inplace=True)"
   ]
  },
  {
   "cell_type": "markdown",
   "metadata": {},
   "source": [
    "## Count Vectorizer"
   ]
  },
  {
   "cell_type": "code",
   "execution_count": 107,
   "metadata": {
    "ExecuteTime": {
     "end_time": "2020-12-14T05:56:44.580813Z",
     "start_time": "2020-12-14T05:56:43.394669Z"
    }
   },
   "outputs": [],
   "source": [
    "# Instantiate CountVectorizer\n",
    "cv = CountVectorizer(stop_words=stop_words)\n",
    "\n",
    "# Fit and transform dataframe without data cleaning\n",
    "df_cv = cv.fit_transform(df['Spell_Checked'])\n",
    "df_cv = pd.DataFrame(df_cv.toarray(), columns = cv.get_feature_names())\n",
    "df_cv.index = df.index"
   ]
  },
  {
   "cell_type": "code",
   "execution_count": 108,
   "metadata": {
    "ExecuteTime": {
     "end_time": "2020-12-14T05:57:19.522572Z",
     "start_time": "2020-12-14T05:56:59.777830Z"
    }
   },
   "outputs": [],
   "source": [
    "# Using Sparse in the DataFrame\n",
    "df_sparse = df_cv.astype('Sparse')"
   ]
  },
  {
   "cell_type": "code",
   "execution_count": 109,
   "metadata": {
    "ExecuteTime": {
     "end_time": "2020-12-14T05:57:19.528094Z",
     "start_time": "2020-12-14T05:57:19.524822Z"
    }
   },
   "outputs": [],
   "source": [
    "y = df.Score\n",
    "X_cv = df_cv"
   ]
  },
  {
   "cell_type": "code",
   "execution_count": 110,
   "metadata": {
    "ExecuteTime": {
     "end_time": "2020-12-14T05:57:21.633896Z",
     "start_time": "2020-12-14T05:57:19.532332Z"
    }
   },
   "outputs": [],
   "source": [
    "# Running Train Test Split\n",
    "X_train_cv, X_test_cv, y_train_cv, y_test_cv = train_test_split(X_cv, y, test_size= 0.25)"
   ]
  },
  {
   "cell_type": "markdown",
   "metadata": {},
   "source": [
    "## TF-IDF"
   ]
  },
  {
   "cell_type": "code",
   "execution_count": 111,
   "metadata": {
    "ExecuteTime": {
     "end_time": "2020-12-14T05:57:21.645676Z",
     "start_time": "2020-12-14T05:57:21.636916Z"
    }
   },
   "outputs": [],
   "source": [
    "def fn_tdm_tfidf(docs, xColNames = None, **kwargs):\n",
    "\n",
    "    #initialize the  vectorizer\n",
    "    tf = TfidfVectorizer(**kwargs)\n",
    "    x1 = tf.fit_transform(docs)\n",
    "    #create dataFrame\n",
    "    df = pd.DataFrame(x1.toarray().transpose(), index = tf.get_feature_names())\n",
    "\n",
    "    if xColNames is not None:\n",
    "        df.columns = xColNames\n",
    "\n",
    "    return df"
   ]
  },
  {
   "cell_type": "code",
   "execution_count": 112,
   "metadata": {
    "ExecuteTime": {
     "end_time": "2020-12-14T05:57:23.138788Z",
     "start_time": "2020-12-14T05:57:21.648402Z"
    }
   },
   "outputs": [],
   "source": [
    "df_tfidf = fn_tdm_tfidf(df['Spell_Checked']).transpose()"
   ]
  },
  {
   "cell_type": "code",
   "execution_count": 113,
   "metadata": {
    "ExecuteTime": {
     "end_time": "2020-12-14T05:57:31.149270Z",
     "start_time": "2020-12-14T05:57:28.218795Z"
    }
   },
   "outputs": [],
   "source": [
    "df_tfidf.drop(columns='zafirovski', inplace=True)"
   ]
  },
  {
   "cell_type": "code",
   "execution_count": 114,
   "metadata": {
    "ExecuteTime": {
     "end_time": "2020-12-14T05:57:32.721269Z",
     "start_time": "2020-12-14T05:57:31.151986Z"
    }
   },
   "outputs": [],
   "source": [
    "X_train_tfidf, X_test_tfidf, y_train_tfidf, y_test_tfidf = train_test_split(df_tfidf, y, test_size=0.25, random_state=1)"
   ]
  },
  {
   "cell_type": "markdown",
   "metadata": {},
   "source": [
    "## Evaluation Metric"
   ]
  },
  {
   "cell_type": "code",
   "execution_count": 145,
   "metadata": {
    "ExecuteTime": {
     "end_time": "2020-12-14T06:13:22.398116Z",
     "start_time": "2020-12-14T06:13:22.392836Z"
    }
   },
   "outputs": [],
   "source": [
    "# Evaluation function\n",
    "\n",
    "def evaluation(y_true, y_pred):\n",
    "    \n",
    "# Print Accuracy, Recall, F1 Score, and Precision metrics.\n",
    "    print('Evaluation Metrics:')\n",
    "    print('Precision: ' + str(metrics.precision_score(y_true, y_pred)))\n",
    "    print('Accuracy: ' + str(metrics.accuracy_score(y_true, y_pred)))\n",
    "    print('F1 Score Weighted: ' + str(metrics.f1_score(y_true, y_pred, average=\"weighted\")))\n",
    "    print('F1 Score Macro: ' + str(metrics.f1_score(y_true, y_pred, average=\"macro\")))\n",
    "    print('Recall: ' + str(metrics.recall_score(y_true, y_pred)))"
   ]
  },
  {
   "cell_type": "markdown",
   "metadata": {},
   "source": [
    "## Modeling With Count Vectorizer"
   ]
  },
  {
   "cell_type": "markdown",
   "metadata": {},
   "source": [
    "### Logistic Regression"
   ]
  },
  {
   "cell_type": "code",
   "execution_count": 116,
   "metadata": {
    "ExecuteTime": {
     "end_time": "2020-12-14T05:57:55.383999Z",
     "start_time": "2020-12-14T05:57:32.733284Z"
    }
   },
   "outputs": [],
   "source": [
    "# Baseline Regression Model\n",
    "lg_base = LogisticRegression()\n",
    "lg_base.fit(X_train_cv, y_train_cv) \n",
    "y_lg_base_cv = lg_base.predict(X_test_cv)\n",
    "\n",
    "# 28 seconds"
   ]
  },
  {
   "cell_type": "code",
   "execution_count": 146,
   "metadata": {
    "ExecuteTime": {
     "end_time": "2020-12-14T06:13:24.483911Z",
     "start_time": "2020-12-14T06:13:24.462807Z"
    },
    "scrolled": true
   },
   "outputs": [
    {
     "name": "stdout",
     "output_type": "stream",
     "text": [
      "Evaluation Metrics:\n",
      "Precision: 0.8070921985815603\n",
      "Accuracy: 0.8072155411655875\n",
      "F1 Score Weighted: 0.8071580988932364\n",
      "F1 Score Macro: 0.8069795283509281\n",
      "Recall: 0.8204758471521268\n"
     ]
    }
   ],
   "source": [
    "# Logistic Regression baseline evaluation\n",
    "evaluation(y_test_cv, y_lg_base_cv)"
   ]
  },
  {
   "cell_type": "markdown",
   "metadata": {},
   "source": [
    "### Random Forest"
   ]
  },
  {
   "cell_type": "code",
   "execution_count": 118,
   "metadata": {
    "ExecuteTime": {
     "end_time": "2020-12-14T05:59:47.487315Z",
     "start_time": "2020-12-14T05:57:55.407229Z"
    }
   },
   "outputs": [],
   "source": [
    "rf_cv = RandomForestClassifier()\n",
    "rf_cv.fit(X_train_cv, y_train_cv)\n",
    "y_rf_cv = rf_cv.predict(X_test_cv)\n",
    "\n",
    "# 50 seconds"
   ]
  },
  {
   "cell_type": "code",
   "execution_count": 147,
   "metadata": {
    "ExecuteTime": {
     "end_time": "2020-12-14T06:13:27.374199Z",
     "start_time": "2020-12-14T06:13:27.354051Z"
    },
    "scrolled": true
   },
   "outputs": [
    {
     "name": "stdout",
     "output_type": "stream",
     "text": [
      "Evaluation Metrics:\n",
      "Precision: 0.8269157453297751\n",
      "Accuracy: 0.8040703052728955\n",
      "F1 Score Weighted: 0.8040622035618255\n",
      "F1 Score Macro: 0.8040698760431699\n",
      "Recall: 0.7819033886085076\n"
     ]
    }
   ],
   "source": [
    "# Random Forest baseline evaluation\n",
    "evaluation(y_test_cv, y_rf_cv)"
   ]
  },
  {
   "cell_type": "markdown",
   "metadata": {},
   "source": [
    "### Naive Bayes"
   ]
  },
  {
   "cell_type": "code",
   "execution_count": 120,
   "metadata": {
    "ExecuteTime": {
     "end_time": "2020-12-14T05:59:54.507882Z",
     "start_time": "2020-12-14T05:59:47.505132Z"
    }
   },
   "outputs": [],
   "source": [
    "nb_base_cv = GaussianNB()\n",
    "nb_base_cv.fit(X_train_cv, y_train_cv)\n",
    "\n",
    "y_nb_base_cv = nb_base_cv.predict(X_test_cv)"
   ]
  },
  {
   "cell_type": "code",
   "execution_count": 148,
   "metadata": {
    "ExecuteTime": {
     "end_time": "2020-12-14T06:13:29.645563Z",
     "start_time": "2020-12-14T06:13:29.626596Z"
    }
   },
   "outputs": [
    {
     "name": "stdout",
     "output_type": "stream",
     "text": [
      "Evaluation Metrics:\n",
      "Precision: 0.5555555555555556\n",
      "Accuracy: 0.5774283071230343\n",
      "F1 Score Weighted: 0.5302148800880988\n",
      "F1 Score Macro: 0.5260880340819889\n",
      "Recall: 0.8832011535688536\n"
     ]
    }
   ],
   "source": [
    "# Naive Bayes baseline evaluation\n",
    "evaluation(y_test_cv, y_nb_base_cv)"
   ]
  },
  {
   "cell_type": "markdown",
   "metadata": {},
   "source": [
    "## Modeling with TF-IDF"
   ]
  },
  {
   "cell_type": "markdown",
   "metadata": {},
   "source": [
    "### Logistic Regression"
   ]
  },
  {
   "cell_type": "code",
   "execution_count": 124,
   "metadata": {
    "ExecuteTime": {
     "end_time": "2020-12-14T06:00:06.539642Z",
     "start_time": "2020-12-14T05:59:54.538528Z"
    }
   },
   "outputs": [],
   "source": [
    "# Baseline Regression Model\n",
    "lg_base_tfidf = LogisticRegression()\n",
    "lg_base_tfidf.fit(X_train_tfidf, y_train_tfidf) \n",
    "y_lg_base_tfidf = lg_base_tfidf.predict(X_test_tfidf)\n",
    "# 28 seconds"
   ]
  },
  {
   "cell_type": "code",
   "execution_count": 149,
   "metadata": {
    "ExecuteTime": {
     "end_time": "2020-12-14T06:13:31.941134Z",
     "start_time": "2020-12-14T06:13:31.921678Z"
    }
   },
   "outputs": [
    {
     "name": "stdout",
     "output_type": "stream",
     "text": [
      "Evaluation Metrics:\n",
      "Precision: 0.8516104294478528\n",
      "Accuracy: 0.8210915818686402\n",
      "F1 Score Weighted: 0.8210963096449203\n",
      "F1 Score Macro: 0.8210914838836396\n",
      "Recall: 0.7929310960371296\n"
     ]
    }
   ],
   "source": [
    "# Logistic Regression TF-IDF baseline evaluation\n",
    "evaluation(y_test_tfidf, y_lg_base_tfidf)"
   ]
  },
  {
   "cell_type": "markdown",
   "metadata": {},
   "source": [
    "### Random Forest "
   ]
  },
  {
   "cell_type": "code",
   "execution_count": 126,
   "metadata": {
    "ExecuteTime": {
     "end_time": "2020-12-14T06:01:30.578431Z",
     "start_time": "2020-12-14T06:00:06.565081Z"
    }
   },
   "outputs": [],
   "source": [
    "rf_base_tfidf = RandomForestClassifier()\n",
    "rf_base_tfidf.fit(X_train_tfidf, y_train_tfidf)\n",
    "y_rf_base_tfidf = rf_base_tfidf.predict(X_test_tfidf)\n",
    "\n",
    "# 50 seconds"
   ]
  },
  {
   "cell_type": "code",
   "execution_count": 150,
   "metadata": {
    "ExecuteTime": {
     "end_time": "2020-12-14T06:13:34.103693Z",
     "start_time": "2020-12-14T06:13:34.083892Z"
    }
   },
   "outputs": [
    {
     "name": "stdout",
     "output_type": "stream",
     "text": [
      "Evaluation Metrics:\n",
      "Precision: 0.8422098569157392\n",
      "Accuracy: 0.8003700277520814\n",
      "F1 Score Weighted: 0.8001986016227505\n",
      "F1 Score Macro: 0.8003170961753056\n",
      "Recall: 0.7565155301677973\n"
     ]
    }
   ],
   "source": [
    "# Logistic Regression TF-IDF baseline evaluation\n",
    "evaluation(y_test_tfidf, y_rf_base_tfidf)"
   ]
  },
  {
   "cell_type": "markdown",
   "metadata": {},
   "source": [
    "## TF-IDF With Lemmatization"
   ]
  },
  {
   "cell_type": "markdown",
   "metadata": {},
   "source": [
    "### Create train and test set"
   ]
  },
  {
   "cell_type": "code",
   "execution_count": 138,
   "metadata": {
    "ExecuteTime": {
     "end_time": "2020-12-14T06:10:32.863148Z",
     "start_time": "2020-12-14T06:10:32.830214Z"
    }
   },
   "outputs": [],
   "source": [
    "X_lem = pickle.load(open('../pickle/X_lem.pkl', 'rb'))\n",
    "y_lem = pd.read_pickle('../pickle/y_lem.pkl')"
   ]
  },
  {
   "cell_type": "code",
   "execution_count": 139,
   "metadata": {
    "ExecuteTime": {
     "end_time": "2020-12-14T06:10:39.872689Z",
     "start_time": "2020-12-14T06:10:39.860610Z"
    }
   },
   "outputs": [],
   "source": [
    "X_train, X_test, y_train, y_test = train_test_split(X_lem, y_lem, test_size=0.20, random_state=15)"
   ]
  },
  {
   "cell_type": "code",
   "execution_count": 140,
   "metadata": {
    "ExecuteTime": {
     "end_time": "2020-12-14T06:10:42.259311Z",
     "start_time": "2020-12-14T06:10:40.513290Z"
    }
   },
   "outputs": [],
   "source": [
    "# using tf_idf vectorizor\n",
    "tfidf = TfidfVectorizer(stop_words= stop_words, ngram_range=(1,2))\n",
    "\n",
    "# sparse matrix format with 265K stored elements\n",
    "tfidf_data_train = tfidf.fit_transform(X_train)\n",
    "tfidf_data_test = tfidf.transform(X_test)"
   ]
  },
  {
   "cell_type": "markdown",
   "metadata": {},
   "source": [
    "### Logistic Regression"
   ]
  },
  {
   "cell_type": "code",
   "execution_count": 143,
   "metadata": {
    "ExecuteTime": {
     "end_time": "2020-12-14T06:10:52.941775Z",
     "start_time": "2020-12-14T06:10:51.773503Z"
    }
   },
   "outputs": [],
   "source": [
    "# Baseline Regression Model\n",
    "lg_base_tfidf = LogisticRegression()\n",
    "lg_base_tfidf.fit(tfidf_data_train, y_train) \n",
    "y_lg_base_tfidf_lem = lg_base_tfidf.predict(tfidf_data_test)\n",
    "# 28 seconds"
   ]
  },
  {
   "cell_type": "code",
   "execution_count": 151,
   "metadata": {
    "ExecuteTime": {
     "end_time": "2020-12-14T06:13:51.515151Z",
     "start_time": "2020-12-14T06:13:51.497075Z"
    },
    "scrolled": false
   },
   "outputs": [
    {
     "name": "stdout",
     "output_type": "stream",
     "text": [
      "Evaluation Metrics:\n",
      "Precision: 0.8558648111332008\n",
      "Accuracy: 0.8270120259019427\n",
      "F1 Score Weighted: 0.8268066579512767\n",
      "F1 Score Macro: 0.8268506653692765\n",
      "Recall: 0.789908256880734\n"
     ]
    }
   ],
   "source": [
    "# Logistic Regression TF-IDF baseline evaluation\n",
    "evaluation(y_test, y_lg_base_tfidf_lem)"
   ]
  },
  {
   "cell_type": "markdown",
   "metadata": {},
   "source": [
    "### Random Forest"
   ]
  },
  {
   "cell_type": "code",
   "execution_count": 152,
   "metadata": {
    "ExecuteTime": {
     "end_time": "2020-12-14T06:17:57.007576Z",
     "start_time": "2020-12-14T06:15:36.663989Z"
    }
   },
   "outputs": [],
   "source": [
    "rf_base_tfidf = RandomForestClassifier()\n",
    "rf_base_tfidf.fit(tfidf_data_train, y_train)\n",
    "y_rf_base_tfidf = rf_base_tfidf.predict(tfidf_data_test)"
   ]
  },
  {
   "cell_type": "code",
   "execution_count": 153,
   "metadata": {
    "ExecuteTime": {
     "end_time": "2020-12-14T06:17:57.038947Z",
     "start_time": "2020-12-14T06:17:57.009485Z"
    }
   },
   "outputs": [
    {
     "name": "stdout",
     "output_type": "stream",
     "text": [
      "Evaluation Metrics:\n",
      "Precision: 0.828941063727839\n",
      "Accuracy: 0.8133672525439408\n",
      "F1 Score Weighted: 0.8133143288977217\n",
      "F1 Score Macro: 0.8133348154704517\n",
      "Recall: 0.7935779816513762\n"
     ]
    }
   ],
   "source": [
    "# Logistic Regression TF-IDF baseline evaluation\n",
    "evaluation(y_test, y_rf_base_tfidf)"
   ]
  },
  {
   "cell_type": "markdown",
   "metadata": {},
   "source": [
    "### GridSearch LogReg"
   ]
  },
  {
   "cell_type": "code",
   "execution_count": 135,
   "metadata": {
    "ExecuteTime": {
     "end_time": "2020-12-14T06:07:00.019997Z",
     "start_time": "2020-12-14T06:07:00.010001Z"
    }
   },
   "outputs": [],
   "source": [
    "#This is the parameters for the baseline Gridsearch with Logistic Regression\n",
    "param_dict={\n",
    "    \"class_weight\":[\"balanced\"],\n",
    "    \"solver\":[\"lbfgs\",\"liblinear\"]\n",
    "}\n",
    "logreg = LogisticRegression(max_iter=1000)"
   ]
  },
  {
   "cell_type": "code",
   "execution_count": null,
   "metadata": {
    "ExecuteTime": {
     "end_time": "2020-12-14T01:10:09.534759Z",
     "start_time": "2020-12-14T01:10:03.106Z"
    },
    "scrolled": false
   },
   "outputs": [],
   "source": [
    "grid_lg = GridSearchCV(logreg, param_dict, cv=20, scoring='f1_weighted', verbose=1, n_jobs=-1)\n",
    "grid_lg.fit(X_train_cv,y_train_cv)"
   ]
  },
  {
   "cell_type": "code",
   "execution_count": null,
   "metadata": {
    "ExecuteTime": {
     "end_time": "2020-12-14T01:10:09.535824Z",
     "start_time": "2020-12-14T01:10:03.430Z"
    }
   },
   "outputs": [],
   "source": [
    "y_gc_base_cv = grid_lg(X_test)"
   ]
  },
  {
   "cell_type": "code",
   "execution_count": null,
   "metadata": {
    "ExecuteTime": {
     "end_time": "2020-12-14T01:10:09.537105Z",
     "start_time": "2020-12-14T01:10:03.948Z"
    }
   },
   "outputs": [],
   "source": [
    "# Logistic Regression baseline evaluation\n",
    "evaluation(y_test_cv, y_gc_base_cv)"
   ]
  }
 ],
 "metadata": {
  "kernelspec": {
   "display_name": "Python 3",
   "language": "python",
   "name": "python3"
  },
  "language_info": {
   "codemirror_mode": {
    "name": "ipython",
    "version": 3
   },
   "file_extension": ".py",
   "mimetype": "text/x-python",
   "name": "python",
   "nbconvert_exporter": "python",
   "pygments_lexer": "ipython3",
   "version": "3.6.9"
  },
  "toc": {
   "base_numbering": 1,
   "nav_menu": {},
   "number_sections": true,
   "sideBar": true,
   "skip_h1_title": false,
   "title_cell": "Table of Contents",
   "title_sidebar": "Contents",
   "toc_cell": false,
   "toc_position": {},
   "toc_section_display": true,
   "toc_window_display": false
  }
 },
 "nbformat": 4,
 "nbformat_minor": 4
}
