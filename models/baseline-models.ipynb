{
 "cells": [
  {
   "cell_type": "code",
   "execution_count": 78,
   "metadata": {
    "ExecuteTime": {
     "end_time": "2020-12-14T18:14:26.884864Z",
     "start_time": "2020-12-14T18:14:26.758423Z"
    }
   },
   "outputs": [],
   "source": [
    "# Basic Packages\n",
    "import pandas as pd\n",
    "import numpy as np\n",
    "import os\n",
    "\n",
    "# NLP Packages\n",
    "import nltk \n",
    "from nltk.corpus import stopwords\n",
    "\n",
    "# WordCloud\n",
    "from wordcloud import WordCloud, STOPWORDS, ImageColorGenerator\n",
    "\n",
    "# Sklearn Packages\n",
    "from sklearn import metrics\n",
    "from sklearn.feature_extraction.text import CountVectorizer\n",
    "from sklearn.feature_extraction import text \n",
    "from sklearn.ensemble import RandomForestClassifier\n",
    "from sklearn.metrics import accuracy_score, precision_score, recall_score, f1_score, confusion_matrix, plot_confusion_matrix, roc_curve, auc, classification_report\n",
    "from sklearn.model_selection import train_test_split\n",
    "from sklearn.linear_model import LogisticRegression\n",
    "from sklearn.feature_extraction.text import TfidfVectorizer\n",
    "from sklearn.naive_bayes import GaussianNB\n",
    "from sklearn.model_selection import GridSearchCV\n",
    "from sklearn.exceptions import ConvergenceWarning\n",
    "from imblearn.over_sampling import SMOTE\n",
    "\n",
    "# Pandas Settings\n",
    "pd.set_option('display.max_columns', 100)\n",
    "pd.set_option('display.max_rows', 100)\n",
    "\n",
    "# Solve warnings\n",
    "import warnings\n",
    "warnings.filterwarnings(\"ignore\", category=DeprecationWarning)\n",
    "warnings.filterwarnings(\"ignore\", category=FutureWarning)\n",
    "warnings.filterwarnings(\"ignore\", category=ConvergenceWarning)\n",
    "\n",
    "# Import pickle\n",
    "import pickle"
   ]
  },
  {
   "cell_type": "code",
   "execution_count": 21,
   "metadata": {
    "ExecuteTime": {
     "end_time": "2020-12-14T16:40:22.946165Z",
     "start_time": "2020-12-14T16:40:22.751892Z"
    },
    "scrolled": false
   },
   "outputs": [],
   "source": [
    "df = pd.read_csv('../csv/Hotel_Review_Spell_Checked.csv', index_col=0)"
   ]
  },
  {
   "cell_type": "markdown",
   "metadata": {},
   "source": [
    "# Preprocessing"
   ]
  },
  {
   "cell_type": "code",
   "execution_count": 22,
   "metadata": {
    "ExecuteTime": {
     "end_time": "2020-12-14T16:40:23.583843Z",
     "start_time": "2020-12-14T16:40:23.572963Z"
    }
   },
   "outputs": [],
   "source": [
    "stop_words = stopwords.words('english')"
   ]
  },
  {
   "cell_type": "code",
   "execution_count": 23,
   "metadata": {
    "ExecuteTime": {
     "end_time": "2020-12-14T16:40:24.731016Z",
     "start_time": "2020-12-14T16:40:24.704402Z"
    },
    "scrolled": true
   },
   "outputs": [
    {
     "data": {
      "text/plain": [
       "Unnamed: 0.1       0\n",
       "Hotel_Name         0\n",
       "Negative_Review    0\n",
       "Positive_Review    0\n",
       "Reviewer_Score     0\n",
       "Reviews_Clean      0\n",
       "Score              0\n",
       "Spell_Checked      0\n",
       "dtype: int64"
      ]
     },
     "execution_count": 23,
     "metadata": {},
     "output_type": "execute_result"
    }
   ],
   "source": [
    "df.isna().sum()"
   ]
  },
  {
   "cell_type": "code",
   "execution_count": 24,
   "metadata": {
    "ExecuteTime": {
     "end_time": "2020-12-14T16:40:26.673650Z",
     "start_time": "2020-12-14T16:40:26.649523Z"
    }
   },
   "outputs": [],
   "source": [
    "df.dropna(inplace=True)"
   ]
  },
  {
   "cell_type": "markdown",
   "metadata": {},
   "source": [
    "## Count Vectorizer"
   ]
  },
  {
   "cell_type": "code",
   "execution_count": 25,
   "metadata": {
    "ExecuteTime": {
     "end_time": "2020-12-14T16:40:29.126603Z",
     "start_time": "2020-12-14T16:40:28.005418Z"
    }
   },
   "outputs": [],
   "source": [
    "# Instantiate CountVectorizer\n",
    "cv = CountVectorizer(stop_words=stop_words)\n",
    "\n",
    "# Fit and transform dataframe without data cleaning\n",
    "df_cv = cv.fit_transform(df['Spell_Checked'])\n",
    "df_cv = pd.DataFrame(df_cv.toarray(), columns = cv.get_feature_names())\n",
    "df_cv.index = df.index"
   ]
  },
  {
   "cell_type": "code",
   "execution_count": 26,
   "metadata": {
    "ExecuteTime": {
     "end_time": "2020-12-14T16:40:29.864391Z",
     "start_time": "2020-12-14T16:40:29.861940Z"
    }
   },
   "outputs": [],
   "source": [
    "# # Using Sparse in the DataFrame\n",
    "# df_sparse = df_cv.astype('Sparse')"
   ]
  },
  {
   "cell_type": "code",
   "execution_count": 27,
   "metadata": {
    "ExecuteTime": {
     "end_time": "2020-12-14T16:40:30.500985Z",
     "start_time": "2020-12-14T16:40:30.468176Z"
    }
   },
   "outputs": [],
   "source": [
    "y = df.Score\n",
    "X_cv = df_cv"
   ]
  },
  {
   "cell_type": "code",
   "execution_count": 28,
   "metadata": {
    "ExecuteTime": {
     "end_time": "2020-12-14T16:40:34.563606Z",
     "start_time": "2020-12-14T16:40:32.184865Z"
    }
   },
   "outputs": [],
   "source": [
    "# Running Train Test Split\n",
    "X_train_cv, X_test_cv, y_train_cv, y_test_cv = train_test_split(X_cv, y, test_size= 0.25)"
   ]
  },
  {
   "cell_type": "markdown",
   "metadata": {},
   "source": [
    "## TF-IDF"
   ]
  },
  {
   "cell_type": "code",
   "execution_count": 29,
   "metadata": {
    "ExecuteTime": {
     "end_time": "2020-12-14T16:40:34.571959Z",
     "start_time": "2020-12-14T16:40:34.565872Z"
    }
   },
   "outputs": [],
   "source": [
    "def fn_tdm_tfidf(docs, xColNames = None, **kwargs):\n",
    "\n",
    "    #initialize the  vectorizer\n",
    "    tf = TfidfVectorizer(**kwargs)\n",
    "    x1 = tf.fit_transform(docs)\n",
    "    #create dataFrame\n",
    "    df = pd.DataFrame(x1.toarray().transpose(), index = tf.get_feature_names())\n",
    "\n",
    "    if xColNames is not None:\n",
    "        df.columns = xColNames\n",
    "\n",
    "    return df"
   ]
  },
  {
   "cell_type": "code",
   "execution_count": 30,
   "metadata": {
    "ExecuteTime": {
     "end_time": "2020-12-14T16:40:36.318258Z",
     "start_time": "2020-12-14T16:40:34.575472Z"
    }
   },
   "outputs": [],
   "source": [
    "df_tfidf = fn_tdm_tfidf(df['Spell_Checked']).transpose()"
   ]
  },
  {
   "cell_type": "code",
   "execution_count": 31,
   "metadata": {
    "ExecuteTime": {
     "end_time": "2020-12-14T16:40:39.598292Z",
     "start_time": "2020-12-14T16:40:36.320086Z"
    }
   },
   "outputs": [],
   "source": [
    "df_tfidf.drop(columns='zafirovski', inplace=True)"
   ]
  },
  {
   "cell_type": "code",
   "execution_count": 32,
   "metadata": {
    "ExecuteTime": {
     "end_time": "2020-12-14T16:40:41.499474Z",
     "start_time": "2020-12-14T16:40:39.600654Z"
    }
   },
   "outputs": [],
   "source": [
    "X_train_tfidf, X_test_tfidf, y_train_tfidf, y_test_tfidf = train_test_split(df_tfidf, y, test_size=0.25, random_state=1)"
   ]
  },
  {
   "cell_type": "markdown",
   "metadata": {},
   "source": [
    "## Evaluation Metric"
   ]
  },
  {
   "cell_type": "code",
   "execution_count": 33,
   "metadata": {
    "ExecuteTime": {
     "end_time": "2020-12-14T16:40:41.508190Z",
     "start_time": "2020-12-14T16:40:41.501622Z"
    }
   },
   "outputs": [],
   "source": [
    "# Evaluation function\n",
    "\n",
    "def evaluation(y_true, y_pred):\n",
    "    \n",
    "# Print Accuracy, Recall, F1 Score, and Precision metrics.\n",
    "    print('Evaluation Metrics:')\n",
    "    print('Precision: ' + str(metrics.precision_score(y_true, y_pred)))\n",
    "    print('Accuracy: ' + str(metrics.accuracy_score(y_true, y_pred)))\n",
    "    print('F1 Score Weighted: ' + str(metrics.f1_score(y_true, y_pred, average=\"weighted\")))\n",
    "    print('F1 Score Macro: ' + str(metrics.f1_score(y_true, y_pred, average=\"macro\")))\n",
    "    print('Recall: ' + str(metrics.recall_score(y_true, y_pred)))"
   ]
  },
  {
   "cell_type": "markdown",
   "metadata": {},
   "source": [
    "## Modeling With Count Vectorizer"
   ]
  },
  {
   "cell_type": "markdown",
   "metadata": {},
   "source": [
    "### Logistic Regression"
   ]
  },
  {
   "cell_type": "code",
   "execution_count": 57,
   "metadata": {
    "ExecuteTime": {
     "end_time": "2020-12-14T16:59:05.656234Z",
     "start_time": "2020-12-14T16:58:42.815897Z"
    }
   },
   "outputs": [],
   "source": [
    "# Baseline Regression Model\n",
    "lg_base = LogisticRegression()\n",
    "lg_base.fit(X_train_cv, y_train_cv) \n",
    "y_lg_base_cv = lg_base.predict(X_test_cv)\n",
    "\n",
    "# 28 seconds"
   ]
  },
  {
   "cell_type": "code",
   "execution_count": 58,
   "metadata": {
    "ExecuteTime": {
     "end_time": "2020-12-14T16:59:05.690414Z",
     "start_time": "2020-12-14T16:59:05.662118Z"
    },
    "scrolled": true
   },
   "outputs": [
    {
     "name": "stdout",
     "output_type": "stream",
     "text": [
      "Evaluation Metrics:\n",
      "Precision: 0.8269654665686995\n",
      "Accuracy: 0.8142460684551341\n",
      "F1 Score Weighted: 0.8142858985513343\n",
      "F1 Score Macro: 0.8141811839435822\n",
      "Recall: 0.8085488505747126\n"
     ]
    }
   ],
   "source": [
    "# Logistic Regression baseline evaluation\n",
    "evaluation(y_test_cv, y_lg_base_cv)"
   ]
  },
  {
   "cell_type": "markdown",
   "metadata": {},
   "source": [
    "### Random Forest"
   ]
  },
  {
   "cell_type": "code",
   "execution_count": 59,
   "metadata": {
    "ExecuteTime": {
     "end_time": "2020-12-14T16:59:51.294121Z",
     "start_time": "2020-12-14T16:59:05.694010Z"
    }
   },
   "outputs": [],
   "source": [
    "rf_cv = RandomForestClassifier(n_jobs=-1)\n",
    "rf_cv.fit(X_train_cv, y_train_cv)\n",
    "y_rf_cv = rf_cv.predict(X_test_cv)\n",
    "\n",
    "# 50 seconds"
   ]
  },
  {
   "cell_type": "code",
   "execution_count": 60,
   "metadata": {
    "ExecuteTime": {
     "end_time": "2020-12-14T16:59:51.320835Z",
     "start_time": "2020-12-14T16:59:51.296944Z"
    },
    "scrolled": true
   },
   "outputs": [
    {
     "name": "stdout",
     "output_type": "stream",
     "text": [
      "Evaluation Metrics:\n",
      "Precision: 0.8384615384615385\n",
      "Accuracy: 0.8105457909343201\n",
      "F1 Score Weighted: 0.8105207323497989\n",
      "F1 Score Macro: 0.8105429309871737\n",
      "Recall: 0.7830459770114943\n"
     ]
    }
   ],
   "source": [
    "# Random Forest baseline evaluation\n",
    "evaluation(y_test_cv, y_rf_cv)"
   ]
  },
  {
   "cell_type": "markdown",
   "metadata": {},
   "source": [
    "### Naive Bayes"
   ]
  },
  {
   "cell_type": "code",
   "execution_count": 61,
   "metadata": {
    "ExecuteTime": {
     "end_time": "2020-12-14T16:59:57.923761Z",
     "start_time": "2020-12-14T16:59:51.323590Z"
    }
   },
   "outputs": [],
   "source": [
    "nb_base_cv = GaussianNB()\n",
    "nb_base_cv.fit(X_train_cv, y_train_cv)\n",
    "\n",
    "y_nb_base_cv = nb_base_cv.predict(X_test_cv)"
   ]
  },
  {
   "cell_type": "code",
   "execution_count": 62,
   "metadata": {
    "ExecuteTime": {
     "end_time": "2020-12-14T16:59:57.951687Z",
     "start_time": "2020-12-14T16:59:57.925867Z"
    }
   },
   "outputs": [
    {
     "name": "stdout",
     "output_type": "stream",
     "text": [
      "Evaluation Metrics:\n",
      "Precision: 0.5603777827749045\n",
      "Accuracy: 0.5842738205365402\n",
      "F1 Score Weighted: 0.5354939844510527\n",
      "F1 Score Macro: 0.5307127978714168\n",
      "Recall: 0.8951149425287356\n"
     ]
    }
   ],
   "source": [
    "# Naive Bayes baseline evaluation\n",
    "evaluation(y_test_cv, y_nb_base_cv)"
   ]
  },
  {
   "cell_type": "markdown",
   "metadata": {},
   "source": [
    "## Modeling with TF-IDF"
   ]
  },
  {
   "cell_type": "markdown",
   "metadata": {},
   "source": [
    "### Logistic Regression"
   ]
  },
  {
   "cell_type": "code",
   "execution_count": 63,
   "metadata": {
    "ExecuteTime": {
     "end_time": "2020-12-14T17:00:08.787071Z",
     "start_time": "2020-12-14T16:59:57.955522Z"
    }
   },
   "outputs": [],
   "source": [
    "# Baseline Regression Model\n",
    "lg_base_tfidf = LogisticRegression()\n",
    "lg_base_tfidf.fit(X_train_tfidf, y_train_tfidf) \n",
    "y_lg_base_tfidf = lg_base_tfidf.predict(X_test_tfidf)\n",
    "# 28 seconds"
   ]
  },
  {
   "cell_type": "code",
   "execution_count": 64,
   "metadata": {
    "ExecuteTime": {
     "end_time": "2020-12-14T17:00:08.819035Z",
     "start_time": "2020-12-14T17:00:08.791809Z"
    }
   },
   "outputs": [
    {
     "name": "stdout",
     "output_type": "stream",
     "text": [
      "Evaluation Metrics:\n",
      "Precision: 0.8516104294478528\n",
      "Accuracy: 0.8210915818686402\n",
      "F1 Score Weighted: 0.8210963096449203\n",
      "F1 Score Macro: 0.8210914838836396\n",
      "Recall: 0.7929310960371296\n"
     ]
    }
   ],
   "source": [
    "# Logistic Regression TF-IDF baseline evaluation\n",
    "evaluation(y_test_tfidf, y_lg_base_tfidf)"
   ]
  },
  {
   "cell_type": "markdown",
   "metadata": {},
   "source": [
    "### Random Forest "
   ]
  },
  {
   "cell_type": "code",
   "execution_count": 65,
   "metadata": {
    "ExecuteTime": {
     "end_time": "2020-12-14T17:01:34.093932Z",
     "start_time": "2020-12-14T17:00:08.822429Z"
    }
   },
   "outputs": [],
   "source": [
    "rf_base_tfidf = RandomForestClassifier()\n",
    "rf_base_tfidf.fit(X_train_tfidf, y_train_tfidf)\n",
    "y_rf_base_tfidf = rf_base_tfidf.predict(X_test_tfidf)\n",
    "\n",
    "# 50 seconds"
   ]
  },
  {
   "cell_type": "code",
   "execution_count": 66,
   "metadata": {
    "ExecuteTime": {
     "end_time": "2020-12-14T17:01:34.115887Z",
     "start_time": "2020-12-14T17:01:34.096068Z"
    }
   },
   "outputs": [
    {
     "name": "stdout",
     "output_type": "stream",
     "text": [
      "Evaluation Metrics:\n",
      "Precision: 0.8452860596293312\n",
      "Accuracy: 0.7988899167437558\n",
      "F1 Score Weighted: 0.7986218676864166\n",
      "F1 Score Macro: 0.7987874026842092\n",
      "Recall: 0.7490182077829347\n"
     ]
    }
   ],
   "source": [
    "# Logistic Regression TF-IDF baseline evaluation\n",
    "evaluation(y_test_tfidf, y_rf_base_tfidf)"
   ]
  },
  {
   "cell_type": "markdown",
   "metadata": {},
   "source": [
    "## TF-IDF With Lemmatization"
   ]
  },
  {
   "cell_type": "markdown",
   "metadata": {},
   "source": [
    "### Create train and test set"
   ]
  },
  {
   "cell_type": "code",
   "execution_count": 67,
   "metadata": {
    "ExecuteTime": {
     "end_time": "2020-12-14T17:01:34.148164Z",
     "start_time": "2020-12-14T17:01:34.118254Z"
    }
   },
   "outputs": [],
   "source": [
    "X_lem = pickle.load(open('../pickle/X_lem.pkl', 'rb'))\n",
    "y_lem = pd.read_pickle('../pickle/y_lem.pkl')"
   ]
  },
  {
   "cell_type": "code",
   "execution_count": 68,
   "metadata": {
    "ExecuteTime": {
     "end_time": "2020-12-14T17:01:34.168262Z",
     "start_time": "2020-12-14T17:01:34.151217Z"
    }
   },
   "outputs": [],
   "source": [
    "X_train, X_test, y_train, y_test = train_test_split(X_lem, y_lem, test_size=0.20, random_state=15)"
   ]
  },
  {
   "cell_type": "code",
   "execution_count": 69,
   "metadata": {
    "ExecuteTime": {
     "end_time": "2020-12-14T17:01:35.901318Z",
     "start_time": "2020-12-14T17:01:34.170958Z"
    }
   },
   "outputs": [],
   "source": [
    "# Instantiate TF-IDF Vectorizer\n",
    "tfidf = TfidfVectorizer(stop_words= stop_words, ngram_range=(1,2))\n",
    "\n",
    "# Save Train and Test data\n",
    "data_train_lem = tfidf.fit_transform(X_train)\n",
    "data_test_lem = tfidf.transform(X_test)"
   ]
  },
  {
   "cell_type": "markdown",
   "metadata": {},
   "source": [
    "### Logistic Regression"
   ]
  },
  {
   "cell_type": "code",
   "execution_count": 71,
   "metadata": {
    "ExecuteTime": {
     "end_time": "2020-12-14T17:54:51.540405Z",
     "start_time": "2020-12-14T17:54:50.280311Z"
    }
   },
   "outputs": [],
   "source": [
    "# Baseline Regression Model\n",
    "lg_base_tfidf = LogisticRegression(random_state=1)\n",
    "lg_base_tfidf.fit(data_train_lem, y_train) \n",
    "y_lg_base_tfidf_lem = lg_base_tfidf.predict(data_test_lem)\n",
    "# 28 seconds"
   ]
  },
  {
   "cell_type": "code",
   "execution_count": 72,
   "metadata": {
    "ExecuteTime": {
     "end_time": "2020-12-14T17:54:51.566246Z",
     "start_time": "2020-12-14T17:54:51.543445Z"
    },
    "scrolled": false
   },
   "outputs": [
    {
     "name": "stdout",
     "output_type": "stream",
     "text": [
      "Evaluation Metrics:\n",
      "Precision: 0.8558648111332008\n",
      "Accuracy: 0.8270120259019427\n",
      "F1 Score Weighted: 0.8268066579512767\n",
      "F1 Score Macro: 0.8268506653692765\n",
      "Recall: 0.789908256880734\n"
     ]
    }
   ],
   "source": [
    "# Logistic Regression TF-IDF baseline evaluation\n",
    "evaluation(y_test, y_lg_base_tfidf_lem)"
   ]
  },
  {
   "cell_type": "markdown",
   "metadata": {},
   "source": [
    "### Random Forest"
   ]
  },
  {
   "cell_type": "code",
   "execution_count": 73,
   "metadata": {
    "ExecuteTime": {
     "end_time": "2020-12-14T17:56:36.399053Z",
     "start_time": "2020-12-14T17:54:51.568938Z"
    }
   },
   "outputs": [],
   "source": [
    "rf_base_tfidf = RandomForestClassifier(random_state=1)\n",
    "rf_base_tfidf.fit(data_train_lem, y_train)\n",
    "y_rf_base_tfidf = rf_base_tfidf.predict(data_test_lem)"
   ]
  },
  {
   "cell_type": "code",
   "execution_count": 74,
   "metadata": {
    "ExecuteTime": {
     "end_time": "2020-12-14T17:56:36.418482Z",
     "start_time": "2020-12-14T17:56:36.401073Z"
    },
    "scrolled": true
   },
   "outputs": [
    {
     "name": "stdout",
     "output_type": "stream",
     "text": [
      "Evaluation Metrics:\n",
      "Precision: 0.8402540302882266\n",
      "Accuracy: 0.8179925994449584\n",
      "F1 Score Weighted: 0.8178669502647007\n",
      "F1 Score Macro: 0.8179009605691314\n",
      "Recall: 0.7889908256880734\n"
     ]
    }
   ],
   "source": [
    "# Logistic Regression TF-IDF baseline evaluation\n",
    "evaluation(y_test, y_rf_base_tfidf)"
   ]
  },
  {
   "cell_type": "markdown",
   "metadata": {},
   "source": [
    "## SMOTE"
   ]
  },
  {
   "cell_type": "code",
   "execution_count": 79,
   "metadata": {
    "ExecuteTime": {
     "end_time": "2020-12-14T18:14:32.287957Z",
     "start_time": "2020-12-14T18:14:32.285474Z"
    }
   },
   "outputs": [],
   "source": [
    "smote = SMOTE()"
   ]
  },
  {
   "cell_type": "code",
   "execution_count": 80,
   "metadata": {
    "ExecuteTime": {
     "end_time": "2020-12-14T18:14:36.638698Z",
     "start_time": "2020-12-14T18:14:32.644578Z"
    }
   },
   "outputs": [],
   "source": [
    "X_train_resampled, y_train_resampled = smote.fit_sample(data_train_lem, y_train) "
   ]
  },
  {
   "cell_type": "code",
   "execution_count": 81,
   "metadata": {
    "ExecuteTime": {
     "end_time": "2020-12-14T18:17:24.516284Z",
     "start_time": "2020-12-14T18:14:36.641719Z"
    }
   },
   "outputs": [],
   "source": [
    "rf_base_tfidf = RandomForestClassifier(random_state=1)\n",
    "rf_base_tfidf.fit(X_train_resampled, y_train_resampled)\n",
    "y_rf_base_tfidf = rf_base_tfidf.predict(data_test_lem)"
   ]
  },
  {
   "cell_type": "code",
   "execution_count": 82,
   "metadata": {
    "ExecuteTime": {
     "end_time": "2020-12-14T18:17:24.535989Z",
     "start_time": "2020-12-14T18:17:24.518450Z"
    }
   },
   "outputs": [
    {
     "name": "stdout",
     "output_type": "stream",
     "text": [
      "Evaluation Metrics:\n",
      "Precision: 0.8301610541727672\n",
      "Accuracy: 0.8087419056429233\n",
      "F1 Score Weighted: 0.8086145397811295\n",
      "F1 Score Macro: 0.8086495410866605\n",
      "Recall: 0.7802752293577981\n"
     ]
    }
   ],
   "source": [
    "# Logistic Regression TF-IDF baseline evaluation\n",
    "evaluation(y_test, y_rf_base_tfidf)"
   ]
  },
  {
   "cell_type": "markdown",
   "metadata": {},
   "source": [
    "## Upsampling"
   ]
  },
  {
   "cell_type": "code",
   "execution_count": null,
   "metadata": {},
   "outputs": [],
   "source": []
  },
  {
   "cell_type": "code",
   "execution_count": null,
   "metadata": {},
   "outputs": [],
   "source": []
  },
  {
   "cell_type": "code",
   "execution_count": null,
   "metadata": {},
   "outputs": [],
   "source": []
  },
  {
   "cell_type": "code",
   "execution_count": null,
   "metadata": {},
   "outputs": [],
   "source": []
  },
  {
   "cell_type": "markdown",
   "metadata": {},
   "source": [
    "## Downsampling"
   ]
  },
  {
   "cell_type": "code",
   "execution_count": null,
   "metadata": {},
   "outputs": [],
   "source": []
  },
  {
   "cell_type": "markdown",
   "metadata": {},
   "source": [
    "### GridSearch LogReg"
   ]
  },
  {
   "cell_type": "code",
   "execution_count": null,
   "metadata": {
    "ExecuteTime": {
     "end_time": "2020-12-14T16:17:11.343333Z",
     "start_time": "2020-12-14T16:09:13.245Z"
    }
   },
   "outputs": [],
   "source": [
    "#This is the parameters for the baseline Gridsearch with Logistic Regression\n",
    "param_dict={\n",
    "    \"class_weight\":[\"balanced\"],\n",
    "    \"solver\":[\"lbfgs\",\"liblinear\"]\n",
    "}\n",
    "logreg = LogisticRegression(max_iter=1000)"
   ]
  },
  {
   "cell_type": "code",
   "execution_count": null,
   "metadata": {
    "ExecuteTime": {
     "end_time": "2020-12-14T16:17:11.345283Z",
     "start_time": "2020-12-14T16:09:13.249Z"
    },
    "scrolled": false
   },
   "outputs": [],
   "source": [
    "grid_lg = GridSearchCV(logreg, param_dict, cv=20, scoring='f1_weighted', verbose=1, n_jobs=-1)\n",
    "grid_lg.fit(X_train_cv,y_train_cv)"
   ]
  },
  {
   "cell_type": "code",
   "execution_count": null,
   "metadata": {
    "ExecuteTime": {
     "end_time": "2020-12-14T16:17:11.346939Z",
     "start_time": "2020-12-14T16:09:13.252Z"
    }
   },
   "outputs": [],
   "source": [
    "y_gc_base_cv = grid_lg(X_test)"
   ]
  },
  {
   "cell_type": "code",
   "execution_count": null,
   "metadata": {
    "ExecuteTime": {
     "end_time": "2020-12-14T16:17:11.348509Z",
     "start_time": "2020-12-14T16:09:13.255Z"
    }
   },
   "outputs": [],
   "source": [
    "# Logistic Regression baseline evaluation\n",
    "evaluation(y_test_cv, y_gc_base_cv)"
   ]
  }
 ],
 "metadata": {
  "kernelspec": {
   "display_name": "Python 3",
   "language": "python",
   "name": "python3"
  },
  "language_info": {
   "codemirror_mode": {
    "name": "ipython",
    "version": 3
   },
   "file_extension": ".py",
   "mimetype": "text/x-python",
   "name": "python",
   "nbconvert_exporter": "python",
   "pygments_lexer": "ipython3",
   "version": "3.6.9"
  },
  "toc": {
   "base_numbering": 1,
   "nav_menu": {},
   "number_sections": true,
   "sideBar": true,
   "skip_h1_title": false,
   "title_cell": "Table of Contents",
   "title_sidebar": "Contents",
   "toc_cell": false,
   "toc_position": {},
   "toc_section_display": true,
   "toc_window_display": false
  }
 },
 "nbformat": 4,
 "nbformat_minor": 4
}
