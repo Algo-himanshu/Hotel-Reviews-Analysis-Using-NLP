{
 "cells": [
  {
   "cell_type": "markdown",
   "metadata": {},
   "source": [
    "# Import Packages"
   ]
  },
  {
   "cell_type": "code",
   "execution_count": 116,
   "metadata": {
    "ExecuteTime": {
     "end_time": "2020-12-15T16:28:32.234325Z",
     "start_time": "2020-12-15T16:28:32.218501Z"
    }
   },
   "outputs": [],
   "source": [
    "# Basic Packages\n",
    "import pandas as pd\n",
    "import numpy as np\n",
    "\n",
    "# NLP Packages\n",
    "from nltk.corpus import stopwords\n",
    "\n",
    "# Sklearn Packages\n",
    "from sklearn.ensemble import RandomForestClassifier\n",
    "from sklearn.ensemble import VotingClassifier\n",
    "from sklearn.ensemble import AdaBoostClassifier\n",
    "from sklearn.ensemble import BaggingClassifier\n",
    "from sklearn.tree import DecisionTreeClassifier\n",
    "from sklearn.ensemble import GradientBoostingClassifier\n",
    "from sklearn.linear_model import LogisticRegression\n",
    "from sklearn import metrics\n",
    "from sklearn.metrics import accuracy_score, precision_score, recall_score, f1_score, confusion_matrix, plot_confusion_matrix, roc_curve, auc, classification_report\n",
    "from sklearn.model_selection import GridSearchCV\n",
    "from sklearn.svm import SVC\n",
    "from sklearn.exceptions import ConvergenceWarning\n",
    "from xgboost import XGBClassifier\n",
    "\n",
    "import pickle"
   ]
  },
  {
   "cell_type": "markdown",
   "metadata": {},
   "source": [
    "## Importing Train and Test Set"
   ]
  },
  {
   "cell_type": "code",
   "execution_count": 98,
   "metadata": {
    "ExecuteTime": {
     "end_time": "2020-12-15T15:09:20.285251Z",
     "start_time": "2020-12-15T15:09:20.259401Z"
    }
   },
   "outputs": [],
   "source": [
    "X_train = pickle.load(open('../pickle/X_train_tfidf.pkl', 'rb'))\n",
    "X_test = pickle.load(open('../pickle/X_test_tfidf.pkl', 'rb'))\n",
    "y_train = pd.read_pickle('../pickle/y_train.pkl')\n",
    "y_test = pd.read_pickle('../pickle/y_test.pkl')"
   ]
  },
  {
   "cell_type": "code",
   "execution_count": 25,
   "metadata": {
    "ExecuteTime": {
     "end_time": "2020-12-15T02:16:12.221585Z",
     "start_time": "2020-12-15T02:16:12.189327Z"
    }
   },
   "outputs": [],
   "source": [
    "# Evaluation function\n",
    "\n",
    "def evaluation(y_true, y_pred):\n",
    "    \n",
    "# Print Accuracy, Recall, F1 Score, and Precision metrics.\n",
    "#     e_val_dict = {}\n",
    "#     e_val_dict['precision'] = metrics.precision_score(y_true, y_pred)\n",
    "    print('Evaluation Metrics:')\n",
    "#     print('Precision: ' + str(e_val_dict))\n",
    "    print('Accuracy: ' + str(metrics.accuracy_score(y_true, y_pred)))\n",
    "    print('F1 Score Macro: ' + str(metrics.f1_score(y_true, y_pred, average=\"macro\")))\n",
    "    print('F1 Score Micro: ' + str(metrics.f1_score(y_true, y_pred, average=\"micro\")))\n",
    "    print('Recall: ' + str(metrics.recall_score(y_true, y_pred)))\n",
    "#     return e_val_dict"
   ]
  },
  {
   "cell_type": "markdown",
   "metadata": {},
   "source": [
    "# Ensamble Models"
   ]
  },
  {
   "cell_type": "markdown",
   "metadata": {
    "ExecuteTime": {
     "end_time": "2020-12-14T20:21:45.238903Z",
     "start_time": "2020-12-14T20:21:45.185318Z"
    }
   },
   "source": [
    "## Voting Classifier"
   ]
  },
  {
   "cell_type": "code",
   "execution_count": 40,
   "metadata": {
    "ExecuteTime": {
     "end_time": "2020-12-15T04:43:20.490406Z",
     "start_time": "2020-12-15T04:43:20.477581Z"
    }
   },
   "outputs": [],
   "source": [
    "log_clf = LogisticRegression()\n",
    "rf = RandomForestClassifier()\n",
    "svm_clf = SVC()"
   ]
  },
  {
   "cell_type": "code",
   "execution_count": 13,
   "metadata": {
    "ExecuteTime": {
     "end_time": "2020-12-15T01:33:49.573781Z",
     "start_time": "2020-12-15T01:31:28.239846Z"
    }
   },
   "outputs": [
    {
     "data": {
      "text/plain": [
       "VotingClassifier(estimators=[('lr', LogisticRegression()),\n",
       "                             ('rf', RandomForestClassifier()), ('svm', SVC())])"
      ]
     },
     "execution_count": 13,
     "metadata": {},
     "output_type": "execute_result"
    }
   ],
   "source": [
    "voting_clf = VotingClassifier(\n",
    "    estimators=[('lr', log_clf),('rf', rf),('svm',svm_clf)],\n",
    "    voting='hard')\n",
    "voting_clf.fit(X_train, y_train)"
   ]
  },
  {
   "cell_type": "code",
   "execution_count": 18,
   "metadata": {
    "ExecuteTime": {
     "end_time": "2020-12-15T01:43:02.985180Z",
     "start_time": "2020-12-15T01:37:52.653444Z"
    },
    "scrolled": true
   },
   "outputs": [
    {
     "name": "stdout",
     "output_type": "stream",
     "text": [
      "LogisticRegression 0.8225716928769657\n",
      "RandomForestClassifier 0.8011100832562442\n",
      "SVC 0.8268270120259019\n",
      "VotingClassifier 0.8283071230342276\n"
     ]
    }
   ],
   "source": [
    "for clf in (log_clf, rf_clf, svm_clf, voting_clf):\n",
    "    clf.fit(X_train, y_train)\n",
    "    y_pred = clf.predict(X_test)\n",
    "    print(clf.__class__.__name__,accuracy_score(y_test, y_pred))"
   ]
  },
  {
   "cell_type": "markdown",
   "metadata": {},
   "source": [
    "## Bagging"
   ]
  },
  {
   "cell_type": "code",
   "execution_count": 29,
   "metadata": {
    "ExecuteTime": {
     "end_time": "2020-12-15T02:24:47.440426Z",
     "start_time": "2020-12-15T02:24:19.977072Z"
    }
   },
   "outputs": [
    {
     "name": "stderr",
     "output_type": "stream",
     "text": [
      "[Parallel(n_jobs=8)]: Using backend LokyBackend with 8 concurrent workers.\n",
      "[Parallel(n_jobs=8)]: Done   2 out of   8 | elapsed:   25.9s remaining:  1.3min\n",
      "[Parallel(n_jobs=8)]: Done   8 out of   8 | elapsed:   26.4s finished\n",
      "[Parallel(n_jobs=8)]: Using backend LokyBackend with 8 concurrent workers.\n",
      "[Parallel(n_jobs=8)]: Done   2 out of   8 | elapsed:    0.5s remaining:    1.4s\n",
      "[Parallel(n_jobs=8)]: Done   8 out of   8 | elapsed:    0.9s finished\n"
     ]
    }
   ],
   "source": [
    "bag_clf = BaggingClassifier(\n",
    "    DecisionTreeClassifier(), n_estimators=500,\n",
    "    bootstrap=True, max_samples=1000,n_jobs=-1, verbose=1)\n",
    "bag_clf.fit(X_train, y_train)\n",
    "\n",
    "y_pred_bag = bag_clf.predict(X_test)"
   ]
  },
  {
   "cell_type": "code",
   "execution_count": 30,
   "metadata": {
    "ExecuteTime": {
     "end_time": "2020-12-15T02:24:47.463440Z",
     "start_time": "2020-12-15T02:24:47.443808Z"
    }
   },
   "outputs": [
    {
     "name": "stdout",
     "output_type": "stream",
     "text": [
      "Evaluation Metrics:\n",
      "Accuracy: 0.7696577243293247\n",
      "F1 Score Macro: 0.7693355492010978\n",
      "F1 Score Micro: 0.7696577243293247\n",
      "Recall: 0.7065333809353802\n"
     ]
    }
   ],
   "source": [
    "evaluation(y_test, y_pred_bag)"
   ]
  },
  {
   "cell_type": "markdown",
   "metadata": {},
   "source": [
    "## GridsSearchCV"
   ]
  },
  {
   "cell_type": "markdown",
   "metadata": {},
   "source": [
    "### Random Forest"
   ]
  },
  {
   "cell_type": "markdown",
   "metadata": {},
   "source": [
    "### Testing with 10 Cross-Validation"
   ]
  },
  {
   "cell_type": "code",
   "execution_count": 57,
   "metadata": {
    "ExecuteTime": {
     "end_time": "2020-12-15T14:04:49.897081Z",
     "start_time": "2020-12-15T14:04:49.893170Z"
    }
   },
   "outputs": [],
   "source": [
    "param_grid = {\n",
    "    'bootstrap':[True, False],\n",
    "    'criterion':['gini','entropy'],\n",
    "    'n_estimators':[50, 100, 200, 300, 400, 1000],\n",
    "    'max_depth':[None, list(range(1,100,5))]\n",
    "    \n",
    "}"
   ]
  },
  {
   "cell_type": "code",
   "execution_count": 46,
   "metadata": {
    "ExecuteTime": {
     "end_time": "2020-12-15T06:08:45.215267Z",
     "start_time": "2020-12-15T04:48:40.828125Z"
    },
    "scrolled": true
   },
   "outputs": [
    {
     "name": "stdout",
     "output_type": "stream",
     "text": [
      "Fitting 10 folds for each of 48 candidates, totalling 480 fits\n"
     ]
    },
    {
     "name": "stderr",
     "output_type": "stream",
     "text": [
      "[Parallel(n_jobs=-1)]: Using backend LokyBackend with 8 concurrent workers.\n",
      "[Parallel(n_jobs=-1)]: Done  34 tasks      | elapsed:  5.4min\n",
      "[Parallel(n_jobs=-1)]: Done 184 tasks      | elapsed: 31.9min\n",
      "[Parallel(n_jobs=-1)]: Done 434 tasks      | elapsed: 74.0min\n",
      "[Parallel(n_jobs=-1)]: Done 480 out of 480 | elapsed: 78.7min finished\n"
     ]
    },
    {
     "data": {
      "text/plain": [
       "GridSearchCV(cv=10, estimator=RandomForestClassifier(), n_jobs=-1,\n",
       "             param_grid={'bootstrap': [True, False],\n",
       "                         'criterion': ['gini', 'entropy'],\n",
       "                         'max_depth': [None,\n",
       "                                       [1, 6, 11, 16, 21, 26, 31, 36, 41, 46,\n",
       "                                        51, 56, 61, 66, 71, 76, 81, 86, 91,\n",
       "                                        96]],\n",
       "                         'n_estimators': [50, 100, 200, 300, 400, 1000]},\n",
       "             verbose=1)"
      ]
     },
     "execution_count": 46,
     "metadata": {},
     "output_type": "execute_result"
    }
   ],
   "source": [
    "grid_search = GridSearchCV(estimator= rf, param_grid = param_grid,\n",
    "                          cv=10, n_jobs=-1, verbose=1)\n",
    "grid_search.fit(X_train, y_train)"
   ]
  },
  {
   "cell_type": "code",
   "execution_count": 48,
   "metadata": {
    "ExecuteTime": {
     "end_time": "2020-12-15T06:48:11.430797Z",
     "start_time": "2020-12-15T06:48:10.497115Z"
    }
   },
   "outputs": [
    {
     "name": "stdout",
     "output_type": "stream",
     "text": [
      "Evaluation Metrics:\n",
      "Accuracy: 0.811840888066605\n",
      "F1 Score Macro: 0.8118176986469728\n",
      "F1 Score Micro: 0.811840888066605\n",
      "Recall: 0.7725812209925027\n"
     ]
    }
   ],
   "source": [
    "y_pred_grid = grid_search.predict(X_test)\n",
    "evaluation(y_test, y_pred_grid)"
   ]
  },
  {
   "cell_type": "code",
   "execution_count": 59,
   "metadata": {
    "ExecuteTime": {
     "end_time": "2020-12-15T14:06:12.631073Z",
     "start_time": "2020-12-15T14:06:12.627182Z"
    },
    "scrolled": true
   },
   "outputs": [
    {
     "data": {
      "text/plain": [
       "{'bootstrap': False,\n",
       " 'criterion': 'entropy',\n",
       " 'max_depth': None,\n",
       " 'n_estimators': 300}"
      ]
     },
     "execution_count": 59,
     "metadata": {},
     "output_type": "execute_result"
    }
   ],
   "source": [
    "grid_search.best_params_"
   ]
  },
  {
   "cell_type": "markdown",
   "metadata": {},
   "source": [
    "### Testing with 5 Cross-Validation"
   ]
  },
  {
   "cell_type": "code",
   "execution_count": 53,
   "metadata": {
    "ExecuteTime": {
     "end_time": "2020-12-15T06:49:54.112381Z",
     "start_time": "2020-12-15T06:49:54.108612Z"
    }
   },
   "outputs": [],
   "source": [
    "param_grid = {\n",
    "    'bootstrap':[True, False],\n",
    "    'criterion':['gini','entropy'],\n",
    "    'n_estimators':[50, 100, 200, 300, 400, 1000],\n",
    "    'max_depth':[None, list(range(1,100,5))]\n",
    "    \n",
    "}"
   ]
  },
  {
   "cell_type": "code",
   "execution_count": 54,
   "metadata": {
    "ExecuteTime": {
     "end_time": "2020-12-15T07:26:53.665002Z",
     "start_time": "2020-12-15T06:50:01.690634Z"
    },
    "scrolled": false
   },
   "outputs": [
    {
     "name": "stdout",
     "output_type": "stream",
     "text": [
      "Fitting 5 folds for each of 48 candidates, totalling 240 fits\n"
     ]
    },
    {
     "name": "stderr",
     "output_type": "stream",
     "text": [
      "[Parallel(n_jobs=-1)]: Using backend LokyBackend with 8 concurrent workers.\n",
      "[Parallel(n_jobs=-1)]: Done  34 tasks      | elapsed:  4.0min\n",
      "[Parallel(n_jobs=-1)]: Done 184 tasks      | elapsed: 21.3min\n",
      "[Parallel(n_jobs=-1)]: Done 240 out of 240 | elapsed: 32.6min finished\n"
     ]
    },
    {
     "data": {
      "text/plain": [
       "GridSearchCV(cv=5, estimator=RandomForestClassifier(), n_jobs=-1,\n",
       "             param_grid={'bootstrap': [True, False],\n",
       "                         'criterion': ['gini', 'entropy'],\n",
       "                         'max_depth': [None,\n",
       "                                       [1, 6, 11, 16, 21, 26, 31, 36, 41, 46,\n",
       "                                        51, 56, 61, 66, 71, 76, 81, 86, 91,\n",
       "                                        96]],\n",
       "                         'n_estimators': [50, 100, 200, 300, 400, 1000]},\n",
       "             verbose=1)"
      ]
     },
     "execution_count": 54,
     "metadata": {},
     "output_type": "execute_result"
    }
   ],
   "source": [
    "grid_search_2 = GridSearchCV(estimator= rf, param_grid = param_grid,\n",
    "                          cv=5, n_jobs=-1, verbose=1)\n",
    "grid_search_2.fit(X_train, y_train)"
   ]
  },
  {
   "cell_type": "code",
   "execution_count": 56,
   "metadata": {
    "ExecuteTime": {
     "end_time": "2020-12-15T14:04:05.443611Z",
     "start_time": "2020-12-15T14:04:01.877714Z"
    }
   },
   "outputs": [
    {
     "name": "stdout",
     "output_type": "stream",
     "text": [
      "Evaluation Metrics:\n",
      "Accuracy: 0.8109158186864015\n",
      "F1 Score Macro: 0.8108917319039198\n",
      "F1 Score Micro: 0.8109158186864015\n",
      "Recall: 0.7715101749375223\n"
     ]
    }
   ],
   "source": [
    "y_pred_grid = grid_search_2.predict(X_test)\n",
    "evaluation(y_test, y_pred_grid)"
   ]
  },
  {
   "cell_type": "code",
   "execution_count": 60,
   "metadata": {
    "ExecuteTime": {
     "end_time": "2020-12-15T14:06:20.821198Z",
     "start_time": "2020-12-15T14:06:20.816848Z"
    }
   },
   "outputs": [
    {
     "data": {
      "text/plain": [
       "{'bootstrap': False,\n",
       " 'criterion': 'entropy',\n",
       " 'max_depth': None,\n",
       " 'n_estimators': 1000}"
      ]
     },
     "execution_count": 60,
     "metadata": {},
     "output_type": "execute_result"
    }
   ],
   "source": [
    "grid_search_2.best_params_"
   ]
  },
  {
   "cell_type": "markdown",
   "metadata": {},
   "source": [
    "## GridSearch With Logistic Regression"
   ]
  },
  {
   "cell_type": "code",
   "execution_count": 83,
   "metadata": {
    "ExecuteTime": {
     "end_time": "2020-12-15T14:59:55.135372Z",
     "start_time": "2020-12-15T14:59:55.131046Z"
    }
   },
   "outputs": [],
   "source": [
    "log_clf = LogisticRegression()\n",
    "\n",
    "param_grid_lr = {'penalty': ['l1','l2'],\n",
    "                 'C': np.logspace(-4, 4, 20),\n",
    "                 'warm_start':[True, False]      \n",
    "}"
   ]
  },
  {
   "cell_type": "code",
   "execution_count": 92,
   "metadata": {
    "ExecuteTime": {
     "end_time": "2020-12-15T15:07:55.054123Z",
     "start_time": "2020-12-15T15:07:16.893449Z"
    },
    "scrolled": false
   },
   "outputs": [
    {
     "name": "stdout",
     "output_type": "stream",
     "text": [
      "Fitting 10 folds for each of 80 candidates, totalling 800 fits\n"
     ]
    },
    {
     "name": "stderr",
     "output_type": "stream",
     "text": [
      "[Parallel(n_jobs=-1)]: Using backend LokyBackend with 8 concurrent workers.\n",
      "[Parallel(n_jobs=-1)]: Done  58 tasks      | elapsed:    0.6s\n",
      "[Parallel(n_jobs=-1)]: Done 536 tasks      | elapsed:   14.3s\n",
      "[Parallel(n_jobs=-1)]: Done 800 out of 800 | elapsed:   37.7s finished\n"
     ]
    },
    {
     "data": {
      "text/plain": [
       "GridSearchCV(cv=10, estimator=LogisticRegression(), n_jobs=-1,\n",
       "             param_grid={'C': array([1.00000000e-04, 2.63665090e-04, 6.95192796e-04, 1.83298071e-03,\n",
       "       4.83293024e-03, 1.27427499e-02, 3.35981829e-02, 8.85866790e-02,\n",
       "       2.33572147e-01, 6.15848211e-01, 1.62377674e+00, 4.28133240e+00,\n",
       "       1.12883789e+01, 2.97635144e+01, 7.84759970e+01, 2.06913808e+02,\n",
       "       5.45559478e+02, 1.43844989e+03, 3.79269019e+03, 1.00000000e+04]),\n",
       "                         'penalty': ['l1', 'l2'], 'warm_start': [True, False]},\n",
       "             verbose=1)"
      ]
     },
     "execution_count": 92,
     "metadata": {},
     "output_type": "execute_result"
    }
   ],
   "source": [
    "grid_search_lr = GridSearchCV(estimator= log_clf, param_grid = param_grid_lr,\n",
    "                          cv=10, n_jobs=-1, verbose=1)\n",
    "grid_search_lr.fit(X_train, y_train)"
   ]
  },
  {
   "cell_type": "code",
   "execution_count": 93,
   "metadata": {
    "ExecuteTime": {
     "end_time": "2020-12-15T15:07:55.081211Z",
     "start_time": "2020-12-15T15:07:55.057101Z"
    }
   },
   "outputs": [
    {
     "name": "stdout",
     "output_type": "stream",
     "text": [
      "Evaluation Metrics:\n",
      "Accuracy: 0.8246068455134135\n",
      "F1 Score Macro: 0.8246041978279695\n",
      "F1 Score Micro: 0.8246068455134135\n",
      "Recall: 0.7918600499821492\n"
     ]
    }
   ],
   "source": [
    "y_pred_grid_lr = grid_search_lr.predict(X_test)\n",
    "evaluation(y_test, y_pred_grid_lr)"
   ]
  },
  {
   "cell_type": "code",
   "execution_count": 94,
   "metadata": {
    "ExecuteTime": {
     "end_time": "2020-12-15T15:07:55.091197Z",
     "start_time": "2020-12-15T15:07:55.085680Z"
    }
   },
   "outputs": [
    {
     "data": {
      "text/plain": [
       "{'C': 0.615848211066026, 'penalty': 'l2', 'warm_start': True}"
      ]
     },
     "execution_count": 94,
     "metadata": {},
     "output_type": "execute_result"
    }
   ],
   "source": [
    "grid_search_lr.best_params_"
   ]
  },
  {
   "cell_type": "markdown",
   "metadata": {},
   "source": [
    "## GridSearch with SVC"
   ]
  },
  {
   "cell_type": "code",
   "execution_count": 148,
   "metadata": {
    "ExecuteTime": {
     "end_time": "2020-12-16T15:03:05.349147Z",
     "start_time": "2020-12-16T15:00:47.304555Z"
    }
   },
   "outputs": [],
   "source": [
    "svc = SVC(C=1, gamma=1, kernel='rbf')\n",
    "svc.fit(X_train, y_train)\n",
    "y_pred_svc = svc.predict(X_test)"
   ]
  },
  {
   "cell_type": "code",
   "execution_count": 149,
   "metadata": {
    "ExecuteTime": {
     "end_time": "2020-12-16T15:03:05.368320Z",
     "start_time": "2020-12-16T15:03:05.351941Z"
    }
   },
   "outputs": [
    {
     "name": "stdout",
     "output_type": "stream",
     "text": [
      "Evaluation Metrics:\n",
      "Accuracy: 0.8268270120259019\n",
      "F1 Score Macro: 0.8268019637245034\n",
      "F1 Score Micro: 0.8268270120259019\n",
      "Recall: 0.7861478043555873\n"
     ]
    }
   ],
   "source": [
    "evaluation(y_test, y_pred_svc)"
   ]
  },
  {
   "cell_type": "code",
   "execution_count": 141,
   "metadata": {
    "ExecuteTime": {
     "end_time": "2020-12-16T05:44:51.423624Z",
     "start_time": "2020-12-16T05:44:51.417236Z"
    }
   },
   "outputs": [],
   "source": [
    "param_dict_grid={'C': [1, 10, 100],  \n",
    "              'gamma': [0.1, 0.01, 0.001], \n",
    "              'kernel': ['rbf', 'sigmoid','linear']}"
   ]
  },
  {
   "cell_type": "code",
   "execution_count": 142,
   "metadata": {
    "ExecuteTime": {
     "end_time": "2020-12-16T11:38:33.923184Z",
     "start_time": "2020-12-16T05:45:16.172505Z"
    }
   },
   "outputs": [
    {
     "name": "stdout",
     "output_type": "stream",
     "text": [
      "Fitting 5 folds for each of 40 candidates, totalling 200 fits\n"
     ]
    },
    {
     "name": "stderr",
     "output_type": "stream",
     "text": [
      "[Parallel(n_jobs=1)]: Using backend SequentialBackend with 1 concurrent workers.\n",
      "[Parallel(n_jobs=1)]: Done 200 out of 200 | elapsed: 351.1min finished\n"
     ]
    },
    {
     "data": {
      "text/plain": [
       "GridSearchCV(estimator=SVC(),\n",
       "             param_grid={'C': [0.1, 1, 10, 100, 1000],\n",
       "                         'gamma': [1, 0.1, 0.01, 0.001],\n",
       "                         'kernel': ['linear', 'rbf']},\n",
       "             verbose=1)"
      ]
     },
     "execution_count": 142,
     "metadata": {},
     "output_type": "execute_result"
    }
   ],
   "source": [
    "grid = GridSearchCV(SVC(), param_grid_svc, refit = True, verbose = 1) \n",
    "  \n",
    "# fitting the model for grid search \n",
    "grid.fit(X_train, y_train) "
   ]
  },
  {
   "cell_type": "code",
   "execution_count": 143,
   "metadata": {
    "ExecuteTime": {
     "end_time": "2020-12-16T14:04:23.991970Z",
     "start_time": "2020-12-16T14:04:06.910211Z"
    }
   },
   "outputs": [
    {
     "name": "stdout",
     "output_type": "stream",
     "text": [
      "Evaluation Metrics:\n",
      "Accuracy: 0.8268270120259019\n",
      "F1 Score Macro: 0.8268019637245034\n",
      "F1 Score Micro: 0.8268270120259019\n",
      "Recall: 0.7861478043555873\n"
     ]
    }
   ],
   "source": [
    "y_pred_svc_grid = grid.predict(X_test)\n",
    "evaluation(y_test, y_pred_svc_grid)"
   ]
  },
  {
   "cell_type": "code",
   "execution_count": 145,
   "metadata": {
    "ExecuteTime": {
     "end_time": "2020-12-16T14:42:47.920383Z",
     "start_time": "2020-12-16T14:42:47.906983Z"
    }
   },
   "outputs": [
    {
     "data": {
      "text/plain": [
       "{'C': 1, 'gamma': 1, 'kernel': 'rbf'}"
      ]
     },
     "execution_count": 145,
     "metadata": {},
     "output_type": "execute_result"
    }
   ],
   "source": [
    "grid.best_params_"
   ]
  },
  {
   "cell_type": "markdown",
   "metadata": {},
   "source": [
    "## ADABoost"
   ]
  },
  {
   "cell_type": "code",
   "execution_count": 101,
   "metadata": {
    "ExecuteTime": {
     "end_time": "2020-12-15T15:10:04.754833Z",
     "start_time": "2020-12-15T15:10:00.869584Z"
    }
   },
   "outputs": [
    {
     "data": {
      "text/plain": [
       "AdaBoostClassifier(random_state=1)"
      ]
     },
     "execution_count": 101,
     "metadata": {},
     "output_type": "execute_result"
    }
   ],
   "source": [
    "adaboost = AdaBoostClassifier(random_state=1)\n",
    "adaboost.fit(X_train, y_train)"
   ]
  },
  {
   "cell_type": "code",
   "execution_count": 102,
   "metadata": {
    "ExecuteTime": {
     "end_time": "2020-12-15T15:10:04.881001Z",
     "start_time": "2020-12-15T15:10:04.757158Z"
    },
    "scrolled": true
   },
   "outputs": [
    {
     "name": "stdout",
     "output_type": "stream",
     "text": [
      "Evaluation Metrics:\n",
      "Accuracy: 0.7816836262719704\n",
      "F1 Score Macro: 0.7814597375227932\n",
      "F1 Score Micro: 0.7816836262719704\n",
      "Recall: 0.723313102463406\n"
     ]
    }
   ],
   "source": [
    "y_pred_ada = adaboost.predict(X_test)\n",
    "evaluation(y_test, y_pred_ada)"
   ]
  },
  {
   "cell_type": "markdown",
   "metadata": {},
   "source": [
    "### ADABoost with Random Forest"
   ]
  },
  {
   "cell_type": "code",
   "execution_count": null,
   "metadata": {
    "ExecuteTime": {
     "end_time": "2020-12-15T17:14:15.325663Z",
     "start_time": "2020-12-15T17:13:45.807Z"
    }
   },
   "outputs": [],
   "source": [
    "ada_rf = AdaBoostClassifier(DecisionTreeClassifier(\n",
    "    max_depth=None), n_estimators=300, algorithm='SAMME.R', learning_rate=0.5, verbose=1)\n",
    "ada_rf.fit(X_train, y_train)"
   ]
  },
  {
   "cell_type": "code",
   "execution_count": null,
   "metadata": {
    "ExecuteTime": {
     "end_time": "2020-12-15T17:14:15.327502Z",
     "start_time": "2020-12-15T17:13:46.458Z"
    }
   },
   "outputs": [],
   "source": [
    "y_pred_ada_rf = ada_rf.predict(X_test)\n",
    "evaluation(y_test, y_pred_ada_rf)"
   ]
  },
  {
   "cell_type": "markdown",
   "metadata": {},
   "source": [
    "### ADABoost With GridSearch"
   ]
  },
  {
   "cell_type": "code",
   "execution_count": 120,
   "metadata": {
    "ExecuteTime": {
     "end_time": "2020-12-15T17:01:20.941933Z",
     "start_time": "2020-12-15T17:01:20.938768Z"
    }
   },
   "outputs": [],
   "source": [
    "param_grid = {\n",
    "    'n_estimators':[50, 100, 200, 1000],\n",
    "    'learning_rate':[0.01, 0.1, 0.5,1]\n",
    "    \n",
    "}"
   ]
  },
  {
   "cell_type": "code",
   "execution_count": 121,
   "metadata": {
    "ExecuteTime": {
     "end_time": "2020-12-15T17:05:20.478245Z",
     "start_time": "2020-12-15T17:01:35.519263Z"
    }
   },
   "outputs": [
    {
     "name": "stdout",
     "output_type": "stream",
     "text": [
      "Fitting 5 folds for each of 12 candidates, totalling 60 fits\n"
     ]
    },
    {
     "name": "stderr",
     "output_type": "stream",
     "text": [
      "[Parallel(n_jobs=-1)]: Using backend LokyBackend with 8 concurrent workers.\n",
      "[Parallel(n_jobs=-1)]: Done  34 tasks      | elapsed:  2.0min\n",
      "[Parallel(n_jobs=-1)]: Done  60 out of  60 | elapsed:  3.5min finished\n"
     ]
    },
    {
     "data": {
      "text/plain": [
       "GridSearchCV(cv=5, estimator=AdaBoostClassifier(random_state=1), n_jobs=-1,\n",
       "             param_grid={'learning_rate': [0.01, 0.1, 0.5, 1],\n",
       "                         'n_estimators': [50, 100, 200]},\n",
       "             verbose=1)"
      ]
     },
     "execution_count": 121,
     "metadata": {},
     "output_type": "execute_result"
    }
   ],
   "source": [
    "ada_grid = GridSearchCV(estimator= adaboost, param_grid = param_grid,\n",
    "                          cv=5, n_jobs=-1, verbose=1)\n",
    "ada_grid.fit(X_train, y_train)"
   ]
  },
  {
   "cell_type": "code",
   "execution_count": 123,
   "metadata": {
    "ExecuteTime": {
     "end_time": "2020-12-15T17:07:25.632651Z",
     "start_time": "2020-12-15T17:07:25.292312Z"
    }
   },
   "outputs": [
    {
     "name": "stdout",
     "output_type": "stream",
     "text": [
      "Evaluation Metrics:\n",
      "Accuracy: 0.7996299722479185\n",
      "F1 Score Macro: 0.7995792325091677\n",
      "F1 Score Micro: 0.7996299722479185\n",
      "Recall: 0.7868618350589075\n"
     ]
    }
   ],
   "source": [
    "y_pred_ada_rf = ada_grid.predict(X_test)\n",
    "evaluation(y_test, y_pred_ada_rf)"
   ]
  },
  {
   "cell_type": "code",
   "execution_count": null,
   "metadata": {
    "ExecuteTime": {
     "end_time": "2020-12-15T17:14:15.321316Z",
     "start_time": "2020-12-15T17:10:08.285Z"
    }
   },
   "outputs": [],
   "source": [
    "ada_grid.best_params_"
   ]
  },
  {
   "cell_type": "markdown",
   "metadata": {},
   "source": [
    "## Gradient Boosting"
   ]
  },
  {
   "cell_type": "code",
   "execution_count": 103,
   "metadata": {
    "ExecuteTime": {
     "end_time": "2020-12-15T15:35:53.305174Z",
     "start_time": "2020-12-15T15:35:35.727461Z"
    }
   },
   "outputs": [],
   "source": [
    "gbt_clt = GradientBoostingClassifier(random_state=1)\n",
    "gbt_clt.fit(X_train, y_train)\n",
    "y_pred_gbt = gbt_clt.predict(X_test)"
   ]
  },
  {
   "cell_type": "code",
   "execution_count": 104,
   "metadata": {
    "ExecuteTime": {
     "end_time": "2020-12-15T15:35:53.323701Z",
     "start_time": "2020-12-15T15:35:53.307502Z"
    }
   },
   "outputs": [
    {
     "name": "stdout",
     "output_type": "stream",
     "text": [
      "Evaluation Metrics:\n",
      "Accuracy: 0.7918593894542091\n",
      "F1 Score Macro: 0.7918501554579169\n",
      "F1 Score Micro: 0.7918593894542091\n",
      "Recall: 0.770439128882542\n"
     ]
    }
   ],
   "source": [
    "evaluation(y_test, y_pred_gbt)"
   ]
  },
  {
   "cell_type": "markdown",
   "metadata": {},
   "source": [
    "## XGBoost"
   ]
  }
 ],
 "metadata": {
  "kernelspec": {
   "display_name": "Python 3",
   "language": "python",
   "name": "python3"
  },
  "language_info": {
   "codemirror_mode": {
    "name": "ipython",
    "version": 3
   },
   "file_extension": ".py",
   "mimetype": "text/x-python",
   "name": "python",
   "nbconvert_exporter": "python",
   "pygments_lexer": "ipython3",
   "version": "3.6.9"
  },
  "toc": {
   "base_numbering": 1,
   "nav_menu": {},
   "number_sections": true,
   "sideBar": true,
   "skip_h1_title": false,
   "title_cell": "Table of Contents",
   "title_sidebar": "Contents",
   "toc_cell": false,
   "toc_position": {},
   "toc_section_display": true,
   "toc_window_display": false
  }
 },
 "nbformat": 4,
 "nbformat_minor": 4
}
