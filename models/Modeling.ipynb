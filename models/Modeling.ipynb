{
 "cells": [
  {
   "cell_type": "code",
   "execution_count": null,
   "metadata": {
    "ExecuteTime": {
     "start_time": "2020-12-13T17:54:41.986Z"
    }
   },
   "outputs": [],
   "source": [
    "# Importing Packages\n",
    "import pandas as pd\n",
    "import numpy as np\n",
    "import os\n",
    "\n",
    "# NLP Packages\n",
    "import nltk \n",
    "from nltk.corpus import stopwords\n",
    "from textblob import TextBlob \n",
    "from textblob import Word\n",
    "import re\n",
    "import string\n",
    "\n",
    "# WordCloud\n",
    "from wordcloud import WordCloud, STOPWORDS, ImageColorGenerator\n",
    "\n",
    "# Sklearn Packages\n",
    "from sklearn import metrics\n",
    "from sklearn.feature_extraction.text import CountVectorizer\n",
    "from sklearn.feature_extraction import text \n",
    "from sklearn.neighbors import KNeighborsClassifier\n",
    "from sklearn.ensemble import RandomForestClassifier\n",
    "from sklearn.metrics import accuracy_score, precision_score, recall_score, f1_score, confusion_matrix, plot_confusion_matrix, roc_curve, auc, classification_report\n",
    "from sklearn.model_selection import train_test_split\n",
    "from sklearn.linear_model import LogisticRegression\n",
    "from sklearn.feature_extraction.text import TfidfVectorizer\n",
    "from sklearn.naive_bayes import GaussianNB\n",
    "from sklearn.exceptions import ConvergenceWarning\n",
    "\n",
    "# ImbLearn Packages\n",
    "from imblearn.over_sampling import SMOTE\n",
    "\n",
    "# Pandas Settings\n",
    "pd.set_option('display.max_columns', 100)\n",
    "pd.set_option('display.max_rows', 100)\n",
    "\n",
    "# Solve warnings\n",
    "import warnings\n",
    "warnings.filterwarnings(\"ignore\", category=DeprecationWarning)\n",
    "warnings.filterwarnings(\"ignore\", category=FutureWarning)\n",
    "warnings.filterwarnings(\"ignore\", category=ConvergenceWarning)"
   ]
  },
  {
   "cell_type": "code",
   "execution_count": null,
   "metadata": {
    "ExecuteTime": {
     "start_time": "2020-12-13T17:54:42.229Z"
    },
    "scrolled": false
   },
   "outputs": [],
   "source": [
    "df = pd.read_csv('../csv/Hotel_Review_Spell_Checked.csv', index_col=0)"
   ]
  },
  {
   "cell_type": "code",
   "execution_count": null,
   "metadata": {
    "ExecuteTime": {
     "start_time": "2020-12-13T17:54:42.420Z"
    }
   },
   "outputs": [],
   "source": [
    "df.head()"
   ]
  },
  {
   "cell_type": "markdown",
   "metadata": {},
   "source": [
    "# Preprocessing"
   ]
  },
  {
   "cell_type": "code",
   "execution_count": null,
   "metadata": {
    "ExecuteTime": {
     "start_time": "2020-12-13T17:54:42.892Z"
    }
   },
   "outputs": [],
   "source": [
    "stop_words = stopwords.words('english')"
   ]
  },
  {
   "cell_type": "code",
   "execution_count": null,
   "metadata": {
    "ExecuteTime": {
     "start_time": "2020-12-13T17:54:43.139Z"
    },
    "scrolled": true
   },
   "outputs": [],
   "source": [
    "df.isna().sum()"
   ]
  },
  {
   "cell_type": "code",
   "execution_count": null,
   "metadata": {
    "ExecuteTime": {
     "start_time": "2020-12-13T17:54:43.367Z"
    }
   },
   "outputs": [],
   "source": [
    "df.dropna(inplace=True)"
   ]
  },
  {
   "cell_type": "code",
   "execution_count": null,
   "metadata": {
    "ExecuteTime": {
     "start_time": "2020-12-13T17:54:43.522Z"
    },
    "scrolled": false
   },
   "outputs": [],
   "source": [
    "df[df['Score'] == 0]"
   ]
  },
  {
   "cell_type": "markdown",
   "metadata": {},
   "source": [
    "## Count Vectorizer"
   ]
  },
  {
   "cell_type": "code",
   "execution_count": null,
   "metadata": {
    "ExecuteTime": {
     "start_time": "2020-12-13T17:54:43.994Z"
    }
   },
   "outputs": [],
   "source": [
    "# Instantiate CountVectorizer\n",
    "cv = CountVectorizer(stop_words=stop_words)\n",
    "\n",
    "# Fit and transform dataframe without data cleaning\n",
    "df_cv = cv.fit_transform(df['Spell_Checked'])\n",
    "df_cv = pd.DataFrame(df_cv.toarray(), columns = cv.get_feature_names())\n",
    "df_cv.index = df.index"
   ]
  },
  {
   "cell_type": "code",
   "execution_count": null,
   "metadata": {
    "ExecuteTime": {
     "start_time": "2020-12-13T17:54:44.244Z"
    }
   },
   "outputs": [],
   "source": [
    "df_cv.head()"
   ]
  },
  {
   "cell_type": "code",
   "execution_count": null,
   "metadata": {
    "ExecuteTime": {
     "start_time": "2020-12-13T17:54:44.476Z"
    }
   },
   "outputs": [],
   "source": [
    "# # Using Sparse in the DataFrame\n",
    "# df_sparse = df_cv.astype('Sparse')"
   ]
  },
  {
   "cell_type": "code",
   "execution_count": null,
   "metadata": {
    "ExecuteTime": {
     "start_time": "2020-12-13T17:54:44.962Z"
    }
   },
   "outputs": [],
   "source": [
    "y = df.Score\n",
    "X_cv = df_cv"
   ]
  },
  {
   "cell_type": "code",
   "execution_count": null,
   "metadata": {
    "ExecuteTime": {
     "start_time": "2020-12-13T17:54:46.436Z"
    }
   },
   "outputs": [],
   "source": [
    "# Running Train Test Split\n",
    "X_train_cv, X_test_cv, y_train_cv, y_test_cv = train_test_split(X_cv, y, test_size= 0.25)"
   ]
  },
  {
   "cell_type": "markdown",
   "metadata": {},
   "source": [
    "## TF-IDF"
   ]
  },
  {
   "cell_type": "code",
   "execution_count": null,
   "metadata": {
    "ExecuteTime": {
     "start_time": "2020-12-13T17:54:46.976Z"
    }
   },
   "outputs": [],
   "source": [
    "def fn_tdm_tfidf(docs, xColNames = None, **kwargs):\n",
    "    ''' create a term document matrix as pandas DataFrame\n",
    "    with **kwargs you can pass arguments of CountVectorizer\n",
    "    if xColNames is given the dataframe gets columns Names'''\n",
    "\n",
    "    #initialize the  vectorizer\n",
    "    tf = TfidfVectorizer(**kwargs)\n",
    "    x1 = tf.fit_transform(docs)\n",
    "    #create dataFrame\n",
    "    df = pd.DataFrame(x1.toarray().transpose(), index = tf.get_feature_names())\n",
    "\n",
    "    if xColNames is not None:\n",
    "        df.columns = xColNames\n",
    "\n",
    "    return df"
   ]
  },
  {
   "cell_type": "code",
   "execution_count": null,
   "metadata": {
    "ExecuteTime": {
     "start_time": "2020-12-13T17:54:47.585Z"
    }
   },
   "outputs": [],
   "source": [
    "df_tfidf = fn_tdm_tfidf(df['Spell_Checked']).transpose()"
   ]
  },
  {
   "cell_type": "code",
   "execution_count": null,
   "metadata": {
    "ExecuteTime": {
     "start_time": "2020-12-13T17:54:47.922Z"
    },
    "scrolled": false
   },
   "outputs": [],
   "source": [
    "df_tfidf.head()"
   ]
  },
  {
   "cell_type": "code",
   "execution_count": null,
   "metadata": {
    "ExecuteTime": {
     "start_time": "2020-12-13T17:54:48.686Z"
    }
   },
   "outputs": [],
   "source": [
    "df_tfidf.drop(columns='zafirovski', inplace=True)"
   ]
  },
  {
   "cell_type": "code",
   "execution_count": null,
   "metadata": {
    "ExecuteTime": {
     "start_time": "2020-12-13T17:54:49.923Z"
    }
   },
   "outputs": [],
   "source": [
    "X_train_tfidf, X_test_tfidf, y_train_tfidf, y_test_tfidf = train_test_split(df_tfidf, y, test_size=0.25, random_state=1)"
   ]
  },
  {
   "cell_type": "markdown",
   "metadata": {},
   "source": [
    "## Evaluation Metric"
   ]
  },
  {
   "cell_type": "code",
   "execution_count": null,
   "metadata": {
    "ExecuteTime": {
     "start_time": "2020-12-13T17:54:53.333Z"
    }
   },
   "outputs": [],
   "source": [
    "# Evaluation function\n",
    "\n",
    "def evaluation(y_true, y_pred):\n",
    "    \n",
    "# Print Accuracy, Recall, F1 Score, and Precision metrics.\n",
    "    print('Evaluation Metrics:')\n",
    "    print('Accuracy: ' + str(metrics.accuracy_score(y_true, y_pred)))\n",
    "    print('F1 Score Weighted: ' + str(metrics.f1_score(y_true, y_pred, average=\"weighted\")))\n",
    "    print('F1 Score Macro: ' + str(metrics.f1_score(y_true, y_pred, average=\"macro\")))\n",
    "    print('Recall: ' + str(metrics.recall_score(y_true, y_pred)))"
   ]
  },
  {
   "cell_type": "markdown",
   "metadata": {},
   "source": [
    "## Modeling With Count Vectorizer"
   ]
  },
  {
   "cell_type": "markdown",
   "metadata": {},
   "source": [
    "### Logistic Regression"
   ]
  },
  {
   "cell_type": "code",
   "execution_count": 25,
   "metadata": {
    "ExecuteTime": {
     "end_time": "2020-12-13T16:14:05.017518Z",
     "start_time": "2020-12-13T16:13:30.963653Z"
    }
   },
   "outputs": [],
   "source": [
    "# Baseline Regression Model\n",
    "lg_base = LogisticRegression()\n",
    "lg_base.fit(X_train_cv, y_train_cv) \n",
    "y_lg_base_cv = lg_base.predict(X_test_cv)\n",
    "\n",
    "# 28 seconds"
   ]
  },
  {
   "cell_type": "code",
   "execution_count": 26,
   "metadata": {
    "ExecuteTime": {
     "end_time": "2020-12-13T16:14:05.056220Z",
     "start_time": "2020-12-13T16:14:05.021159Z"
    },
    "scrolled": true
   },
   "outputs": [
    {
     "name": "stdout",
     "output_type": "stream",
     "text": [
      "Evaluation Metrics:\n",
      "Accuracy: 0.8108957569408067\n",
      "F1 Score Weighted: 0.8108312400797062\n",
      "F1 Score Macro: 0.8060086047124368\n",
      "Recall: 0.8108957569408067\n"
     ]
    }
   ],
   "source": [
    "# Logistic Regression baseline evaluation\n",
    "evaluation(y_test_cv, y_lg_base_cv)"
   ]
  },
  {
   "cell_type": "code",
   "execution_count": 27,
   "metadata": {
    "ExecuteTime": {
     "end_time": "2020-12-13T16:14:05.076291Z",
     "start_time": "2020-12-13T16:14:05.058549Z"
    }
   },
   "outputs": [],
   "source": [
    "rf_recall = recall_score(y_test_cv, y_lg_base_cv, average='weighted')\n",
    "rf_f1_score = f1_score(y_test_cv, y_lg_base_cv, average='weighted')"
   ]
  },
  {
   "cell_type": "markdown",
   "metadata": {},
   "source": [
    "### Grid Search LogReg"
   ]
  },
  {
   "cell_type": "code",
   "execution_count": 28,
   "metadata": {
    "ExecuteTime": {
     "end_time": "2020-12-13T16:14:05.087246Z",
     "start_time": "2020-12-13T16:14:05.080261Z"
    }
   },
   "outputs": [],
   "source": [
    "from sklearn.model_selection import GridSearchCV"
   ]
  },
  {
   "cell_type": "code",
   "execution_count": 29,
   "metadata": {
    "ExecuteTime": {
     "end_time": "2020-12-13T16:14:05.095414Z",
     "start_time": "2020-12-13T16:14:05.089941Z"
    }
   },
   "outputs": [],
   "source": [
    "#This is the parameters for the baseline Gridsearch with Logistic Regression\n",
    "param_dict={\n",
    "    \"class_weight\":[\"balanced\"],\n",
    "    \"solver\":[\"lbfgs\",\"liblinear\"]\n",
    "    \n",
    "}\n",
    "logreg = LogisticRegression(max_iter=1000)"
   ]
  },
  {
   "cell_type": "code",
   "execution_count": null,
   "metadata": {
    "ExecuteTime": {
     "end_time": "2020-12-13T16:15:22.564031Z",
     "start_time": "2020-12-13T16:15:16.607Z"
    },
    "scrolled": false
   },
   "outputs": [],
   "source": [
    "grid_lg = GridSearchCV(logreg, param_dict, cv=20, scoring='f1_weighted', verbose=1, n_jobs=-1)\n",
    "grid_lg.fit(X_train_cv,y_train_cv)"
   ]
  },
  {
   "cell_type": "code",
   "execution_count": null,
   "metadata": {
    "ExecuteTime": {
     "end_time": "2020-12-13T16:15:04.472595Z",
     "start_time": "2020-12-13T16:13:31.055Z"
    }
   },
   "outputs": [],
   "source": [
    "y_gc_base_cv = grid_lg(X_test)"
   ]
  },
  {
   "cell_type": "code",
   "execution_count": null,
   "metadata": {
    "ExecuteTime": {
     "end_time": "2020-12-13T16:15:04.475306Z",
     "start_time": "2020-12-13T16:13:31.505Z"
    }
   },
   "outputs": [],
   "source": [
    "# Logistic Regression baseline evaluation\n",
    "evaluation(y_test_cv, y_gc_base_cv)"
   ]
  },
  {
   "cell_type": "markdown",
   "metadata": {},
   "source": [
    "### Random Forest"
   ]
  },
  {
   "cell_type": "code",
   "execution_count": 32,
   "metadata": {
    "ExecuteTime": {
     "end_time": "2020-12-13T16:18:24.636959Z",
     "start_time": "2020-12-13T16:15:24.130129Z"
    }
   },
   "outputs": [],
   "source": [
    "rf_cv = RandomForestClassifier()\n",
    "rf_cv.fit(X_train_cv, y_train_cv)\n",
    "y_rf_cv = rf_cv.predict(X_test_cv)\n",
    "\n",
    "# 50 seconds"
   ]
  },
  {
   "cell_type": "code",
   "execution_count": 33,
   "metadata": {
    "ExecuteTime": {
     "end_time": "2020-12-13T16:18:24.661717Z",
     "start_time": "2020-12-13T16:18:24.640342Z"
    },
    "scrolled": true
   },
   "outputs": [
    {
     "name": "stdout",
     "output_type": "stream",
     "text": [
      "Evaluation Metrics:\n",
      "Accuracy: 0.8078837087480356\n",
      "F1 Score Weighted: 0.8079038186480665\n",
      "F1 Score Macro: 0.8030935305606792\n",
      "Recall: 0.8078837087480356\n"
     ]
    }
   ],
   "source": [
    "# Random Forest baseline evaluation\n",
    "evaluation(y_test_cv, y_rf_cv)"
   ]
  },
  {
   "cell_type": "markdown",
   "metadata": {},
   "source": [
    "### Naive Bayes"
   ]
  },
  {
   "cell_type": "code",
   "execution_count": 35,
   "metadata": {
    "ExecuteTime": {
     "end_time": "2020-12-13T17:49:42.033108Z",
     "start_time": "2020-12-13T17:49:30.524820Z"
    }
   },
   "outputs": [],
   "source": [
    "nb_base_cv = GaussianNB()\n",
    "nb_base_cv.fit(X_train_cv, y_train_cv)\n",
    "\n",
    "y_nb_base_cv = nb_base_cv.predict(X_test_cv)"
   ]
  },
  {
   "cell_type": "code",
   "execution_count": 36,
   "metadata": {
    "ExecuteTime": {
     "end_time": "2020-12-13T17:49:42.061667Z",
     "start_time": "2020-12-13T17:49:42.036812Z"
    }
   },
   "outputs": [
    {
     "name": "stdout",
     "output_type": "stream",
     "text": [
      "Evaluation Metrics:\n",
      "Accuracy: 0.6304347826086957\n",
      "F1 Score Weighted: 0.5803822053361309\n",
      "F1 Score Macro: 0.5507471150301966\n",
      "Recall: 0.6304347826086957\n"
     ]
    }
   ],
   "source": [
    "# Naive Bayes baseline evaluation\n",
    "evaluation(y_test_cv, y_nb_base_cv)"
   ]
  },
  {
   "cell_type": "code",
   "execution_count": null,
   "metadata": {
    "ExecuteTime": {
     "start_time": "2020-12-13T17:51:11.100Z"
    }
   },
   "outputs": [],
   "source": [
    "# knn_base_cv = KNeighborsClassifier()\n",
    "# knn_base_cv.fit(X_train_cv, y_train_cv)\n",
    "\n",
    "# y_knn_base_cv = knn_base_cv.predict(X_train_cv)"
   ]
  },
  {
   "cell_type": "code",
   "execution_count": null,
   "metadata": {
    "ExecuteTime": {
     "start_time": "2020-12-13T17:51:14.193Z"
    }
   },
   "outputs": [],
   "source": [
    "# # KNN baseline evaluation\n",
    "# evaluation(y_test_cv, y_knn_base_cv)"
   ]
  },
  {
   "cell_type": "markdown",
   "metadata": {},
   "source": [
    "## Modeling with TF-IDF"
   ]
  },
  {
   "cell_type": "markdown",
   "metadata": {},
   "source": [
    "### Logistic Regression"
   ]
  },
  {
   "cell_type": "code",
   "execution_count": null,
   "metadata": {
    "ExecuteTime": {
     "start_time": "2020-12-13T17:55:05.337Z"
    }
   },
   "outputs": [],
   "source": [
    "# Baseline Regression Model\n",
    "lg_base_tfidf = LogisticRegression()\n",
    "lg_base_tfidf.fit(X_train_tfidf, y_train_tfidf) \n",
    "y_lg_base_tfidf = lg_base_tfidf.predict(X_test_tfidf)\n",
    "# 28 seconds"
   ]
  },
  {
   "cell_type": "code",
   "execution_count": null,
   "metadata": {
    "ExecuteTime": {
     "start_time": "2020-12-13T17:55:05.831Z"
    },
    "scrolled": true
   },
   "outputs": [],
   "source": [
    "# Logistic Regression TF-IDF baseline evaluation\n",
    "evaluation(y_test_tfidf, y_lg_base_tfidf)"
   ]
  },
  {
   "cell_type": "markdown",
   "metadata": {},
   "source": [
    "### Random Forest "
   ]
  },
  {
   "cell_type": "code",
   "execution_count": null,
   "metadata": {
    "ExecuteTime": {
     "start_time": "2020-12-13T17:55:11.951Z"
    }
   },
   "outputs": [],
   "source": [
    "rf_base_tfidf = RandomForestClassifier()\n",
    "rf_base_tfidf.fit(X_train_tfidf, y_train_tfidf)\n",
    "y_rf_base_tfidf = rf_base_tfidf.predict(X_test_tfidf)\n",
    "\n",
    "# 50 seconds"
   ]
  },
  {
   "cell_type": "code",
   "execution_count": null,
   "metadata": {
    "ExecuteTime": {
     "start_time": "2020-12-13T17:55:12.401Z"
    }
   },
   "outputs": [],
   "source": [
    "# Logistic Regression TF-IDF baseline evaluation\n",
    "evaluation(y_test_tfidf, y_rf_base_tfidf)"
   ]
  },
  {
   "cell_type": "code",
   "execution_count": null,
   "metadata": {},
   "outputs": [],
   "source": []
  },
  {
   "cell_type": "code",
   "execution_count": null,
   "metadata": {},
   "outputs": [],
   "source": []
  },
  {
   "cell_type": "code",
   "execution_count": null,
   "metadata": {},
   "outputs": [],
   "source": []
  },
  {
   "cell_type": "code",
   "execution_count": null,
   "metadata": {},
   "outputs": [],
   "source": []
  },
  {
   "cell_type": "code",
   "execution_count": null,
   "metadata": {},
   "outputs": [],
   "source": []
  },
  {
   "cell_type": "code",
   "execution_count": null,
   "metadata": {},
   "outputs": [],
   "source": []
  },
  {
   "cell_type": "code",
   "execution_count": null,
   "metadata": {},
   "outputs": [],
   "source": []
  },
  {
   "cell_type": "code",
   "execution_count": null,
   "metadata": {},
   "outputs": [],
   "source": []
  }
 ],
 "metadata": {
  "kernelspec": {
   "display_name": "Python 3",
   "language": "python",
   "name": "python3"
  },
  "language_info": {
   "codemirror_mode": {
    "name": "ipython",
    "version": 3
   },
   "file_extension": ".py",
   "mimetype": "text/x-python",
   "name": "python",
   "nbconvert_exporter": "python",
   "pygments_lexer": "ipython3",
   "version": "3.6.9"
  },
  "toc": {
   "base_numbering": 1,
   "nav_menu": {},
   "number_sections": true,
   "sideBar": true,
   "skip_h1_title": false,
   "title_cell": "Table of Contents",
   "title_sidebar": "Contents",
   "toc_cell": false,
   "toc_position": {},
   "toc_section_display": true,
   "toc_window_display": false
  }
 },
 "nbformat": 4,
 "nbformat_minor": 4
}
