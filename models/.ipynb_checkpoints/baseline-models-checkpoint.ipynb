{
 "cells": [
  {
   "cell_type": "markdown",
   "metadata": {},
   "source": [
    "# Vanilla Models"
   ]
  },
  {
   "cell_type": "markdown",
   "metadata": {},
   "source": [
    "In this notebook, you will find the baseline models, also known as vanilla models. For the baseline models, I will run Logistic Regression, which is a basic but reliable model - it works well with binary classification?; Random Forest because I believe a Decision Tree could bring me good results but since Random Forest is a collection of Decision Trees, I can skip it and start with Random Forest; Naive Bayes, which is know for giving good results when applied to NLP; and Support Vector Machine, which is also known for working well with Natural Language Processing.\n",
    "\n",
    "I will try the vanilla models with the datasets vectorized with CountVectorizer, TF-IDF. I will try these models with and without lemmatization. I will also iterate the best models with a train set using SMOTE. I have fixed the class imbalance manually in the <a href=\"https://github.com/Ismaeltrevi/hotel-reviews-analysis-using-nlp/blob/main/preprossessing/data-cleaning.ipynb\">Data Cleaning</a> notebook. However, I'm curious to see if the models could have any improvement with SMOTE. I will use the `Spell_Checked` feature, since it's the cleanest one. I will not include other features from the original data set because the main objective is train a model using the reviews only.\n",
    "\n",
    "I have a binary classification, where the target will be 0 for negative review and 1 for positive review."
   ]
  },
  {
   "cell_type": "markdown",
   "metadata": {},
   "source": [
    "## Objectives"
   ]
  },
  {
   "cell_type": "markdown",
   "metadata": {},
   "source": [
    "- Preprossess the dataset creating train and test datasets\n",
    "- Run models for each vectorizer used\n",
    "- Find the best models for each category\n",
    "- Evaluate Results"
   ]
  },
  {
   "cell_type": "markdown",
   "metadata": {},
   "source": [
    "# Importing"
   ]
  },
  {
   "cell_type": "markdown",
   "metadata": {},
   "source": [
    "In this section, we will import important packages and the data set we will use, which was already cleaned in the Data Cleaning notebook."
   ]
  },
  {
   "cell_type": "code",
   "execution_count": 1,
   "metadata": {
    "ExecuteTime": {
     "end_time": "2020-12-24T02:19:09.239862Z",
     "start_time": "2020-12-24T02:19:06.379667Z"
    }
   },
   "outputs": [],
   "source": [
    "# Basic Packages\n",
    "import pandas as pd\n",
    "import numpy as np\n",
    "import os\n",
    "import matplotlib.pyplot as plt\n",
    "%matplotlib inline\n",
    "import seaborn as sns\n",
    "\n",
    "# NLP Packages\n",
    "import nltk \n",
    "from nltk.corpus import stopwords\n",
    "\n",
    "# WordCloud\n",
    "from wordcloud import WordCloud, STOPWORDS, ImageColorGenerator\n",
    "\n",
    "# Sklearn Packages\n",
    "from sklearn import metrics\n",
    "from sklearn.feature_extraction.text import CountVectorizer\n",
    "from sklearn.feature_extraction import text \n",
    "from sklearn.ensemble import RandomForestClassifier\n",
    "from sklearn.metrics import accuracy_score, precision_score, recall_score, f1_score, confusion_matrix, plot_confusion_matrix, roc_curve, auc, classification_report\n",
    "from sklearn.model_selection import train_test_split\n",
    "from sklearn.linear_model import LogisticRegression\n",
    "from sklearn.feature_extraction.text import TfidfVectorizer\n",
    "from sklearn.naive_bayes import GaussianNB\n",
    "from sklearn.model_selection import GridSearchCV\n",
    "from sklearn.exceptions import ConvergenceWarning\n",
    "from sklearn.utils import resample\n",
    "from sklearn.ensemble import BaggingClassifier\n",
    "from imblearn.over_sampling import SMOTE\n",
    "from sklearn.naive_bayes import MultinomialNB\n",
    "from sklearn.svm import SVC\n",
    "from IPython.core.display import display, HTML\n",
    "from sklearn.model_selection import cross_val_score\n",
    "\n",
    "# Pandas Settings\n",
    "pd.set_option('display.max_columns', 100)\n",
    "pd.set_option('display.max_rows', 100)\n",
    "\n",
    "# Solve warnings\n",
    "import warnings\n",
    "warnings.filterwarnings(\"ignore\", category=DeprecationWarning)\n",
    "warnings.filterwarnings(\"ignore\", category=FutureWarning)\n",
    "warnings.filterwarnings(\"ignore\", category=ConvergenceWarning)\n",
    "\n",
    "# Import pickle\n",
    "import pickle"
   ]
  },
  {
   "cell_type": "code",
   "execution_count": 2,
   "metadata": {
    "ExecuteTime": {
     "end_time": "2020-12-24T02:19:09.249061Z",
     "start_time": "2020-12-24T02:19:09.243918Z"
    }
   },
   "outputs": [],
   "source": [
    "from functions import evaluation\n",
    "from functions import cross_validation"
   ]
  },
  {
   "cell_type": "markdown",
   "metadata": {},
   "source": [
    "## Importing DataFrame"
   ]
  },
  {
   "cell_type": "markdown",
   "metadata": {},
   "source": [
    "Importing the main dataset and the lemmatized X and y variables"
   ]
  },
  {
   "cell_type": "code",
   "execution_count": 3,
   "metadata": {
    "ExecuteTime": {
     "end_time": "2020-12-24T02:19:09.621842Z",
     "start_time": "2020-12-24T02:19:09.253016Z"
    },
    "scrolled": false
   },
   "outputs": [],
   "source": [
    "# Importing cleaned dataset as a DataFrame\n",
    "df = pd.read_csv('../csv/Hotel_Review_Spell_Checked.csv', index_col=0)"
   ]
  },
  {
   "cell_type": "code",
   "execution_count": 4,
   "metadata": {
    "ExecuteTime": {
     "end_time": "2020-12-24T02:19:09.668803Z",
     "start_time": "2020-12-24T02:19:09.626231Z"
    }
   },
   "outputs": [
    {
     "data": {
      "text/html": [
       "<div>\n",
       "<style scoped>\n",
       "    .dataframe tbody tr th:only-of-type {\n",
       "        vertical-align: middle;\n",
       "    }\n",
       "\n",
       "    .dataframe tbody tr th {\n",
       "        vertical-align: top;\n",
       "    }\n",
       "\n",
       "    .dataframe thead th {\n",
       "        text-align: right;\n",
       "    }\n",
       "</style>\n",
       "<table border=\"1\" class=\"dataframe\">\n",
       "  <thead>\n",
       "    <tr style=\"text-align: right;\">\n",
       "      <th></th>\n",
       "      <th>Unnamed: 0.1</th>\n",
       "      <th>Hotel_Name</th>\n",
       "      <th>Negative_Review</th>\n",
       "      <th>Positive_Review</th>\n",
       "      <th>Reviewer_Score</th>\n",
       "      <th>Reviews_Clean</th>\n",
       "      <th>Score</th>\n",
       "      <th>Spell_Checked</th>\n",
       "    </tr>\n",
       "  </thead>\n",
       "  <tbody>\n",
       "    <tr>\n",
       "      <th>0</th>\n",
       "      <td>185010</td>\n",
       "      <td>St James Court A Taj Hotel London</td>\n",
       "      <td>No Negative</td>\n",
       "      <td>the location was perfect</td>\n",
       "      <td>9.6</td>\n",
       "      <td>no negative the location was perfect</td>\n",
       "      <td>1</td>\n",
       "      <td>no negative the location was perfect</td>\n",
       "    </tr>\n",
       "    <tr>\n",
       "      <th>1</th>\n",
       "      <td>424531</td>\n",
       "      <td>H10 Metropolitan 4 Sup</td>\n",
       "      <td>Nothing</td>\n",
       "      <td>Everything was top notch staff were impeccable</td>\n",
       "      <td>10.0</td>\n",
       "      <td>nothing  everything was top notch staff were ...</td>\n",
       "      <td>1</td>\n",
       "      <td>nothing  everything was top notch staff were ...</td>\n",
       "    </tr>\n",
       "  </tbody>\n",
       "</table>\n",
       "</div>"
      ],
      "text/plain": [
       "   Unnamed: 0.1                         Hotel_Name Negative_Review  \\\n",
       "0        185010  St James Court A Taj Hotel London     No Negative   \n",
       "1        424531             H10 Metropolitan 4 Sup        Nothing    \n",
       "\n",
       "                                    Positive_Review  Reviewer_Score  \\\n",
       "0                         the location was perfect              9.6   \n",
       "1   Everything was top notch staff were impeccable             10.0   \n",
       "\n",
       "                                       Reviews_Clean  Score  \\\n",
       "0              no negative the location was perfect       1   \n",
       "1   nothing  everything was top notch staff were ...      1   \n",
       "\n",
       "                                       Spell_Checked  \n",
       "0              no negative the location was perfect   \n",
       "1   nothing  everything was top notch staff were ...  "
      ]
     },
     "execution_count": 4,
     "metadata": {},
     "output_type": "execute_result"
    }
   ],
   "source": [
    "# Checking DataFrame\n",
    "df.head(2)"
   ]
  },
  {
   "cell_type": "markdown",
   "metadata": {},
   "source": [
    "### Importing Lemmatized X and Y Variables"
   ]
  },
  {
   "cell_type": "markdown",
   "metadata": {},
   "source": [
    "I lemmatized the feature variable `Spell_Checked` in the <a href=\"https://github.com/Ismaeltrevi/hotel-reviews-analysis-using-nlp/blob/main/preprossessing/data-cleaning.ipynb\">Data Cleaning</a> notebook."
   ]
  },
  {
   "cell_type": "code",
   "execution_count": 5,
   "metadata": {
    "ExecuteTime": {
     "end_time": "2020-12-24T02:19:09.702075Z",
     "start_time": "2020-12-24T02:19:09.671414Z"
    }
   },
   "outputs": [],
   "source": [
    "# Importing lemmatized X and y variable\n",
    "X_lem = pickle.load(open('../pickle/X_lem.pkl', 'rb'))\n",
    "y_lem = pd.read_pickle('../pickle/y_lem.pkl')"
   ]
  },
  {
   "cell_type": "markdown",
   "metadata": {},
   "source": [
    "# Preprocessing"
   ]
  },
  {
   "cell_type": "code",
   "execution_count": 6,
   "metadata": {
    "ExecuteTime": {
     "end_time": "2020-12-24T02:19:09.709488Z",
     "start_time": "2020-12-24T02:19:09.704104Z"
    }
   },
   "outputs": [],
   "source": [
    "# Importing stop_words\n",
    "stop_words = stopwords.words('english')"
   ]
  },
  {
   "cell_type": "code",
   "execution_count": 7,
   "metadata": {
    "ExecuteTime": {
     "end_time": "2020-12-24T02:19:09.733462Z",
     "start_time": "2020-12-24T02:19:09.712526Z"
    }
   },
   "outputs": [],
   "source": [
    "# Dropping null values, if any\n",
    "df.dropna(inplace=True)"
   ]
  },
  {
   "cell_type": "markdown",
   "metadata": {},
   "source": [
    "## Train Test Split"
   ]
  },
  {
   "cell_type": "markdown",
   "metadata": {},
   "source": [
    "As mentioned in the introduction, I will use the column `Spell_Checked` to create the features and `Score` as my target."
   ]
  },
  {
   "cell_type": "code",
   "execution_count": 8,
   "metadata": {
    "ExecuteTime": {
     "end_time": "2020-12-24T02:19:09.741828Z",
     "start_time": "2020-12-24T02:19:09.738776Z"
    }
   },
   "outputs": [],
   "source": [
    "# Creating an X variable and y for my target\n",
    "X = df.Spell_Checked\n",
    "y = df.Score"
   ]
  },
  {
   "cell_type": "code",
   "execution_count": 9,
   "metadata": {
    "ExecuteTime": {
     "end_time": "2020-12-24T02:19:09.758769Z",
     "start_time": "2020-12-24T02:19:09.747165Z"
    }
   },
   "outputs": [],
   "source": [
    "# Splitting the dataset in train set and test set\n",
    "X_train, X_test, y_train, y_test = train_test_split(X, y, test_size=0.25, random_state=1)"
   ]
  },
  {
   "cell_type": "markdown",
   "metadata": {},
   "source": [
    "### Train Test Split with Lemmatization"
   ]
  },
  {
   "cell_type": "code",
   "execution_count": 10,
   "metadata": {
    "ExecuteTime": {
     "end_time": "2020-12-24T02:19:09.777024Z",
     "start_time": "2020-12-24T02:19:09.761784Z"
    }
   },
   "outputs": [],
   "source": [
    "# Splitting the lemmatized dataset in train set and test set\n",
    "X_train_lem, X_test_lem, y_train_lem, y_test_lem = train_test_split(X_lem, y_lem, test_size=0.25, random_state=15)"
   ]
  },
  {
   "cell_type": "markdown",
   "metadata": {},
   "source": [
    "## Count Vectorizer"
   ]
  },
  {
   "cell_type": "code",
   "execution_count": 11,
   "metadata": {
    "ExecuteTime": {
     "end_time": "2020-12-24T02:19:10.827903Z",
     "start_time": "2020-12-24T02:19:09.779610Z"
    }
   },
   "outputs": [],
   "source": [
    "# Instantiate CountVectorizer\n",
    "cv = CountVectorizer(stop_words=stop_words)\n",
    "\n",
    "# Fitting into the train and test set\n",
    "X_train_cv = cv.fit_transform(X_train)\n",
    "X_test_cv = cv.transform(X_test)"
   ]
  },
  {
   "cell_type": "markdown",
   "metadata": {},
   "source": [
    "## TF-IDF"
   ]
  },
  {
   "cell_type": "code",
   "execution_count": 13,
   "metadata": {
    "ExecuteTime": {
     "end_time": "2020-12-24T02:21:03.089371Z",
     "start_time": "2020-12-24T02:21:02.348466Z"
    }
   },
   "outputs": [],
   "source": [
    "# Instantiate TF-IDF Vectorizer\n",
    "tfidf = TfidfVectorizer(stop_words=stop_words)\n",
    "\n",
    "# Fitting into the train and test set\n",
    "X_train_tfidf = tfidf.fit_transform(X_train)\n",
    "X_test_tfidf = tfidf.transform(X_test)"
   ]
  },
  {
   "cell_type": "markdown",
   "metadata": {},
   "source": [
    "### TF-DF With Lemmatization"
   ]
  },
  {
   "cell_type": "code",
   "execution_count": 14,
   "metadata": {
    "ExecuteTime": {
     "end_time": "2020-12-24T02:21:04.947215Z",
     "start_time": "2020-12-24T02:21:04.432685Z"
    }
   },
   "outputs": [],
   "source": [
    "# Fitting into the lemmatized train and test set\n",
    "X_train_lem = tfidf.fit_transform(X_train_lem)\n",
    "X_test_lem = tfidf.transform(X_test_lem)"
   ]
  },
  {
   "cell_type": "markdown",
   "metadata": {},
   "source": [
    "## Evaluation Metric"
   ]
  },
  {
   "cell_type": "markdown",
   "metadata": {},
   "source": [
    "My main focus is the accuracy metric. Have an accurate is important to be accurate. However, although fixing False Negatives is not crucial, I will also take a look at Recall and F1-Score to understand how my model is working. Since it is not my main focus, I will not mentioned in the individual analysis on my models."
   ]
  },
  {
   "cell_type": "markdown",
   "metadata": {},
   "source": [
    "# Vanilla Models"
   ]
  },
  {
   "cell_type": "markdown",
   "metadata": {},
   "source": [
    "In this section, I will run the Logistic Regression, Random Forest, Naive Bayes, and SVC models for the dataset that was vectorized using Count Vectorizer. Then, I will pick the three best models and move to the next section, which will be using TF-IDF.\n",
    "\n",
    "I will also create dictionaries for each model so that I will be able to create a DataFrame with the models' results. For better visualization, I will evaluate each model by the end of each section.\n",
    "\n",
    "\n",
    "<b>Note:</b> You will see that I will instantiate the same model multiple times. This will be done so that you can run each model individually, without having the run all the cells for each model."
   ]
  },
  {
   "cell_type": "markdown",
   "metadata": {},
   "source": [
    "## Modeling With Count Vectorizer"
   ]
  },
  {
   "cell_type": "markdown",
   "metadata": {},
   "source": [
    "In this section, I will run the Logistic Regression, Random Forest, Naive Bayes, and SVC models for the dataset that was vectorized using Count Vectorizer. Then, I will pick the three best models and move to the next section, which will be using TF-IDF."
   ]
  },
  {
   "cell_type": "markdown",
   "metadata": {},
   "source": [
    "### Logistic Regression"
   ]
  },
  {
   "cell_type": "code",
   "execution_count": 15,
   "metadata": {
    "ExecuteTime": {
     "end_time": "2020-12-24T02:21:10.185651Z",
     "start_time": "2020-12-24T02:21:09.190199Z"
    }
   },
   "outputs": [],
   "source": [
    "# Instantiating baseline Logistic Regression Model\n",
    "lg_baseline = LogisticRegression()\n",
    "\n",
    "# Fitting the model to the X and y variables of the train set\n",
    "lg_baseline.fit(X_train_cv, y_train)\n",
    "\n",
    "# Predicting the model in the X variable of the test set\n",
    "y_lg_cv = lg_baseline.predict(X_test_cv)"
   ]
  },
  {
   "cell_type": "code",
   "execution_count": 16,
   "metadata": {
    "ExecuteTime": {
     "end_time": "2020-12-24T02:21:10.212317Z",
     "start_time": "2020-12-24T02:21:10.188964Z"
    }
   },
   "outputs": [],
   "source": [
    "# Creating dictionary with all metrics\n",
    "lr_cv_accuracy = accuracy_score(y_test, y_lg_cv)\n",
    "lr_cv_precision = precision_score(y_test, y_lg_cv)\n",
    "lr_cv_recall = recall_score(y_test, y_lg_cv)\n",
    "lr_cv_f1 = f1_score(y_test, y_lg_cv)\n",
    "\n",
    "metric_dict = {}\n",
    "metric_dict['Vanilla Logisitic Regression CV'] = {'Accuracy': lr_cv_accuracy,\n",
    "                                                'Precision': lr_cv_precision,\n",
    "                                                'Recall': lr_cv_recall,\n",
    "                                                'F1 Score': lr_cv_f1}"
   ]
  },
  {
   "cell_type": "code",
   "execution_count": 71,
   "metadata": {
    "ExecuteTime": {
     "end_time": "2020-12-24T15:13:26.371756Z",
     "start_time": "2020-12-24T15:12:06.704908Z"
    },
    "scrolled": false
   },
   "outputs": [
    {
     "name": "stdout",
     "output_type": "stream",
     "text": [
      "Evaluation Metrics:\n",
      "Accuracy: 0.798149861239593\n",
      "Precision: 0.8104575163398693\n",
      "Recall: 0.7968582649053909\n",
      "F1 Score: 0.8036003600360035\n",
      "\n",
      "Cross-Validation Accuracy Scores: [0.80758557 0.80049337 0.80080173 0.80727721 0.81431215]\n",
      "Min:  0.800493\n",
      "Max:  0.814312\n",
      "Mean:  0.806094\n",
      "Range:  0.013819\n"
     ]
    }
   ],
   "source": [
    "# Logistic Regression baseline evaluation\n",
    "evaluation(y_test, y_lg_cv)\n",
    "cross_validation(lg_baseline, X_train_cv, y_train, 5)"
   ]
  },
  {
   "cell_type": "code",
   "execution_count": 18,
   "metadata": {
    "ExecuteTime": {
     "end_time": "2020-12-24T02:21:12.892071Z",
     "start_time": "2020-12-24T02:21:12.877663Z"
    },
    "scrolled": true
   },
   "outputs": [
    {
     "data": {
      "text/html": [
       "<div>\n",
       "<style scoped>\n",
       "    .dataframe tbody tr th:only-of-type {\n",
       "        vertical-align: middle;\n",
       "    }\n",
       "\n",
       "    .dataframe tbody tr th {\n",
       "        vertical-align: top;\n",
       "    }\n",
       "\n",
       "    .dataframe thead th {\n",
       "        text-align: right;\n",
       "    }\n",
       "</style>\n",
       "<table border=\"1\" class=\"dataframe\">\n",
       "  <thead>\n",
       "    <tr style=\"text-align: right;\">\n",
       "      <th></th>\n",
       "      <th>Accuracy</th>\n",
       "      <th>Precision</th>\n",
       "      <th>Recall</th>\n",
       "      <th>F1 Score</th>\n",
       "    </tr>\n",
       "  </thead>\n",
       "  <tbody>\n",
       "    <tr>\n",
       "      <th>Vanilla Logisitic Regression CV</th>\n",
       "      <td>0.79815</td>\n",
       "      <td>0.810458</td>\n",
       "      <td>0.796858</td>\n",
       "      <td>0.8036</td>\n",
       "    </tr>\n",
       "  </tbody>\n",
       "</table>\n",
       "</div>"
      ],
      "text/plain": [
       "                                 Accuracy  Precision    Recall  F1 Score\n",
       "Vanilla Logisitic Regression CV   0.79815   0.810458  0.796858    0.8036"
      ]
     },
     "execution_count": 18,
     "metadata": {},
     "output_type": "execute_result"
    }
   ],
   "source": [
    "# Evaluation DataFrame\n",
    "evaluation_df = pd.DataFrame.from_dict(metric_dict, orient='index')\n",
    "evaluation_df.sort_values(by='Accuracy', ascending=False)"
   ]
  },
  {
   "cell_type": "code",
   "execution_count": 73,
   "metadata": {
    "ExecuteTime": {
     "end_time": "2020-12-24T15:13:30.072461Z",
     "start_time": "2020-12-24T15:13:28.154669Z"
    }
   },
   "outputs": [
    {
     "data": {
      "image/png": "[encoded data removed]",
      "text/plain": [
       "<Figure size 432x504 with 1 Axes>"
      ]
     },
     "metadata": {},
     "output_type": "display_data"
    }
   ],
   "source": [
    "# Plotting a confusion matrix\n",
    "plt.figure(figsize=(6, 7))\n",
    "mat = confusion_matrix(y_test, y_lg_cv)\n",
    "\n",
    "sns.heatmap(mat.T, square=True, annot=True, fmt='d', cbar=False,\n",
    "            xticklabels=['Positive', 'Negative'], yticklabels=['Positive', 'Negative'], cmap=\"Blues\")\n",
    "plt.xlabel('True Label', fontsize= 18)\n",
    "plt.ylabel('Predicted Label', fontsize= 18)\n",
    "plt.title('Baseline Logistic Regression Confusion Matrix', fontsize=20)\n",
    "plt.xticks(fontsize=16)\n",
    "plt.yticks(fontsize=16)\n",
    "b, t = plt.ylim() \n",
    "t -= 0.05 \n",
    "plt.ylim(b, t) \n",
    "plt.savefig('../images/confusion-matrix-baseline-lg-model.png', bbox_inches = \"tight\", pad_inches=.5, dpi=300)\n",
    "plt.show()"
   ]
  },
  {
   "cell_type": "markdown",
   "metadata": {},
   "source": [
    "For the first model, Logistic Regression performed quite well with an accuracy of 0.7981. My main metric is accuracy and it seems that Logistic Regression is able to correctly understand the positive and negative reviews. Looking at the cross validations, it seems that the train set performs similar to the test set with a small difference."
   ]
  },
  {
   "cell_type": "markdown",
   "metadata": {},
   "source": [
    "### Random Forest"
   ]
  },
  {
   "cell_type": "code",
   "execution_count": 19,
   "metadata": {
    "ExecuteTime": {
     "end_time": "2020-12-24T02:21:19.855320Z",
     "start_time": "2020-12-24T02:21:12.896550Z"
    }
   },
   "outputs": [],
   "source": [
    "# Instantiating baseline Random Forest Model\n",
    "rf_baseline = RandomForestClassifier(n_jobs=-1)\n",
    "\n",
    "# Fitting the model to the X and y variables of the train set\n",
    "rf_baseline.fit(X_train_cv, y_train)\n",
    "\n",
    "# Predicting the model in the X variable of the test set\n",
    "y_rf_cv = rf_baseline.predict(X_test_cv)"
   ]
  },
  {
   "cell_type": "code",
   "execution_count": 20,
   "metadata": {
    "ExecuteTime": {
     "end_time": "2020-12-24T02:21:19.873527Z",
     "start_time": "2020-12-24T02:21:19.857787Z"
    }
   },
   "outputs": [],
   "source": [
    "# Creating dictionary with all metrics\n",
    "rf_cv_accuracy = accuracy_score(y_test, y_rf_cv)\n",
    "rf_cv_precision = precision_score(y_test, y_rf_cv)\n",
    "rf_cv_recall = recall_score(y_test, y_rf_cv)\n",
    "rf_cv_f1 = f1_score(y_test, y_rf_cv)\n",
    "\n",
    "metric_dict['Vanilla Random Forest CV'] = {'Accuracy': rf_cv_accuracy,\n",
    "                                                'Precision': rf_cv_precision,\n",
    "                                                'Recall': rf_cv_recall,\n",
    "                                                'F1 Score': rf_cv_f1 }"
   ]
  },
  {
   "cell_type": "code",
   "execution_count": 21,
   "metadata": {
    "ExecuteTime": {
     "end_time": "2020-12-24T02:21:55.431640Z",
     "start_time": "2020-12-24T02:21:19.877297Z"
    },
    "scrolled": true
   },
   "outputs": [
    {
     "name": "stdout",
     "output_type": "stream",
     "text": [
      "Evaluation Metrics:\n",
      "Accuracy: 0.798149861239593\n",
      "Precision: 0.8104575163398693\n",
      "Recall: 0.7968582649053909\n",
      "F1 Score: 0.8036003600360035\n",
      "\n",
      "Cross-Validation Accuracy Scores: [0.7995683  0.81036078 0.79278446 0.81498612 0.81061073]\n",
      "Min:  0.792784\n",
      "Max:  0.814986\n",
      "Mean:  0.805662\n",
      "Range:  0.022202\n"
     ]
    }
   ],
   "source": [
    "# Random Forest baseline evaluation\n",
    "evaluation(y_test, y_lg_cv)\n",
    "cross_validation(rf_baseline, X_train_cv, y_train, 5)"
   ]
  },
  {
   "cell_type": "markdown",
   "metadata": {},
   "source": [
    "Random Forest was able to do slightly better than Logistic Regression with an accuracy of 0.8031. Let's see if other models are able to perform better than that. Similarly to Logistic Regression, when looking at cross validation, we can see that the model performed similarly in train set and test set with no signs of overfitting."
   ]
  },
  {
   "cell_type": "markdown",
   "metadata": {},
   "source": [
    "### Naive Bayes"
   ]
  },
  {
   "cell_type": "code",
   "execution_count": 22,
   "metadata": {
    "ExecuteTime": {
     "end_time": "2020-12-24T02:21:55.454933Z",
     "start_time": "2020-12-24T02:21:55.435683Z"
    },
    "scrolled": false
   },
   "outputs": [],
   "source": [
    "# Instantiating baseline Naive Bayes Model\n",
    "nb_base_cv = MultinomialNB(alpha = .01)\n",
    "\n",
    "# Fitting the model to the X and y variables of the train set\n",
    "nb_base_cv.fit(X_train_cv, y_train)\n",
    "\n",
    "# Predicting the model in the X variable of the test set\n",
    "y_nb_base_cv = nb_base_cv.predict(X_test_cv)"
   ]
  },
  {
   "cell_type": "code",
   "execution_count": 23,
   "metadata": {
    "ExecuteTime": {
     "end_time": "2020-12-24T02:21:55.495791Z",
     "start_time": "2020-12-24T02:21:55.467178Z"
    }
   },
   "outputs": [],
   "source": [
    "# Creating dictionary with all metrics\n",
    "nb_cv_accuracy = accuracy_score(y_test, y_nb_base_cv)\n",
    "nb_cv_precision = precision_score(y_test, y_nb_base_cv)\n",
    "nb_cv_recall = recall_score(y_test, y_nb_base_cv)\n",
    "nb_cv_f1 = f1_score(y_test, y_nb_base_cv)\n",
    "\n",
    "metric_dict['Vanilla Naive Bayes CV'] = {'Accuracy': nb_cv_accuracy,\n",
    "                                                'Precision': nb_cv_precision,\n",
    "                                                'Recall': nb_cv_recall,\n",
    "                                                'F1 Score': nb_cv_f1 }"
   ]
  },
  {
   "cell_type": "code",
   "execution_count": 24,
   "metadata": {
    "ExecuteTime": {
     "end_time": "2020-12-24T02:21:55.600373Z",
     "start_time": "2020-12-24T02:21:55.500898Z"
    },
    "scrolled": true
   },
   "outputs": [
    {
     "name": "stdout",
     "output_type": "stream",
     "text": [
      "Evaluation Metrics:\n",
      "Accuracy: 0.7811285846438483\n",
      "Precision: 0.7935413642960812\n",
      "Recall: 0.7807925740806855\n",
      "F1 Score: 0.7871153500089977\n",
      "\n",
      "Cross-Validation Accuracy Scores: [0.78939254 0.79925994 0.77582485 0.79401788 0.80289944]\n",
      "Min:  0.775825\n",
      "Max:  0.802899\n",
      "Mean:  0.792279\n",
      "Range:  0.027075\n"
     ]
    }
   ],
   "source": [
    "# Naive Bayes baseline evaluation\n",
    "evaluation(y_test, y_nb_base_cv)\n",
    "cross_validation(nb_base_cv, X_train_cv, y_train, 5)"
   ]
  },
  {
   "cell_type": "markdown",
   "metadata": {},
   "source": [
    "Naive Bayes didn't perform as well as Logistic Regression and Random Forest. It's a little surprising to me, since it's well known for being one of the best models for NLP. When looking at cross-validation, we can see that the model performed similarly in the train set compared to the test set with a range between the minimum and maximum a little higher than Logistic Regression and Random Forest."
   ]
  },
  {
   "cell_type": "markdown",
   "metadata": {},
   "source": [
    "### SVC"
   ]
  },
  {
   "cell_type": "code",
   "execution_count": 25,
   "metadata": {
    "ExecuteTime": {
     "end_time": "2020-12-24T02:23:34.214483Z",
     "start_time": "2020-12-24T02:21:55.603850Z"
    }
   },
   "outputs": [],
   "source": [
    "# Instantiating baseline Naive Bayes Model\n",
    "svc = SVC(kernel='linear')\n",
    "\n",
    "# Fitting the model to the X and y variables of the train set\n",
    "svc.fit(X_train_cv, y_train)\n",
    "\n",
    "# Predicting the model in the X variable of the test set\n",
    "y_pred_svc = svc.predict(X_test_cv)"
   ]
  },
  {
   "cell_type": "code",
   "execution_count": 26,
   "metadata": {
    "ExecuteTime": {
     "end_time": "2020-12-24T02:23:34.240525Z",
     "start_time": "2020-12-24T02:23:34.217430Z"
    }
   },
   "outputs": [],
   "source": [
    "# Creating dictionary with all metrics\n",
    "svc_cv_accuracy = accuracy_score(y_test, y_pred_svc)\n",
    "svc_cv_precision = precision_score(y_test, y_pred_svc)\n",
    "svc_cv_recall = recall_score(y_test, y_pred_svc)\n",
    "svc_cv_f1 = f1_score(y_test, y_pred_svc)\n",
    "\n",
    "metric_dict['Vanilla SVC CV'] = {'Accuracy': svc_cv_accuracy,\n",
    "                                  'Precision': svc_cv_precision,\n",
    "                                  'Recall': svc_cv_recall,\n",
    "                                  'F1 Score': svc_cv_f1 }"
   ]
  },
  {
   "cell_type": "code",
   "execution_count": 27,
   "metadata": {
    "ExecuteTime": {
     "end_time": "2020-12-24T02:26:39.723487Z",
     "start_time": "2020-12-24T02:23:34.243114Z"
    }
   },
   "outputs": [
    {
     "name": "stdout",
     "output_type": "stream",
     "text": [
      "Evaluation Metrics:\n",
      "Accuracy: 0.7839037927844589\n",
      "Precision: 0.7942342342342342\n",
      "Recall: 0.7868618350589075\n",
      "F1 Score: 0.7905308464849354\n",
      "\n",
      "Cross-Validation Accuracy Scores: [0.78353377 0.79432624 0.78939254 0.7875424  0.80043183]\n",
      "Min:  0.783534\n",
      "Max:  0.800432\n",
      "Mean:  0.791045\n",
      "Range:  0.016898\n"
     ]
    }
   ],
   "source": [
    "# SVC baseline evaluation\n",
    "evaluation(y_test, y_pred_svc)\n",
    "cross_validation(svc, X_train_cv, y_train, 5)"
   ]
  },
  {
   "cell_type": "markdown",
   "metadata": {},
   "source": [
    "SVC also didn't perform as well as Logistic Regression and Random Forest. However, it performed better than Naive Bayes. Thus, I believe it has potential to perform better in further iterations. Using cross-validation I was able to see that the model did not overfit in the trai set and performed similarly to the test set."
   ]
  },
  {
   "cell_type": "markdown",
   "metadata": {},
   "source": [
    "### Evaluation"
   ]
  },
  {
   "cell_type": "code",
   "execution_count": 28,
   "metadata": {
    "ExecuteTime": {
     "end_time": "2020-12-24T02:26:39.739608Z",
     "start_time": "2020-12-24T02:26:39.727777Z"
    },
    "scrolled": false
   },
   "outputs": [
    {
     "data": {
      "text/html": [
       "<div>\n",
       "<style scoped>\n",
       "    .dataframe tbody tr th:only-of-type {\n",
       "        vertical-align: middle;\n",
       "    }\n",
       "\n",
       "    .dataframe tbody tr th {\n",
       "        vertical-align: top;\n",
       "    }\n",
       "\n",
       "    .dataframe thead th {\n",
       "        text-align: right;\n",
       "    }\n",
       "</style>\n",
       "<table border=\"1\" class=\"dataframe\">\n",
       "  <thead>\n",
       "    <tr style=\"text-align: right;\">\n",
       "      <th></th>\n",
       "      <th>Accuracy</th>\n",
       "      <th>Precision</th>\n",
       "      <th>Recall</th>\n",
       "      <th>F1 Score</th>\n",
       "    </tr>\n",
       "  </thead>\n",
       "  <tbody>\n",
       "    <tr>\n",
       "      <th>Vanilla Random Forest CV</th>\n",
       "      <td>0.805365</td>\n",
       "      <td>0.843615</td>\n",
       "      <td>0.766512</td>\n",
       "      <td>0.803217</td>\n",
       "    </tr>\n",
       "    <tr>\n",
       "      <th>Vanilla Logisitic Regression CV</th>\n",
       "      <td>0.798150</td>\n",
       "      <td>0.810458</td>\n",
       "      <td>0.796858</td>\n",
       "      <td>0.803600</td>\n",
       "    </tr>\n",
       "    <tr>\n",
       "      <th>Vanilla SVC CV</th>\n",
       "      <td>0.783904</td>\n",
       "      <td>0.794234</td>\n",
       "      <td>0.786862</td>\n",
       "      <td>0.790531</td>\n",
       "    </tr>\n",
       "    <tr>\n",
       "      <th>Vanilla Naive Bayes CV</th>\n",
       "      <td>0.781129</td>\n",
       "      <td>0.793541</td>\n",
       "      <td>0.780793</td>\n",
       "      <td>0.787115</td>\n",
       "    </tr>\n",
       "  </tbody>\n",
       "</table>\n",
       "</div>"
      ],
      "text/plain": [
       "                                 Accuracy  Precision    Recall  F1 Score\n",
       "Vanilla Random Forest CV         0.805365   0.843615  0.766512  0.803217\n",
       "Vanilla Logisitic Regression CV  0.798150   0.810458  0.796858  0.803600\n",
       "Vanilla SVC CV                   0.783904   0.794234  0.786862  0.790531\n",
       "Vanilla Naive Bayes CV           0.781129   0.793541  0.780793  0.787115"
      ]
     },
     "execution_count": 28,
     "metadata": {},
     "output_type": "execute_result"
    }
   ],
   "source": [
    "# Evaluation DataFrame\n",
    "evaluation_df = pd.DataFrame.from_dict(metric_dict, orient='index')\n",
    "evaluation_df.sort_values(by='Accuracy', ascending=False)"
   ]
  },
  {
   "cell_type": "markdown",
   "metadata": {},
   "source": [
    "We can see that all the models performed quite well for baseline models. The three best models were Random Forest, Logistic Regression, and SVC. Naive Bayes did a good job as well, but it under performed if compared to the other models in the accuracy metric, which is my focus for this project.\n",
    "\n",
    "It is interesting to see that Logistic Regression performed in second place between these baseline models. It tells us that although not usually seen as a powerful model, it holds it's surprises.\n",
    "\n",
    "I run every model with cross-validation with 5 folds and I don't see any signs of overfit or underfit with the train set. All the models performed similarly in the train set as well in the test set."
   ]
  },
  {
   "cell_type": "markdown",
   "metadata": {},
   "source": [
    "## Modeling with TF-IDF"
   ]
  },
  {
   "cell_type": "markdown",
   "metadata": {},
   "source": [
    "In this section, I will see how each of the three best models in the previous section performs when using the TF-IDF vectorizer. Too keep each to read, the evaluations will be at the end of this section."
   ]
  },
  {
   "cell_type": "markdown",
   "metadata": {},
   "source": [
    "### Logistic Regression"
   ]
  },
  {
   "cell_type": "code",
   "execution_count": 29,
   "metadata": {
    "ExecuteTime": {
     "end_time": "2020-12-24T02:26:40.086465Z",
     "start_time": "2020-12-24T02:26:39.741916Z"
    }
   },
   "outputs": [],
   "source": [
    "# Instantiating baseline Logistic Regression Model\n",
    "lg_baseline = LogisticRegression()\n",
    "\n",
    "# Fitting the model to the X and y variables of the train set\n",
    "lg_baseline.fit(X_train_tfidf, y_train) \n",
    "\n",
    "# Predicting the model in the X variable of the test set\n",
    "y_lg_base_tfidf = lg_baseline.predict(X_test_tfidf)"
   ]
  },
  {
   "cell_type": "code",
   "execution_count": 30,
   "metadata": {
    "ExecuteTime": {
     "end_time": "2020-12-24T02:26:40.113620Z",
     "start_time": "2020-12-24T02:26:40.090053Z"
    }
   },
   "outputs": [],
   "source": [
    "# Creating dictionary with all metrics\n",
    "lg_tfidf_accuracy = accuracy_score(y_test, y_lg_base_tfidf)\n",
    "lg_tfidf_precision = precision_score(y_test, y_lg_base_tfidf)\n",
    "lg_tfidf_recall = recall_score(y_test, y_lg_base_tfidf)\n",
    "lg_tfidf_f1 = f1_score(y_test, y_lg_base_tfidf)\n",
    "\n",
    "metric_dict['Vanila Log Reg TF-IDF'] = {'Accuracy': lg_tfidf_accuracy,\n",
    "                                                'Precision': lg_tfidf_precision,\n",
    "                                                'Recall': lg_tfidf_recall,\n",
    "                                                'F1 Score': lg_tfidf_f1 }"
   ]
  },
  {
   "cell_type": "code",
   "execution_count": 31,
   "metadata": {
    "ExecuteTime": {
     "end_time": "2020-12-24T02:26:41.927653Z",
     "start_time": "2020-12-24T02:26:40.117062Z"
    },
    "scrolled": false
   },
   "outputs": [
    {
     "name": "stdout",
     "output_type": "stream",
     "text": [
      "Evaluation Metrics:\n",
      "Accuracy: 0.8170212765957446\n",
      "Precision: 0.8481936971560338\n",
      "Recall: 0.7879328811138879\n",
      "F1 Score: 0.8169535443272257\n",
      "\n",
      "Cross-Validation Accuracy Scores: [0.81776133 0.82269504 0.81591119 0.82146161 0.82973473]\n",
      "Min:  0.815911\n",
      "Max:  0.829735\n",
      "Mean:  0.821513\n",
      "Range:  0.013824\n"
     ]
    }
   ],
   "source": [
    "# Logistic Regression TF-IDF baseline evaluation\n",
    "evaluation(y_test, y_lg_base_tfidf)\n",
    "cross_validation(lg_baseline, X_train_tfidf, y_train, 5)"
   ]
  },
  {
   "cell_type": "markdown",
   "metadata": {},
   "source": [
    "We can see an improvement with Logistic Regressing and TF-IDF. The accuracy improved from 0.7981 to 0.8170. We can see that the model performed similarly in every fold when we use cross-validation. As the previous model, there is no underfitting or overfitting in the train set and it performs very similarly to test set."
   ]
  },
  {
   "cell_type": "markdown",
   "metadata": {},
   "source": [
    "### Random Forest "
   ]
  },
  {
   "cell_type": "code",
   "execution_count": 32,
   "metadata": {
    "ExecuteTime": {
     "end_time": "2020-12-24T02:27:03.859401Z",
     "start_time": "2020-12-24T02:26:41.931489Z"
    }
   },
   "outputs": [],
   "source": [
    "# Instantiating baseline Logistic Regression Model\n",
    "rf_baseline = RandomForestClassifier()\n",
    "\n",
    "# Fitting the model to the X and y variables of the train set\n",
    "rf_baseline.fit(X_train_tfidf, y_train)\n",
    "\n",
    "# Predicting the model in the X variable of the test set\n",
    "y_rf_base_tfidf = rf_baseline.predict(X_test_tfidf)"
   ]
  },
  {
   "cell_type": "code",
   "execution_count": 33,
   "metadata": {
    "ExecuteTime": {
     "end_time": "2020-12-24T02:27:03.882673Z",
     "start_time": "2020-12-24T02:27:03.861645Z"
    }
   },
   "outputs": [],
   "source": [
    "# Creating dictionary with all metrics\n",
    "rf_tfidf_accuracy = accuracy_score(y_test, y_rf_base_tfidf)\n",
    "rf_tfidf_precision = precision_score(y_test, y_rf_base_tfidf)\n",
    "rf_tfidf_recall = recall_score(y_test, y_rf_base_tfidf)\n",
    "rf_tfidf_f1 = f1_score(y_test, y_rf_base_tfidf)\n",
    "\n",
    "metric_dict['Vanilla Random Forest TF-IDF'] = {'Accuracy': rf_tfidf_accuracy,\n",
    "                                                'Precision': rf_tfidf_precision,\n",
    "                                                'Recall': rf_tfidf_recall,\n",
    "                                                'F1 Score': rf_tfidf_f1 }"
   ]
  },
  {
   "cell_type": "code",
   "execution_count": 34,
   "metadata": {
    "ExecuteTime": {
     "end_time": "2020-12-24T02:28:47.658336Z",
     "start_time": "2020-12-24T02:27:03.889986Z"
    },
    "scrolled": true
   },
   "outputs": [
    {
     "name": "stdout",
     "output_type": "stream",
     "text": [
      "Evaluation Metrics:\n",
      "Accuracy: 0.8038852913968547\n",
      "Precision: 0.8409714061887975\n",
      "Recall: 0.7665119600142806\n",
      "F1 Score: 0.8020171834142698\n",
      "\n",
      "Cross-Validation Accuracy Scores: [0.8017268  0.79987666 0.79555967 0.80974406 0.80937693]\n",
      "Min:  0.79556\n",
      "Max:  0.809744\n",
      "Mean:  0.803257\n",
      "Range:  0.014184\n"
     ]
    }
   ],
   "source": [
    "# Logistic Regression TF-IDF baseline evaluation\n",
    "evaluation(y_test, y_rf_base_tfidf)\n",
    "cross_validation(rf_baseline, X_train_tfidf, y_train, 5)"
   ]
  },
  {
   "cell_type": "markdown",
   "metadata": {},
   "source": [
    "Random Forest with TF-IDF also performed slightly better than when I tried it with Count Vectorizer. For now, it seems that TF-IDF works better as a vectorizer for this dataset. Looking at cross-validation, the train set performed similarly with the test set as it happened to previous models."
   ]
  },
  {
   "cell_type": "markdown",
   "metadata": {
    "ExecuteTime": {
     "end_time": "2020-12-15T16:43:18.063837Z",
     "start_time": "2020-12-15T16:43:18.061209Z"
    }
   },
   "source": [
    "### SVC"
   ]
  },
  {
   "cell_type": "code",
   "execution_count": 35,
   "metadata": {
    "ExecuteTime": {
     "end_time": "2020-12-24T02:30:30.605227Z",
     "start_time": "2020-12-24T02:28:47.663253Z"
    }
   },
   "outputs": [],
   "source": [
    "# Instantiating baseline SVC Model\n",
    "svc = SVC(kernel='rbf')\n",
    "\n",
    "# Fitting the model to the X and y variables of the train set\n",
    "svc.fit(X_train_tfidf, y_train)\n",
    "\n",
    "# Predicting the model in the X variable of the test set\n",
    "y_pred_svc_tfidf = svc.predict(X_test_tfidf)"
   ]
  },
  {
   "cell_type": "code",
   "execution_count": 36,
   "metadata": {
    "ExecuteTime": {
     "end_time": "2020-12-24T02:30:30.631485Z",
     "start_time": "2020-12-24T02:30:30.607624Z"
    }
   },
   "outputs": [],
   "source": [
    "# Creating dictionary with all metrics\n",
    "svc_tfidf_accuracy = accuracy_score(y_test, y_pred_svc_tfidf)\n",
    "svc_tfidf_precision = precision_score(y_test, y_pred_svc_tfidf)\n",
    "svc_tfidf_recall = recall_score(y_test, y_pred_svc_tfidf)\n",
    "svc_tfidf_f1 = f1_score(y_test, y_pred_svc_tfidf)\n",
    "\n",
    "metric_dict['Vanilla SVC TF-IDF'] = {'Accuracy': svc_tfidf_accuracy,\n",
    "                                                'Precision': svc_tfidf_precision,\n",
    "                                                'Recall': svc_tfidf_recall,\n",
    "                                                'F1 Score': svc_tfidf_f1 }"
   ]
  },
  {
   "cell_type": "code",
   "execution_count": 37,
   "metadata": {
    "ExecuteTime": {
     "end_time": "2020-12-24T02:35:00.718984Z",
     "start_time": "2020-12-24T02:30:30.633855Z"
    },
    "scrolled": true
   },
   "outputs": [
    {
     "name": "stdout",
     "output_type": "stream",
     "text": [
      "Evaluation Metrics:\n",
      "Accuracy: 0.8222016651248844\n",
      "Precision: 0.8622047244094488\n",
      "Recall: 0.7818636201356658\n",
      "F1 Score: 0.8200711477251451\n",
      "\n",
      "Cross-Validation Accuracy Scores: [0.81621955 0.82670367 0.81714462 0.83163737 0.82665022]\n",
      "Min:  0.81622\n",
      "Max:  0.831637\n",
      "Mean:  0.823671\n",
      "Range:  0.015418\n"
     ]
    }
   ],
   "source": [
    "# SVC TF-IDF baseline evaluation\n",
    "evaluation(y_test, y_pred_svc_tfidf)\n",
    "cross_validation(svc, X_train_tfidf, y_train, 5)"
   ]
  },
  {
   "cell_type": "markdown",
   "metadata": {},
   "source": [
    "SVM had a good improvement in accuracy. It went from 0.7839 to 0.8222. It is the best model so far. Seems like SVM has a big potencial with this dataset. I also checked cross validation and the model is performing very similar in the train and test set, which is an evidence that there is no under or overfitting."
   ]
  },
  {
   "cell_type": "markdown",
   "metadata": {},
   "source": [
    "### Evaluation"
   ]
  },
  {
   "cell_type": "code",
   "execution_count": 38,
   "metadata": {
    "ExecuteTime": {
     "end_time": "2020-12-24T02:35:00.735174Z",
     "start_time": "2020-12-24T02:35:00.721378Z"
    },
    "scrolled": true
   },
   "outputs": [
    {
     "data": {
      "text/html": [
       "<div>\n",
       "<style scoped>\n",
       "    .dataframe tbody tr th:only-of-type {\n",
       "        vertical-align: middle;\n",
       "    }\n",
       "\n",
       "    .dataframe tbody tr th {\n",
       "        vertical-align: top;\n",
       "    }\n",
       "\n",
       "    .dataframe thead th {\n",
       "        text-align: right;\n",
       "    }\n",
       "</style>\n",
       "<table border=\"1\" class=\"dataframe\">\n",
       "  <thead>\n",
       "    <tr style=\"text-align: right;\">\n",
       "      <th></th>\n",
       "      <th>Accuracy</th>\n",
       "      <th>Precision</th>\n",
       "      <th>Recall</th>\n",
       "      <th>F1 Score</th>\n",
       "    </tr>\n",
       "  </thead>\n",
       "  <tbody>\n",
       "    <tr>\n",
       "      <th>Vanilla SVC TF-IDF</th>\n",
       "      <td>0.822202</td>\n",
       "      <td>0.862205</td>\n",
       "      <td>0.781864</td>\n",
       "      <td>0.820071</td>\n",
       "    </tr>\n",
       "    <tr>\n",
       "      <th>Vanila Log Reg TF-IDF</th>\n",
       "      <td>0.817021</td>\n",
       "      <td>0.848194</td>\n",
       "      <td>0.787933</td>\n",
       "      <td>0.816954</td>\n",
       "    </tr>\n",
       "    <tr>\n",
       "      <th>Vanilla Random Forest CV</th>\n",
       "      <td>0.805365</td>\n",
       "      <td>0.843615</td>\n",
       "      <td>0.766512</td>\n",
       "      <td>0.803217</td>\n",
       "    </tr>\n",
       "    <tr>\n",
       "      <th>Vanilla Random Forest TF-IDF</th>\n",
       "      <td>0.803885</td>\n",
       "      <td>0.840971</td>\n",
       "      <td>0.766512</td>\n",
       "      <td>0.802017</td>\n",
       "    </tr>\n",
       "    <tr>\n",
       "      <th>Vanilla Logisitic Regression CV</th>\n",
       "      <td>0.798150</td>\n",
       "      <td>0.810458</td>\n",
       "      <td>0.796858</td>\n",
       "      <td>0.803600</td>\n",
       "    </tr>\n",
       "    <tr>\n",
       "      <th>Vanilla SVC CV</th>\n",
       "      <td>0.783904</td>\n",
       "      <td>0.794234</td>\n",
       "      <td>0.786862</td>\n",
       "      <td>0.790531</td>\n",
       "    </tr>\n",
       "    <tr>\n",
       "      <th>Vanilla Naive Bayes CV</th>\n",
       "      <td>0.781129</td>\n",
       "      <td>0.793541</td>\n",
       "      <td>0.780793</td>\n",
       "      <td>0.787115</td>\n",
       "    </tr>\n",
       "  </tbody>\n",
       "</table>\n",
       "</div>"
      ],
      "text/plain": [
       "                                 Accuracy  Precision    Recall  F1 Score\n",
       "Vanilla SVC TF-IDF               0.822202   0.862205  0.781864  0.820071\n",
       "Vanila Log Reg TF-IDF            0.817021   0.848194  0.787933  0.816954\n",
       "Vanilla Random Forest CV         0.805365   0.843615  0.766512  0.803217\n",
       "Vanilla Random Forest TF-IDF     0.803885   0.840971  0.766512  0.802017\n",
       "Vanilla Logisitic Regression CV  0.798150   0.810458  0.796858  0.803600\n",
       "Vanilla SVC CV                   0.783904   0.794234  0.786862  0.790531\n",
       "Vanilla Naive Bayes CV           0.781129   0.793541  0.780793  0.787115"
      ]
     },
     "execution_count": 38,
     "metadata": {},
     "output_type": "execute_result"
    }
   ],
   "source": [
    "# Evaluation DataFrame\n",
    "evaluation_df = pd.DataFrame.from_dict(metric_dict, orient='index')\n",
    "evaluation_df.sort_values(by='Accuracy', ascending=False)"
   ]
  },
  {
   "cell_type": "markdown",
   "metadata": {},
   "source": [
    "Here we can see that all the models using TF-IDF had a better performance than the models using CountVectorizer. SVC model had an big improvement compared to other models and Logistic Regression was able to perform better than Random Forest, which is surprising. The model that had the lowest improvement was Random Forest, which we can see that it changed very little.\n",
    "\n",
    "I will now test these three models with the lemmatized dataset and see if there is any improvement.\n",
    "\n",
    "I used cross-validation in the train set and none of the iterations had underfitting or overfitting. All the models had similar performance in both sets."
   ]
  },
  {
   "cell_type": "markdown",
   "metadata": {},
   "source": [
    "## TF-IDF With Lemmatization"
   ]
  },
  {
   "cell_type": "markdown",
   "metadata": {},
   "source": [
    "In this section, we will try the three best models using the lemmatized variable."
   ]
  },
  {
   "cell_type": "markdown",
   "metadata": {},
   "source": [
    "### Logistic Regression"
   ]
  },
  {
   "cell_type": "code",
   "execution_count": 39,
   "metadata": {
    "ExecuteTime": {
     "end_time": "2020-12-24T02:35:01.229606Z",
     "start_time": "2020-12-24T02:35:00.737586Z"
    }
   },
   "outputs": [],
   "source": [
    "# Instantiating baseline Logistic Regression Model\n",
    "lr_baseline = LogisticRegression(random_state=1)\n",
    "\n",
    "# Fitting the model to the X and y variables of the train set\n",
    "lr_baseline.fit(X_train_lem, y_train_lem) \n",
    "\n",
    "# Predicting the model in the X variable of the test set\n",
    "y_lr_base_tfidf_lem = lr_baseline.predict(X_test_lem)"
   ]
  },
  {
   "cell_type": "code",
   "execution_count": 40,
   "metadata": {
    "ExecuteTime": {
     "end_time": "2020-12-24T02:35:01.252676Z",
     "start_time": "2020-12-24T02:35:01.231662Z"
    }
   },
   "outputs": [],
   "source": [
    "# Creating dictionary with all metrics\n",
    "lr_lem_accuracy = accuracy_score(y_test_lem, y_lr_base_tfidf_lem)\n",
    "lr_lem_precision = precision_score(y_test_lem, y_lr_base_tfidf_lem)\n",
    "lr_lem_recall = recall_score(y_test_lem, y_lr_base_tfidf_lem)\n",
    "lr_lem_f1 = f1_score(y_test_lem, y_lr_base_tfidf_lem)\n",
    "\n",
    "metric_dict['Vanilla Log Reg Lem'] = {'Accuracy': lr_lem_accuracy,\n",
    "                                                'Precision': lr_lem_precision,\n",
    "                                                'Recall': lr_lem_recall,\n",
    "                                                'F1 Score': lr_lem_f1 }"
   ]
  },
  {
   "cell_type": "code",
   "execution_count": 41,
   "metadata": {
    "ExecuteTime": {
     "end_time": "2020-12-24T02:35:02.572740Z",
     "start_time": "2020-12-24T02:35:01.254992Z"
    },
    "scrolled": true
   },
   "outputs": [
    {
     "name": "stdout",
     "output_type": "stream",
     "text": [
      "Evaluation Metrics:\n",
      "Accuracy: 0.8177613320999075\n",
      "Precision: 0.8314990512333966\n",
      "Recall: 0.8019765739385066\n",
      "F1 Score: 0.8164710266443078\n",
      "\n",
      "Cross-Validation Accuracy Scores: [0.82485353 0.82732038 0.82331175 0.80511872 0.8127699 ]\n",
      "Min:  0.805119\n",
      "Max:  0.82732\n",
      "Mean:  0.818675\n",
      "Range:  0.022202\n"
     ]
    }
   ],
   "source": [
    "# Logistic Regression TF-IDF baseline evaluation\n",
    "evaluation(y_test_lem, y_lr_base_tfidf_lem)\n",
    "cross_validation(lr_baseline, X_train_lem, y_train_lem, 5)"
   ]
  },
  {
   "cell_type": "markdown",
   "metadata": {},
   "source": [
    "This iteration performed slightly better than the iteration without lemmatization: 0.81777 vs 0.81770. It's a very insignificant improvement. However, we can see that the F1 Score decreased when compared to the model without lemmatization, which is the second metric that I am considering. Looking at cross-validation, both models performed well. However, the model without lemmatization has a lower range in different folds in the train set. Although very small. For now, I consider the model without lemmatization a better model."
   ]
  },
  {
   "cell_type": "markdown",
   "metadata": {},
   "source": [
    "### Random Forest"
   ]
  },
  {
   "cell_type": "code",
   "execution_count": 42,
   "metadata": {
    "ExecuteTime": {
     "end_time": "2020-12-24T02:35:23.821563Z",
     "start_time": "2020-12-24T02:35:02.575848Z"
    }
   },
   "outputs": [],
   "source": [
    "# Instantiating baseline Random Forest Model\n",
    "rf_baseline = RandomForestClassifier(random_state=1)\n",
    "\n",
    "# Fitting the model to the X and y variables of the train set\n",
    "rf_baseline.fit(X_train_lem, y_train_lem) \n",
    "\n",
    "# Predicting the model in the X variable of the test set\n",
    "y_rf_base_lem = rf_baseline.predict(X_test_lem)"
   ]
  },
  {
   "cell_type": "code",
   "execution_count": 43,
   "metadata": {
    "ExecuteTime": {
     "end_time": "2020-12-24T02:35:23.846590Z",
     "start_time": "2020-12-24T02:35:23.823730Z"
    }
   },
   "outputs": [],
   "source": [
    "# Creating dictionary with all metrics\n",
    "rf_lem_accuracy = accuracy_score(y_test_lem, y_rf_base_lem)\n",
    "rf_lem_precision = precision_score(y_test_lem, y_rf_base_lem)\n",
    "rf_lem_recall = recall_score(y_test_lem, y_rf_base_lem)\n",
    "rf_lem_f1 = f1_score(y_test_lem, y_rf_base_lem)\n",
    "\n",
    "metric_dict['Vanilla Random Forest Lem'] = {'Accuracy': rf_lem_accuracy,\n",
    "                                                'Precision': rf_lem_precision,\n",
    "                                                'Recall': rf_lem_recall,\n",
    "                                                'F1 Score': rf_lem_f1 }"
   ]
  },
  {
   "cell_type": "code",
   "execution_count": 44,
   "metadata": {
    "ExecuteTime": {
     "end_time": "2020-12-24T02:37:13.048754Z",
     "start_time": "2020-12-24T02:35:23.849304Z"
    },
    "scrolled": false
   },
   "outputs": [
    {
     "name": "stdout",
     "output_type": "stream",
     "text": [
      "Evaluation Metrics:\n",
      "Accuracy: 0.7988899167437558\n",
      "Precision: 0.8196657598134474\n",
      "Recall: 0.7719619326500732\n",
      "F1 Score: 0.7950989632422243\n",
      "\n",
      "Cross-Validation Accuracy Scores: [0.80881899 0.80296022 0.80296022 0.80357693 0.80074028]\n",
      "Min:  0.80074\n",
      "Max:  0.808819\n",
      "Mean:  0.803811\n",
      "Range:  0.008079\n"
     ]
    }
   ],
   "source": [
    "# Logistic Regression TF-IDF baseline evaluation\n",
    "evaluation(y_test_lem, y_rf_base_lem)\n",
    "cross_validation(rf_baseline, X_train_lem, y_train_lem, 5)"
   ]
  },
  {
   "cell_type": "markdown",
   "metadata": {},
   "source": [
    "Random Forest with lemmatization did not perform any better than the model without lemmatization. However, it's important to noticed that it had the lowest range of difference between the 5 folds in cross-validation. All sets performed very similarly."
   ]
  },
  {
   "cell_type": "markdown",
   "metadata": {},
   "source": [
    "### SVC"
   ]
  },
  {
   "cell_type": "code",
   "execution_count": 45,
   "metadata": {
    "ExecuteTime": {
     "end_time": "2020-12-24T02:38:58.819989Z",
     "start_time": "2020-12-24T02:37:13.052158Z"
    }
   },
   "outputs": [],
   "source": [
    "# Instantiating baseline SVC Model\n",
    "svc = SVC(kernel='rbf')\n",
    "\n",
    "# Fitting the model to the X and y variables of the train set\n",
    "svc.fit(X_train_lem, y_train_lem)\n",
    "\n",
    "# Predicting the model in the X variable of the test set\n",
    "y_pred_svc_lem = svc.predict(X_test_lem)"
   ]
  },
  {
   "cell_type": "code",
   "execution_count": 46,
   "metadata": {
    "ExecuteTime": {
     "end_time": "2020-12-24T02:38:58.843974Z",
     "start_time": "2020-12-24T02:38:58.822067Z"
    }
   },
   "outputs": [],
   "source": [
    "# Creating dictionary with all metrics\n",
    "svc_lem_accuracy = accuracy_score(y_test_lem, y_pred_svc_lem)\n",
    "svc_lem_precision = precision_score(y_test_lem, y_pred_svc_lem)\n",
    "svc_lem_recall = recall_score(y_test_lem, y_pred_svc_lem)\n",
    "svc_lem_f1 = f1_score(y_test_lem, y_pred_svc_lem)\n",
    "\n",
    "metric_dict['Vanilla Random Forest Lem'] = {'Accuracy': svc_lem_accuracy,\n",
    "                                                'Precision': svc_lem_precision,\n",
    "                                                'Recall': svc_lem_recall,\n",
    "                                                'F1 Score': svc_lem_f1 }"
   ]
  },
  {
   "cell_type": "code",
   "execution_count": 47,
   "metadata": {
    "ExecuteTime": {
     "end_time": "2020-12-24T02:42:55.488830Z",
     "start_time": "2020-12-24T02:38:58.846173Z"
    },
    "scrolled": true
   },
   "outputs": [
    {
     "name": "stdout",
     "output_type": "stream",
     "text": [
      "Evaluation Metrics:\n",
      "Accuracy: 0.8231267345050879\n",
      "Precision: 0.8493312352478364\n",
      "Recall: 0.7902635431918009\n",
      "F1 Score: 0.8187334091770953\n",
      "\n",
      "Cross-Validation Accuracy Scores: [0.82115325 0.8279371  0.82392846 0.81221092 0.82202344]\n",
      "Min:  0.812211\n",
      "Max:  0.827937\n",
      "Mean:  0.821451\n",
      "Range:  0.015726\n"
     ]
    }
   ],
   "source": [
    "# SCV TF-IDF baseline evaluation\n",
    "evaluation(y_test_lem, y_pred_svc_lem)\n",
    "cross_validation(svc, X_train_lem, y_train_lem, 5)"
   ]
  },
  {
   "cell_type": "markdown",
   "metadata": {},
   "source": [
    "### Evaluation"
   ]
  },
  {
   "cell_type": "code",
   "execution_count": 48,
   "metadata": {
    "ExecuteTime": {
     "end_time": "2020-12-24T02:42:55.505738Z",
     "start_time": "2020-12-24T02:42:55.491180Z"
    },
    "scrolled": true
   },
   "outputs": [
    {
     "data": {
      "text/html": [
       "<div>\n",
       "<style scoped>\n",
       "    .dataframe tbody tr th:only-of-type {\n",
       "        vertical-align: middle;\n",
       "    }\n",
       "\n",
       "    .dataframe tbody tr th {\n",
       "        vertical-align: top;\n",
       "    }\n",
       "\n",
       "    .dataframe thead th {\n",
       "        text-align: right;\n",
       "    }\n",
       "</style>\n",
       "<table border=\"1\" class=\"dataframe\">\n",
       "  <thead>\n",
       "    <tr style=\"text-align: right;\">\n",
       "      <th></th>\n",
       "      <th>Accuracy</th>\n",
       "      <th>Precision</th>\n",
       "      <th>Recall</th>\n",
       "      <th>F1 Score</th>\n",
       "    </tr>\n",
       "  </thead>\n",
       "  <tbody>\n",
       "    <tr>\n",
       "      <th>Vanilla Random Forest Lem</th>\n",
       "      <td>0.823127</td>\n",
       "      <td>0.849331</td>\n",
       "      <td>0.790264</td>\n",
       "      <td>0.818733</td>\n",
       "    </tr>\n",
       "    <tr>\n",
       "      <th>Vanilla SVC TF-IDF</th>\n",
       "      <td>0.822202</td>\n",
       "      <td>0.862205</td>\n",
       "      <td>0.781864</td>\n",
       "      <td>0.820071</td>\n",
       "    </tr>\n",
       "    <tr>\n",
       "      <th>Vanilla Log Reg Lem</th>\n",
       "      <td>0.817761</td>\n",
       "      <td>0.831499</td>\n",
       "      <td>0.801977</td>\n",
       "      <td>0.816471</td>\n",
       "    </tr>\n",
       "    <tr>\n",
       "      <th>Vanila Log Reg TF-IDF</th>\n",
       "      <td>0.817021</td>\n",
       "      <td>0.848194</td>\n",
       "      <td>0.787933</td>\n",
       "      <td>0.816954</td>\n",
       "    </tr>\n",
       "    <tr>\n",
       "      <th>Vanilla Random Forest CV</th>\n",
       "      <td>0.805365</td>\n",
       "      <td>0.843615</td>\n",
       "      <td>0.766512</td>\n",
       "      <td>0.803217</td>\n",
       "    </tr>\n",
       "    <tr>\n",
       "      <th>Vanilla Random Forest TF-IDF</th>\n",
       "      <td>0.803885</td>\n",
       "      <td>0.840971</td>\n",
       "      <td>0.766512</td>\n",
       "      <td>0.802017</td>\n",
       "    </tr>\n",
       "    <tr>\n",
       "      <th>Vanilla Logisitic Regression CV</th>\n",
       "      <td>0.798150</td>\n",
       "      <td>0.810458</td>\n",
       "      <td>0.796858</td>\n",
       "      <td>0.803600</td>\n",
       "    </tr>\n",
       "    <tr>\n",
       "      <th>Vanilla SVC CV</th>\n",
       "      <td>0.783904</td>\n",
       "      <td>0.794234</td>\n",
       "      <td>0.786862</td>\n",
       "      <td>0.790531</td>\n",
       "    </tr>\n",
       "    <tr>\n",
       "      <th>Vanilla Naive Bayes CV</th>\n",
       "      <td>0.781129</td>\n",
       "      <td>0.793541</td>\n",
       "      <td>0.780793</td>\n",
       "      <td>0.787115</td>\n",
       "    </tr>\n",
       "  </tbody>\n",
       "</table>\n",
       "</div>"
      ],
      "text/plain": [
       "                                 Accuracy  Precision    Recall  F1 Score\n",
       "Vanilla Random Forest Lem        0.823127   0.849331  0.790264  0.818733\n",
       "Vanilla SVC TF-IDF               0.822202   0.862205  0.781864  0.820071\n",
       "Vanilla Log Reg Lem              0.817761   0.831499  0.801977  0.816471\n",
       "Vanila Log Reg TF-IDF            0.817021   0.848194  0.787933  0.816954\n",
       "Vanilla Random Forest CV         0.805365   0.843615  0.766512  0.803217\n",
       "Vanilla Random Forest TF-IDF     0.803885   0.840971  0.766512  0.802017\n",
       "Vanilla Logisitic Regression CV  0.798150   0.810458  0.796858  0.803600\n",
       "Vanilla SVC CV                   0.783904   0.794234  0.786862  0.790531\n",
       "Vanilla Naive Bayes CV           0.781129   0.793541  0.780793  0.787115"
      ]
     },
     "execution_count": 48,
     "metadata": {},
     "output_type": "execute_result"
    }
   ],
   "source": [
    "# Evaluation DataFrame\n",
    "evaluation_df = pd.DataFrame.from_dict(metric_dict, orient='index')\n",
    "evaluation_df.sort_values(by='Accuracy', ascending=False)"
   ]
  },
  {
   "cell_type": "markdown",
   "metadata": {},
   "source": [
    "We can see that Random Forest is our best model so far compared to all the previous model. However, the baseline SVC model using TF-IDF is very close to it with a higher precision and higher F1 Score. They aren't my main focus when it comes to metrics, but I might take in consideration when choosing the best model."
   ]
  },
  {
   "cell_type": "markdown",
   "metadata": {},
   "source": [
    "## SMOTE"
   ]
  },
  {
   "cell_type": "markdown",
   "metadata": {},
   "source": [
    "I fixed the class imbalance manually. However, I'm curious to see how my best models will behave using SMOTE. For this reason I'll run two of my best models and see how it would perform with SMOTE."
   ]
  },
  {
   "cell_type": "markdown",
   "metadata": {},
   "source": [
    "### Train Test Split"
   ]
  },
  {
   "cell_type": "code",
   "execution_count": 49,
   "metadata": {
    "ExecuteTime": {
     "end_time": "2020-12-24T02:43:01.484815Z",
     "start_time": "2020-12-24T02:42:55.508286Z"
    }
   },
   "outputs": [],
   "source": [
    "smote = SMOTE()\n",
    "X_train_smote_lem, y_train_smote_lem = smote.fit_sample(X_train_lem, y_train_lem) \n",
    "\n",
    "smote = SMOTE()\n",
    "X_train_smote_tfidf, y_train_smote_tfidf = smote.fit_sample(X_train_tfidf, y_train) "
   ]
  },
  {
   "cell_type": "markdown",
   "metadata": {},
   "source": [
    "### Random Forest"
   ]
  },
  {
   "cell_type": "code",
   "execution_count": 50,
   "metadata": {
    "ExecuteTime": {
     "end_time": "2020-12-24T02:43:24.119857Z",
     "start_time": "2020-12-24T02:43:01.487083Z"
    }
   },
   "outputs": [],
   "source": [
    "# Instantiating baseline Random Forest Model\n",
    "rf_baseline = RandomForestClassifier(random_state=1)\n",
    "\n",
    "# Fitting the model to the X and y variables of the train set\n",
    "rf_baseline.fit(X_train_smote_lem, y_train_smote_lem)\n",
    "\n",
    "# Predicting the model in the X variable of the test set### Random Forest\n",
    "y_rf_base_lem_tfidf_smote = rf_baseline.predict(X_test_lem)"
   ]
  },
  {
   "cell_type": "code",
   "execution_count": 51,
   "metadata": {
    "ExecuteTime": {
     "end_time": "2020-12-24T02:43:24.143181Z",
     "start_time": "2020-12-24T02:43:24.122338Z"
    }
   },
   "outputs": [],
   "source": [
    "# Creating dictionary with all metrics\n",
    "rf_smote_accuracy = accuracy_score(y_test_lem, y_rf_base_lem_tfidf_smote)\n",
    "rf_smote_precision = precision_score(y_test_lem, y_rf_base_lem_tfidf_smote)\n",
    "rf_smote_recall = recall_score(y_test_lem, y_rf_base_lem_tfidf_smote)\n",
    "rf_smote_f1 = f1_score(y_test_lem, y_rf_base_lem_tfidf_smote)\n",
    "\n",
    "metric_dict['Vanilla Random Forest SMOTE'] = {'Accuracy': rf_smote_accuracy,\n",
    "                                                'Precision': rf_smote_precision,\n",
    "                                                'Recall': rf_smote_recall,\n",
    "                                                'F1 Score': rf_smote_f1 }"
   ]
  },
  {
   "cell_type": "code",
   "execution_count": 52,
   "metadata": {
    "ExecuteTime": {
     "end_time": "2020-12-24T02:45:14.207371Z",
     "start_time": "2020-12-24T02:43:24.145350Z"
    },
    "scrolled": false
   },
   "outputs": [
    {
     "name": "stdout",
     "output_type": "stream",
     "text": [
      "Evaluation Metrics:\n",
      "Accuracy: 0.8009250693802035\n",
      "Precision: 0.8312\n",
      "Recall: 0.760614934114202\n",
      "F1 Score: 0.7943425076452599\n",
      "\n",
      "Cross-Validation Accuracy Scores: [0.80948122 0.80918306 0.80977937 0.80799046 0.82379249]\n",
      "Min:  0.80799\n",
      "Max:  0.823792\n",
      "Mean:  0.812045\n",
      "Range:  0.015802\n"
     ]
    }
   ],
   "source": [
    "evaluation(y_test_lem, y_rf_base_lem_tfidf_smote)\n",
    "cross_validation(rf_baseline, X_train_smote_lem, y_train_smote_lem, 5)"
   ]
  },
  {
   "cell_type": "markdown",
   "metadata": {},
   "source": [
    "Random Forest did not perform any better using SMOTE. Since the class imbalance was manually fixed, I was not expecting much difference. The model performed similarly as in previous iterations and id doesn't see to have overfitting or underfitting."
   ]
  },
  {
   "cell_type": "markdown",
   "metadata": {
    "ExecuteTime": {
     "end_time": "2020-12-16T19:40:32.733033Z",
     "start_time": "2020-12-16T19:40:32.730826Z"
    }
   },
   "source": [
    "### SVC"
   ]
  },
  {
   "cell_type": "code",
   "execution_count": 53,
   "metadata": {
    "ExecuteTime": {
     "end_time": "2020-12-24T02:47:11.536760Z",
     "start_time": "2020-12-24T02:45:14.209724Z"
    }
   },
   "outputs": [],
   "source": [
    "svc = SVC(kernel='rbf')\n",
    "svc.fit(X_train_smote_tfidf, y_train_smote_tfidf)\n",
    "y_pred_svc_smote = svc.predict(X_test_tfidf)"
   ]
  },
  {
   "cell_type": "code",
   "execution_count": 54,
   "metadata": {
    "ExecuteTime": {
     "end_time": "2020-12-24T02:47:11.557519Z",
     "start_time": "2020-12-24T02:47:11.538938Z"
    }
   },
   "outputs": [],
   "source": [
    "# Creating dictionary with all metrics\n",
    "svc_smote_accuracy = accuracy_score(y_test, y_pred_svc_smote)\n",
    "svc_smote_precision = precision_score(y_test, y_pred_svc_smote)\n",
    "svc_smote_recall = recall_score(y_test, y_pred_svc_smote)\n",
    "svc_smote_f1 = f1_score(y_test, y_pred_svc_smote)\n",
    "\n",
    "metric_dict['Vanilla SVC SMOTE'] = {'Accuracy': svc_smote_accuracy,\n",
    "                                                'Precision': svc_smote_precision,\n",
    "                                                'Recall': svc_smote_recall,\n",
    "                                                'F1 Score': svc_smote_f1 }"
   ]
  },
  {
   "cell_type": "code",
   "execution_count": 55,
   "metadata": {
    "ExecuteTime": {
     "end_time": "2020-12-24T02:51:34.561906Z",
     "start_time": "2020-12-24T02:47:11.559856Z"
    },
    "scrolled": true
   },
   "outputs": [
    {
     "name": "stdout",
     "output_type": "stream",
     "text": [
      "Evaluation Metrics:\n",
      "Accuracy: 0.8233117483811286\n",
      "Precision: 0.865979381443299\n",
      "Recall: 0.7797215280257052\n",
      "F1 Score: 0.8205898929175277\n",
      "\n",
      "Cross-Validation Accuracy Scores: [0.82409064 0.83154442 0.8273703  0.81723315 0.84019082]\n",
      "Min:  0.817233\n",
      "Max:  0.840191\n",
      "Mean:  0.828086\n",
      "Range:  0.022958\n"
     ]
    }
   ],
   "source": [
    "evaluation(y_test, y_pred_svc_smote)\n",
    "cross_validation(svc, X_train_smote_lem, y_train_smote_lem, 5)"
   ]
  },
  {
   "cell_type": "markdown",
   "metadata": {},
   "source": [
    "Please check complete evaluation of all the models below."
   ]
  },
  {
   "cell_type": "markdown",
   "metadata": {},
   "source": [
    "### Evaluation"
   ]
  },
  {
   "cell_type": "code",
   "execution_count": 56,
   "metadata": {
    "ExecuteTime": {
     "end_time": "2020-12-24T02:51:34.575767Z",
     "start_time": "2020-12-24T02:51:34.564535Z"
    }
   },
   "outputs": [
    {
     "data": {
      "text/html": [
       "<div>\n",
       "<style scoped>\n",
       "    .dataframe tbody tr th:only-of-type {\n",
       "        vertical-align: middle;\n",
       "    }\n",
       "\n",
       "    .dataframe tbody tr th {\n",
       "        vertical-align: top;\n",
       "    }\n",
       "\n",
       "    .dataframe thead th {\n",
       "        text-align: right;\n",
       "    }\n",
       "</style>\n",
       "<table border=\"1\" class=\"dataframe\">\n",
       "  <thead>\n",
       "    <tr style=\"text-align: right;\">\n",
       "      <th></th>\n",
       "      <th>Accuracy</th>\n",
       "      <th>Precision</th>\n",
       "      <th>Recall</th>\n",
       "      <th>F1 Score</th>\n",
       "    </tr>\n",
       "  </thead>\n",
       "  <tbody>\n",
       "    <tr>\n",
       "      <th>Vanilla SVC SMOTE</th>\n",
       "      <td>0.823312</td>\n",
       "      <td>0.865979</td>\n",
       "      <td>0.779722</td>\n",
       "      <td>0.820590</td>\n",
       "    </tr>\n",
       "    <tr>\n",
       "      <th>Vanilla Random Forest Lem</th>\n",
       "      <td>0.823127</td>\n",
       "      <td>0.849331</td>\n",
       "      <td>0.790264</td>\n",
       "      <td>0.818733</td>\n",
       "    </tr>\n",
       "    <tr>\n",
       "      <th>Vanilla SVC TF-IDF</th>\n",
       "      <td>0.822202</td>\n",
       "      <td>0.862205</td>\n",
       "      <td>0.781864</td>\n",
       "      <td>0.820071</td>\n",
       "    </tr>\n",
       "    <tr>\n",
       "      <th>Vanilla Log Reg Lem</th>\n",
       "      <td>0.817761</td>\n",
       "      <td>0.831499</td>\n",
       "      <td>0.801977</td>\n",
       "      <td>0.816471</td>\n",
       "    </tr>\n",
       "    <tr>\n",
       "      <th>Vanila Log Reg TF-IDF</th>\n",
       "      <td>0.817021</td>\n",
       "      <td>0.848194</td>\n",
       "      <td>0.787933</td>\n",
       "      <td>0.816954</td>\n",
       "    </tr>\n",
       "    <tr>\n",
       "      <th>Vanilla Random Forest CV</th>\n",
       "      <td>0.805365</td>\n",
       "      <td>0.843615</td>\n",
       "      <td>0.766512</td>\n",
       "      <td>0.803217</td>\n",
       "    </tr>\n",
       "    <tr>\n",
       "      <th>Vanilla Random Forest TF-IDF</th>\n",
       "      <td>0.803885</td>\n",
       "      <td>0.840971</td>\n",
       "      <td>0.766512</td>\n",
       "      <td>0.802017</td>\n",
       "    </tr>\n",
       "    <tr>\n",
       "      <th>Vanilla Random Forest SMOTE</th>\n",
       "      <td>0.800925</td>\n",
       "      <td>0.831200</td>\n",
       "      <td>0.760615</td>\n",
       "      <td>0.794343</td>\n",
       "    </tr>\n",
       "    <tr>\n",
       "      <th>Vanilla Logisitic Regression CV</th>\n",
       "      <td>0.798150</td>\n",
       "      <td>0.810458</td>\n",
       "      <td>0.796858</td>\n",
       "      <td>0.803600</td>\n",
       "    </tr>\n",
       "    <tr>\n",
       "      <th>Vanilla SVC CV</th>\n",
       "      <td>0.783904</td>\n",
       "      <td>0.794234</td>\n",
       "      <td>0.786862</td>\n",
       "      <td>0.790531</td>\n",
       "    </tr>\n",
       "    <tr>\n",
       "      <th>Vanilla Naive Bayes CV</th>\n",
       "      <td>0.781129</td>\n",
       "      <td>0.793541</td>\n",
       "      <td>0.780793</td>\n",
       "      <td>0.787115</td>\n",
       "    </tr>\n",
       "  </tbody>\n",
       "</table>\n",
       "</div>"
      ],
      "text/plain": [
       "                                 Accuracy  Precision    Recall  F1 Score\n",
       "Vanilla SVC SMOTE                0.823312   0.865979  0.779722  0.820590\n",
       "Vanilla Random Forest Lem        0.823127   0.849331  0.790264  0.818733\n",
       "Vanilla SVC TF-IDF               0.822202   0.862205  0.781864  0.820071\n",
       "Vanilla Log Reg Lem              0.817761   0.831499  0.801977  0.816471\n",
       "Vanila Log Reg TF-IDF            0.817021   0.848194  0.787933  0.816954\n",
       "Vanilla Random Forest CV         0.805365   0.843615  0.766512  0.803217\n",
       "Vanilla Random Forest TF-IDF     0.803885   0.840971  0.766512  0.802017\n",
       "Vanilla Random Forest SMOTE      0.800925   0.831200  0.760615  0.794343\n",
       "Vanilla Logisitic Regression CV  0.798150   0.810458  0.796858  0.803600\n",
       "Vanilla SVC CV                   0.783904   0.794234  0.786862  0.790531\n",
       "Vanilla Naive Bayes CV           0.781129   0.793541  0.780793  0.787115"
      ]
     },
     "execution_count": 56,
     "metadata": {},
     "output_type": "execute_result"
    }
   ],
   "source": [
    "# Evaluation DataFrame\n",
    "evaluation_df = pd.DataFrame.from_dict(metric_dict, orient='index')\n",
    "evaluation_df.sort_values(by='Accuracy', ascending=False)"
   ]
  },
  {
   "cell_type": "markdown",
   "metadata": {},
   "source": [
    "We can see the SMOTE was able to improve the accuracy metric by a very small different. However, Recall and F1 Score dropped, which tells me that the model is not as good as the version without SMOTE."
   ]
  },
  {
   "cell_type": "markdown",
   "metadata": {
    "ExecuteTime": {
     "end_time": "2020-12-16T19:47:12.077415Z",
     "start_time": "2020-12-16T19:47:12.075016Z"
    }
   },
   "source": [
    "# Evaluation"
   ]
  },
  {
   "cell_type": "code",
   "execution_count": 57,
   "metadata": {
    "ExecuteTime": {
     "end_time": "2020-12-24T02:51:34.595477Z",
     "start_time": "2020-12-24T02:51:34.578376Z"
    },
    "scrolled": false
   },
   "outputs": [
    {
     "data": {
      "text/html": [
       "<div>\n",
       "<style scoped>\n",
       "    .dataframe tbody tr th:only-of-type {\n",
       "        vertical-align: middle;\n",
       "    }\n",
       "\n",
       "    .dataframe tbody tr th {\n",
       "        vertical-align: top;\n",
       "    }\n",
       "\n",
       "    .dataframe thead th {\n",
       "        text-align: right;\n",
       "    }\n",
       "</style>\n",
       "<table border=\"1\" class=\"dataframe\">\n",
       "  <thead>\n",
       "    <tr style=\"text-align: right;\">\n",
       "      <th></th>\n",
       "      <th>Accuracy</th>\n",
       "      <th>Precision</th>\n",
       "      <th>Recall</th>\n",
       "      <th>F1 Score</th>\n",
       "    </tr>\n",
       "  </thead>\n",
       "  <tbody>\n",
       "    <tr>\n",
       "      <th>Vanilla SVC SMOTE</th>\n",
       "      <td>0.823312</td>\n",
       "      <td>0.865979</td>\n",
       "      <td>0.779722</td>\n",
       "      <td>0.820590</td>\n",
       "    </tr>\n",
       "    <tr>\n",
       "      <th>Vanilla Random Forest Lem</th>\n",
       "      <td>0.823127</td>\n",
       "      <td>0.849331</td>\n",
       "      <td>0.790264</td>\n",
       "      <td>0.818733</td>\n",
       "    </tr>\n",
       "    <tr>\n",
       "      <th>Vanilla SVC TF-IDF</th>\n",
       "      <td>0.822202</td>\n",
       "      <td>0.862205</td>\n",
       "      <td>0.781864</td>\n",
       "      <td>0.820071</td>\n",
       "    </tr>\n",
       "    <tr>\n",
       "      <th>Vanilla Log Reg Lem</th>\n",
       "      <td>0.817761</td>\n",
       "      <td>0.831499</td>\n",
       "      <td>0.801977</td>\n",
       "      <td>0.816471</td>\n",
       "    </tr>\n",
       "    <tr>\n",
       "      <th>Vanila Log Reg TF-IDF</th>\n",
       "      <td>0.817021</td>\n",
       "      <td>0.848194</td>\n",
       "      <td>0.787933</td>\n",
       "      <td>0.816954</td>\n",
       "    </tr>\n",
       "    <tr>\n",
       "      <th>Vanilla Random Forest CV</th>\n",
       "      <td>0.805365</td>\n",
       "      <td>0.843615</td>\n",
       "      <td>0.766512</td>\n",
       "      <td>0.803217</td>\n",
       "    </tr>\n",
       "    <tr>\n",
       "      <th>Vanilla Random Forest TF-IDF</th>\n",
       "      <td>0.803885</td>\n",
       "      <td>0.840971</td>\n",
       "      <td>0.766512</td>\n",
       "      <td>0.802017</td>\n",
       "    </tr>\n",
       "    <tr>\n",
       "      <th>Vanilla Random Forest SMOTE</th>\n",
       "      <td>0.800925</td>\n",
       "      <td>0.831200</td>\n",
       "      <td>0.760615</td>\n",
       "      <td>0.794343</td>\n",
       "    </tr>\n",
       "    <tr>\n",
       "      <th>Vanilla Logisitic Regression CV</th>\n",
       "      <td>0.798150</td>\n",
       "      <td>0.810458</td>\n",
       "      <td>0.796858</td>\n",
       "      <td>0.803600</td>\n",
       "    </tr>\n",
       "    <tr>\n",
       "      <th>Vanilla SVC CV</th>\n",
       "      <td>0.783904</td>\n",
       "      <td>0.794234</td>\n",
       "      <td>0.786862</td>\n",
       "      <td>0.790531</td>\n",
       "    </tr>\n",
       "    <tr>\n",
       "      <th>Vanilla Naive Bayes CV</th>\n",
       "      <td>0.781129</td>\n",
       "      <td>0.793541</td>\n",
       "      <td>0.780793</td>\n",
       "      <td>0.787115</td>\n",
       "    </tr>\n",
       "  </tbody>\n",
       "</table>\n",
       "</div>"
      ],
      "text/plain": [
       "                                 Accuracy  Precision    Recall  F1 Score\n",
       "Vanilla SVC SMOTE                0.823312   0.865979  0.779722  0.820590\n",
       "Vanilla Random Forest Lem        0.823127   0.849331  0.790264  0.818733\n",
       "Vanilla SVC TF-IDF               0.822202   0.862205  0.781864  0.820071\n",
       "Vanilla Log Reg Lem              0.817761   0.831499  0.801977  0.816471\n",
       "Vanila Log Reg TF-IDF            0.817021   0.848194  0.787933  0.816954\n",
       "Vanilla Random Forest CV         0.805365   0.843615  0.766512  0.803217\n",
       "Vanilla Random Forest TF-IDF     0.803885   0.840971  0.766512  0.802017\n",
       "Vanilla Random Forest SMOTE      0.800925   0.831200  0.760615  0.794343\n",
       "Vanilla Logisitic Regression CV  0.798150   0.810458  0.796858  0.803600\n",
       "Vanilla SVC CV                   0.783904   0.794234  0.786862  0.790531\n",
       "Vanilla Naive Bayes CV           0.781129   0.793541  0.780793  0.787115"
      ]
     },
     "execution_count": 57,
     "metadata": {},
     "output_type": "execute_result"
    }
   ],
   "source": [
    "# Evaluation DataFrame\n",
    "evaluation_df = pd.DataFrame.from_dict(metric_dict, orient='index')\n",
    "evaluation_df.to_csv('../csv/baseline-models_evaluations.csv')\n",
    "evaluation_df.sort_values(by='Accuracy', ascending=False)"
   ]
  },
  {
   "cell_type": "markdown",
   "metadata": {},
   "source": [
    "After running multiple baseline models, we were able to verify a few points:\n",
    "- Our best model was a Random Forest using lemmatized words. However, the F1 score was lower than other models. Since I will focus on F1 Score further in this project, the winner was SVC using TF-IDF. \n",
    "- Random Forest, CVC, and Logistic Regression are the best models to use in NLP in these cases\n",
    "- TF-IDF was able improve all all our models.\n",
    "- Naive Bayes was our worst model."
   ]
  },
  {
   "cell_type": "code",
   "execution_count": 68,
   "metadata": {
    "ExecuteTime": {
     "end_time": "2020-12-24T02:54:27.248664Z",
     "start_time": "2020-12-24T02:54:26.849906Z"
    }
   },
   "outputs": [
    {
     "data": {
      "image/png": "[encoded data removed]",
      "text/plain": [
       "<Figure size 1152x432 with 1 Axes>"
      ]
     },
     "metadata": {},
     "output_type": "display_data"
    }
   ],
   "source": [
    "plt.style.use('seaborn')\n",
    "plt.figure(figsize=(16,6))\n",
    "evaluation_df['Accuracy'].sort_values(ascending=False).plot.bar()\n",
    "plt.xticks(rotation=75, fontsize=16)\n",
    "plt.yticks(fontsize=16)\n",
    "plt.show()"
   ]
  },
  {
   "cell_type": "code",
   "execution_count": 59,
   "metadata": {
    "ExecuteTime": {
     "end_time": "2020-12-24T02:51:35.558024Z",
     "start_time": "2020-12-24T02:51:34.897959Z"
    },
    "scrolled": false
   },
   "outputs": [
    {
     "data": {
      "image/png": "[encoded data removed]",
      "text/plain": [
       "<Figure size 432x504 with 1 Axes>"
      ]
     },
     "metadata": {},
     "output_type": "display_data"
    }
   ],
   "source": [
    "# Plotting a confusion matrix\n",
    "plt.figure(figsize=(6, 7))\n",
    "mat = confusion_matrix(y_test, y_pred_svc_tfidf)\n",
    "\n",
    "sns.heatmap(mat.T, square=True, annot=True, fmt='d', cbar=False,\n",
    "            xticklabels=['Positive', 'Negative'], yticklabels=['Positive', 'Negative'], cmap=\"Blues\")\n",
    "plt.xlabel('True Label', fontsize= 18)\n",
    "plt.ylabel('Predicted Label', fontsize= 18)\n",
    "plt.title('Baseline SVC TF-IDF Confusion Matrix', fontsize=20)\n",
    "plt.xticks(fontsize=16)\n",
    "plt.yticks(fontsize=16)\n",
    "b, t = plt.ylim() \n",
    "t -= 0.05 \n",
    "plt.ylim(b, t) \n",
    "plt.savefig('../images/confusion-matrix-baseline-model.png', bbox_inches = \"tight\", pad_inches=.5, dpi=300)\n",
    "plt.show()"
   ]
  },
  {
   "cell_type": "markdown",
   "metadata": {},
   "source": [
    "We can see above that my model was able to predict correctly 84.47% of the positive reviews and 72.10% of the negative reviews. This means that I need to improve my model's ability to better predict negative reviews."
   ]
  },
  {
   "cell_type": "markdown",
   "metadata": {},
   "source": [
    "# Ensemble Models"
   ]
  },
  {
   "cell_type": "markdown",
   "metadata": {},
   "source": [
    "Now, with my best models in mind, I will run a few ensemble models in the <a href=\"https://github.com/Ismaeltrevi/hotel-reviews-analysis-using-nlp/blob/main/models/ensemble-models.ipynb\">Data Cleaning</a>."
   ]
  },
  {
   "cell_type": "markdown",
   "metadata": {},
   "source": [
    "# Pickle Files"
   ]
  },
  {
   "cell_type": "markdown",
   "metadata": {},
   "source": [
    "Pickling files for further use."
   ]
  },
  {
   "cell_type": "code",
   "execution_count": 60,
   "metadata": {
    "ExecuteTime": {
     "end_time": "2020-12-24T02:51:35.567209Z",
     "start_time": "2020-12-24T02:51:35.560325Z"
    }
   },
   "outputs": [],
   "source": [
    "# Pickling Train Set - Features\n",
    "pickle_out = open(\"../pickle/vanilla_model_evaluation.pkl\",'wb')\n",
    "pickle.dump(evaluation_df, pickle_out)\n",
    "pickle_out.close()"
   ]
  },
  {
   "cell_type": "code",
   "execution_count": 61,
   "metadata": {
    "ExecuteTime": {
     "end_time": "2020-12-24T02:51:35.584774Z",
     "start_time": "2020-12-24T02:51:35.569295Z"
    }
   },
   "outputs": [],
   "source": [
    "# Pickling Train Set - Features\n",
    "pickle_out = open(\"../pickle/X_train_tfidf.pkl\",'wb')\n",
    "pickle.dump(X_train_tfidf, pickle_out)\n",
    "pickle_out.close()"
   ]
  },
  {
   "cell_type": "code",
   "execution_count": 62,
   "metadata": {
    "ExecuteTime": {
     "end_time": "2020-12-24T02:51:35.594765Z",
     "start_time": "2020-12-24T02:51:35.587224Z"
    }
   },
   "outputs": [],
   "source": [
    "# Pickling Test Set - Features\n",
    "pickle_out = open(\"../pickle/X_test_tfidf.pkl\",'wb')\n",
    "pickle.dump(X_test_tfidf, pickle_out)\n",
    "pickle_out.close()"
   ]
  },
  {
   "cell_type": "code",
   "execution_count": 63,
   "metadata": {
    "ExecuteTime": {
     "end_time": "2020-12-24T02:51:35.606441Z",
     "start_time": "2020-12-24T02:51:35.597070Z"
    }
   },
   "outputs": [],
   "source": [
    "# Pickling Train and Test Set  Target\n",
    "y_train.to_pickle(\"../pickle/y_train.pkl\")\n",
    "y_test.to_pickle(\"../pickle/y_test.pkl\")"
   ]
  },
  {
   "cell_type": "code",
   "execution_count": 64,
   "metadata": {
    "ExecuteTime": {
     "end_time": "2020-12-24T02:51:35.616722Z",
     "start_time": "2020-12-24T02:51:35.608596Z"
    }
   },
   "outputs": [],
   "source": [
    "# Pickling Train Set - Features\n",
    "pickle_out = open(\"../pickle/X_train_lem.pkl\",'wb')\n",
    "pickle.dump(X_train_lem, pickle_out)\n",
    "pickle_out.close()"
   ]
  },
  {
   "cell_type": "code",
   "execution_count": 65,
   "metadata": {
    "ExecuteTime": {
     "end_time": "2020-12-24T02:51:35.624965Z",
     "start_time": "2020-12-24T02:51:35.618928Z"
    }
   },
   "outputs": [],
   "source": [
    "# Pickling Test Set - Features\n",
    "pickle_out = open(\"../pickle/X_test_lem.pkl\",'wb')\n",
    "pickle.dump(X_test_lem, pickle_out)\n",
    "pickle_out.close()"
   ]
  },
  {
   "cell_type": "code",
   "execution_count": 66,
   "metadata": {
    "ExecuteTime": {
     "end_time": "2020-12-24T02:51:35.632995Z",
     "start_time": "2020-12-24T02:51:35.626964Z"
    }
   },
   "outputs": [],
   "source": [
    "# Pickling Train and Test Set - Target\n",
    "y_train_lem.to_pickle(\"../pickle/y_train_lem.pkl\")\n",
    "y_test_lem.to_pickle(\"../pickle/y_test_lem.pkl\")"
   ]
  }
 ],
 "metadata": {
  "kernelspec": {
   "display_name": "Python 3",
   "language": "python",
   "name": "python3"
  },
  "language_info": {
   "codemirror_mode": {
    "name": "ipython",
    "version": 3
   },
   "file_extension": ".py",
   "mimetype": "text/x-python",
   "name": "python",
   "nbconvert_exporter": "python",
   "pygments_lexer": "ipython3",
   "version": "3.6.9"
  },
  "toc": {
   "base_numbering": 1,
   "nav_menu": {},
   "number_sections": true,
   "sideBar": true,
   "skip_h1_title": false,
   "title_cell": "Table of Contents",
   "title_sidebar": "Contents",
   "toc_cell": false,
   "toc_position": {
    "height": "calc(100% - 180px)",
    "left": "10px",
    "top": "150px",
    "width": "260.59375px"
   },
   "toc_section_display": true,
   "toc_window_display": true
  }
 },
 "nbformat": 4,
 "nbformat_minor": 4
}
